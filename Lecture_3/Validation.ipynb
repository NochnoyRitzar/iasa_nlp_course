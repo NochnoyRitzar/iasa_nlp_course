{
 "cells": [
  {
   "cell_type": "markdown",
   "metadata": {},
   "source": [
    "# Agenda\n",
    "1. [What is validation and why do we need it?](#Intro)\n",
    "2. [Evaluation Metrics:](#metrics) <br>\n",
    "    2.1 [Optimization Loss and Evaluation Metrics](#loss_and_metric) <br>\n",
    "    2.2 [Classification metrics](#classification_metrics) <br>\n",
    "    2.3 [Regression metrics](#regression_metrics) <br>\n",
    "    2.4 [Embedding metrics](#embedding_metrics) <br>\n",
    "    2.5 [Generative NLP metrics](#generative_metrics) <br>\n",
    "3. [Validation Strategies:](#validation_strategies) <br>\n",
    "    3.1 [Overfitting. Why do we need train/test concept?](#overfitting) <br>\n",
    "    3.2 [Holdout / Stratified split / train-validation-test](#holdout) <br>\n",
    "    3.3 [K-fold / Stratified K-fold / Repeated K-fold](#kfold) <br>\n",
    "    3.4 [Time-based validation / Time K-fold](#timebased) <br>\n",
    "    3.5 [Group K-fold](#groupkfold) <br>\n",
    "    3.6 [Choosing the right strategy for real-life scenarios and competition LB consistency](#strategychoose) <br>\n",
    "4. [Local validation VS real-life/competition testing metrics mismatch](#validation_mismatch) <br>\n",
    "    4.1 [Wrong local validation strategy](#wrong_local_validation) <br>\n",
    "    4.2 [Shifted features distributions](#shifted_features) <br>\n",
    "    4.3 [Adversarial validation](#adversarial_validation) <br>\n",
    "5. [Homework](#Homework) <br>\n",
    "    5.1 [Local validation vs public LB metrics consistency in Disasters dataset. Adversarial validation](#local_vs_public_lb_nlp) <br>\n",
    "    5.2 [CommonLit evaluation techniques](#commonlit_evaluation) <br>"
   ]
  },
  {
   "cell_type": "markdown",
   "metadata": {},
   "source": [
    "<a id='Intro'></a>\n",
    "# What is validation and why do we need it?\n",
    "\n",
    "The ML models validation process is a crucial step in developing machine learning models. It involves assessing the performance and generalization capabilities of a trained model to ensure that it can make accurate predictions on new, unseen data. There are such key points in evaluating models:\n",
    "\n",
    "**Generalization performance** - We want to estimate the predictive performance of our model on future (unseen) data.\n",
    "- Ideally, the estimated performance (based on evaluation metrics) of a model tells us how well it performs on unseen data, because making predictions on future (unseen) data is often the main problem we want to solve.\n",
    "\n",
    "**Hyperparameters tuning and feature engineering** - We want to increase the predictive performance by tweaking the learning algorithm and selecting the best performing model from a given hypothesis space.\n",
    "- Typically, machine learning involves a lot of experimentation. Running a learning algorithm over a training dataset with different hyperparameter settings and different features will result in different models. Since we are typically interested in selecting the best-performing model from this set, we need to find a way to estimate their respective performances in order to rank them against each other.\n",
    "\n",
    "**Model selection** - We want to compare different ML models (e.g. linear, decision tree, gradient boosting, etc.), selecting the best-performing one.\n",
    "- We are usually not only experimenting with the one single algorithm that we think would be the “best solution” under the given circumstances. More often than not, we want to compare different models to each other, oftentimes in terms of predictive and computational performance."
   ]
  },
  {
   "cell_type": "markdown",
   "metadata": {},
   "source": [
    "<a id='metrics'></a>\n",
    "# 2. Evaluation metrics\n",
    "An evaluation metric, in the context of machine learning and data analysis, is a quantitative measure used to assess the performance or quality of a model or a system's output with respect to a specific task or objective. Evaluation metrics are crucial because they provide a standardized way to measure and compare the performance of different models or systems. The choice of evaluation metric depends on the nature of the task being addressed (e.g. classification, regression, ranking) and the specific goals and requirements of the project.\n",
    "\n",
    "<a id='loss_and_metric'></a>\n",
    "## 2.1 Optimization Loss and Evaluation Metrics\n",
    "Optimization loss and evaluation metrics serve different roles in the context of machine learning model training and evaluation. Here are the key differences between the two: <br>\n",
    "1. **Purpose**: <br>\n",
    "    **Optimization Loss:** often simply referred to as \"loss\", is a mathematical function that the machine learning model aims to minimize during training. It serves as the objective function that guides the model's parameter updates during optimization. The primary purpose of the loss function is to measure the dissimilarity between the model's predictions and the true target values. It provides the model with a signal for adjusting its internal parameters to improve its predictive performance on the training data. The model's parameters are updated in the direction that reduces this loss, using techniques like gradient descent.<br>\n",
    "    **Evaluation Metric:** used to assess the model's performance and quality after it has been trained and to evaluate how well it generalizes to new, unseen data. These metrics are not used during training but rather during the model evaluation phase to provide a quantitative measure of how well the model is achieving its intended task. Evaluation metrics are often chosen based on the specific problem and the practical goals of the application.\n",
    "    \n",
    "2. **Function properties:** <br>\n",
    "    **Optimization Loss:** differentiable \"almost everywhere\" with respect to model parameters function that is well-suited for gradient-based optimization algorithms. Common examples include mean squared error (MSE), mean absolute error (MAE) for regression tasks and cross-entropy loss for classification tasks. <br>\n",
    "    **Evaluation Metric:** both continuous and discrete, are usually much better interpretable than loss, depending on the nature of the task. Examples include accuracy, precision, recall, F1-score, roc-auc, mean absolute percentage error, etc.\n",
    "    \n",
    "\n",
    "### What are \"good\" and \"bad\" properties of different evaluation metrics?\n",
    "\n",
    "- **differentiability \"almost everywhere\"** - is definitely a good property, because this kind of a metrics could serve as a training loss, so you can directly optimize it with SGD-based methods.\n",
    "- **multiclass/multivariate extensibility** - is definitely a good property, because in many real-life tasks you'll need to handle multicalss/multivariate ML problems, so you can extend your regular metric to them.\n",
    "- **reference values** - is definitely a good property, because if the metric has some reference values (e.g. ROCAUC=0.5), then without deep-diving into the problem itself and the nature of the data, we can immediately say whether the solution is rather good or not.\n",
    "- **interpretability** - is rather good property. When we talk about interpretability in terms of ML evaluation metrics, we're often discussing how understandable the metrics themselves are (especially by people without a deep background in ML), as well as how well they allow us to interpret the performance and characteristics of the model. Although, understanding more complex and less interpretable metrics fully may require some background knowledge, but they may provide deeper insights into some specific aspects of model performance.\n",
    "- **values limitation** - is rather good property, because if metric values are limited in some specific range is there is no risk of getting +-infinity values, with which it is not very clear what to do.\n",
    "- **outliers resistance** - is rather a good property, but only for problems in which outliers are not so important, e.g. in algo-trading there could be \"outlier\"-like situations in the market which can lead to your algorithm losing most of its money at once -> so you'll need to take care of outliers and doesn't use outlier-resistant metrics.\n",
    "- **equivalence of accounting for errors of the first and second types** - very much depends on the business task itself. E.g. in the classical credit scoring problem you would rather lend to fewer people, but who will definitely return your money, than to a much larger number of people who will not return your money (precision-based optimization), on the other hand in the task of primary disease diagnosis it is much more important to correctly identify all people with a disease, while falsely identifying healthy people as sick, than to very accurately identify those who are sick while missing half (recall-based optimization)\n",
    "\n",
    "    \n",
    "<a id='classification_metrics'></a>\n",
    "## 2.2 Classification metrics\n",
    "\n",
    "A binary machine learning classification task is a type of supervised learning problem in which the goal is to categorize data points into one of two distinct classes or categories. In other words, the output or prediction of the model is the probability distribution of an element belonging to the corresponding classes. These two classes are often referred to as the positive class and the negative class. The objective is to learn a model that can accurately classify new, unseen data points into one of these two classes based on the features or attributes of the data.\n",
    "\n",
    "Let's take a look at some common metrics using NLP example [Disaster Tweets](https://www.kaggle.com/competitions/nlp-getting-started):\n",
    "![](https://storage.googleapis.com/kaggle-media/competitions/tweet_screenshot.png)\n",
    "\n",
    "The author explicitly uses the word “ABLAZE” (палаючий) but means it metaphorically. This is clear to a human right away, especially with the visual aid. But it’s less clear to a machine.\n",
    "\n",
    "In this competition, you’re challenged to build a machine learning model that predicts which Tweets are about real disasters and which one’s aren’t. You’ll have access to a dataset of 10,000 tweets that were hand classified.\n",
    "Disclaimer: The dataset for this competition contains text that may be considered profane, vulgar, or offensive.\n",
    "\n",
    "**Please check info about Kaggle API** [here](https://www.google.com/url?sa=t&rct=j&q=&esrc=s&source=web&cd=&cad=rja&uact=8&ved=2ahUKEwifhoe5_7mBAxXPGRAIHXuXAWIQFnoECBIQAw&url=https%3A%2F%2Fgithub.com%2FKaggle%2Fkaggle-api%23%3A~%3Atext%3DTo%2520use%2520the%2520Kaggle%2520API%2Cfile%2520containing%2520your%2520API%2520credentials.&usg=AOvVaw1BewOUEPrUy1mWsrqk8T5U&opi=89978449)"
   ]
  },
  {
   "cell_type": "code",
   "execution_count": 10,
   "metadata": {},
   "outputs": [
    {
     "name": "stdout",
     "output_type": "stream",
     "text": [
      "nlp-getting-started.zip: Skipping, found more recently modified local copy (use --force to force download)\n"
     ]
    }
   ],
   "source": [
    "import platform\n",
    "\n",
    "!kaggle competitions download -c nlp-getting-started -p ../data/nlp-getting-started\n",
    "\n",
    "# Check if using Windows or Unix-based system\n",
    "if platform.system() == \"Windows\":\n",
    "    !powershell -command Expand-Archive ../data/nlp-getting-started/nlp-getting-started.zip -DestinationPath ../data/nlp-getting-started -Force\n",
    "else:\n",
    "    !unzip ../data/nlp-getting-started/nlp-getting-started.zip -d ../data/nlp-getting-started"
   ]
  },
  {
   "cell_type": "code",
   "execution_count": 42,
   "metadata": {},
   "outputs": [
    {
     "data": {
      "text/html": [
       "<div>\n",
       "<style scoped>\n",
       "    .dataframe tbody tr th:only-of-type {\n",
       "        vertical-align: middle;\n",
       "    }\n",
       "\n",
       "    .dataframe tbody tr th {\n",
       "        vertical-align: top;\n",
       "    }\n",
       "\n",
       "    .dataframe thead th {\n",
       "        text-align: right;\n",
       "    }\n",
       "</style>\n",
       "<table border=\"1\" class=\"dataframe\">\n",
       "  <thead>\n",
       "    <tr style=\"text-align: right;\">\n",
       "      <th></th>\n",
       "      <th>id</th>\n",
       "      <th>keyword</th>\n",
       "      <th>location</th>\n",
       "      <th>text</th>\n",
       "      <th>target</th>\n",
       "    </tr>\n",
       "  </thead>\n",
       "  <tbody>\n",
       "    <tr>\n",
       "      <th>1243</th>\n",
       "      <td>1791</td>\n",
       "      <td>buildings%20on%20fire</td>\n",
       "      <td>Nigeria, Global</td>\n",
       "      <td>just in: #kenya: several buildings are reporte...</td>\n",
       "      <td>1</td>\n",
       "    </tr>\n",
       "    <tr>\n",
       "      <th>5180</th>\n",
       "      <td>7392</td>\n",
       "      <td>obliterate</td>\n",
       "      <td>Texas</td>\n",
       "      <td>Watch Sarah Palin OBLITERATE Planned Parenthoo...</td>\n",
       "      <td>0</td>\n",
       "    </tr>\n",
       "    <tr>\n",
       "      <th>2729</th>\n",
       "      <td>3921</td>\n",
       "      <td>devastated</td>\n",
       "      <td>The Meadow</td>\n",
       "      <td>Foto: ÛÏLove isnÛªt everything to me anymore...</td>\n",
       "      <td>0</td>\n",
       "    </tr>\n",
       "    <tr>\n",
       "      <th>3410</th>\n",
       "      <td>4881</td>\n",
       "      <td>explode</td>\n",
       "      <td>NaN</td>\n",
       "      <td>i swea it feels like im about to explode ??</td>\n",
       "      <td>0</td>\n",
       "    </tr>\n",
       "    <tr>\n",
       "      <th>4677</th>\n",
       "      <td>6648</td>\n",
       "      <td>inundation</td>\n",
       "      <td>NaN</td>\n",
       "      <td>Sprinklers: FAQ About Lawn Inundation Systems ...</td>\n",
       "      <td>0</td>\n",
       "    </tr>\n",
       "  </tbody>\n",
       "</table>\n",
       "</div>"
      ],
      "text/plain": [
       "        id                keyword         location  \\\n",
       "1243  1791  buildings%20on%20fire  Nigeria, Global   \n",
       "5180  7392             obliterate            Texas   \n",
       "2729  3921             devastated       The Meadow   \n",
       "3410  4881                explode              NaN   \n",
       "4677  6648             inundation              NaN   \n",
       "\n",
       "                                                   text  target  \n",
       "1243  just in: #kenya: several buildings are reporte...       1  \n",
       "5180  Watch Sarah Palin OBLITERATE Planned Parenthoo...       0  \n",
       "2729  Foto: ÛÏLove isnÛªt everything to me anymore...       0  \n",
       "3410        i swea it feels like im about to explode ??       0  \n",
       "4677  Sprinklers: FAQ About Lawn Inundation Systems ...       0  "
      ]
     },
     "execution_count": 42,
     "metadata": {},
     "output_type": "execute_result"
    }
   ],
   "source": [
    "import pandas as pd\n",
    "from sklearn.model_selection import train_test_split\n",
    "from sklearn.feature_extraction.text import TfidfVectorizer\n",
    "from sklearn.linear_model import LogisticRegression\n",
    "from sklearn.pipeline import Pipeline\n",
    "\n",
    "df_twitter = pd.read_csv('../data/nlp-getting-started/train.csv')\n",
    "df_twitter.sample(5)"
   ]
  },
  {
   "cell_type": "code",
   "execution_count": 2,
   "metadata": {},
   "outputs": [
    {
     "data": {
      "text/plain": [
       "target\n",
       "0    0.57034\n",
       "1    0.42966\n",
       "Name: proportion, dtype: float64"
      ]
     },
     "execution_count": 2,
     "metadata": {},
     "output_type": "execute_result"
    }
   ],
   "source": [
    "# 1 - real disaster, 0 - metaphoric\n",
    "df_twitter.target.value_counts(normalize=True)"
   ]
  },
  {
   "cell_type": "code",
   "execution_count": 3,
   "metadata": {},
   "outputs": [],
   "source": [
    "#straightforward train/test split\n",
    "\n",
    "X_train, X_test, y_train, y_test = train_test_split(\n",
    "    df_twitter.text, df_twitter.target, test_size=0.3, random_state=42\n",
    ")"
   ]
  },
  {
   "cell_type": "code",
   "execution_count": 4,
   "metadata": {},
   "outputs": [],
   "source": [
    "#modeling and inference\n",
    "\n",
    "pipe_classification = Pipeline([\n",
    "    ('vectorizer', TfidfVectorizer(\n",
    "        analyzer='word',\n",
    "        stop_words='english',\n",
    "        ngram_range=(1, 3),\n",
    "        lowercase=True,\n",
    "        min_df=5,\n",
    "        max_features=30000\n",
    "    )),  \n",
    "    ('classifier', LogisticRegression(C=1.0, random_state=42))\n",
    "])\n",
    "\n",
    "pipe_classification.fit(X_train, y_train)\n",
    "\n",
    "y_hat = pipe_classification.predict_proba(X_test)[:, 1]"
   ]
  },
  {
   "cell_type": "markdown",
   "metadata": {},
   "source": [
    "$$Let \\hspace{0.1cm} Y = \\Bigl\\{ y_{i} \\Bigl\\} \\hspace{0.1cm} - \\hspace{0.1cm} vector \\hspace{0.1cm} of\\hspace{0.1cm} ground\\hspace{0.1cm} truth\\hspace{0.1cm} labels \\hspace{0.5cm}  y_{i} є \\{0, 1\\}$$\n",
    "$$Let \\hspace{0.1cm} \\hat{Y} = \\Bigl\\{ \\hat{y_{i}} \\Bigl\\} \\hspace{0.1cm} - \\hspace{0.1cm} vector \\hspace{0.1cm} of\\hspace{0.1cm} predicted\\hspace{0.1cm} probabilities\\hspace{0.1cm} of \\hspace{0.1cm} class \\hspace{0.1cm} 1 \\hspace{0.5cm} \\hat{y_{i}} є [0, 1]$$\n",
    "### Continuous metrics:\n",
    "**Log-Loss / Cross-Entropy Loss** <br>\n",
    "$$ LogLoss = {-\\frac{1}{N} \\sum_{i=1}^{N}(y_{i}log(\\hat{y_{i}})+(1-y_i)log(1-\\hat{y_{i}}))}$$\n",
    "##### Pros:\n",
    "    + Differentiable\n",
    "    + Could be a loss\n",
    "    + Impact of misclassification confidence: Log loss takes into account the model's confidence in its predictions. If a model is highly confident in an incorrect prediction, it will result in a higher log loss than a less confident incorrect prediction\n",
    "    + Multiclass extension: Log loss can be extended to multiclass classification problems, where there are more than two classes\n",
    "\n",
    "##### Cons:\n",
    "    - Poorly interpretable (especially for people without IT/ML background)\n",
    "    - Not limited: Log loss values range from 0 to positive infinity\n",
    "    - Doesn't have \"reference values\": without knowing the task and classes distribution it's hard to tell whether e.g. 0.1/0.5/1.5 refers to a rather \"good\" or \"poor\" model performance "
   ]
  },
  {
   "cell_type": "code",
   "execution_count": 5,
   "metadata": {},
   "outputs": [
    {
     "data": {
      "text/plain": [
       "0.4819169013858006"
      ]
     },
     "execution_count": 5,
     "metadata": {},
     "output_type": "execute_result"
    }
   ],
   "source": [
    "from sklearn.metrics import log_loss\n",
    "\n",
    "log_loss(y_test, y_hat)"
   ]
  },
  {
   "cell_type": "markdown",
   "metadata": {},
   "source": [
    "### Discrete metrics:\n",
    "\n",
    "In the discrete metric case we work with \"hard\" labels intead of \"soft\" labels or probabilities. Soft labels can transformed into hard labels for example using threshold for binary classification: e.g. if value > 0.5 then we consider it as a positive class and replace it with 1; otherwise we consider it as a negative class and replace it with 0.\n",
    "\n",
    "In order to introduce all common discrete metrics we need to get familiar with the **confusion matrix** that consists of 4 components:\n",
    "- **TP (True Positive)** - number of pairs for which $y_{i}=1$ and $hard\\_label(\\hat{y_{i}})=1$ i.e. number of positives that were predicted as positives by the model\n",
    "- **TN (True Negative)** - number of pairs for which $y_{i}=0$ and $hard\\_label(\\hat{y_{i}})=0$ i.e. number of negatives that were predicted as negatives by the model\n",
    "- **FP (False Positive)** - number of pairs for which $y_{i}=0$ and $hard\\_label(\\hat{y_{i}})=1$ i.e. number of negatives that were predicted as positives by the model\n",
    "- **FN (False Negative)** - number of pairs for which $y_{i}=1$ and $hard\\_label(\\hat{y_{i}})=0$ i.e. number of positives that were predicted as negatives by the model\n",
    "\n",
    "![](https://assets-global.website-files.com/5d7b77b063a9066d83e1209c/63b413d2cdc133446aa23fc5_636b9182cfaef2115e028921_HERO_1_Confusion.png)"
   ]
  },
  {
   "cell_type": "code",
   "execution_count": 6,
   "metadata": {},
   "outputs": [
    {
     "name": "stdout",
     "output_type": "stream",
     "text": [
      "[[1156  162]\n",
      " [ 302  664]]\n"
     ]
    }
   ],
   "source": [
    "from sklearn.metrics import confusion_matrix\n",
    "\n",
    "print(confusion_matrix(y_test, y_hat >= 0.5))"
   ]
  },
  {
   "cell_type": "markdown",
   "metadata": {},
   "source": [
    "|                | Predicted Negative | Predicted Positive |\n",
    "|:--------------:|--------------------|--------------------|\n",
    "| **Negative Cases** |      TN: 1156      |      FP: 162      |\n",
    "| **Positive Cases** |      FN: 302      |      TP: 664     |"
   ]
  },
  {
   "cell_type": "markdown",
   "metadata": {},
   "source": [
    "**Accuracy** <br>\n",
    "Accuracy simply measures *what percent of your predictions were correct*. It's the ratio between the number of correct predictions and the total number of predictions. The downside is that it is hard to optimize and it cares about hard labels\n",
    "\n",
    "$$accuracy = {\\frac{TP + TN}{TP + FP + FN + TN}}$$\n",
    "\n",
    "##### Pros:\n",
    "    + Highly interpretable by non-technical people\n",
    "    + Limited in range [0, 1]\n",
    "    + Multiclass extension: can be extended to multiclass classification problems, where there are more than two classes\n",
    "\n",
    "##### Cons:\n",
    "    - Not resistant to class imbalance\n",
    "    - Doesn't have \"reference values\": without knowing the task and classes distribution it's hard to tell whether e.g. 0.6/0.8/0.99 refers to a rather \"good\" or \"poor\" model performance. However, the percentage of the majority class may be considered as a reference value if we know the class distribution."
   ]
  },
  {
   "cell_type": "code",
   "execution_count": 7,
   "metadata": {},
   "outputs": [
    {
     "data": {
      "text/plain": [
       "0.7968476357267951"
      ]
     },
     "execution_count": 7,
     "metadata": {},
     "output_type": "execute_result"
    }
   ],
   "source": [
    "from sklearn.metrics import accuracy_score\n",
    "\n",
    "accuracy_score(y_test, y_hat >= 0.5)"
   ]
  },
  {
   "cell_type": "markdown",
   "metadata": {},
   "source": [
    "**Precision & Recall**\n",
    "\n",
    "Precision and recall are actually two metrics. But they are often used together.\n",
    "\n",
    "**Precision** answers the question: *What percent of positive predictions were correct?*\n",
    "\n",
    "$$precision = {\\frac{TP}{TP + FP}}$$\n",
    "\n",
    "**Recall** answers the question: *What percent of the positive cases did you catch?*\n",
    "\n",
    "$$recall = {\\frac{TP}{TP + FN}}$$\n",
    "\n",
    "##### Pros:\n",
    "    + Highly interpretable by non-technical people\n",
    "    + Limited in range [0, 1]\n",
    "    + Multiclass extension: can be extended to multiclass classification problems, where there are more than two classes\n",
    "\n",
    "##### Cons:\n",
    "    - Doesn't take into account TN\n",
    "    - Do not make sense without each other\n",
    "    - Strongly depend on the threshold\n",
    "\n",
    "**F1-score**\n",
    "The F1-score (sometimes known as the balanced F-beta score with beta=1) is a single metric that combines both precision and recall via their harmonic mean:\n",
    "\n",
    "$$F_1 = 2*{\\frac{precision * recall}{precision + recall}}$$\n",
    "\n",
    "Unlike the arithmetic mean, the harmonic mean tends toward the smaller of the two elements. Hence the F1 score will be small if either precision or recall is small.\n",
    "We actually need F1 score because in many cases we can make precision almost as close to 1 as possible but this will result a poor recall and vice-versa.\n",
    "\n",
    "##### Pros:\n",
    "    + Limited in range [0, 1]\n",
    "    + Suitable for imbalanced classes case\n",
    "    + Multiclass extension: can be extended to multiclass classification problems, where there are more than two classes\n",
    "\n",
    "##### Cons:\n",
    "    - Poorly interpretable (especially for people without IT/ML background)\n",
    "    - Doesn't take into account TN\n",
    "    - Strongly depend on the threshold"
   ]
  },
  {
   "cell_type": "code",
   "execution_count": 8,
   "metadata": {},
   "outputs": [
    {
     "data": {
      "text/html": [
       "<div>\n",
       "<style scoped>\n",
       "    .dataframe tbody tr th:only-of-type {\n",
       "        vertical-align: middle;\n",
       "    }\n",
       "\n",
       "    .dataframe tbody tr th {\n",
       "        vertical-align: top;\n",
       "    }\n",
       "\n",
       "    .dataframe thead th {\n",
       "        text-align: right;\n",
       "    }\n",
       "</style>\n",
       "<table border=\"1\" class=\"dataframe\">\n",
       "  <thead>\n",
       "    <tr style=\"text-align: right;\">\n",
       "      <th></th>\n",
       "      <th>positives_ratio</th>\n",
       "      <th>precision</th>\n",
       "      <th>recall</th>\n",
       "      <th>f1</th>\n",
       "    </tr>\n",
       "  </thead>\n",
       "  <tbody>\n",
       "    <tr>\n",
       "      <th>0.10</th>\n",
       "      <td>0.982925</td>\n",
       "      <td>0.428508</td>\n",
       "      <td>0.995859</td>\n",
       "      <td>0.599190</td>\n",
       "    </tr>\n",
       "    <tr>\n",
       "      <th>0.25</th>\n",
       "      <td>0.719790</td>\n",
       "      <td>0.543796</td>\n",
       "      <td>0.925466</td>\n",
       "      <td>0.685057</td>\n",
       "    </tr>\n",
       "    <tr>\n",
       "      <th>0.50</th>\n",
       "      <td>0.361646</td>\n",
       "      <td>0.803874</td>\n",
       "      <td>0.687371</td>\n",
       "      <td>0.741071</td>\n",
       "    </tr>\n",
       "    <tr>\n",
       "      <th>0.75</th>\n",
       "      <td>0.142732</td>\n",
       "      <td>0.944785</td>\n",
       "      <td>0.318841</td>\n",
       "      <td>0.476780</td>\n",
       "    </tr>\n",
       "    <tr>\n",
       "      <th>0.90</th>\n",
       "      <td>0.014011</td>\n",
       "      <td>1.000000</td>\n",
       "      <td>0.033126</td>\n",
       "      <td>0.064128</td>\n",
       "    </tr>\n",
       "  </tbody>\n",
       "</table>\n",
       "</div>"
      ],
      "text/plain": [
       "      positives_ratio  precision    recall        f1\n",
       "0.10         0.982925   0.428508  0.995859  0.599190\n",
       "0.25         0.719790   0.543796  0.925466  0.685057\n",
       "0.50         0.361646   0.803874  0.687371  0.741071\n",
       "0.75         0.142732   0.944785  0.318841  0.476780\n",
       "0.90         0.014011   1.000000  0.033126  0.064128"
      ]
     },
     "execution_count": 8,
     "metadata": {},
     "output_type": "execute_result"
    }
   ],
   "source": [
    "from sklearn.metrics import precision_score, recall_score, f1_score\n",
    "\n",
    "f_metrics = []\n",
    "tholds = [0.1, 0.25, 0.5, 0.75, 0.9]\n",
    "for th in [0.1, 0.25, 0.5, 0.75, 0.9]:\n",
    "    f_metrics.append({\n",
    "        'positives_ratio': (y_hat >= th).sum()/y_hat.shape[0],\n",
    "        'precision': precision_score(y_test, y_hat >= th),\n",
    "        'recall': recall_score(y_test, y_hat >= th),\n",
    "        'f1': f1_score(y_test, y_hat >= th),\n",
    "    })\n",
    "pd.DataFrame(f_metrics, index=tholds)"
   ]
  },
  {
   "cell_type": "markdown",
   "metadata": {},
   "source": [
    "**ROC-AUC**\n",
    "\n",
    "The ROC curve is created by plotting the true positive rate (TPR) against the false positive rate (FPR) at various threshold settings.\n",
    "\n",
    "- **TPR/Recall** - *What percent of the positive cases did you catch?* \n",
    "$$TPR = {\\frac{TP}{TP + FN}}$$\n",
    "- **FPR/Fall-out** - *What percent of negatives would be classified as positives?* \n",
    "$$FPR = {\\frac{FP}{FP + TN}}$$\n",
    "\n",
    "$$ROCAUC = \\int_{t=0}^{1} TPR(t) \\,dFPR(t)$$\n",
    "\n",
    "![](https://machinelearningmastery.com/wp-content/uploads/2018/08/ROC-Curve-Plot-for-a-No-Skill-Classifier-and-a-Logistic-Regression-Model.png)\n",
    "\n",
    "##### Pros:\n",
    "    + Limited in range [0, 1]\n",
    "    + Doesn't depend on the threshold\n",
    "    + Takes all TP/FP/FN/TN into account\n",
    "    + Has some reference values, e.g. 0.5 - random prediction, 0.8-0.9 in balanced case - good, ~1 ideal prediction, \n",
    "    \n",
    "##### Cons:\n",
    "    - Poorly interpretable (especially for people without IT/ML background)\n",
    "    - Doesn't distinguish between different types of errors (false positives and false negatives). In some imbalanced scenarios, you may want to prioritize one type of error over the other.\n",
    "    \n",
    "**PRECISION-RECALL-AUC**\n",
    "\n",
    "The PRECISION-RECALL curve is created by plotting Precision against Recall at various threshold settings.\n",
    "\n",
    "\n",
    "$$PRECISION\\_RECALL\\_AUC = \\int_{t=0}^{1} PRECISION(t) \\,dRECALL(t)$$\n",
    "\n",
    "![](https://machinelearningmastery.com/wp-content/uploads/2020/01/Precision-Recall-Curve-of-a-Logistic-Regression-Model-and-a-No-Skill-Classifier2.png)\n",
    "\n",
    "##### Pros:\n",
    "    + Limited in range [0, 1]\n",
    "    + Doesn't depend on the threshold\n",
    "    + Very useful for tasks with a huge class imbalance\n",
    "    \n",
    "##### Cons:\n",
    "    - Poorly interpretable (especially for people without IT/ML background)\n",
    "    - Doesn't take into account TN\n",
    "    - Doesn't have reference values"
   ]
  },
  {
   "cell_type": "code",
   "execution_count": 9,
   "metadata": {},
   "outputs": [
    {
     "data": {
      "image/png": "[encoded data removed]",
      "text/plain": [
       "<Figure size 1200x500 with 2 Axes>"
      ]
     },
     "metadata": {},
     "output_type": "display_data"
    }
   ],
   "source": [
    "from matplotlib import pyplot\n",
    "from sklearn.metrics import roc_auc_score, precision_recall_curve, roc_curve, auc\n",
    "\n",
    "fig, axs = pyplot.subplots(1, 2, figsize=(12, 5))\n",
    "\n",
    "# plot no skill and model roc curves\n",
    "def plot_roc_curve(test_y, model_probs, ax):\n",
    "    fpr, tpr, _ = roc_curve(test_y, model_probs)\n",
    "    ax.plot(fpr, tpr, marker='.', label='Logistic')\n",
    "    ax.set_title(f'ROC-AUC = {roc_auc_score(test_y, model_probs):.4f}')\n",
    "    ax.set_xlabel('False Positive Rate')\n",
    "    ax.set_ylabel('True Positive Rate')\n",
    "    ax.legend()\n",
    "    \n",
    "# plot model precision-recall curves\n",
    "def plot_pr_curve(test_y, model_probs, ax):\n",
    "    precision, recall, _ = precision_recall_curve(test_y, model_probs)\n",
    "    ax.plot(recall, precision, marker='.', label='Logistic')\n",
    "    ax.set_title(f'PR-AUC = {auc(recall, precision):.4f}')\n",
    "    ax.set_xlabel('Recall')\n",
    "    ax.set_ylabel('Precision')\n",
    "    ax.legend()\n",
    "\n",
    "\n",
    "plot_roc_curve(y_test, y_hat, axs[0])\n",
    "plot_pr_curve(y_test, y_hat, axs[1])\n",
    "pyplot.show()"
   ]
  },
  {
   "cell_type": "markdown",
   "metadata": {},
   "source": [
    "### Imbalanced classes case"
   ]
  },
  {
   "cell_type": "code",
   "execution_count": 10,
   "metadata": {},
   "outputs": [],
   "source": [
    "negative_class_index = y_test[y_test == 0].index\n",
    "positive_class_index = y_test[y_test == 1].sample(frac=0.05).index\n",
    "imbalanced_sumsample_index = negative_class_index.append(positive_class_index)\n",
    "\n",
    "y_test_imbalanced = y_test.loc[imbalanced_sumsample_index]\n",
    "y_hat_imbalanced = pipe_classification.predict_proba(X_test.loc[imbalanced_sumsample_index])[:, 1]"
   ]
  },
  {
   "cell_type": "code",
   "execution_count": 11,
   "metadata": {},
   "outputs": [
    {
     "data": {
      "image/png": "[encoded data removed]",
      "text/plain": [
       "<Figure size 1200x500 with 2 Axes>"
      ]
     },
     "metadata": {},
     "output_type": "display_data"
    }
   ],
   "source": [
    "fig, axs = pyplot.subplots(1, 2, figsize=(12, 5))\n",
    "\n",
    "plot_roc_curve(y_test_imbalanced, y_hat_imbalanced, axs[0])\n",
    "plot_pr_curve(y_test_imbalanced, y_hat_imbalanced, axs[1])\n",
    "pyplot.show()"
   ]
  },
  {
   "cell_type": "markdown",
   "metadata": {},
   "source": [
    "> **Explore**: check multiclass/multilabel extensions (equations and implementations) for all common classification metrics (accuracy, precision, recall, F1/Fbeta)"
   ]
  },
  {
   "cell_type": "markdown",
   "metadata": {},
   "source": [
    "### Choosing a correct loss function for a given metric optimization\n",
    "![](https://scikit-learn.org/stable/_images/sphx_glr_plot_sgd_loss_functions_001.png)"
   ]
  },
  {
   "cell_type": "code",
   "execution_count": 12,
   "metadata": {},
   "outputs": [],
   "source": [
    "from sklearn.linear_model import SGDClassifier\n",
    "\n",
    "pipe_classification_log_loss = Pipeline([\n",
    "    ('vectorizer', TfidfVectorizer(\n",
    "        analyzer='word',\n",
    "        stop_words='english',\n",
    "        ngram_range=(1, 3),\n",
    "        lowercase=True,\n",
    "        min_df=5,\n",
    "        max_features=30000\n",
    "    )),  \n",
    "    ('classifier', SGDClassifier(loss='log_loss', random_state=42, n_jobs=-1))\n",
    "])\n",
    "\n",
    "pipe_classification_log_loss.fit(X_train, y_train)\n",
    "y_hat_log_loss = pipe_classification_log_loss.predict_proba(X_test)[:, 1]\n",
    "\n",
    "\n",
    "pipe_classification_huber = Pipeline([\n",
    "    ('vectorizer', TfidfVectorizer(\n",
    "        analyzer='word',\n",
    "        stop_words='english',\n",
    "        ngram_range=(1, 3),\n",
    "        lowercase=True,\n",
    "        min_df=5,\n",
    "        max_features=30000\n",
    "    )),  \n",
    "    ('classifier', SGDClassifier(loss='modified_huber', random_state=42, n_jobs=-1))\n",
    "])\n",
    "\n",
    "pipe_classification_huber.fit(X_train, y_train)\n",
    "y_hat_huber = pipe_classification_huber.predict_proba(X_test)[:, 1]"
   ]
  },
  {
   "cell_type": "code",
   "execution_count": 13,
   "metadata": {},
   "outputs": [
    {
     "data": {
      "image/png": "[encoded data removed]",
      "text/plain": [
       "<Figure size 1200x1000 with 4 Axes>"
      ]
     },
     "metadata": {},
     "output_type": "display_data"
    }
   ],
   "source": [
    "precision_log_loss, recall_log_loss, _ = precision_recall_curve(y_test, y_hat_log_loss)\n",
    "precision_huber, recall_huber, _ = precision_recall_curve(y_test, y_hat_huber)\n",
    "\n",
    "fig, axs = pyplot.subplots(2, 2, figsize=(12, 10))\n",
    "\n",
    "plot_roc_curve(y_test, y_hat_log_loss, axs[0, 0])\n",
    "plot_pr_curve(y_test, y_hat_log_loss, axs[0, 1])\n",
    "\n",
    "plot_roc_curve(y_test, y_hat_huber, axs[1, 0])\n",
    "plot_pr_curve(y_test, y_hat_huber, axs[1, 1])\n",
    "\n",
    "axs[0, 0].set_title(f'Log Loss - ROC Curve (AUC = {roc_auc_score(y_test, y_hat_log_loss):.3f})')\n",
    "axs[0, 1].set_title(f'Log Loss - PR Curve (AUC = {auc(recall_log_loss, precision_log_loss):.3f})')\n",
    "axs[1, 0].set_title(f'Huber Loss - ROC Curve (AUC = {roc_auc_score(y_test, y_hat_huber):.3f})')\n",
    "axs[1, 1].set_title(f'Huber Loss - PR Curve (AUC = {auc(recall_huber, precision_huber):.3f})')\n",
    "\n",
    "# Adjust layout and display the subplots\n",
    "pyplot.tight_layout()\n",
    "pyplot.show()"
   ]
  },
  {
   "cell_type": "markdown",
   "metadata": {},
   "source": [
    "### Thoughts about model selection using evaluation metrics\n",
    "\n",
    "**Within the framework of solving a classification problem, when there are different approaches or models that model the target distribution, in order to compare them with each other, it is better to use AUC-like metrics, since they do not depend on the threshold, and in the case of such metrics, higher values always correspond to a better, in some sense, modeling of the target distribution. But the final business decision usually should be made with respect to \"hard\" e.g. precision/recall metrics, because in real-life scenarios we usually need \"hard\" labels and not probabilities.**"
   ]
  },
  {
   "cell_type": "markdown",
   "metadata": {},
   "source": [
    "<a id='regression_metrics'></a>\n",
    "## 2.3 Regression metrics\n",
    "\n",
    "A regression task, in machine learning, is a type of supervised learning problem where the goal is to predict a continuous numeric value or a real number. In regression tasks, the target variable is continuous, and the model's objective is to learn a mapping from input features to this continuous output.\n",
    "\n",
    "Let's take a look at some common metrics using NLP example [CommonLit - Evaluate Student Summaries](https://www.kaggle.com/competitions/commonlit-evaluate-student-summaries/overview):<br>\n",
    "The goal of this competition is to assess the quality of summaries written by students in grades 3-12. You'll build a model that evaluates how well a student represents the main idea and details of a source text, as well as the clarity, precision, and fluency of the language used in the summary. You'll have access to a collection of real student summaries to train your model.\n",
    "\n"
   ]
  },
  {
   "cell_type": "code",
   "execution_count": 14,
   "metadata": {},
   "outputs": [
    {
     "name": "stdout",
     "output_type": "stream",
     "text": [
      "commonlit-evaluate-student-summaries.zip: Skipping, found more recently modified local copy (use --force to force download)\n"
     ]
    },
    {
     "ename": "NameError",
     "evalue": "name 'platform' is not defined",
     "output_type": "error",
     "traceback": [
      "\u001B[1;31m---------------------------------------------------------------------------\u001B[0m",
      "\u001B[1;31mNameError\u001B[0m                                 Traceback (most recent call last)",
      "Cell \u001B[1;32mIn[14], line 4\u001B[0m\n\u001B[0;32m      1\u001B[0m get_ipython()\u001B[38;5;241m.\u001B[39msystem(\u001B[38;5;124m'\u001B[39m\u001B[38;5;124mkaggle competitions download -c commonlit-evaluate-student-summaries -p ../data/commonlit-evaluate-student-summaries\u001B[39m\u001B[38;5;124m'\u001B[39m)\n\u001B[0;32m      3\u001B[0m \u001B[38;5;66;03m# Check if using Windows or Unix-based system\u001B[39;00m\n\u001B[1;32m----> 4\u001B[0m \u001B[38;5;28;01mif\u001B[39;00m \u001B[43mplatform\u001B[49m\u001B[38;5;241m.\u001B[39msystem() \u001B[38;5;241m==\u001B[39m \u001B[38;5;124m\"\u001B[39m\u001B[38;5;124mWindows\u001B[39m\u001B[38;5;124m\"\u001B[39m:\n\u001B[0;32m      5\u001B[0m     get_ipython()\u001B[38;5;241m.\u001B[39msystem(\u001B[38;5;124m'\u001B[39m\u001B[38;5;124mpowershell -command Expand-Archive ../data/commonlit-evaluate-student-summaries/commonlit-evaluate-student-summaries.zip -DestinationPath ../data/commonlit-evaluate-student-summaries -Force\u001B[39m\u001B[38;5;124m'\u001B[39m)\n\u001B[0;32m      6\u001B[0m \u001B[38;5;28;01melse\u001B[39;00m:\n",
      "\u001B[1;31mNameError\u001B[0m: name 'platform' is not defined"
     ]
    }
   ],
   "source": [
    "!kaggle competitions download -c commonlit-evaluate-student-summaries -p ../data/commonlit-evaluate-student-summaries\n",
    "\n",
    "# Check if using Windows or Unix-based system\n",
    "if platform.system() == \"Windows\":\n",
    "    !powershell -command Expand-Archive ../data/commonlit-evaluate-student-summaries/commonlit-evaluate-student-summaries.zip -DestinationPath ../data/commonlit-evaluate-student-summaries -Force\n",
    "else:\n",
    "    !unzip ../data/commonlit-evaluate-student-summaries/commonlit-evaluate-student-summaries.zip -d ../data/commonlit-evaluate-student-summaries"
   ]
  },
  {
   "cell_type": "code",
   "execution_count": 15,
   "metadata": {},
   "outputs": [
    {
     "data": {
      "text/html": [
       "<div>\n",
       "<style scoped>\n",
       "    .dataframe tbody tr th:only-of-type {\n",
       "        vertical-align: middle;\n",
       "    }\n",
       "\n",
       "    .dataframe tbody tr th {\n",
       "        vertical-align: top;\n",
       "    }\n",
       "\n",
       "    .dataframe thead th {\n",
       "        text-align: right;\n",
       "    }\n",
       "</style>\n",
       "<table border=\"1\" class=\"dataframe\">\n",
       "  <thead>\n",
       "    <tr style=\"text-align: right;\">\n",
       "      <th></th>\n",
       "      <th>prompt_id</th>\n",
       "      <th>prompt_question</th>\n",
       "      <th>prompt_title</th>\n",
       "      <th>prompt_text</th>\n",
       "    </tr>\n",
       "  </thead>\n",
       "  <tbody>\n",
       "    <tr>\n",
       "      <th>0</th>\n",
       "      <td>39c16e</td>\n",
       "      <td>Summarize at least 3 elements of an ideal trag...</td>\n",
       "      <td>On Tragedy</td>\n",
       "      <td>Chapter 13 \\r\\nAs the sequel to what has alrea...</td>\n",
       "    </tr>\n",
       "    <tr>\n",
       "      <th>1</th>\n",
       "      <td>3b9047</td>\n",
       "      <td>In complete sentences, summarize the structure...</td>\n",
       "      <td>Egyptian Social Structure</td>\n",
       "      <td>Egyptian society was structured like a pyramid...</td>\n",
       "    </tr>\n",
       "    <tr>\n",
       "      <th>2</th>\n",
       "      <td>814d6b</td>\n",
       "      <td>Summarize how the Third Wave developed over su...</td>\n",
       "      <td>The Third Wave</td>\n",
       "      <td>Background \\r\\nThe Third Wave experiment took ...</td>\n",
       "    </tr>\n",
       "    <tr>\n",
       "      <th>3</th>\n",
       "      <td>ebad26</td>\n",
       "      <td>Summarize the various ways the factory would u...</td>\n",
       "      <td>Excerpt from The Jungle</td>\n",
       "      <td>With one member trimming beef in a cannery, an...</td>\n",
       "    </tr>\n",
       "  </tbody>\n",
       "</table>\n",
       "</div>"
      ],
      "text/plain": [
       "  prompt_id                                    prompt_question  \\\n",
       "0    39c16e  Summarize at least 3 elements of an ideal trag...   \n",
       "1    3b9047  In complete sentences, summarize the structure...   \n",
       "2    814d6b  Summarize how the Third Wave developed over su...   \n",
       "3    ebad26  Summarize the various ways the factory would u...   \n",
       "\n",
       "                prompt_title  \\\n",
       "0                 On Tragedy   \n",
       "1  Egyptian Social Structure   \n",
       "2             The Third Wave   \n",
       "3    Excerpt from The Jungle   \n",
       "\n",
       "                                         prompt_text  \n",
       "0  Chapter 13 \\r\\nAs the sequel to what has alrea...  \n",
       "1  Egyptian society was structured like a pyramid...  \n",
       "2  Background \\r\\nThe Third Wave experiment took ...  \n",
       "3  With one member trimming beef in a cannery, an...  "
      ]
     },
     "execution_count": 15,
     "metadata": {},
     "output_type": "execute_result"
    }
   ],
   "source": [
    "df_prompts = pd.read_csv('../data/commonlit-evaluate-student-summaries/prompts_train.csv')\n",
    "df_summaries = pd.read_csv('../data/commonlit-evaluate-student-summaries/summaries_train.csv')\n",
    "df_prompts.head()"
   ]
  },
  {
   "cell_type": "code",
   "execution_count": 16,
   "metadata": {},
   "outputs": [
    {
     "data": {
      "text/html": [
       "<div>\n",
       "<style scoped>\n",
       "    .dataframe tbody tr th:only-of-type {\n",
       "        vertical-align: middle;\n",
       "    }\n",
       "\n",
       "    .dataframe tbody tr th {\n",
       "        vertical-align: top;\n",
       "    }\n",
       "\n",
       "    .dataframe thead th {\n",
       "        text-align: right;\n",
       "    }\n",
       "</style>\n",
       "<table border=\"1\" class=\"dataframe\">\n",
       "  <thead>\n",
       "    <tr style=\"text-align: right;\">\n",
       "      <th></th>\n",
       "      <th>student_id</th>\n",
       "      <th>prompt_id</th>\n",
       "      <th>text</th>\n",
       "      <th>content</th>\n",
       "      <th>wording</th>\n",
       "    </tr>\n",
       "  </thead>\n",
       "  <tbody>\n",
       "    <tr>\n",
       "      <th>2301</th>\n",
       "      <td>52177fc0ea5d</td>\n",
       "      <td>3b9047</td>\n",
       "      <td>Different social classes were involved with th...</td>\n",
       "      <td>0.388379</td>\n",
       "      <td>-0.718005</td>\n",
       "    </tr>\n",
       "    <tr>\n",
       "      <th>2180</th>\n",
       "      <td>4db9fdbfafed</td>\n",
       "      <td>814d6b</td>\n",
       "      <td>The Third Wave developed over such a short per...</td>\n",
       "      <td>0.531368</td>\n",
       "      <td>0.583991</td>\n",
       "    </tr>\n",
       "    <tr>\n",
       "      <th>5394</th>\n",
       "      <td>bf59cf84ac19</td>\n",
       "      <td>814d6b</td>\n",
       "      <td>The Third Wave developed over such a short per...</td>\n",
       "      <td>-0.627647</td>\n",
       "      <td>-0.125597</td>\n",
       "    </tr>\n",
       "    <tr>\n",
       "      <th>5682</th>\n",
       "      <td>ca68282d3e85</td>\n",
       "      <td>39c16e</td>\n",
       "      <td>The first element of an ideal tragedy accordin...</td>\n",
       "      <td>2.141224</td>\n",
       "      <td>1.123777</td>\n",
       "    </tr>\n",
       "    <tr>\n",
       "      <th>3001</th>\n",
       "      <td>6a87ae738cfc</td>\n",
       "      <td>39c16e</td>\n",
       "      <td>Aristotle believed that the ideal tragedy shou...</td>\n",
       "      <td>0.687875</td>\n",
       "      <td>-0.841301</td>\n",
       "    </tr>\n",
       "  </tbody>\n",
       "</table>\n",
       "</div>"
      ],
      "text/plain": [
       "        student_id prompt_id  \\\n",
       "2301  52177fc0ea5d    3b9047   \n",
       "2180  4db9fdbfafed    814d6b   \n",
       "5394  bf59cf84ac19    814d6b   \n",
       "5682  ca68282d3e85    39c16e   \n",
       "3001  6a87ae738cfc    39c16e   \n",
       "\n",
       "                                                   text   content   wording  \n",
       "2301  Different social classes were involved with th...  0.388379 -0.718005  \n",
       "2180  The Third Wave developed over such a short per...  0.531368  0.583991  \n",
       "5394  The Third Wave developed over such a short per... -0.627647 -0.125597  \n",
       "5682  The first element of an ideal tragedy accordin...  2.141224  1.123777  \n",
       "3001  Aristotle believed that the ideal tragedy shou...  0.687875 -0.841301  "
      ]
     },
     "execution_count": 16,
     "metadata": {},
     "output_type": "execute_result"
    }
   ],
   "source": [
    "df_summaries.sample(5)"
   ]
  },
  {
   "cell_type": "markdown",
   "metadata": {},
   "source": [
    "![](https://www.googleapis.com/download/storage/v1/b/kaggle-forum-message-attachments/o/inbox%2F9174368%2F195e02a7cf40fbf40e1179bad1cdd017%2Fcontent_wording_graphic.png?generation=1689711455437198&alt=media)"
   ]
  },
  {
   "cell_type": "code",
   "execution_count": 17,
   "metadata": {},
   "outputs": [
    {
     "data": {
      "text/plain": [
       "<AxesSubplot:>"
      ]
     },
     "execution_count": 17,
     "metadata": {},
     "output_type": "execute_result"
    },
    {
     "data": {
      "image/png": "[encoded data removed]",
      "text/plain": [
       "<Figure size 640x480 with 1 Axes>"
      ]
     },
     "metadata": {},
     "output_type": "display_data"
    }
   ],
   "source": [
    "df_summaries.content.hist()"
   ]
  },
  {
   "cell_type": "code",
   "execution_count": 18,
   "metadata": {},
   "outputs": [
    {
     "data": {
      "text/plain": [
       "<AxesSubplot:>"
      ]
     },
     "execution_count": 18,
     "metadata": {},
     "output_type": "execute_result"
    },
    {
     "data": {
      "image/png": "[encoded data removed]",
      "text/plain": [
       "<Figure size 640x480 with 1 Axes>"
      ]
     },
     "metadata": {},
     "output_type": "display_data"
    }
   ],
   "source": [
    "df_summaries.wording.hist()"
   ]
  },
  {
   "cell_type": "code",
   "execution_count": 19,
   "metadata": {},
   "outputs": [],
   "source": [
    "#straightforward train/test split - this approach is actually SO WRONG here!!\n",
    "\n",
    "X_train, X_test, y_train, y_test = train_test_split(\n",
    "    df_summaries.text, df_summaries.wording, test_size=0.3, random_state=42\n",
    ")"
   ]
  },
  {
   "cell_type": "code",
   "execution_count": 20,
   "metadata": {},
   "outputs": [],
   "source": [
    "from sklearn.linear_model import Ridge\n",
    "\n",
    "#modeling and inference\n",
    "\n",
    "pipe_regression = Pipeline([\n",
    "    ('vectorizer', TfidfVectorizer(\n",
    "        analyzer='word',\n",
    "        stop_words='english',\n",
    "        ngram_range=(1, 3),\n",
    "        lowercase=True,\n",
    "        min_df=5,\n",
    "        max_features=30000\n",
    "    )),  \n",
    "    ('classifier', Ridge(alpha=1.0, random_state=42))\n",
    "])\n",
    "\n",
    "pipe_regression.fit(X_train, y_train)\n",
    "\n",
    "y_hat = pipe_regression.predict(X_test)"
   ]
  },
  {
   "cell_type": "markdown",
   "metadata": {},
   "source": [
    "**MSE (L2 Loss) and RMSE:** <br>\n",
    "MSE measures your mean square error from target:\n",
    "\n",
    "\n",
    "$$ MSE = {\\frac{1}{N} \\sum_{i=1}^{N}(y_{i}-\\hat{y_{i}})^2}$$\n",
    "\n",
    "$$ RMSE = {\\sqrt{MSE}}$$\n",
    "\n",
    "RMSE and MSE is similiar in terms of minimizers - value minimizes RMSE **if and only if** it minimizes MSE. This means that in terms of competitions we can optimize MSE instead of RMSE. In fact it is easier to work with MSE. But there is a little bit of difference between the two for gradient-based models. The gradient of RMSE with respect to i-th prediction is basically equal to gradient of MSE multiplied by some value. The value doesn't depend on the index I. It means that travelling along MSE gradient is equivalent to traveling along RMSE gradient but with a different flowing rate and the flowing rate depends on MSE score itself. So, it is kind of dynamic.So even though RMSE and MSE are really similar in terms of models scoring, they can be not immediately interchangeable for gradient based methods. We will probably need to adjust some parameters like the learning rate.\n",
    "\n",
    "##### Pros:\n",
    "    + Differentiable\n",
    "    + Could be a loss\n",
    "    + According to the Gauss-Markov theorem optimizing MSE results in BLUE (The best linear unbiased estimator) for linear models if the conditions of the theorem are fulfilled\n",
    "\n",
    "##### Cons:\n",
    "    - Sensitive for outliers: Optimizing MSE could produce a non-robust estimator\n",
    "    - Doesn't have reference values: without knowing the scale of the target variable it's hard to tell whether e.g. 0.5/5/50 values are good or not\n",
    "\n",
    "**R-squared** <br>\n",
    "To see model performance in terms of dummy baseline usually R-squared is used. Or Adjusted R-squared to penalize for model parameters/features\n",
    "\n",
    "$$ R^2 = 1 - {\\frac{MSE}{\\frac{1}{N} \\sum_{i=1}^{N}(y_{i}-\\bar{y_{i}})^2}}$$\n",
    "\n",
    "In a normal scenario R-squared should be between 0 and 1.\n",
    "\n",
    "##### Pros:\n",
    "    + Differentiable\n",
    "    + Could be a loss\n",
    "    + Has reference values: < 0 -> model performs worse than the \"blind guess\"; greater than 0 -> model performs better than the \"blind guess\"; ~1 - we have a perfect model\n",
    "\n",
    "##### Cons:\n",
    "    - Sensitive for outliers\n",
    "    \n",
    "#### Outliers case:\n",
    "![](https://machinelearningmastery.com/wp-content/uploads/2020/03/Comparison-of-Robust-Regression-Algorithms-Line-of-Best-Fit.png)\n",
    "\n",
    "**MAE (L1 Loss / Manhattan Distance):**\n",
    "\n",
    "$$ MAE = {\\frac{1}{N} \\sum_{i=1}^{N}|y_{i}-\\hat{y_{i}}|} $$\n",
    "\n",
    "##### Pros:\n",
    "    + Differentiable \"almost everywhere\". Although, it is not differentiable in 0, but you can simply overcome that by coding simple *if else* condition.\n",
    "    + Could be a loss\n",
    "    + Less sensitive to outliers, so produces more robust estimators\n",
    "\n",
    "##### Cons:\n",
    "    - Doesn't have reference values: without knowing the scale of the target variable it's hard to tell whether e.g. 0.5/5/50 values are good or not\n"
   ]
  },
  {
   "cell_type": "code",
   "execution_count": 21,
   "metadata": {},
   "outputs": [
    {
     "data": {
      "text/html": [
       "<div>\n",
       "<style scoped>\n",
       "    .dataframe tbody tr th:only-of-type {\n",
       "        vertical-align: middle;\n",
       "    }\n",
       "\n",
       "    .dataframe tbody tr th {\n",
       "        vertical-align: top;\n",
       "    }\n",
       "\n",
       "    .dataframe thead th {\n",
       "        text-align: right;\n",
       "    }\n",
       "</style>\n",
       "<table border=\"1\" class=\"dataframe\">\n",
       "  <thead>\n",
       "    <tr style=\"text-align: right;\">\n",
       "      <th></th>\n",
       "      <th>metric</th>\n",
       "      <th>value</th>\n",
       "    </tr>\n",
       "  </thead>\n",
       "  <tbody>\n",
       "    <tr>\n",
       "      <th>0</th>\n",
       "      <td>mean_squared_error</td>\n",
       "      <td>0.474720</td>\n",
       "    </tr>\n",
       "    <tr>\n",
       "      <th>1</th>\n",
       "      <td>mean_absolute_error</td>\n",
       "      <td>0.544471</td>\n",
       "    </tr>\n",
       "    <tr>\n",
       "      <th>2</th>\n",
       "      <td>r2_score</td>\n",
       "      <td>0.552307</td>\n",
       "    </tr>\n",
       "  </tbody>\n",
       "</table>\n",
       "</div>"
      ],
      "text/plain": [
       "                metric     value\n",
       "0   mean_squared_error  0.474720\n",
       "1  mean_absolute_error  0.544471\n",
       "2             r2_score  0.552307"
      ]
     },
     "execution_count": 21,
     "metadata": {},
     "output_type": "execute_result"
    }
   ],
   "source": [
    "from sklearn.metrics import mean_squared_error, mean_absolute_error, r2_score\n",
    "\n",
    "r_metrics = []\n",
    "for metric_fn in [mean_squared_error, mean_absolute_error, r2_score]:\n",
    "    r_metrics.append({'metric': metric_fn.__name__, 'value': metric_fn(y_test, y_hat)})\n",
    "pd.DataFrame(r_metrics)"
   ]
  },
  {
   "cell_type": "markdown",
   "metadata": {},
   "source": [
    "**Pearson Correlation** <br>\n",
    "\n",
    "The Pearson correlation coefficient, often denoted as \"r,\" is not typically used as a regression loss function in the traditional sense. Instead, it is a measure of the linear relationship or linear association between two continuous variables. It quantifies the strength and direction of the linear relationship between the ground truth target variable and predicted one. The Pearson correlation coefficient ranges from -1 to 1, with the following interpretations: <br>\n",
    "$$ Cov(Y,\\hat{Y}) ={\\frac{1}{N-1}} \\sum_{i=1}^{N}(y_{i} - \\bar{y_{i}})*(\\hat{y_{i}} - \\bar{\\hat{y_{i}}})$$\n",
    "\n",
    "$$PearsonR = {\\frac{Cov(Y,\\hat{Y})}{STD(Y)*STD(\\hat{Y})}}$$\n",
    "\n",
    "##### Pros:\n",
    "    + Differentiable\n",
    "    + Could be a loss. Although, you need to update standard deviation of y_hat\n",
    "    + Has reference values: [-1, 0] - negative linear correlation; [0, ~0.5] weak* linear correlation; [0.5-0.9] strong* linear correlation; [0.9-1] - almost perfect model;\n",
    "\n",
    "##### Cons:\n",
    "    - We can't say anything about absolute errors knowing only correlation coefficient\n",
    "    - Could produce a low values, although it could be a solid monotonous correlation between y and y_hat\n",
    "\n",
    "**Spearman Correlation** <br>\n",
    "\n",
    "The Spearman Correlation coefficient, is calculated as a Pearson correlation coefficient between ranks of target and predicted variables: <br>\n",
    "\n",
    "$$SpearmanR = PearsonR(rank(Y), rank(\\hat{Y}))$$\n",
    "\n",
    "##### Pros:\n",
    "    + Sensitive for monotonous dependencies\n",
    "    + Has reference values: [-1, 0] - negative monotonous correlation; [0, ~0.5] weak* monotonous correlation; [0.5-0.9] strong* monotonous correlation; [0.9-1] - almost perfect model;\n",
    "\n",
    "##### Cons:\n",
    "    - Non-differentiable\n",
    "    - We can't say anything about absolute errors knowing only correlation coefficient"
   ]
  },
  {
   "cell_type": "code",
   "execution_count": 22,
   "metadata": {},
   "outputs": [
    {
     "name": "stdout",
     "output_type": "stream",
     "text": [
      "\n",
      "    Pearson Correlation: 0.7455919873142449;\n",
      "\n",
      "    Spearman Correlation: 0.7181264804610282\n",
      "\n"
     ]
    }
   ],
   "source": [
    "import numpy as np\n",
    "from scipy.stats import spearmanr\n",
    "\n",
    "print(f\"\"\"\n",
    "    Pearson Correlation: {np.corrcoef(y_test, y_hat)[0, 1]};\\n\n",
    "    Spearman Correlation: {spearmanr(y_test, y_hat).correlation}\n",
    "\"\"\"\n",
    ")"
   ]
  },
  {
   "cell_type": "markdown",
   "metadata": {},
   "source": [
    "> **Explore**: check multivariate extensions (equations and implementations) for all common regression metrics (MAE, MSE, RMSE)"
   ]
  },
  {
   "cell_type": "markdown",
   "metadata": {},
   "source": [
    "<a id='embedding_metrics'></a>\n",
    "## 2.4 Embedding metrics\n",
    "\n",
    "### Embeddings concept:\n",
    "![](https://miro.medium.com/v2/resize:fit:1200/1*sAJdxEsDjsPMioHyzlN3_A.png)\n",
    "\n",
    "**Cosine similarity:** <br>\n",
    "\n",
    "Cosine similarity is a metric used to measure the similarity or cosine of the angle between two non-zero vectors in a multi-dimensional space. It quantifies how similar two vectors are in terms of their directions, regardless of their magnitudes. Cosine similarity is often employed in various fields, including information retrieval, NLP, recommendation systems, to compare and assess the similarity between data points. <br>\n",
    "\n",
    "Cosine similarity produces a value in the range of -1 to 1:\n",
    "- If the vectors are identical (i.e., they have the same direction), the cosine similarity is 1.\n",
    "- If the vectors are orthogonal (i.e., they are at a right angle to each other), the cosine similarity is 0, indicating no similarity.\n",
    "- If the vectors are pointing in exactly opposite directions, the cosine similarity is -1, indicating maximum dissimilarity.\n",
    "\n",
    "Key properties of cosine similarity:\n",
    "- Scale-Invariant: meaning that multiplying all elements in both vectors by a constant factor will not change the cosine similarity.\n",
    "- Angle Measurement: cosine similarity measures the cosine of the angle between vectors. As the angle decreases (i.e., vectors become more aligned), the cosine similarity value increases.\n",
    "- Normalized Data: cosine similarity is often used with normalized vectors (i.e., vectors with a magnitude of 1) for consistent comparisons.\n",
    "\n",
    "**L1(Manhattan)/L2(Eucledean):** <br>\n",
    "These metrics also could be used as embedding metrics, but they are completely opposite to a cosine similarity in terms of properties"
   ]
  },
  {
   "cell_type": "markdown",
   "metadata": {},
   "source": [
    "<a id='generative_metrics'></a>\n",
    "## 2.5 Generative NLP metrics\n",
    "\n",
    "Text generation is a challenging field. Both academia and the industry continue to struggle for relevant metrics for evaluation of the generative models’ qualities. Each generative task is unique, characterized by its distinct intricacies and idiosyncrasies. \n",
    "\n",
    "To check evaluations in NLG, Machine-generated texts are usually evaluated against a target text (ground truth value). This target text is what is expected of the model to ideally generate. Generated text refers to the machine produced texts (output of the model), and target or reference text refers to the original truth value text. \n",
    "\n",
    "**BLEU: Bilingual Evaluation Understudy Score**<br>\n",
    "BLEU is a precision focused metric that calculates n-gram overlap of the reference and generated texts. This n-gram overlap means the evaluation scheme is word-position independent apart from n-grams’ term associations. One thing to note in BLEU — there is a brevity penalty i.e. a penalty applied when the generated text is too small compared to the target text.\n",
    "\n",
    "BLEU's output is always a number between 0 and 1. This value indicates how similar the candidate text is to the reference texts, with values closer to 1 representing more similar texts. Few human translations will attain a score of 1, since this would indicate that the candidate is identical to one of the reference translations. For this reason, it is not necessary to attain a score of 1. Because there are more opportunities to match, adding additional reference translations will increase the BLEU score. \n",
    "\n",
    "You can check in detail the exact algorithm and equations for implementation [here](https://en.wikipedia.org/wiki/BLEU)."
   ]
  },
  {
   "cell_type": "code",
   "execution_count": 23,
   "metadata": {},
   "outputs": [
    {
     "name": "stdout",
     "output_type": "stream",
     "text": [
      "reference: ['the quick brown fox jumps over the lazy dog']\n",
      "candidate: the fast brown fox jumps over the lazy dog\n",
      "BLEU Score: 0.7506238537503395\n",
      "\n",
      "\n",
      "\n",
      "references: ['the quick brown fox jumps over the lazy dog', 'the fast brown fox jumps over the lazy dog']\n",
      "candidate: the fast brown fox jumps over the lazy dog\n",
      "BLEU Score: 1.0\n",
      "\n",
      "\n",
      "\n",
      "references: ['the quick brown fox jumps over the lazy dog']\n",
      "candidate: the quick brown fox jumps over the dog\n",
      "BLEU Score: 0.767279645960659\n",
      "\n",
      "\n",
      "\n",
      "references: ['the quick brown fox jumps over the lazy dog']\n",
      "candidate: fox jumps over the dog\n",
      "BLEU Score: 0.31772355751081427\n",
      "\n",
      "\n",
      "\n",
      "references: ['the quick brown fox jumps over the lazy dog']\n",
      "candidate: absolutely random sentence\n",
      "BLEU Score: 0\n",
      "\n",
      "\n",
      "\n"
     ]
    }
   ],
   "source": [
    "from nltk.translate.bleu_score import sentence_bleu\n",
    "\n",
    "# Reference and candidate sentences as lists of words\n",
    "reference = ['the quick brown fox jumps over the lazy dog']\n",
    "candidate = 'the fast brown fox jumps over the lazy dog'\n",
    "\n",
    "# Calculate BLEU score\n",
    "bleu_score = sentence_bleu([r.split() for r in reference], candidate.split())\n",
    "\n",
    "print(f'reference: {reference}')\n",
    "print(f'candidate: {candidate}')\n",
    "print(\"BLEU Score:\", bleu_score)\n",
    "print('\\n\\n')\n",
    "\n",
    "# Reference and candidate sentences as lists of words\n",
    "reference = ['the quick brown fox jumps over the lazy dog', 'the fast brown fox jumps over the lazy dog']\n",
    "candidate = 'the fast brown fox jumps over the lazy dog'\n",
    "\n",
    "# Calculate BLEU score\n",
    "bleu_score = sentence_bleu([r.split() for r in reference], candidate.split())\n",
    "\n",
    "print(f'references: {reference}')\n",
    "print(f'candidate: {candidate}')\n",
    "print(\"BLEU Score:\", bleu_score)\n",
    "print('\\n\\n')\n",
    "\n",
    "# Reference and candidate sentences as lists of words\n",
    "reference = ['the quick brown fox jumps over the lazy dog']\n",
    "candidate = 'the quick brown fox jumps over the dog'\n",
    "\n",
    "# Calculate BLEU score\n",
    "bleu_score = sentence_bleu([r.split() for r in reference], candidate.split())\n",
    "\n",
    "print(f'references: {reference}')\n",
    "print(f'candidate: {candidate}')\n",
    "print(\"BLEU Score:\", bleu_score)\n",
    "print('\\n\\n')\n",
    "\n",
    "# Reference and candidate sentences as lists of words\n",
    "reference = ['the quick brown fox jumps over the lazy dog']\n",
    "candidate = 'fox jumps over the dog'\n",
    "\n",
    "# Calculate BLEU score\n",
    "bleu_score = sentence_bleu([r.split() for r in reference], candidate.split())\n",
    "\n",
    "print(f'references: {reference}')\n",
    "print(f'candidate: {candidate}')\n",
    "print(\"BLEU Score:\", bleu_score)\n",
    "print('\\n\\n')\n",
    "\n",
    "# Reference and candidate sentences as lists of words\n",
    "reference = ['the quick brown fox jumps over the lazy dog']\n",
    "candidate = 'absolutely random sentence'\n",
    "\n",
    "# Calculate BLEU score\n",
    "bleu_score = sentence_bleu([r.split() for r in reference], candidate.split())\n",
    "\n",
    "print(f'references: {reference}')\n",
    "print(f'candidate: {candidate}')\n",
    "print(\"BLEU Score:\", bleu_score)\n",
    "print('\\n\\n')"
   ]
  },
  {
   "cell_type": "markdown",
   "metadata": {},
   "source": [
    "<a id='validation_strategies'></a>\n",
    "# 3. Validation Strategies\n",
    "\n",
    "<a id='overfitting'></a>\n",
    "## 3.1 Overfitting. Why do we need train/test concept? <br>\n",
    "\n",
    "We really don’t want to train and evaluate our model on the same dataset, since it would produce overfitting. In other words, we can’t tell whether the model simply memorized the training data or not, or whether it generalizes well to new, unseen data.\n",
    "\n",
    "Let's look at the problem in more detail using a simple toy example:"
   ]
  },
  {
   "cell_type": "code",
   "execution_count": 24,
   "metadata": {},
   "outputs": [],
   "source": [
    "import numpy as np\n",
    "np.random.seed(42)\n",
    "\n",
    "X_train = np.random.normal(0, 1, (500, 2))\n",
    "noise_train = np.random.normal(0, 1., 500)\n",
    "\n",
    "X_test = np.random.normal(0, 1, (100, 2))\n",
    "noise_test = np.random.normal(0, 1., 100)\n",
    "\n",
    "y_train = (np.sin(X_train) + np.cos(2*X_train)).sum(axis=1) + noise_train\n",
    "y_test = (np.sin(X_test) + np.cos(2*X_test)).sum(axis=1) + noise_test"
   ]
  },
  {
   "cell_type": "code",
   "execution_count": 25,
   "metadata": {},
   "outputs": [
    {
     "name": "stdout",
     "output_type": "stream",
     "text": [
      "MSE on train: 2.046936920069584\n",
      "MSE on test: 1.8647307030508085\n"
     ]
    }
   ],
   "source": [
    "lr = Ridge(alpha=1.0, random_state=42)\n",
    "lr.fit(X_train, y_train)\n",
    "\n",
    "y_train_preds = lr.predict(X_train)\n",
    "y_test_preds = lr.predict(X_test)\n",
    "\n",
    "print(f'MSE on train: {mean_squared_error(y_train, y_train_preds)}\\nMSE on test: {mean_squared_error(y_test, y_test_preds)}')"
   ]
  },
  {
   "cell_type": "markdown",
   "metadata": {},
   "source": [
    "Let's add some complexity (polynomial features) to the model and see what will happen with our metrics."
   ]
  },
  {
   "cell_type": "code",
   "execution_count": 26,
   "metadata": {},
   "outputs": [
    {
     "data": {
      "image/png": "[encoded data removed]",
      "text/plain": [
       "<Figure size 640x480 with 1 Axes>"
      ]
     },
     "metadata": {},
     "output_type": "display_data"
    }
   ],
   "source": [
    "from matplotlib import pyplot as plt\n",
    "\n",
    "train_result = []\n",
    "test_result = []\n",
    "\n",
    "for pow_n in range(1, 10):\n",
    "    lr = Ridge(alpha=1.0, random_state=42)\n",
    "\n",
    "    X_train_poly = np.hstack([X_train**(p) for p in range(pow_n)])\n",
    "    X_test_poly = np.hstack([X_test**(p) for p in range(pow_n)])\n",
    "\n",
    "    lr.fit(X_train_poly, y_train)\n",
    "\n",
    "    y_train_preds = lr.predict(X_train_poly)\n",
    "    y_test_preds = lr.predict(X_test_poly)\n",
    "    \n",
    "    train_result.append(mean_squared_error(y_train, y_train_preds))\n",
    "    test_result.append(mean_squared_error(y_test, y_test_preds))\n",
    "    \n",
    "plt.plot(list(range(1, 10)), train_result, list(range(1, 10)), test_result)\n",
    "plt.show()"
   ]
  },
  {
   "cell_type": "markdown",
   "metadata": {},
   "source": [
    "Conclusion:\n",
    "- We almost always can reach optimal loss (in MSE case ~0) for the training set by adding nonlinear feature / stacking more layers to the model\n",
    "- We shouldn't stack layers and add features without proper control, because then we will get poor results in real-life testing / competition leaderboard\n",
    "- So we need to somehow model real testing data using the only training dataset available\n",
    "\n",
    "![](https://preview.redd.it/n9fgba8b0qr01.png?auto=webp&s=e86d2d3447c777d3222016e81a0adfaec1a95592)"
   ]
  },
  {
   "cell_type": "markdown",
   "metadata": {},
   "source": [
    "<a id='holdout'></a>\n",
    "## 3.2 Holdout / Stratified split / train-validation-test <br>\n",
    "\n",
    "The holdout method is the simplest model evaluation technique. We take our labeled dataset and split it randomly into two parts: A **training set** and a **test set**:\n",
    "![](https://sebastianraschka.com/images/blog/2016/model-evaluation-selection-part1/testing_01.png)\n",
    "Then, we fit a model to the training data and predict the labels of the test set:\n",
    "![](https://sebastianraschka.com/images/blog/2016/model-evaluation-selection-part1/testing_02.png)\n",
    "And the fraction of correct predictions constitutes our estimate of the prediction accuracy.\n",
    "![](https://sebastianraschka.com/images/blog/2016/model-evaluation-selection-part1/testing_03.png)\n",
    "\n",
    "##### Pros:\n",
    "    + Simple\n",
    "    + Fast\n",
    "\n",
    "##### Cons:\n",
    "    - Not so precise estimate of out-of-sample performance comparing to more advanced techniques\n",
    "    \n",
    "### Class Balance\n",
    "\n",
    "As it was said, you want your validation to mimic your test set as close as possible. And you can make a fair assumprion (that is not always true), that distribution of target on train and not seen data is the same. Then you have to use stratification. Stratification ensures stable distributions across split. That is more than just useful if:\n",
    "\n",
    "    + Dataset is small\n",
    "    + Dataset is unbalanced (average target close to 0 or to 1)\n",
    "    + You have multiclassification task\n",
    "    \n",
    "    \n",
    "### Model Checkpoint Selection\n",
    "\n",
    "If we consider gradient-based training of models, for example neural networks or gradient boosting, then as a result of each epoch there will be some new model weights. Thus, the model at different epochs will behave differently on previously unseen data, so it is logical for the best result to choose a checkpoint from the epoch at which the target metric has the best values on previously unseen data.\n",
    "\n",
    "However, by selecting the weights of the model in this way, we can also get some kind of overfit, since we choose these weights as the best according to the validation dataset, it is quite obvious that on average on any other previously unseen dataset the results of our model in terms of metrics will be worse.\n",
    "\n",
    "Thus, in order to correctly select a model checkpoint after optimization or implement early stopping and also correctly estimate the results of the model on previously unseen data, we can apply train/validation/test strategy.\n",
    "\n",
    "![](https://editor.analyticsvidhya.com/uploads/18265Screenshot-from-2020-10-06-16-35-50-768x432.png)"
   ]
  },
  {
   "cell_type": "code",
   "execution_count": 27,
   "metadata": {},
   "outputs": [
    {
     "data": {
      "text/plain": [
       "(0.43253893788703324, 0.42294220665499127)"
      ]
     },
     "execution_count": 27,
     "metadata": {},
     "output_type": "execute_result"
    }
   ],
   "source": [
    "#straightforward train/test split\n",
    "\n",
    "X_train, X_test, y_train, y_test = train_test_split(\n",
    "    df_twitter.text, df_twitter.target, test_size=0.3, random_state=42\n",
    ")\n",
    "y_train.mean(), y_test.mean()"
   ]
  },
  {
   "cell_type": "code",
   "execution_count": 28,
   "metadata": {},
   "outputs": [
    {
     "data": {
      "text/plain": [
       "(0.429724150872584, 0.4295096322241681)"
      ]
     },
     "execution_count": 28,
     "metadata": {},
     "output_type": "execute_result"
    }
   ],
   "source": [
    "#stratified train/test split\n",
    "\n",
    "X_train, X_test, y_train, y_test = train_test_split(\n",
    "    df_twitter.text, df_twitter.target, test_size=0.3, random_state=42, stratify=df_twitter.target\n",
    ")\n",
    "y_train.mean(), y_test.mean()"
   ]
  },
  {
   "cell_type": "markdown",
   "metadata": {},
   "source": [
    "<a id='kfold'></a>\n",
    "## 3.3 K-fold / Stratified K-fold / Repeated K-fold\n",
    "\n",
    "**K-fold Cross-validation** is probably the most common technique for model evaluation and model selection. \n",
    "- We split the dataset into *K* parts and iterate over a dataset set *K* times\n",
    "- In each round one part is used for validation, and the remaining *K-1* parts are merged into a training subset for model evaluation\n",
    "- We compute the cross-validation performance as the arithmetic mean over the *K* performance estimates from the validation sets.\n",
    "![](https://sebastianraschka.com/images/blog/2016/model-evaluation-selection-part3/kfold.png)\n",
    "\n",
    "\n",
    "**Stratified K-fold Cross-validation** - we use k-fold as described above, but we will use stratification by target on each split. <br>\n",
    "\n",
    "**Repeated K-fold Cross-validation** - we use k-fold as described above, but we will run the whole process n times with different randomizations durig split. This strategy could be useful if we have a small dataset available and the metric varies significantly from fold to fold.<br>\n",
    "\n",
    "##### Pros:\n",
    "    + Better estimate of out-of-sample performance than simple train/test split\n",
    "\n",
    "##### Cons:\n",
    "    - Runs \"K\" times slower than simple train/test split\n",
    "\n",
    "If we have **little data** and **enough time**, it's better to always do cross-validation for a more precise estimate of performance."
   ]
  },
  {
   "cell_type": "code",
   "execution_count": 28,
   "metadata": {},
   "outputs": [
    {
     "name": "stdout",
     "output_type": "stream",
     "text": [
      "Holdout result:\n"
     ]
    },
    {
     "data": {
      "text/plain": [
       "0.8605527274547953"
      ]
     },
     "execution_count": 28,
     "metadata": {},
     "output_type": "execute_result"
    }
   ],
   "source": [
    "#stratified train/test split\n",
    "\n",
    "X_train, X_test, y_train, y_test = train_test_split(\n",
    "    df_twitter.text, df_twitter.target, test_size=0.3, random_state=42, stratify=df_twitter.target\n",
    ")\n",
    "y_train.mean(), y_test.mean()\n",
    "\n",
    "\n",
    "print('Holdout result:')\n",
    "pipe_classification.fit(X_train, y_train)\n",
    "roc_auc_score(y_test, pipe_classification.predict_proba(X_test)[:, 1])"
   ]
  },
  {
   "cell_type": "code",
   "execution_count": 29,
   "metadata": {},
   "outputs": [
    {
     "name": "stdout",
     "output_type": "stream",
     "text": [
      "[0.86635822 0.85548835 0.8611068  0.84779505 0.84860123 0.86266664\n",
      " 0.85761553]\n",
      "Mean: 0.8571\n",
      "Std: 0.0065\n",
      "3 std range: [0.8376, 0.8765]\n"
     ]
    }
   ],
   "source": [
    "from sklearn.model_selection import StratifiedKFold, cross_val_score\n",
    "\n",
    "cv = StratifiedKFold(n_splits=7, shuffle=True, random_state=42)\n",
    "\n",
    "# Perform cross-validation and calculate AUC scores for each fold\n",
    "auc_scores = cross_val_score(pipe_classification, df_twitter.text, df_twitter.target, cv=cv, scoring='roc_auc')\n",
    "print(auc_scores)\n",
    "print(f'Mean: {round(auc_scores.mean(), 4)}')\n",
    "print(f'Std: {round(auc_scores.std(), 4)}')\n",
    "print(f'3 std range: [{round(auc_scores.mean() - 3*auc_scores.std(), 4)}, {round(auc_scores.mean() + 3*auc_scores.std(), 4)}]')"
   ]
  },
  {
   "cell_type": "markdown",
   "metadata": {},
   "source": [
    "<a id='timebased'></a>\n",
    "## Time-based validation / Time K-fold\n",
    "\n",
    "Doing **Time validation** in correct way is very important. Suppose you have a task to predict Wikipedia page viewers as in on of previous Kaggle competitions (https://www.kaggle.com/c/web-traffic-time-series-forecasting). What are possible ways to do a validation? Again, it is best to mimic split made by organizers and they split this by date. All before January, 1st, 2017 went to train, all after that date (2 months) - to test. The correct way to perform a split is with **sliding window**:\n",
    " \n",
    "\n",
    "![](http://eng.uber.com/wp-content/uploads/2018/01/image3-4.png)\n",
    "\n",
    "Another possible option is to add as much train data from the past as possible on each fold:\n",
    "![](https://miro.medium.com/v2/resize:fit:1204/1*qvdnPF8ETV9mFdMT0Y_BBA.png)\n",
    "\n",
    "In NLP, such a split is not very common, but in some cases it can be used if there is a clear bias in the texts that is caused by time. For example, the topic of news and articles in different social media websites changes over time, or over long periods in fiction books the vocabulary and grammar of the language itself changes."
   ]
  },
  {
   "cell_type": "markdown",
   "metadata": {},
   "source": [
    "<a id='groupkfold'></a>\n",
    "## 3.5 Group K-fold <br>\n",
    "\n",
    "- The dataset is divided into k folds, just like traditional k-fold cross-validation.\n",
    "- Instead of random assignment to folds, GroupKFold ensures that all data points with the same group label (or identifier) are placed in the same fold.\n",
    "- During each iteration of cross-validation, one of the k folds is used as the test set, while the remaining k-1 folds are used as the training set. Importantly, data points with the same group label are kept together in either the training set or the test set.\n",
    "- The cross-validation process is repeated k times, with each of the k folds serving as the test set exactly once.\n",
    "\n",
    "Group K-fold plays a very important role in NLP, there are several task examples:\n",
    "- Authorship Attribution: you may have a dataset of texts written by various authors. You want to evaluate a machine learning model's ability to predict the correct author of a text or to have ability to predict different text attributes or properties for previously unseen authors. To avoid data leakage, you can use GroupKFold with author IDs as the grouping variable. This ensures that all texts from the same author are in the same fold during cross-validation.\n",
    "- Sentiment Analysis: In sentiment analysis tasks, where you classify text based on sentiment (e.g., positive, negative, neutral), you might have reviews or comments grouped by products, movies, or topics. GroupKFold helps ensure that all reviews for a specific product or movie are together in one fold during cross-validation.\n",
    "- Topic Modeling: In topic modeling tasks, where you aim to discover latent topics within a collection of documents, you can use GroupKFold to group documents by source or domain, ensuring that all documents from the same source are in the same fold during cross-validation.\n",
    "\n",
    "<a id='strategychoose'></a>\n",
    "## Choosing the right strategy for real-life scenarios and competition LB consistency"
   ]
  },
  {
   "cell_type": "code",
   "execution_count": 30,
   "metadata": {},
   "outputs": [],
   "source": [
    "vectorizer = TfidfVectorizer(\n",
    "    analyzer='word',\n",
    "    stop_words='english',\n",
    "    ngram_range=(1, 3),\n",
    "    lowercase=True,\n",
    "    min_df=5,\n",
    "    max_features=30000\n",
    ")\n",
    "\n",
    "models = {\n",
    "    'baseline_lr': Pipeline([\n",
    "        ('vectorizer', vectorizer),\n",
    "        ('classifier', LogisticRegression(C=1.0, random_state=42))\n",
    "    ]),\n",
    "    'baseline_svc': Pipeline([\n",
    "        ('vectorizer', vectorizer),\n",
    "        ('classifier', SGDClassifier(loss='hinge', random_state=42))\n",
    "    ]),\n",
    "    'baseline_lr_huber': Pipeline([\n",
    "        ('vectorizer', vectorizer),\n",
    "        ('classifier', SGDClassifier(loss='modified_huber', random_state=42))\n",
    "    ])\n",
    "}"
   ]
  },
  {
   "cell_type": "code",
   "execution_count": 31,
   "metadata": {},
   "outputs": [],
   "source": [
    "df_twitter_unseen_test = pd.read_csv('../data/nlp-getting-started/test.csv')"
   ]
  },
  {
   "cell_type": "markdown",
   "metadata": {},
   "source": [
    "According to what we know about the competition itself and the LB split - there is no time component in the LB split, it seems that there is also no group component (by location/by author, etc.) in the LB split, so it is quite safe for now to assume that the regular stratified split / stratified K-fold split is the best option to use for this case. So we will use StratifiedKFold with K=7.\n",
    "\n",
    "> **TODO**: Imagine that you are in production developing a similar system for Twitter for identifying real disasters, think about whether the split proposed by the organizers (random, possibly with stratification by target) is optimal for validation (assume that you have all the possible necessary data here)? <span style=\"color:red\">Answered below</span><br>\n",
    "> <span style=\"color:red\">**Response:**</span> Millions of tweets are generated each day, and I'm confident that only a small amount of them are about actual disasters, so we immediately have a class imbalance problem. Training dataset is roughly 60/40 no disaster/disaster (negative/positive), which doesn't reflect real world data.<br> We can use `keyword` or `location` column and combine different keywords/locations into a single group (otherwise validation split would be too small) to perform a Group k-fold.\n",
    "\n",
    "There is also one significant nuance here - according to my experiments (LB probbing) and kaggle [discussions](https://www.kaggle.com/competitions/nlp-getting-started/discussion/123165) - **Mean F1** or F1 with macro averaging was actually used instead of a regular binary F1 score for LB metric calculation, although there is no direct mention of this fact in the [overview section](https://www.kaggle.com/competitions/nlp-getting-started/overview)."
   ]
  },
  {
   "cell_type": "code",
   "execution_count": 39,
   "metadata": {
    "collapsed": false,
    "jupyter": {
     "outputs_hidden": false
    }
   },
   "outputs": [
    {
     "data": {
      "text/plain": [
       "keyword\n",
       "NaN            42\n",
       "wreckage       39\n",
       "outbreak       39\n",
       "derailment     39\n",
       "typhoon        37\n",
       "               ..\n",
       "electrocute     1\n",
       "epicentre       1\n",
       "body%20bags     1\n",
       "body%20bag      1\n",
       "blazing         1\n",
       "Name: count, Length: 221, dtype: int64"
      ]
     },
     "execution_count": 39,
     "metadata": {},
     "output_type": "execute_result"
    }
   ],
   "source": [
    "df_twitter[df_twitter['target'] == 1]['keyword'].value_counts(dropna=False)"
   ]
  },
  {
   "cell_type": "code",
   "execution_count": 40,
   "metadata": {},
   "outputs": [
    {
     "data": {
      "text/html": [
       "<div>\n",
       "<style scoped>\n",
       "    .dataframe tbody tr th:only-of-type {\n",
       "        vertical-align: middle;\n",
       "    }\n",
       "\n",
       "    .dataframe tbody tr th {\n",
       "        vertical-align: top;\n",
       "    }\n",
       "\n",
       "    .dataframe thead th {\n",
       "        text-align: right;\n",
       "    }\n",
       "</style>\n",
       "<table border=\"1\" class=\"dataframe\">\n",
       "  <thead>\n",
       "    <tr style=\"text-align: right;\">\n",
       "      <th></th>\n",
       "      <th>experiment</th>\n",
       "      <th>f1_avg</th>\n",
       "      <th>f1_std</th>\n",
       "      <th>f1_min</th>\n",
       "      <th>f1_max</th>\n",
       "      <th>f1_lower_bound_estimation</th>\n",
       "      <th>f1_higher_bound_estimation</th>\n",
       "    </tr>\n",
       "  </thead>\n",
       "  <tbody>\n",
       "    <tr>\n",
       "      <th>2</th>\n",
       "      <td>baseline_lr_huber</td>\n",
       "      <td>0.7682</td>\n",
       "      <td>0.0092</td>\n",
       "      <td>0.7517</td>\n",
       "      <td>0.7806</td>\n",
       "      <td>0.7406</td>\n",
       "      <td>0.7958</td>\n",
       "    </tr>\n",
       "    <tr>\n",
       "      <th>1</th>\n",
       "      <td>baseline_svc</td>\n",
       "      <td>0.7838</td>\n",
       "      <td>0.0114</td>\n",
       "      <td>0.7691</td>\n",
       "      <td>0.8052</td>\n",
       "      <td>0.7496</td>\n",
       "      <td>0.8180</td>\n",
       "    </tr>\n",
       "    <tr>\n",
       "      <th>0</th>\n",
       "      <td>baseline_lr</td>\n",
       "      <td>0.7908</td>\n",
       "      <td>0.0102</td>\n",
       "      <td>0.7740</td>\n",
       "      <td>0.8064</td>\n",
       "      <td>0.7602</td>\n",
       "      <td>0.8214</td>\n",
       "    </tr>\n",
       "  </tbody>\n",
       "</table>\n",
       "</div>"
      ],
      "text/plain": [
       "          experiment  f1_avg  f1_std  f1_min  f1_max  \\\n",
       "2  baseline_lr_huber  0.7682  0.0092  0.7517  0.7806   \n",
       "1       baseline_svc  0.7838  0.0114  0.7691  0.8052   \n",
       "0        baseline_lr  0.7908  0.0102  0.7740  0.8064   \n",
       "\n",
       "   f1_lower_bound_estimation  f1_higher_bound_estimation  \n",
       "2                     0.7406                      0.7958  \n",
       "1                     0.7496                      0.8180  \n",
       "0                     0.7602                      0.8214  "
      ]
     },
     "execution_count": 40,
     "metadata": {},
     "output_type": "execute_result"
    }
   ],
   "source": [
    "from sklearn.model_selection import cross_val_predict\n",
    "\n",
    "results = []\n",
    "\n",
    "for model_name, model in models.items():\n",
    "    scores = []\n",
    "    cv = StratifiedKFold(n_splits=7, shuffle=True, random_state=42)\n",
    "    for train_ind, test_ind in cv.split(df_twitter.text, df_twitter.target):\n",
    "        X_train, X_test = df_twitter.text.iloc[train_ind], df_twitter.text.iloc[test_ind]\n",
    "        y_train, y_test = df_twitter.target.iloc[train_ind], df_twitter.target.iloc[test_ind]\n",
    "        model.fit(X_train, y_train)\n",
    "        y_hat = model.predict(X_test)\n",
    "        scores.append(\n",
    "            f1_score(\n",
    "                y_test, \n",
    "                y_hat, \n",
    "                average='macro'\n",
    "            )\n",
    "        )\n",
    "        \n",
    "    scores = np.array(scores)\n",
    "    avg_score = round(scores.mean(), 4)\n",
    "    std_score = round(scores.std(), 4)\n",
    "    min_score = round(scores.min(), 4)\n",
    "    max_score = round(scores.max(), 4)\n",
    "    score_lower_bound = round(avg_score - 3*std_score, 4)\n",
    "    score_higher_bound = round(avg_score + 3*std_score, 4)\n",
    "    results.append({\n",
    "        'experiment': model_name,\n",
    "        'f1_avg': avg_score,\n",
    "        'f1_std': std_score,\n",
    "        'f1_min': min_score,\n",
    "        'f1_max': max_score,\n",
    "        'f1_lower_bound_estimation': score_lower_bound,\n",
    "        'f1_higher_bound_estimation': score_higher_bound\n",
    "    })\n",
    "    model.fit(df_twitter.text, df_twitter.target)\n",
    "    df_twitter_unseen_test[f'prediction_{model_name}'] = model.predict(df_twitter_unseen_test.text)\n",
    "    \n",
    "results = pd.DataFrame(results).sort_values('f1_avg')\n",
    "results"
   ]
  },
  {
   "cell_type": "code",
   "execution_count": 41,
   "metadata": {},
   "outputs": [],
   "source": [
    "for model in models.keys():\n",
    "    df_twitter_unseen_test.rename(columns={f'prediction_{model}': 'target'})[['id', 'target']].to_csv(\n",
    "        f'../data/nlp-getting-started/{model}_submission.csv', index=False\n",
    "    )"
   ]
  },
  {
   "cell_type": "markdown",
   "metadata": {},
   "source": [
    "![](images/photo1696939101.jpeg)\n",
    "\n",
    "So, we have a perfect match in terms of absolute values of F1 metric - LB metric value is in range of $[min(F1), max(F1)]$, and we have a perfect correlation between the increase in the evaluation metric on the local validation $avg(F1)$ and on the public leaderboard (unseen test) - smaller increase on the local val results smaller increase on the LB and higher increase on the local val results higher increase on the LB. \n",
    "\n",
    "\n",
    "In different competition and real-life scenarios there could be cases in which you won't have an absolute values match for your metrics or there will be no correlation between local validation increase and LB increase or even both, but correlation of gains (better val -> better LB) is often preferable to exact match of absolute values for individual experiments."
   ]
  },
  {
   "cell_type": "markdown",
   "metadata": {},
   "source": [
    "<a id='validation_mismatch'></a>\n",
    "# 4. Local validation VS real-life / competition testing metrics mismatch <br>\n",
    "\n",
    "Sometimes there are situations in which your evaluation metrics in your local validation differ significantly from the actual metrics in the production or in the competition test dataset. \n",
    "\n",
    "There are several aspects of the problem:\n",
    "\n",
    "<a id='wrong_local_validation'></a>\n",
    "## 4.1 Wrong local validation strategy \n",
    "- There is a significant time component in your data and you don't use time-based split\n",
    "- The group-split strategy (by users/by locations, etc.) is needed and you missed it\n",
    "- A more advanced combination of time and group split is needed\n",
    "- If there is a huge gap between validation and real-life/lb, while train and val scores are similar - you certainly have a data leak. Carefuly review your EDA. Try to remove most predictive features and compare the results.\n",
    "- Consider different metrics, so maybe it will give you an idea of what is going on (roc-auc/pr-auc example)\n",
    "- Competition hosts didn't say about some aspects of split or metric calculation no matter by accident or on purpose, so you need to consider and try different options although these options may not directly correspond to what is written in the description section.\n",
    "\n",
    "**If you're a competition participant - try to reproduce the actual validation split and metric that was made by competition hosts at all costs. And it doesn’t matter whether the split/metric is relevant to the business task itself or even common sense - your goal here is to win the competition.** <br>\n",
    "\n",
    "\n",
    "**If you're solving a production task / you're a competition host - try to create validation split that is relevant to real life scenarios and evaluation metric that is relevant to business metrics at all costs. Your goal here is to build the solid and reliable solution with the expected performance in real life.**\n",
    "\n",
    "<a id='shifted_features'></a>\n",
    "## 4.2 Shifted features distributions\n",
    "\n",
    "Another common problem - natural features distributions shift.\n",
    "- The most common cases happen in analysis financial markets: the distribution of stock prices, trading volumes, or volatility can change due to market conditions or economic events.\n",
    "- Another popular case is recommender systems, because user preferences or behaviors in recommender systems may evolve, leading to shifts in the distribution of user interaction data.\n",
    "- There are also some cases in NLP, e.g. in sentiment analysis, language style, topics, or writing conventions may change over time, causing shifts in the distribution of text data.\n",
    "- And the last but not the least: such problems can be caused by errors and bugs in your data collection and processing pipelines and it could turn out that train, test and real-life online data are actually collected in a slightly different ways under the hood."
   ]
  },
  {
   "cell_type": "markdown",
   "metadata": {},
   "source": [
    "Let's replicate toy example with feature collection bug"
   ]
  },
  {
   "cell_type": "code",
   "execution_count": 42,
   "metadata": {},
   "outputs": [],
   "source": [
    "df_available_train, df_unseen_test = train_test_split(\n",
    "    df_twitter, stratify=df_twitter.target, test_size=0.3, random_state=42\n",
    ")\n",
    "\n",
    "X_train, X_val, y_train, y_val = train_test_split(\n",
    "    df_available_train.text, df_available_train.target, stratify=df_available_train.target, test_size=0.3, random_state=42\n",
    ")"
   ]
  },
  {
   "cell_type": "code",
   "execution_count": 43,
   "metadata": {},
   "outputs": [
    {
     "data": {
      "text/plain": [
       "0.8459589430271457"
      ]
     },
     "execution_count": 43,
     "metadata": {},
     "output_type": "execute_result"
    }
   ],
   "source": [
    "pipe_classification.fit(X_train, y_train)\n",
    "\n",
    "proba = pipe_classification.predict_proba(X_val)[:, 1]\n",
    "roc_auc_score(y_val, proba)"
   ]
  },
  {
   "cell_type": "code",
   "execution_count": 44,
   "metadata": {},
   "outputs": [
    {
     "data": {
      "text/plain": [
       "0.8525147409373648"
      ]
     },
     "execution_count": 44,
     "metadata": {},
     "output_type": "execute_result"
    }
   ],
   "source": [
    "proba = pipe_classification.predict_proba(df_unseen_test.text)[:, 1]\n",
    "roc_auc_score(df_unseen_test.target, proba)"
   ]
  },
  {
   "cell_type": "markdown",
   "metadata": {},
   "source": [
    "So, in a normal scenario there is no huge difference betweeen \"local\" and \"unseen data\" validation.\n",
    "\n",
    "Let's replicate bug in which we lose some parts of input text in the \"unseen data\".\n",
    "With this \"bug\" we have a ~5% drop in roc-auc metric"
   ]
  },
  {
   "cell_type": "code",
   "execution_count": 45,
   "metadata": {},
   "outputs": [
    {
     "data": {
      "text/plain": [
       "0.792971680658529"
      ]
     },
     "execution_count": 45,
     "metadata": {},
     "output_type": "execute_result"
    }
   ],
   "source": [
    "import random\n",
    "\n",
    "def string_rand_filtering(text, ratio_drop=0.5):\n",
    "    words = text.split()\n",
    "    num_words_to_delete = int(ratio_drop * len(words))\n",
    "    words_to_delete = random.sample(words, num_words_to_delete)\n",
    "    modified_text = ' '.join(word for word in words if word not in words_to_delete)\n",
    "    return modified_text\n",
    "\n",
    "df_unseen_test_corrupted = df_unseen_test.copy()\n",
    "df_unseen_test_corrupted.text = df_unseen_test_corrupted.text.apply(string_rand_filtering)\n",
    "\n",
    "proba = pipe_classification.predict_proba(df_unseen_test_corrupted.text)[:, 1]\n",
    "roc_auc_score(df_unseen_test_corrupted.target, proba)"
   ]
  },
  {
   "cell_type": "markdown",
   "metadata": {},
   "source": [
    "Is there a way to detect that something is wrong with the test data in terms of features distribution in a semi-automated way? - **Yes!**\n",
    "\n",
    "<a id='adversarial_validation'></a>\n",
    "# 4.3 Adversarial validation\n",
    "\n",
    "The general idea is to check the degree of similarity between training and tests in terms of feature distribution: if they are difficult to distinguish, the distribution is probably similar and the usual validation techniques should work.\n",
    "If it does not seem to be the case, so we can suspect they are quite different. This intuition can be quantified by combining train and test sets, assigning 0/1 labels (0 — train, 1-test), and evaluating a binary classification task. For adversarial validation, we want to create a model that predicts which rows are in the training dataset, and which are in the test set. We, therefore, create a new target column in which the test samples are labeled 1 and the train samples with 0. <br>\n",
    "\n",
    "**Note:** The Performance of this model will be indicator of how big the problem is. In order to make it work we need to use the model of the same complexity for both the main problem and adversarial validation problem."
   ]
  },
  {
   "cell_type": "code",
   "execution_count": 46,
   "metadata": {},
   "outputs": [
    {
     "data": {
      "text/plain": [
       "0.5035948562742225"
      ]
     },
     "execution_count": 46,
     "metadata": {},
     "output_type": "execute_result"
    }
   ],
   "source": [
    "df_adversarial = pd.concat([df_available_train, df_unseen_test]).reset_index()\n",
    "df_adversarial.target = len(df_available_train)*[0] + len(df_unseen_test)*[1]\n",
    "\n",
    "X_train_adv, X_val_adv, y_train_adv, y_val_adv = train_test_split(\n",
    "    df_adversarial.text, df_adversarial.target, stratify=df_adversarial.target, test_size=0.3, random_state=42\n",
    ")\n",
    "\n",
    "pipe_classification.fit(X_train_adv, y_train_adv)\n",
    "\n",
    "proba = pipe_classification.predict_proba(X_val_adv)[:, 1]\n",
    "roc_auc_score(y_val_adv, proba)"
   ]
  },
  {
   "cell_type": "markdown",
   "metadata": {},
   "source": [
    "Adversarial validation for the initial complete test dataset - ROCAUC=0.5 means that it's impossible to tell whether this particular sample is from the train set or from the unseen test, so we don't have any significant features distributions shift."
   ]
  },
  {
   "cell_type": "code",
   "execution_count": 47,
   "metadata": {},
   "outputs": [
    {
     "data": {
      "text/plain": [
       "0.6809452075430356"
      ]
     },
     "execution_count": 47,
     "metadata": {},
     "output_type": "execute_result"
    }
   ],
   "source": [
    "df_adversarial = pd.concat([df_available_train, df_unseen_test_corrupted]).reset_index()\n",
    "df_adversarial.target = len(df_available_train)*[0] + len(df_unseen_test_corrupted)*[1]\n",
    "\n",
    "X_train_adv, X_val_adv, y_train_adv, y_val_adv = train_test_split(\n",
    "    df_adversarial.text, df_adversarial.target, stratify=df_adversarial.target, test_size=0.3, random_state=42\n",
    ")\n",
    "\n",
    "pipe_classification.fit(X_train_adv, y_train_adv)\n",
    "\n",
    "proba = pipe_classification.predict_proba(X_val_adv)[:, 1]\n",
    "roc_auc_score(y_val_adv, proba)"
   ]
  },
  {
   "cell_type": "markdown",
   "metadata": {},
   "source": [
    "Adversarial validation for the corrupted test dataset - ROCAUC=0.68 means that in many cases we can tell whether this particular sample is from the train set or from the unseen test, so we obviously have a features distributions shift."
   ]
  },
  {
   "cell_type": "markdown",
   "metadata": {},
   "source": [
    "<a id='Homework'></a>\n",
    "# Homework\n",
    "\n",
    "**Theory** (5 points):\n",
    "\n",
    ">Follow **Explore** and **TODO** sections.  \n",
    ">Answer theory questions in the Google Form.\n",
    ">List of questions:\n",
    "> - A model has high accuracy (e.g. 95%) but low precision (e.g. 10%) and recall (e.g. 10%) on the positive class in a binary classification problem. What could be happening and should we describe this kind of performance as \"rather good, because the accuracy is high\" or \"rather bad, because the precision/recall/f1 is low\"?\n",
    "> - Describe cases (or provide examples) in which in a multiclass classification problem the values of F1 macro will be greater than F1 micro and vice versa? What do you think happens more often in practice and why?\n",
    "> - Imagine that you are in production developing a similar system for Twitter for identifying real disasters, think about whether the split proposed in the kaggle competition (random, possibly with stratification by target) is optimal for a production model validation (assume that you have all the possible necessary data here) and if you think it could be not optimal - describe your ideas?\n",
    "> - For the task of recognizing disasters from tweets and quickly reacting to them by the relevant government authorities, describe cases or pipelines for processing suspected disasters for which a precision-optimized model would be more useful, and for which a recall-optimized one?\n",
    "> - For a task similar to the one proposed above (commonlit-evaluate-student-summaries) regression for both targets with the same input tables structure (assume that the uniqueness/non-uniqueness of ids fields corresponds to the proposed here problem statement), propose and describe validation strategies in such cases (in writing):<br>\n",
    "> A) Case in which we want to evaluate other students on the same questions (prompt text + prompt question); <br>\n",
    "> B) Case in which we want to evaluate the same students on different (unseen) questions (prompt text + prompt question); <br>\n",
    "> C) Case in which we want to evaluate other (unseen) students on different (unseen) questions (prompt text + prompt question)\n",
    "\n",
    "**Practice** (10 points):\n",
    " \n",
    "> 1. Check local validation vs public leaderboard metrics consistency for your models for [Natural Language Processing with Disaster Tweets](https://www.kaggle.com/competitions/nlp-getting-started/overview) and implement adversarial validation (train vs public test) to be shure that there is no features shift in the test dataset.<br>\n",
    "> 2. For the [CommonLit - Evaluate Student Summaries](https://www.kaggle.com/competitions/commonlit-evaluate-student-summaries/) task and dataset your aim is to configure a proper validation. Modeling itself is not the case here, what is more important here is the implementation of the validation mechanics. Try the following:\n",
    "> - Read some public [discussions](https://www.kaggle.com/competitions/commonlit-evaluate-student-summaries/discussion?sort=published) that are relevant to the validation topic.\n",
    "> - Try regular K-fold cross-validation (optionally stratified by prompt_id) and check whether your local validation matches the LB in terms of correlations of metrics increases between experiments and in terms of absolute values match.\n",
    "> - Try Group K-fold cross-validation (groupped by prompt_id) and check whether your local validation matches the LB in terms of correlations of metrics increases between experiments and in terms of absolute values match.\n",
    "> - Describe your thoughts about local validation vs LB metrics correlation in your practice notebook and if there is no correlation, what could be the reasons and what can be done? If you were solving such a problem in production, what split would you use and why?"
   ]
  },
  {
   "cell_type": "markdown",
   "metadata": {},
   "source": [
    "## Imports & Constants"
   ]
  },
  {
   "cell_type": "code",
   "execution_count": 78,
   "metadata": {},
   "outputs": [],
   "source": [
    "import os\n",
    "import re\n",
    "import pandas as pd\n",
    "import numpy as np\n",
    "import matplotlib.pyplot as plt\n",
    "\n",
    "from sklearn.model_selection import KFold, StratifiedKFold, GroupKFold, RepeatedKFold, train_test_split\n",
    "from sklearn.feature_extraction.text import TfidfVectorizer, ENGLISH_STOP_WORDS\n",
    "from sklearn.preprocessing import FunctionTransformer\n",
    "from sklearn.linear_model import Ridge, LogisticRegression\n",
    "from sklearn.pipeline import Pipeline\n",
    "from sklearn.decomposition import PCA\n",
    "from sklearn.metrics import roc_auc_score, f1_score"
   ]
  },
  {
   "cell_type": "code",
   "execution_count": 7,
   "metadata": {
    "collapsed": false,
    "jupyter": {
     "outputs_hidden": false
    }
   },
   "outputs": [],
   "source": [
    "DATA_FOLDER = os.path.join('..', 'data')\n",
    "\n",
    "TWITTER_DATA_FOLDER = os.path.join(DATA_FOLDER, 'nlp-getting-started')\n",
    "TWITTER_TRAIN_PATH = os.path.join(TWITTER_DATA_FOLDER, 'train.csv')\n",
    "TWITTER_TEST_PATH = os.path.join(TWITTER_DATA_FOLDER, 'test.csv')\n",
    "TWITTER_SAMPLE_SUBMISSION_PATH = os.path.join(TWITTER_DATA_FOLDER, 'sample_submission.csv')\n",
    "\n",
    "COMMONLIT_DATA_FOLDER = os.path.join(DATA_FOLDER, 'commonlit-evaluate-student-summaries')\n",
    "COMMONLIT_TRAIN_SUMMARIES_PATH = os.path.join(COMMONLIT_DATA_FOLDER, 'summaries_train.csv')\n",
    "COMMONLIT_TRAIN_PROMPTS_PATH = os.path.join(COMMONLIT_DATA_FOLDER, 'prompts_train.csv')\n",
    "COMMONLIT_TEST_SUMMARIES_PATH = os.path.join(COMMONLIT_DATA_FOLDER, 'summaries_test.csv')\n",
    "COMMONLIT_TEST_PROMPTS_PATH = os.path.join(COMMONLIT_DATA_FOLDER, 'prompts_test.csv')"
   ]
  },
  {
   "cell_type": "markdown",
   "metadata": {
    "collapsed": false,
    "jupyter": {
     "outputs_hidden": false
    }
   },
   "source": [
    "<a id='local_vs_public_lb_nlp'></a>\n",
    "## 5.1 Local validation vs public LB metrics consistency in Disasters dataset. Adversarial validation"
   ]
  },
  {
   "cell_type": "markdown",
   "metadata": {},
   "source": [
    "### Load Data"
   ]
  },
  {
   "cell_type": "code",
   "execution_count": 66,
   "metadata": {},
   "outputs": [],
   "source": [
    "train_df = pd.read_csv(TWITTER_TRAIN_PATH)\n",
    "test_df = pd.read_csv(TWITTER_TEST_PATH)"
   ]
  },
  {
   "cell_type": "code",
   "execution_count": 67,
   "metadata": {},
   "outputs": [
    {
     "data": {
      "text/html": [
       "<div>\n",
       "<style scoped>\n",
       "    .dataframe tbody tr th:only-of-type {\n",
       "        vertical-align: middle;\n",
       "    }\n",
       "\n",
       "    .dataframe tbody tr th {\n",
       "        vertical-align: top;\n",
       "    }\n",
       "\n",
       "    .dataframe thead th {\n",
       "        text-align: right;\n",
       "    }\n",
       "</style>\n",
       "<table border=\"1\" class=\"dataframe\">\n",
       "  <thead>\n",
       "    <tr style=\"text-align: right;\">\n",
       "      <th></th>\n",
       "      <th>id</th>\n",
       "      <th>keyword</th>\n",
       "      <th>location</th>\n",
       "      <th>text</th>\n",
       "      <th>target</th>\n",
       "    </tr>\n",
       "  </thead>\n",
       "  <tbody>\n",
       "    <tr>\n",
       "      <th>0</th>\n",
       "      <td>1</td>\n",
       "      <td>NaN</td>\n",
       "      <td>NaN</td>\n",
       "      <td>Our Deeds are the Reason of this #earthquake M...</td>\n",
       "      <td>1</td>\n",
       "    </tr>\n",
       "    <tr>\n",
       "      <th>1</th>\n",
       "      <td>4</td>\n",
       "      <td>NaN</td>\n",
       "      <td>NaN</td>\n",
       "      <td>Forest fire near La Ronge Sask. Canada</td>\n",
       "      <td>1</td>\n",
       "    </tr>\n",
       "    <tr>\n",
       "      <th>2</th>\n",
       "      <td>5</td>\n",
       "      <td>NaN</td>\n",
       "      <td>NaN</td>\n",
       "      <td>All residents asked to 'shelter in place' are ...</td>\n",
       "      <td>1</td>\n",
       "    </tr>\n",
       "    <tr>\n",
       "      <th>3</th>\n",
       "      <td>6</td>\n",
       "      <td>NaN</td>\n",
       "      <td>NaN</td>\n",
       "      <td>13,000 people receive #wildfires evacuation or...</td>\n",
       "      <td>1</td>\n",
       "    </tr>\n",
       "    <tr>\n",
       "      <th>4</th>\n",
       "      <td>7</td>\n",
       "      <td>NaN</td>\n",
       "      <td>NaN</td>\n",
       "      <td>Just got sent this photo from Ruby #Alaska as ...</td>\n",
       "      <td>1</td>\n",
       "    </tr>\n",
       "  </tbody>\n",
       "</table>\n",
       "</div>"
      ],
      "text/plain": [
       "   id keyword location                                               text  \\\n",
       "0   1     NaN      NaN  Our Deeds are the Reason of this #earthquake M...   \n",
       "1   4     NaN      NaN             Forest fire near La Ronge Sask. Canada   \n",
       "2   5     NaN      NaN  All residents asked to 'shelter in place' are ...   \n",
       "3   6     NaN      NaN  13,000 people receive #wildfires evacuation or...   \n",
       "4   7     NaN      NaN  Just got sent this photo from Ruby #Alaska as ...   \n",
       "\n",
       "   target  \n",
       "0       1  \n",
       "1       1  \n",
       "2       1  \n",
       "3       1  \n",
       "4       1  "
      ]
     },
     "execution_count": 67,
     "metadata": {},
     "output_type": "execute_result"
    }
   ],
   "source": [
    "train_df.head()"
   ]
  },
  {
   "cell_type": "code",
   "execution_count": 68,
   "metadata": {},
   "outputs": [
    {
     "data": {
      "text/html": [
       "<div>\n",
       "<style scoped>\n",
       "    .dataframe tbody tr th:only-of-type {\n",
       "        vertical-align: middle;\n",
       "    }\n",
       "\n",
       "    .dataframe tbody tr th {\n",
       "        vertical-align: top;\n",
       "    }\n",
       "\n",
       "    .dataframe thead th {\n",
       "        text-align: right;\n",
       "    }\n",
       "</style>\n",
       "<table border=\"1\" class=\"dataframe\">\n",
       "  <thead>\n",
       "    <tr style=\"text-align: right;\">\n",
       "      <th></th>\n",
       "      <th>id</th>\n",
       "      <th>keyword</th>\n",
       "      <th>location</th>\n",
       "      <th>text</th>\n",
       "    </tr>\n",
       "  </thead>\n",
       "  <tbody>\n",
       "    <tr>\n",
       "      <th>0</th>\n",
       "      <td>0</td>\n",
       "      <td>NaN</td>\n",
       "      <td>NaN</td>\n",
       "      <td>Just happened a terrible car crash</td>\n",
       "    </tr>\n",
       "    <tr>\n",
       "      <th>1</th>\n",
       "      <td>2</td>\n",
       "      <td>NaN</td>\n",
       "      <td>NaN</td>\n",
       "      <td>Heard about #earthquake is different cities, s...</td>\n",
       "    </tr>\n",
       "    <tr>\n",
       "      <th>2</th>\n",
       "      <td>3</td>\n",
       "      <td>NaN</td>\n",
       "      <td>NaN</td>\n",
       "      <td>there is a forest fire at spot pond, geese are...</td>\n",
       "    </tr>\n",
       "    <tr>\n",
       "      <th>3</th>\n",
       "      <td>9</td>\n",
       "      <td>NaN</td>\n",
       "      <td>NaN</td>\n",
       "      <td>Apocalypse lighting. #Spokane #wildfires</td>\n",
       "    </tr>\n",
       "    <tr>\n",
       "      <th>4</th>\n",
       "      <td>11</td>\n",
       "      <td>NaN</td>\n",
       "      <td>NaN</td>\n",
       "      <td>Typhoon Soudelor kills 28 in China and Taiwan</td>\n",
       "    </tr>\n",
       "  </tbody>\n",
       "</table>\n",
       "</div>"
      ],
      "text/plain": [
       "   id keyword location                                               text\n",
       "0   0     NaN      NaN                 Just happened a terrible car crash\n",
       "1   2     NaN      NaN  Heard about #earthquake is different cities, s...\n",
       "2   3     NaN      NaN  there is a forest fire at spot pond, geese are...\n",
       "3   9     NaN      NaN           Apocalypse lighting. #Spokane #wildfires\n",
       "4  11     NaN      NaN      Typhoon Soudelor kills 28 in China and Taiwan"
      ]
     },
     "execution_count": 68,
     "metadata": {},
     "output_type": "execute_result"
    }
   ],
   "source": [
    "test_df.head()"
   ]
  },
  {
   "cell_type": "markdown",
   "metadata": {},
   "source": [
    "**Important: Original disaster dataset was probably split using stratification on `keyword`, we can observe this when looking at `id` and `keyword` column**"
   ]
  },
  {
   "cell_type": "code",
   "execution_count": 69,
   "metadata": {},
   "outputs": [
    {
     "data": {
      "text/html": [
       "<div>\n",
       "<style scoped>\n",
       "    .dataframe tbody tr th:only-of-type {\n",
       "        vertical-align: middle;\n",
       "    }\n",
       "\n",
       "    .dataframe tbody tr th {\n",
       "        vertical-align: top;\n",
       "    }\n",
       "\n",
       "    .dataframe thead th {\n",
       "        text-align: right;\n",
       "    }\n",
       "</style>\n",
       "<table border=\"1\" class=\"dataframe\">\n",
       "  <thead>\n",
       "    <tr style=\"text-align: right;\">\n",
       "      <th></th>\n",
       "      <th>id</th>\n",
       "      <th>keyword</th>\n",
       "      <th>location</th>\n",
       "      <th>text</th>\n",
       "      <th>target</th>\n",
       "    </tr>\n",
       "  </thead>\n",
       "  <tbody>\n",
       "    <tr>\n",
       "      <th>31</th>\n",
       "      <td>48</td>\n",
       "      <td>ablaze</td>\n",
       "      <td>Birmingham</td>\n",
       "      <td>@bbcmtd Wholesale Markets ablaze http://t.co/l...</td>\n",
       "      <td>1</td>\n",
       "    </tr>\n",
       "    <tr>\n",
       "      <th>32</th>\n",
       "      <td>49</td>\n",
       "      <td>ablaze</td>\n",
       "      <td>Est. September 2012 - Bristol</td>\n",
       "      <td>We always try to bring the heavy. #metal #RT h...</td>\n",
       "      <td>0</td>\n",
       "    </tr>\n",
       "    <tr>\n",
       "      <th>33</th>\n",
       "      <td>50</td>\n",
       "      <td>ablaze</td>\n",
       "      <td>AFRICA</td>\n",
       "      <td>#AFRICANBAZE: Breaking news:Nigeria flag set a...</td>\n",
       "      <td>1</td>\n",
       "    </tr>\n",
       "    <tr>\n",
       "      <th>34</th>\n",
       "      <td>52</td>\n",
       "      <td>ablaze</td>\n",
       "      <td>Philadelphia, PA</td>\n",
       "      <td>Crying out for more! Set me ablaze</td>\n",
       "      <td>0</td>\n",
       "    </tr>\n",
       "    <tr>\n",
       "      <th>35</th>\n",
       "      <td>53</td>\n",
       "      <td>ablaze</td>\n",
       "      <td>London, UK</td>\n",
       "      <td>On plus side LOOK AT THE SKY LAST NIGHT IT WAS...</td>\n",
       "      <td>0</td>\n",
       "    </tr>\n",
       "    <tr>\n",
       "      <th>36</th>\n",
       "      <td>54</td>\n",
       "      <td>ablaze</td>\n",
       "      <td>Pretoria</td>\n",
       "      <td>@PhDSquares #mufc they've built so much hype a...</td>\n",
       "      <td>0</td>\n",
       "    </tr>\n",
       "    <tr>\n",
       "      <th>37</th>\n",
       "      <td>55</td>\n",
       "      <td>ablaze</td>\n",
       "      <td>World Wide!!</td>\n",
       "      <td>INEC Office in Abia Set Ablaze - http://t.co/3...</td>\n",
       "      <td>1</td>\n",
       "    </tr>\n",
       "    <tr>\n",
       "      <th>38</th>\n",
       "      <td>56</td>\n",
       "      <td>ablaze</td>\n",
       "      <td>NaN</td>\n",
       "      <td>Barbados #Bridgetown JAMAICA ÛÒ Two cars set ...</td>\n",
       "      <td>1</td>\n",
       "    </tr>\n",
       "    <tr>\n",
       "      <th>39</th>\n",
       "      <td>57</td>\n",
       "      <td>ablaze</td>\n",
       "      <td>Paranaque City</td>\n",
       "      <td>Ablaze for you Lord :D</td>\n",
       "      <td>0</td>\n",
       "    </tr>\n",
       "    <tr>\n",
       "      <th>40</th>\n",
       "      <td>59</td>\n",
       "      <td>ablaze</td>\n",
       "      <td>Live On Webcam</td>\n",
       "      <td>Check these out: http://t.co/rOI2NSmEJJ http:/...</td>\n",
       "      <td>0</td>\n",
       "    </tr>\n",
       "  </tbody>\n",
       "</table>\n",
       "</div>"
      ],
      "text/plain": [
       "    id keyword                       location  \\\n",
       "31  48  ablaze                     Birmingham   \n",
       "32  49  ablaze  Est. September 2012 - Bristol   \n",
       "33  50  ablaze                         AFRICA   \n",
       "34  52  ablaze               Philadelphia, PA   \n",
       "35  53  ablaze                     London, UK   \n",
       "36  54  ablaze                       Pretoria   \n",
       "37  55  ablaze                   World Wide!!   \n",
       "38  56  ablaze                            NaN   \n",
       "39  57  ablaze                 Paranaque City   \n",
       "40  59  ablaze                 Live On Webcam   \n",
       "\n",
       "                                                 text  target  \n",
       "31  @bbcmtd Wholesale Markets ablaze http://t.co/l...       1  \n",
       "32  We always try to bring the heavy. #metal #RT h...       0  \n",
       "33  #AFRICANBAZE: Breaking news:Nigeria flag set a...       1  \n",
       "34                 Crying out for more! Set me ablaze       0  \n",
       "35  On plus side LOOK AT THE SKY LAST NIGHT IT WAS...       0  \n",
       "36  @PhDSquares #mufc they've built so much hype a...       0  \n",
       "37  INEC Office in Abia Set Ablaze - http://t.co/3...       1  \n",
       "38  Barbados #Bridgetown JAMAICA ÛÒ Two cars set ...       1  \n",
       "39                             Ablaze for you Lord :D       0  \n",
       "40  Check these out: http://t.co/rOI2NSmEJJ http:/...       0  "
      ]
     },
     "execution_count": 69,
     "metadata": {},
     "output_type": "execute_result"
    }
   ],
   "source": [
    "train_df[~train_df['keyword'].isna()].head(10)"
   ]
  },
  {
   "cell_type": "markdown",
   "metadata": {},
   "source": [
    "`ids` 46, 47, 51 and 58 are missing from train dataset, look at their `keyword` in test dataset"
   ]
  },
  {
   "cell_type": "code",
   "execution_count": 70,
   "metadata": {},
   "outputs": [
    {
     "data": {
      "text/html": [
       "<div>\n",
       "<style scoped>\n",
       "    .dataframe tbody tr th:only-of-type {\n",
       "        vertical-align: middle;\n",
       "    }\n",
       "\n",
       "    .dataframe tbody tr th {\n",
       "        vertical-align: top;\n",
       "    }\n",
       "\n",
       "    .dataframe thead th {\n",
       "        text-align: right;\n",
       "    }\n",
       "</style>\n",
       "<table border=\"1\" class=\"dataframe\">\n",
       "  <thead>\n",
       "    <tr style=\"text-align: right;\">\n",
       "      <th></th>\n",
       "      <th>id</th>\n",
       "      <th>keyword</th>\n",
       "      <th>location</th>\n",
       "      <th>text</th>\n",
       "    </tr>\n",
       "  </thead>\n",
       "  <tbody>\n",
       "    <tr>\n",
       "      <th>15</th>\n",
       "      <td>46</td>\n",
       "      <td>ablaze</td>\n",
       "      <td>London</td>\n",
       "      <td>Birmingham Wholesale Market is ablaze BBC News...</td>\n",
       "    </tr>\n",
       "    <tr>\n",
       "      <th>16</th>\n",
       "      <td>47</td>\n",
       "      <td>ablaze</td>\n",
       "      <td>Niall's place | SAF 12 SQUAD |</td>\n",
       "      <td>@sunkxssedharry will you wear shorts for race ...</td>\n",
       "    </tr>\n",
       "    <tr>\n",
       "      <th>17</th>\n",
       "      <td>51</td>\n",
       "      <td>ablaze</td>\n",
       "      <td>NIGERIA</td>\n",
       "      <td>#PreviouslyOnDoyinTv: Toke MakinwaÛªs marriag...</td>\n",
       "    </tr>\n",
       "    <tr>\n",
       "      <th>18</th>\n",
       "      <td>58</td>\n",
       "      <td>ablaze</td>\n",
       "      <td>Live On Webcam</td>\n",
       "      <td>Check these out: http://t.co/rOI2NSmEJJ http:/...</td>\n",
       "    </tr>\n",
       "  </tbody>\n",
       "</table>\n",
       "</div>"
      ],
      "text/plain": [
       "    id keyword                        location  \\\n",
       "15  46  ablaze                          London   \n",
       "16  47  ablaze  Niall's place | SAF 12 SQUAD |   \n",
       "17  51  ablaze                         NIGERIA   \n",
       "18  58  ablaze                  Live On Webcam   \n",
       "\n",
       "                                                 text  \n",
       "15  Birmingham Wholesale Market is ablaze BBC News...  \n",
       "16  @sunkxssedharry will you wear shorts for race ...  \n",
       "17  #PreviouslyOnDoyinTv: Toke MakinwaÛªs marriag...  \n",
       "18  Check these out: http://t.co/rOI2NSmEJJ http:/...  "
      ]
     },
     "execution_count": 70,
     "metadata": {},
     "output_type": "execute_result"
    }
   ],
   "source": [
    "test_df.loc[test_df['id'].isin([46, 47, 51, 58])]"
   ]
  },
  {
   "cell_type": "markdown",
   "metadata": {},
   "source": [
    "### Local Validation vs LB"
   ]
  },
  {
   "cell_type": "markdown",
   "metadata": {},
   "source": [
    "This notebook's EDA was very helpful - https://www.kaggle.com/code/gunesevitan/nlp-with-disaster-tweets-eda-cleaning-and-bert/notebook <br>\n",
    "Same 221 unique `keywords` are present both in train and test datasets, we can try to stratify by `keyword` column"
   ]
  },
  {
   "cell_type": "code",
   "execution_count": 72,
   "metadata": {},
   "outputs": [],
   "source": [
    "train_df['keyword'] = train_df['keyword'].fillna('no_keyword')\n",
    "test_df['keyword'] = test_df['keyword'].fillna('no_keyword')"
   ]
  },
  {
   "cell_type": "code",
   "execution_count": 73,
   "metadata": {},
   "outputs": [],
   "source": [
    "modeling_pipeline = Pipeline([\n",
    "    ('vectorizer', TfidfVectorizer(\n",
    "        analyzer='word',\n",
    "        stop_words='english',\n",
    "        ngram_range=(1, 3),\n",
    "        lowercase=True,\n",
    "        min_df=5,\n",
    "        max_features=30000\n",
    "    )),  \n",
    "    ('classifier', LogisticRegression(C=1.0, random_state=42))\n",
    "])"
   ]
  },
  {
   "cell_type": "code",
   "execution_count": 82,
   "metadata": {},
   "outputs": [],
   "source": [
    "def perform_split(train_idx, test_idx, pipeline, cv_name):\n",
    "    global best_pipelines, best_score\n",
    "    X_train, X_test = train_df['text'].iloc[train_idx], train_df['text'].iloc[test_idx]\n",
    "    \n",
    "    y_train, y_test = train_df['target'].iloc[train_idx], train_df['target'].iloc[test_idx]\n",
    "    pipeline.fit(X_train, y_train)\n",
    "    y_hat = pipeline.predict(X_test)\n",
    "\n",
    "    # use correct metric (macro f1)\n",
    "    score = f1_score(y_test, y_hat, average='macro')\n",
    "\n",
    "    if score > best_score:\n",
    "        best_score = score\n",
    "        best_pipelines[cv_name] = pipeline\n",
    "\n",
    "    return score\n",
    "\n",
    "\n",
    "def score_calculations(scores, cv_name, model_name=None):\n",
    "    scores = np.array(scores)\n",
    "    avg_score = round(scores.mean(), 4)\n",
    "    std_score = round(scores.std(), 4)\n",
    "    min_score = round(scores.min(), 4)\n",
    "    max_score = round(scores.max(), 4)\n",
    "    score_lower_bound = round(avg_score - 3*std_score, 4)\n",
    "    score_higher_bound = round(avg_score + 3*std_score, 4)\n",
    "    return {\n",
    "        'cv_strategy': cv_name,\n",
    "        # 'model_name': model_name,\n",
    "        'f1_avg': avg_score,\n",
    "        'f1_std': std_score,\n",
    "        'f1_min': min_score,\n",
    "        'f1_max': max_score,\n",
    "        'f1_lower_bound_estimation': score_lower_bound,\n",
    "        'f1_higher_bound_estimation': score_higher_bound\n",
    "    }"
   ]
  },
  {
   "cell_type": "code",
   "execution_count": 95,
   "metadata": {},
   "outputs": [],
   "source": [
    "cv_strategies = {\n",
    "    'regular': KFold(n_splits=10, shuffle=True, random_state=42),\n",
    "    'repeated': RepeatedKFold(n_repeats=10, n_splits=7, random_state=42),\n",
    "    'stratified': StratifiedKFold(n_splits=9, shuffle=True, random_state=42) # n_splits=9 because its the least keyword value count\n",
    "}"
   ]
  },
  {
   "cell_type": "code",
   "execution_count": 96,
   "metadata": {},
   "outputs": [
    {
     "name": "stdout",
     "output_type": "stream",
     "text": [
      "Performing regular cross validation\n",
      "----------------------------------------\n",
      "Performing repeated cross validation\n",
      "----------------------------------------\n",
      "Performing stratified cross validation\n",
      "----------------------------------------\n"
     ]
    },
    {
     "data": {
      "text/html": [
       "<div>\n",
       "<style scoped>\n",
       "    .dataframe tbody tr th:only-of-type {\n",
       "        vertical-align: middle;\n",
       "    }\n",
       "\n",
       "    .dataframe tbody tr th {\n",
       "        vertical-align: top;\n",
       "    }\n",
       "\n",
       "    .dataframe thead th {\n",
       "        text-align: right;\n",
       "    }\n",
       "</style>\n",
       "<table border=\"1\" class=\"dataframe\">\n",
       "  <thead>\n",
       "    <tr style=\"text-align: right;\">\n",
       "      <th></th>\n",
       "      <th>cv_strategy</th>\n",
       "      <th>f1_avg</th>\n",
       "      <th>f1_std</th>\n",
       "      <th>f1_min</th>\n",
       "      <th>f1_max</th>\n",
       "      <th>f1_lower_bound_estimation</th>\n",
       "      <th>f1_higher_bound_estimation</th>\n",
       "    </tr>\n",
       "  </thead>\n",
       "  <tbody>\n",
       "    <tr>\n",
       "      <th>0</th>\n",
       "      <td>regular</td>\n",
       "      <td>0.7900</td>\n",
       "      <td>0.0157</td>\n",
       "      <td>0.7609</td>\n",
       "      <td>0.8285</td>\n",
       "      <td>0.7429</td>\n",
       "      <td>0.8371</td>\n",
       "    </tr>\n",
       "    <tr>\n",
       "      <th>1</th>\n",
       "      <td>repeated</td>\n",
       "      <td>0.7904</td>\n",
       "      <td>0.0104</td>\n",
       "      <td>0.7644</td>\n",
       "      <td>0.8127</td>\n",
       "      <td>0.7592</td>\n",
       "      <td>0.8216</td>\n",
       "    </tr>\n",
       "    <tr>\n",
       "      <th>2</th>\n",
       "      <td>stratified</td>\n",
       "      <td>0.7912</td>\n",
       "      <td>0.0105</td>\n",
       "      <td>0.7755</td>\n",
       "      <td>0.8069</td>\n",
       "      <td>0.7597</td>\n",
       "      <td>0.8227</td>\n",
       "    </tr>\n",
       "  </tbody>\n",
       "</table>\n",
       "</div>"
      ],
      "text/plain": [
       "  cv_strategy  f1_avg  f1_std  f1_min  f1_max  f1_lower_bound_estimation  \\\n",
       "0     regular  0.7900  0.0157  0.7609  0.8285                     0.7429   \n",
       "1    repeated  0.7904  0.0104  0.7644  0.8127                     0.7592   \n",
       "2  stratified  0.7912  0.0105  0.7755  0.8069                     0.7597   \n",
       "\n",
       "   f1_higher_bound_estimation  \n",
       "0                      0.8371  \n",
       "1                      0.8216  \n",
       "2                      0.8227  "
      ]
     },
     "execution_count": 96,
     "metadata": {},
     "output_type": "execute_result"
    }
   ],
   "source": [
    "results = []\n",
    "best_pipelines = {}\n",
    "\n",
    "for cv_name, cv in cv_strategies.items():\n",
    "    best_score = 0\n",
    "    \n",
    "    print(f'Performing {cv_name} cross validation')\n",
    "    print('-' * 40)\n",
    "    scores = []\n",
    "    if isinstance(cv, StratifiedKFold):\n",
    "        for train_idx, test_idx in cv.split(train_df['text'], train_df['keyword']):\n",
    "            scores.append(perform_split(train_idx, test_idx, modeling_pipeline, cv_name))\n",
    "    else:\n",
    "        for train_idx, test_idx in cv.split(train_df['text'], train_df['target']):\n",
    "            scores.append(perform_split(train_idx, test_idx, modeling_pipeline, cv_name))\n",
    "            \n",
    "    results.append(score_calculations(scores, cv_name))\n",
    "\n",
    "results = pd.DataFrame(results).sort_values('f1_avg')\n",
    "results"
   ]
  },
  {
   "cell_type": "code",
   "execution_count": 97,
   "metadata": {},
   "outputs": [],
   "source": [
    "# Predict to submit\n",
    "sample_submission = pd.read_csv(TWITTER_SAMPLE_SUBMISSION_PATH)\n",
    "for cv_name, pipeline in best_pipelines.items():\n",
    "    sample_submission[\"target\"] = pipeline.predict(test_df['text'])\n",
    "    sample_submission.to_csv(os.path.join(TWITTER_DATA_FOLDER, f\"{cv_name}_kfold_submission.csv\"), index=False)"
   ]
  },
  {
   "cell_type": "markdown",
   "metadata": {},
   "source": [
    "![](images/twitter-disaster-submissions.png)"
   ]
  },
  {
   "cell_type": "markdown",
   "metadata": {},
   "source": [
    "### Adversarial Validation"
   ]
  },
  {
   "cell_type": "code",
   "execution_count": 34,
   "metadata": {},
   "outputs": [],
   "source": [
    "# Set labels for train and test data, '0' - train, '1' - test\n",
    "train_df['av_label'] = 0\n",
    "test_df['av_label']  = 1\n",
    "\n",
    "all_data = pd.concat([train_df[['text', 'av_label']], test_df[['text', 'av_label']]], axis=0, ignore_index=True)\n",
    "\n",
    "# Shuffle\n",
    "all_data = all_data.sample(frac=1, random_state=42)\n",
    "\n",
    "X = all_data['text']\n",
    "y = all_data['av_label']"
   ]
  },
  {
   "cell_type": "code",
   "execution_count": 35,
   "metadata": {},
   "outputs": [
    {
     "name": "stdout",
     "output_type": "stream",
     "text": [
      "Adversarial Evaluation results - ROCAUC: 0.486\n"
     ]
    }
   ],
   "source": [
    "pipe_classification = Pipeline([\n",
    "    ('vectorizer', TfidfVectorizer(\n",
    "        analyzer='word',\n",
    "        stop_words='english',\n",
    "        ngram_range=(1, 3),\n",
    "        lowercase=True,\n",
    "        min_df=5,\n",
    "        max_features=30000\n",
    "    )),  \n",
    "    ('classifier', LogisticRegression(C=1.0, random_state=42))\n",
    "])\n",
    "\n",
    "X_train_adv, X_test_adv, y_train_adv, y_test_adv = train_test_split(\n",
    "    X, y, stratify=y, test_size=0.3, random_state=42\n",
    ")\n",
    "\n",
    "pipe_classification.fit(X_train_adv, y_train_adv)\n",
    "\n",
    "y_hat = pipe_classification.predict_proba(X_test_adv)[:, 1]\n",
    "print(f'Adversarial Evaluation results - ROCAUC: {round(roc_auc_score(y_test_adv, y_hat), 3)}')"
   ]
  },
  {
   "cell_type": "code",
   "execution_count": 36,
   "metadata": {},
   "outputs": [
    {
     "data": {
      "image/png": "[encoded data removed]",
      "text/plain": [
       "<Figure size 1000x800 with 1 Axes>"
      ]
     },
     "metadata": {},
     "output_type": "display_data"
    }
   ],
   "source": [
    "def plot_dataset_feature_distribution(data_2d):\n",
    "    plt.figure(figsize=(10, 8))\n",
    "    \n",
    "    plt.scatter(data_2d['pc1'].loc[data_2d['label']==0], data_2d['pc2'].loc[data_2d['label']==0], c='red', label='Train', s=20, alpha=0.3)\n",
    "    plt.scatter(data_2d['pc1'].loc[data_2d['label']==1], data_2d['pc2'].loc[data_2d['label']==1], c='blue', label='Test', s=20, alpha=0.3)\n",
    "    \n",
    "    plt.xlabel('Principal Component 1')\n",
    "    plt.ylabel('Principal Component 2')\n",
    "    plt.title('2D Visualization of TF-IDF Feature Distribution in Train and Test')\n",
    "    plt.legend()\n",
    "    plt.grid(True)\n",
    "    plt.show()\n",
    "\n",
    "\n",
    "# Vectorize text\n",
    "tfidf_vectorizer = TfidfVectorizer(\n",
    "    analyzer='word',\n",
    "    stop_words='english',\n",
    "    ngram_range=(1, 3),\n",
    "    lowercase=True,\n",
    "    min_df=5,\n",
    "    max_features=30000\n",
    ")\n",
    "X_train_adv_tfidf = tfidf_vectorizer.fit_transform(X_train_adv)\n",
    "X_test_adv_tfidf = tfidf_vectorizer.transform(X_test_adv)\n",
    "\n",
    "# Reduce dimensionality to 2D using PCA\n",
    "pca = PCA(n_components=2)\n",
    "X_2d_train = pca.fit_transform(X_train_adv_tfidf.toarray())\n",
    "X_2d_test = pca.transform(X_test_adv_tfidf.toarray())\n",
    "\n",
    "# Create a DataFrame for 2D data and labels\n",
    "data_2d = pd.DataFrame(data=np.vstack([X_2d_train, X_2d_test]), columns=['pc1', 'pc2'])\n",
    "data_2d['label'] = pd.concat([y_train_adv, y_test_adv])\n",
    "\n",
    "plot_dataset_feature_distribution(data_2d)"
   ]
  },
  {
   "cell_type": "markdown",
   "metadata": {},
   "source": [
    "**Data in `Train` and `Test` sets follow roughly similar distribution**"
   ]
  },
  {
   "cell_type": "markdown",
   "metadata": {},
   "source": [
    "### **Conclusion**"
   ]
  },
  {
   "cell_type": "markdown",
   "metadata": {},
   "source": [
    "#### Local Validation vs LB:\n",
    "- Original disaster dataset was probably split using stratification on `keyword`, so I used `StratifiedKFold` on `keyword`. It showed best validation results and correlates most with LB performance\n",
    "- `KFold` and `RepeatedKFold` have negative correlation with LB performance, LB score is lower than f1_max score   \n",
    "- No visible groups to use `GroupKFold`\n",
    "\n",
    "#### Adversarial Validation:\n",
    "- Using Adversarial Evaluation on train and test dataset gave `0.486` ROCAUC, which means **there is no feature drift in the test set compared to train set**\n",
    "- PCA on TfIdf features showed that features in **train and test follow similar distribution**"
   ]
  },
  {
   "cell_type": "markdown",
   "metadata": {
    "collapsed": false,
    "jupyter": {
     "outputs_hidden": false
    }
   },
   "source": [
    "<a id='commonlit_evaluation'></a>\n",
    "## 5.2 CommonLit evaluation techniques"
   ]
  },
  {
   "cell_type": "markdown",
   "metadata": {},
   "source": [
    "### Important nuance\n",
    "\n",
    "**MCRMSE (mean columnwise root mean squared error) is used as submission evaluation metric, so to make correct comparison we should also use it to for local validation**<br>\n",
    "\n",
    "*Note: The lower the MCRMSE - the better*\n",
    "\n",
    "![](https://editor.analyticsvidhya.com/uploads/14412MCRMSE.png)"
   ]
  },
  {
   "cell_type": "code",
   "execution_count": 6,
   "metadata": {},
   "outputs": [],
   "source": [
    "# Source: https://github.com/AMontgomerie/commonlit-summaries-competition/blob/main/package/commonlit_summaries/metrics.py\n",
    "\n",
    "def compute_mcrmse(targets, predictions):\n",
    "    content_rmse = np.sqrt(np.mean((targets[:, 0] - predictions[:, 0]) ** 2))\n",
    "    wording_rmse = np.sqrt(np.mean((targets[:, 1] - predictions[:, 1]) ** 2))\n",
    "    mcrmse = np.mean([content_rmse, wording_rmse])\n",
    "    return mcrmse"
   ]
  },
  {
   "cell_type": "markdown",
   "metadata": {
    "collapsed": false,
    "jupyter": {
     "outputs_hidden": false
    }
   },
   "source": [
    "### Load Data"
   ]
  },
  {
   "cell_type": "code",
   "execution_count": 7,
   "metadata": {
    "collapsed": false,
    "jupyter": {
     "outputs_hidden": false
    }
   },
   "outputs": [],
   "source": [
    "train_df = pd.read_csv(COMMONLIT_TRAIN_SUMMARIES_PATH)\n",
    "train_pt_df = pd.read_csv(COMMONLIT_TRAIN_PROMPTS_PATH)\n",
    "test_df = pd.read_csv(COMMONLIT_TEST_SUMMARIES_PATH)\n",
    "test_pt_df = pd.read_csv(COMMONLIT_TEST_PROMPTS_PATH)"
   ]
  },
  {
   "cell_type": "code",
   "execution_count": 8,
   "metadata": {},
   "outputs": [
    {
     "data": {
      "text/html": [
       "<div>\n",
       "<style scoped>\n",
       "    .dataframe tbody tr th:only-of-type {\n",
       "        vertical-align: middle;\n",
       "    }\n",
       "\n",
       "    .dataframe tbody tr th {\n",
       "        vertical-align: top;\n",
       "    }\n",
       "\n",
       "    .dataframe thead th {\n",
       "        text-align: right;\n",
       "    }\n",
       "</style>\n",
       "<table border=\"1\" class=\"dataframe\">\n",
       "  <thead>\n",
       "    <tr style=\"text-align: right;\">\n",
       "      <th></th>\n",
       "      <th>student_id</th>\n",
       "      <th>prompt_id</th>\n",
       "      <th>text</th>\n",
       "      <th>content</th>\n",
       "      <th>wording</th>\n",
       "    </tr>\n",
       "  </thead>\n",
       "  <tbody>\n",
       "    <tr>\n",
       "      <th>0</th>\n",
       "      <td>000e8c3c7ddb</td>\n",
       "      <td>814d6b</td>\n",
       "      <td>The third wave was an experimentto see how peo...</td>\n",
       "      <td>0.205683</td>\n",
       "      <td>0.380538</td>\n",
       "    </tr>\n",
       "    <tr>\n",
       "      <th>1</th>\n",
       "      <td>0020ae56ffbf</td>\n",
       "      <td>ebad26</td>\n",
       "      <td>They would rub it up with soda to make the sme...</td>\n",
       "      <td>-0.548304</td>\n",
       "      <td>0.506755</td>\n",
       "    </tr>\n",
       "    <tr>\n",
       "      <th>2</th>\n",
       "      <td>004e978e639e</td>\n",
       "      <td>3b9047</td>\n",
       "      <td>In Egypt, there were many occupations and soci...</td>\n",
       "      <td>3.128928</td>\n",
       "      <td>4.231226</td>\n",
       "    </tr>\n",
       "    <tr>\n",
       "      <th>3</th>\n",
       "      <td>005ab0199905</td>\n",
       "      <td>3b9047</td>\n",
       "      <td>The highest class was Pharaohs these people we...</td>\n",
       "      <td>-0.210614</td>\n",
       "      <td>-0.471415</td>\n",
       "    </tr>\n",
       "    <tr>\n",
       "      <th>4</th>\n",
       "      <td>0070c9e7af47</td>\n",
       "      <td>814d6b</td>\n",
       "      <td>The Third Wave developed  rapidly because the ...</td>\n",
       "      <td>3.272894</td>\n",
       "      <td>3.219757</td>\n",
       "    </tr>\n",
       "  </tbody>\n",
       "</table>\n",
       "</div>"
      ],
      "text/plain": [
       "     student_id prompt_id                                               text  \\\n",
       "0  000e8c3c7ddb    814d6b  The third wave was an experimentto see how peo...   \n",
       "1  0020ae56ffbf    ebad26  They would rub it up with soda to make the sme...   \n",
       "2  004e978e639e    3b9047  In Egypt, there were many occupations and soci...   \n",
       "3  005ab0199905    3b9047  The highest class was Pharaohs these people we...   \n",
       "4  0070c9e7af47    814d6b  The Third Wave developed  rapidly because the ...   \n",
       "\n",
       "    content   wording  \n",
       "0  0.205683  0.380538  \n",
       "1 -0.548304  0.506755  \n",
       "2  3.128928  4.231226  \n",
       "3 -0.210614 -0.471415  \n",
       "4  3.272894  3.219757  "
      ]
     },
     "execution_count": 8,
     "metadata": {},
     "output_type": "execute_result"
    }
   ],
   "source": [
    "train_df.head()"
   ]
  },
  {
   "cell_type": "code",
   "execution_count": 54,
   "metadata": {},
   "outputs": [
    {
     "data": {
      "text/plain": [
       "prompt_id\n",
       "39c16e    2057\n",
       "3b9047    2009\n",
       "ebad26    1996\n",
       "814d6b    1103\n",
       "Name: count, dtype: int64"
      ]
     },
     "execution_count": 54,
     "metadata": {},
     "output_type": "execute_result"
    }
   ],
   "source": [
    "train_df['prompt_id'].value_counts()"
   ]
  },
  {
   "cell_type": "markdown",
   "metadata": {
    "collapsed": false,
    "jupyter": {
     "outputs_hidden": false
    }
   },
   "source": [
    "### Preprocessing\n",
    "\n",
    "Preprocessing is not the main point, so I'll make it short and very simple for fast iteration"
   ]
  },
  {
   "cell_type": "code",
   "execution_count": 9,
   "metadata": {
    "collapsed": false,
    "jupyter": {
     "outputs_hidden": false
    }
   },
   "outputs": [],
   "source": [
    "def preprocess_text(text):\n",
    "    \"\"\"\n",
    "    Removes special characters and symbols, converts to lowercase\n",
    "    \"\"\"\n",
    "    text = text.apply(lambda summary: re.sub(r'[^a-zA-Z\\s]', '', summary))\n",
    "    text = text.str.lower()\n",
    "    return text\n",
    "\n",
    "\n",
    "# def feature_engineering(data):\n",
    "#     # Counts the number of words in each text\n",
    "#     data['word_count'] = data['text'].apply(lambda x: len(x.split()))\n",
    "\n",
    "#     # Counts the number of stopwords in each text\n",
    "#     data['stopword_count'] = data['text'].apply(lambda x: len([word for word in x.split() if word in ENGLISH_STOP_WORDS]))\n",
    "\n",
    "#     # Calculates the average word length in each text\n",
    "#     data['avg_word_length'] = data['text'].apply(lambda x: sum(len(word) for word in x.split()) / len(x.split()))\n",
    "\n",
    "#     return data\n"
   ]
  },
  {
   "cell_type": "markdown",
   "metadata": {},
   "source": [
    "### Modeling"
   ]
  },
  {
   "cell_type": "code",
   "execution_count": 27,
   "metadata": {},
   "outputs": [],
   "source": [
    "# preprocessing, vectorization, model\n",
    "modeling_pipeline = Pipeline([\n",
    "    ('clean_text', FunctionTransformer(func=preprocess_text, validate=False)),\n",
    "    ('vectorizer', TfidfVectorizer(\n",
    "        analyzer='word',\n",
    "        stop_words='english',\n",
    "        ngram_range=(1, 3),\n",
    "        min_df=5,\n",
    "        max_features=30000\n",
    "    )),\n",
    "    ('model', Ridge(alpha=0.9, random_state=42))\n",
    "])"
   ]
  },
  {
   "cell_type": "markdown",
   "metadata": {},
   "source": [
    "### Test Regular K-fold, Group K-fold, Stratified K-fold"
   ]
  },
  {
   "cell_type": "markdown",
   "metadata": {},
   "source": [
    "While checking discussions found this 5-th place solution - https://www.kaggle.com/competitions/commonlit-evaluate-student-summaries/discussion/446584 <br>They also used **Group K-fold** for validation\n",
    "\n"
   ]
  },
  {
   "cell_type": "code",
   "execution_count": 47,
   "metadata": {},
   "outputs": [],
   "source": [
    "cv_strategies = {\n",
    "    'regular': KFold(n_splits=7, shuffle=True, random_state=42),\n",
    "    'group': GroupKFold(n_splits=4),\n",
    "    'stratified': StratifiedKFold(n_splits=7, shuffle=True, random_state=42)\n",
    "}"
   ]
  },
  {
   "cell_type": "code",
   "execution_count": 59,
   "metadata": {},
   "outputs": [],
   "source": [
    "def perform_split(train_idx, test_idx, pipeline):\n",
    "    X_train, X_test = train_df['text'].iloc[train_idx], train_df['text'].iloc[test_idx]\n",
    "    \n",
    "    # Content\n",
    "    y_train, y_test_content = train_df['content'].iloc[train_idx], train_df['content'].iloc[test_idx]\n",
    "    pipeline.fit(X_train, y_train)\n",
    "    y_hat_content = pipeline.predict(X_test)\n",
    "    \n",
    "    # Wording\n",
    "    y_train, y_test_wording = train_df['wording'].iloc[train_idx], train_df['wording'].iloc[test_idx]\n",
    "    pipeline.fit(X_train, y_train)\n",
    "    y_hat_wording = pipeline.predict(X_test)\n",
    "\n",
    "    # compute mcrmse\n",
    "    score = compute_mcrmse(\n",
    "        np.column_stack((y_test_content, y_test_wording)), \n",
    "        np.column_stack((y_hat_content, y_hat_wording))\n",
    "    )\n",
    "\n",
    "    return score\n",
    "\n",
    "\n",
    "def score_calculations(scores, cv_name):\n",
    "    scores = np.array(scores)\n",
    "    avg_score = round(scores.mean(), 4)\n",
    "    std_score = round(scores.std(), 4)\n",
    "    min_score = round(scores.min(), 4)\n",
    "    max_score = round(scores.max(), 4)\n",
    "    score_lower_bound = round(avg_score - 3*std_score, 4)\n",
    "    score_higher_bound = round(avg_score + 3*std_score, 4)\n",
    "    return {\n",
    "        'cv_strategy': cv_name,\n",
    "        'mcrmse_avg': avg_score,\n",
    "        'mcrmse_std': std_score,\n",
    "        'mcrmse_min': min_score,\n",
    "        'mcrmse_max': max_score,\n",
    "        'mcrmse_lower_bound_estimation': score_lower_bound,\n",
    "        'mcrmse_higher_bound_estimation': score_higher_bound\n",
    "    }\n",
    "\n",
    "# TODO: https://scikit-learn.org/stable/auto_examples/model_selection/plot_cv_indices.html#sphx-glr-auto-examples-model-selection-plot-cv-indices-py"
   ]
  },
  {
   "cell_type": "code",
   "execution_count": 60,
   "metadata": {},
   "outputs": [
    {
     "name": "stdout",
     "output_type": "stream",
     "text": [
      "Performing regular cross validation\n",
      "----------------------------------------\n",
      "Performing group cross validation\n",
      "----------------------------------------\n",
      "Performing stratified cross validation\n",
      "----------------------------------------\n"
     ]
    },
    {
     "data": {
      "text/html": [
       "<div>\n",
       "<style scoped>\n",
       "    .dataframe tbody tr th:only-of-type {\n",
       "        vertical-align: middle;\n",
       "    }\n",
       "\n",
       "    .dataframe tbody tr th {\n",
       "        vertical-align: top;\n",
       "    }\n",
       "\n",
       "    .dataframe thead th {\n",
       "        text-align: right;\n",
       "    }\n",
       "</style>\n",
       "<table border=\"1\" class=\"dataframe\">\n",
       "  <thead>\n",
       "    <tr style=\"text-align: right;\">\n",
       "      <th></th>\n",
       "      <th>cv_strategy</th>\n",
       "      <th>mcrmse_avg</th>\n",
       "      <th>mcrmse_std</th>\n",
       "      <th>mcrmse_min</th>\n",
       "      <th>mcrmse_max</th>\n",
       "      <th>mcrmse_lower_bound_estimation</th>\n",
       "      <th>mcrmse_higher_bound_estimation</th>\n",
       "    </tr>\n",
       "  </thead>\n",
       "  <tbody>\n",
       "    <tr>\n",
       "      <th>0</th>\n",
       "      <td>regular</td>\n",
       "      <td>0.6291</td>\n",
       "      <td>0.0060</td>\n",
       "      <td>0.6191</td>\n",
       "      <td>0.6368</td>\n",
       "      <td>0.6111</td>\n",
       "      <td>0.6471</td>\n",
       "    </tr>\n",
       "    <tr>\n",
       "      <th>2</th>\n",
       "      <td>stratified</td>\n",
       "      <td>0.6297</td>\n",
       "      <td>0.0116</td>\n",
       "      <td>0.6101</td>\n",
       "      <td>0.6462</td>\n",
       "      <td>0.5949</td>\n",
       "      <td>0.6645</td>\n",
       "    </tr>\n",
       "    <tr>\n",
       "      <th>1</th>\n",
       "      <td>group</td>\n",
       "      <td>1.3072</td>\n",
       "      <td>0.1878</td>\n",
       "      <td>1.1001</td>\n",
       "      <td>1.5964</td>\n",
       "      <td>0.7438</td>\n",
       "      <td>1.8706</td>\n",
       "    </tr>\n",
       "  </tbody>\n",
       "</table>\n",
       "</div>"
      ],
      "text/plain": [
       "  cv_strategy  mcrmse_avg  mcrmse_std  mcrmse_min  mcrmse_max  \\\n",
       "0     regular      0.6291      0.0060      0.6191      0.6368   \n",
       "2  stratified      0.6297      0.0116      0.6101      0.6462   \n",
       "1       group      1.3072      0.1878      1.1001      1.5964   \n",
       "\n",
       "   mcrmse_lower_bound_estimation  mcrmse_higher_bound_estimation  \n",
       "0                         0.6111                          0.6471  \n",
       "2                         0.5949                          0.6645  \n",
       "1                         0.7438                          1.8706  "
      ]
     },
     "execution_count": 60,
     "metadata": {},
     "output_type": "execute_result"
    }
   ],
   "source": [
    "results = []\n",
    "\n",
    "for cv_name, cv in cv_strategies.items():\n",
    "    print(f'Performing {cv_name} cross validation')\n",
    "    print('-' * 40)\n",
    "    scores = []\n",
    "    if isinstance(cv, GroupKFold):\n",
    "        groups = train_df['prompt_id']\n",
    "        for train_idx, test_idx in cv.split(train_df['text'], train_df[['content', 'wording']], groups=groups):\n",
    "            scores.append(perform_split(train_idx, test_idx, modeling_pipeline))\n",
    "    elif isinstance(cv, StratifiedKFold):\n",
    "        for train_idx, test_idx in cv.split(train_df['text'], train_df['prompt_id']):\n",
    "            scores.append(perform_split(train_idx, test_idx, modeling_pipeline))\n",
    "    else:\n",
    "        for train_idx, test_idx in cv.split(train_df['text'], train_df[['content', 'wording']]):\n",
    "            scores.append(perform_split(train_idx, test_idx, modeling_pipeline))\n",
    "            \n",
    "    results.append(score_calculations(scores, cv_name))\n",
    "\n",
    "results = pd.DataFrame(results).sort_values('mcrmse_avg')\n",
    "results"
   ]
  },
  {
   "cell_type": "markdown",
   "metadata": {},
   "source": [
    "**Results from Kaggle competition:**\n",
    "- Version 1 - KFold\n",
    "- Version 2 - GroupKFold\n",
    "- Version 3 - StratifiedKFold"
   ]
  },
  {
   "cell_type": "markdown",
   "metadata": {},
   "source": [
    "![](images/commonlit-submission-validation.png)"
   ]
  },
  {
   "cell_type": "markdown",
   "metadata": {},
   "source": [
    "### **Conclusion**"
   ]
  },
  {
   "cell_type": "markdown",
   "metadata": {},
   "source": [
    "#### **Regular KFold:**\n",
    "Results on LB with KFold are much worse than local validation, train dataset has 4 different prompts and by using all of them in the training split we create a **Data Leak**, which resulted in overoptimistic results during local validation.\n",
    "\n",
    "#### **GroupKFold:**\n",
    "Local validation with GroupKFold closely resembles performance in LB, as we used texts from 3 prompt_ids for training and tested on texts from a prompt_id that wasn't used during training. <br>LB performance lies in local validation lower and upper bounds and correlates with local results<br> **GroupKFold** should be used to validate local models in such scenarios and I would use it in production\n",
    "\n",
    "#### **StratifiedKfold:**\n",
    "Stratified by `prompt_id`. Ensures we have proportionate amount of texts of certain class in train and test splits, has exactly the same problems as KFold (Data Leak).\n",
    "\n",
    "#### **RepeatedKFold:** \n",
    "Simply repeats KFold N times, would have exactly the same problems as KFold (Data Leak).\n",
    "\n",
    "#### **Why LB performance of KFold was slightly better than GroupKFold:**\n",
    "TfIdf in KFold was able to fit on 4 different texts topics, whereas GroupKFold was fit on only 3. This might be the reason why performance with KFold in LB was slightly better, as it fit on more diverse dataset.\n",
    "\n",
    "#### **Grade gaps distribution in data**\n",
    "Citing competition description: \"The goal of this competition is to assess the quality of summaries written by students in **grades 3-12**.\"\n",
    "\n",
    "This discussion - https://www.kaggle.com/competitions/commonlit-evaluate-student-summaries/discussion/431545 **shows several problems with training dataset**:\n",
    "1. Training data lacks representation from 7 other grade levels.\n",
    "2. Summaries can significantly differ in content and phrasing across grades.\n",
    "\n",
    "Training dataset has summaries from following grades:<br>\n",
    "![grade gap](images/grade-gap.png)"
   ]
  },
  {
   "cell_type": "code",
   "execution_count": null,
   "metadata": {},
   "outputs": [],
   "source": []
  }
 ],
 "metadata": {
  "kernelspec": {
   "display_name": "Python 3 (ipykernel)",
   "language": "python",
   "name": "python3"
  },
  "language_info": {
   "codemirror_mode": {
    "name": "ipython",
    "version": 3
   },
   "file_extension": ".py",
   "mimetype": "text/x-python",
   "name": "python",
   "nbconvert_exporter": "python",
   "pygments_lexer": "ipython3",
   "version": "3.9.13"
  }
 },
 "nbformat": 4,
 "nbformat_minor": 4
}
