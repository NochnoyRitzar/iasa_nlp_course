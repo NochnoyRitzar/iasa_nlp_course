{
 "cells": [
  {
   "cell_type": "markdown",
   "id": "cdf23558",
   "metadata": {},
   "source": [
    "<a id='Homework'></a>\n",
    "# Homework\n",
    "\n",
    "Thoery (5 points):\n",
    "- Complete theory questions in Google Form\n",
    "- Take a look at all links \n",
    "- Read and analyze all theory `TODO`s. In this lecture they are highly important \n",
    "\n",
    "Practice (10-15 points):\n",
    "- First Option (Easier) - Apply [Sentance Classification](#Sentance_Classification) approach to [CommonLit - Evaluate Student Summaries\n",
    "](https://www.kaggle.com/competitions/commonlit-evaluate-student-summaries)\n",
    "    - Max Base Points: 10\n",
    "    - Tune `UniversalRNN`, maybe re-write it. Tune all other hyper-params\n",
    "    - Try pre-trained word embeddings (do not use embeddings, trained with Transformer acrhitectures. We will cover it in the next lecture). Try Word2Vec, GloVe, FastText, Flair and etc.\n",
    "    - Implement Cross-Validation\n",
    "    - Make a submit to Kaggle\n",
    "- Second Option (Harder) - Apply [Token Classification](#Token_Classification) approach to Location Detection task\n",
    "    - Max Base Points: 15\n",
    "    - Introduce fixes, mentioned in `TODO`s\n",
    "    - Your model also have to handle russian language. Make sure to add `../data/mantis_analytics_location_detection/ru_geo_dataset.csv` (from https://www.kaggle.com/datasets/vladimirsydor/mantis-analytics-location-detection/data). Think about\n",
    "        - New Validation\n",
    "        - New Word Embeddings\n",
    "        - Maybe separate models\n",
    "    - Coming back to Lecture 3. F1 is the final production metric but it hardly depends on threshold. Maybe you can use some \"soft\" metric for model comparison ? \n",
    "    - Is the ML model formalized correctly? In my approach there are only 2 types of labels (O and LOC) but if you check [huggingface example](https://huggingface.co/learn/nlp-course/chapter7/2), there will be 3 labels (O; B-LOC and I-LOC)\n",
    "    - Do we need additional post-processing ?\n",
    "    - Tune `UniversalRNN`, maybe re-write it. Tune all other hyper-params\n",
    "    - Try pre-trained word embeddings (do not use embeddings, trained with Transformer acrhitectures. We will cover it in the next lecture). Try Word2Vec, GloVe, FastText, Flair and etc.\n",
    "    - Implement Cross-Validation\n",
    "    - Upload best model + inference code on some cloud storage. So we can run it on our hidden test set. Make sure to open it ONLY for lectors\n",
    "    - Additional points: first best test score - 25 points, second best test score - 15 points, third best test score - 10 points\n",
    "- Third Option (Hardest). Do both first and second options\n",
    "- Form will contain separate places for First and Second Options. Just put `-` for Option, which you have not choosen"
   ]
  },
  {
   "cell_type": "markdown",
   "id": "44504daa",
   "metadata": {
    "collapsed": false,
    "jupyter": {
     "outputs_hidden": false
    }
   },
   "source": [
    "<a id='homework_first_option'></a>\n",
    "## First Option"
   ]
  },
  {
   "cell_type": "markdown",
   "id": "a824ff2e",
   "metadata": {},
   "source": [
    "What I did:\n",
    "- Used fasttext word embeddings\n",
    "- Rewrote UniversalRNN for CommonLit task\n",
    "- Implemented GroupKFold with UniversalRNN\n",
    "- Experimented with various hyperparameters (loss functions, model parameters, rnn types, batch sizes and so on)\n",
    "- Tried Gradient Clipping and LR Scheduling in some experiments\n",
    "- Private LB Score improved to **0.65** and Public LB to **0.593**! Public LB shows great correlation with local validation metric\n",
    "- Read and analyzed TODOs in Lecture\n",
    "<br>\n",
    "<br>\n",
    "Results using Tuned GRU + FastText embeddings:"
   ]
  },
  {
   "cell_type": "markdown",
   "id": "5bc4be95-3839-4718-b35a-6e5b7e9a9292",
   "metadata": {},
   "source": [
    "![](images/submission_results.png)"
   ]
  },
  {
   "cell_type": "markdown",
   "id": "ac12342b",
   "metadata": {
    "collapsed": false,
    "jupyter": {
     "outputs_hidden": false
    }
   },
   "source": [
    "### Imports"
   ]
  },
  {
   "cell_type": "code",
   "execution_count": 1,
   "id": "77ffc620",
   "metadata": {
    "collapsed": false,
    "execution": {
     "iopub.execute_input": "2023-10-22T18:52:00.475606Z",
     "iopub.status.busy": "2023-10-22T18:52:00.475226Z",
     "iopub.status.idle": "2023-10-22T18:52:00.486724Z",
     "shell.execute_reply": "2023-10-22T18:52:00.485853Z",
     "shell.execute_reply.started": "2023-10-22T18:52:00.475576Z"
    },
    "jupyter": {
     "outputs_hidden": false
    },
    "pycharm": {
     "is_executing": true
    }
   },
   "outputs": [
    {
     "data": {
      "text/plain": [
       "'cuda'"
      ]
     },
     "execution_count": 1,
     "metadata": {},
     "output_type": "execute_result"
    }
   ],
   "source": [
    "import re\n",
    "import os\n",
    "os.environ[\"CUDA_VISIBLE_DEVICES\"]=\"0\"\n",
    "os.environ[\"TOKENIZERS_PARALLELISM\"]=\"true\"\n",
    "import torch\n",
    "import fasttext\n",
    "from fasttext.FastText import tokenize\n",
    "import pandas as pd\n",
    "import numpy as np\n",
    "import torch.nn as nn\n",
    "import matplotlib.pyplot as plt\n",
    "\n",
    "from tqdm import tqdm\n",
    "from sklearn.linear_model import SGDRegressor\n",
    "from sklearn.model_selection import GroupKFold\n",
    "from gensim.models import Word2Vec, KeyedVectors\n",
    "from matplotlib import pyplot as plt\n",
    "from torch.utils.data import Dataset, DataLoader\n",
    "from copy import deepcopy\n",
    "from inspect import isfunction\n",
    "\n",
    "device = 'cuda' if torch.cuda.is_available() else 'cpu'\n",
    "device"
   ]
  },
  {
   "cell_type": "markdown",
   "id": "82e9077e",
   "metadata": {
    "collapsed": false,
    "jupyter": {
     "outputs_hidden": false
    }
   },
   "source": [
    "### Load data"
   ]
  },
  {
   "cell_type": "code",
   "execution_count": 2,
   "id": "1d5912e9",
   "metadata": {
    "collapsed": false,
    "execution": {
     "iopub.execute_input": "2023-10-22T18:52:00.510129Z",
     "iopub.status.busy": "2023-10-22T18:52:00.509792Z",
     "iopub.status.idle": "2023-10-22T18:52:00.516561Z",
     "shell.execute_reply": "2023-10-22T18:52:00.515600Z",
     "shell.execute_reply.started": "2023-10-22T18:52:00.510102Z"
    },
    "jupyter": {
     "outputs_hidden": false
    }
   },
   "outputs": [],
   "source": [
    "DATA_FOLDER = os.path.join('..', 'input')\n",
    "COMMONLIT_DATA_FOLDER = os.path.join(DATA_FOLDER, 'commonlit-evaluate-student-summaries')\n",
    "COMMONLIT_TRAIN_SUMMARIES_PATH = os.path.join(COMMONLIT_DATA_FOLDER, 'summaries_train.csv')\n",
    "COMMONLIT_TRAIN_PROMPTS_PATH = os.path.join(COMMONLIT_DATA_FOLDER, 'prompts_train.csv')\n",
    "COMMONLIT_TEST_SUMMARIES_PATH = os.path.join(COMMONLIT_DATA_FOLDER, 'summaries_test.csv')\n",
    "COMMONLIT_TEST_PROMPTS_PATH = os.path.join(COMMONLIT_DATA_FOLDER, 'prompts_test.csv')\n",
    "\n",
    "FASTTEXT_MODEL_PATH = os.path.join(DATA_FOLDER, 'fasttext-english-300', 'cc.en.300.bin')\n",
    "GLOVE_MODEL_PATH = os.path.join('models', '')\n",
    "WORD2VEC_MODEL_PATH = os.path.join('models', 'word2vec-GoogleNews-vectors-negative300.bin')"
   ]
  },
  {
   "cell_type": "code",
   "execution_count": 3,
   "id": "c1d671ee",
   "metadata": {
    "execution": {
     "iopub.execute_input": "2023-10-22T18:52:00.527618Z",
     "iopub.status.busy": "2023-10-22T18:52:00.526776Z",
     "iopub.status.idle": "2023-10-22T18:52:00.635472Z",
     "shell.execute_reply": "2023-10-22T18:52:00.634664Z",
     "shell.execute_reply.started": "2023-10-22T18:52:00.527587Z"
    }
   },
   "outputs": [],
   "source": [
    "train_df = pd.read_csv(COMMONLIT_TRAIN_SUMMARIES_PATH)\n",
    "train_pt_df = pd.read_csv(COMMONLIT_TRAIN_PROMPTS_PATH)\n",
    "test_df = pd.read_csv(COMMONLIT_TEST_SUMMARIES_PATH)\n",
    "test_pt_df = pd.read_csv(COMMONLIT_TEST_PROMPTS_PATH)"
   ]
  },
  {
   "cell_type": "code",
   "execution_count": 4,
   "id": "faf73ff7",
   "metadata": {
    "execution": {
     "iopub.execute_input": "2023-10-22T18:52:00.637371Z",
     "iopub.status.busy": "2023-10-22T18:52:00.637069Z",
     "iopub.status.idle": "2023-10-22T18:52:00.657751Z",
     "shell.execute_reply": "2023-10-22T18:52:00.656611Z",
     "shell.execute_reply.started": "2023-10-22T18:52:00.637345Z"
    }
   },
   "outputs": [
    {
     "data": {
      "text/html": [
       "<div>\n",
       "<style scoped>\n",
       "    .dataframe tbody tr th:only-of-type {\n",
       "        vertical-align: middle;\n",
       "    }\n",
       "\n",
       "    .dataframe tbody tr th {\n",
       "        vertical-align: top;\n",
       "    }\n",
       "\n",
       "    .dataframe thead th {\n",
       "        text-align: right;\n",
       "    }\n",
       "</style>\n",
       "<table border=\"1\" class=\"dataframe\">\n",
       "  <thead>\n",
       "    <tr style=\"text-align: right;\">\n",
       "      <th></th>\n",
       "      <th>student_id</th>\n",
       "      <th>prompt_id</th>\n",
       "      <th>text</th>\n",
       "      <th>content</th>\n",
       "      <th>wording</th>\n",
       "    </tr>\n",
       "  </thead>\n",
       "  <tbody>\n",
       "    <tr>\n",
       "      <th>0</th>\n",
       "      <td>000e8c3c7ddb</td>\n",
       "      <td>814d6b</td>\n",
       "      <td>The third wave was an experimentto see how peo...</td>\n",
       "      <td>0.205683</td>\n",
       "      <td>0.380538</td>\n",
       "    </tr>\n",
       "    <tr>\n",
       "      <th>1</th>\n",
       "      <td>0020ae56ffbf</td>\n",
       "      <td>ebad26</td>\n",
       "      <td>They would rub it up with soda to make the sme...</td>\n",
       "      <td>-0.548304</td>\n",
       "      <td>0.506755</td>\n",
       "    </tr>\n",
       "    <tr>\n",
       "      <th>2</th>\n",
       "      <td>004e978e639e</td>\n",
       "      <td>3b9047</td>\n",
       "      <td>In Egypt, there were many occupations and soci...</td>\n",
       "      <td>3.128928</td>\n",
       "      <td>4.231226</td>\n",
       "    </tr>\n",
       "    <tr>\n",
       "      <th>3</th>\n",
       "      <td>005ab0199905</td>\n",
       "      <td>3b9047</td>\n",
       "      <td>The highest class was Pharaohs these people we...</td>\n",
       "      <td>-0.210614</td>\n",
       "      <td>-0.471415</td>\n",
       "    </tr>\n",
       "    <tr>\n",
       "      <th>4</th>\n",
       "      <td>0070c9e7af47</td>\n",
       "      <td>814d6b</td>\n",
       "      <td>The Third Wave developed  rapidly because the ...</td>\n",
       "      <td>3.272894</td>\n",
       "      <td>3.219757</td>\n",
       "    </tr>\n",
       "  </tbody>\n",
       "</table>\n",
       "</div>"
      ],
      "text/plain": [
       "     student_id prompt_id                                               text  \\\n",
       "0  000e8c3c7ddb    814d6b  The third wave was an experimentto see how peo...   \n",
       "1  0020ae56ffbf    ebad26  They would rub it up with soda to make the sme...   \n",
       "2  004e978e639e    3b9047  In Egypt, there were many occupations and soci...   \n",
       "3  005ab0199905    3b9047  The highest class was Pharaohs these people we...   \n",
       "4  0070c9e7af47    814d6b  The Third Wave developed  rapidly because the ...   \n",
       "\n",
       "    content   wording  \n",
       "0  0.205683  0.380538  \n",
       "1 -0.548304  0.506755  \n",
       "2  3.128928  4.231226  \n",
       "3 -0.210614 -0.471415  \n",
       "4  3.272894  3.219757  "
      ]
     },
     "execution_count": 4,
     "metadata": {},
     "output_type": "execute_result"
    }
   ],
   "source": [
    "train_df.head()"
   ]
  },
  {
   "cell_type": "markdown",
   "id": "ccf3e110",
   "metadata": {},
   "source": [
    "### EDA"
   ]
  },
  {
   "cell_type": "code",
   "execution_count": 5,
   "id": "08532d29",
   "metadata": {
    "execution": {
     "iopub.execute_input": "2023-10-22T18:52:00.659144Z",
     "iopub.status.busy": "2023-10-22T18:52:00.658831Z",
     "iopub.status.idle": "2023-10-22T18:52:01.396046Z",
     "shell.execute_reply": "2023-10-22T18:52:01.395198Z",
     "shell.execute_reply.started": "2023-10-22T18:52:00.659118Z"
    }
   },
   "outputs": [
    {
     "data": {
      "image/png": "[encoded data removed]",
      "text/plain": [
       "<Figure size 1000x500 with 2 Axes>"
      ]
     },
     "metadata": {},
     "output_type": "display_data"
    }
   ],
   "source": [
    "fig, axes = plt.subplots(1, 2, figsize=(10, 5))\n",
    "fig.suptitle('Distribution of values in target columns')\n",
    "\n",
    "axes[0].hist(train_df['content'], bins=100)\n",
    "axes[0].set_title('Content column')\n",
    "axes[1].hist(train_df['wording'], bins=100)\n",
    "axes[1].set_title('Wording column')\n",
    "\n",
    "plt.show();"
   ]
  },
  {
   "cell_type": "code",
   "execution_count": 6,
   "id": "591f223c",
   "metadata": {
    "execution": {
     "iopub.execute_input": "2023-10-22T18:52:01.398598Z",
     "iopub.status.busy": "2023-10-22T18:52:01.398313Z",
     "iopub.status.idle": "2023-10-22T18:52:01.782901Z",
     "shell.execute_reply": "2023-10-22T18:52:01.781926Z",
     "shell.execute_reply.started": "2023-10-22T18:52:01.398573Z"
    }
   },
   "outputs": [
    {
     "data": {
      "image/png": "[encoded data removed]",
      "text/plain": [
       "<Figure size 1000x500 with 2 Axes>"
      ]
     },
     "metadata": {},
     "output_type": "display_data"
    }
   ],
   "source": [
    "fig, axes = plt.subplots(1, 2, figsize=(10, 5))\n",
    "fig.suptitle('Boxplots of values in target columns')\n",
    "\n",
    "axes[0].boxplot(train_df['content'])\n",
    "axes[0].set_title('Content column')\n",
    "axes[1].boxplot(train_df['wording'])\n",
    "axes[1].set_title('Wording column')\n",
    "\n",
    "plt.show();"
   ]
  },
  {
   "cell_type": "code",
   "execution_count": 7,
   "id": "eb9ee00c",
   "metadata": {
    "execution": {
     "iopub.execute_input": "2023-10-22T18:52:01.784470Z",
     "iopub.status.busy": "2023-10-22T18:52:01.784188Z",
     "iopub.status.idle": "2023-10-22T18:52:01.797960Z",
     "shell.execute_reply": "2023-10-22T18:52:01.796819Z",
     "shell.execute_reply.started": "2023-10-22T18:52:01.784444Z"
    }
   },
   "outputs": [
    {
     "name": "stdout",
     "output_type": "stream",
     "text": [
      "Number of data points outside Q3+1.5IQR in Content column: 170\n",
      "Number of data points outside Q3+1.5IQR in Wording column: 87\n"
     ]
    }
   ],
   "source": [
    "# Content column\n",
    "q1 = np.percentile(train_df['content'], 25)\n",
    "q3 = np.percentile(train_df['content'], 75)\n",
    "iqr = q3 - q1\n",
    "upper_bound = q3 + 1.5 * iqr\n",
    "num_outliers_content = len(train_df['content'][train_df['content'] > upper_bound])\n",
    "\n",
    "# Wording column\n",
    "q1 = np.percentile(train_df['wording'], 25)\n",
    "q3 = np.percentile(train_df['wording'], 75)\n",
    "iqr = q3 - q1\n",
    "upper_bound = q3 + 1.5 * iqr\n",
    "num_outliers_wording = len(train_df['wording'][train_df['wording'] > upper_bound])\n",
    "\n",
    "# Print results\n",
    "print(\"Number of data points outside Q3+1.5IQR in Content column:\", num_outliers_content)\n",
    "print(\"Number of data points outside Q3+1.5IQR in Wording column:\", num_outliers_wording)"
   ]
  },
  {
   "cell_type": "markdown",
   "id": "4a06b4a6",
   "metadata": {},
   "source": [
    "Number of statistical outliers is not high, but **we can test sensitive and non-sensitive to outliers loss functions**"
   ]
  },
  {
   "cell_type": "markdown",
   "id": "835551f8",
   "metadata": {
    "collapsed": false,
    "jupyter": {
     "outputs_hidden": false
    }
   },
   "source": [
    "### Preprocessing"
   ]
  },
  {
   "cell_type": "code",
   "execution_count": 8,
   "id": "fc1232dd",
   "metadata": {
    "execution": {
     "iopub.execute_input": "2023-10-22T18:52:01.799593Z",
     "iopub.status.busy": "2023-10-22T18:52:01.799314Z",
     "iopub.status.idle": "2023-10-22T18:52:01.808738Z",
     "shell.execute_reply": "2023-10-22T18:52:01.807712Z",
     "shell.execute_reply.started": "2023-10-22T18:52:01.799569Z"
    }
   },
   "outputs": [
    {
     "data": {
      "text/plain": [
       "\"The Third Wave developed so quickly because of the convincing way he phrased his experiment and the actions he did to carry out his experiment. First, he started off with a motto that was easy to remember and catchy to say. He then took actions to enforce disciplines into his students, even making them use the salute to fellow students outside of class. The students complied because and because they were so easily molded to Ron Jones' ideas. It was ended because it became clear that the students were becoming too maliable and there was no point in doing the experiment anymore.\""
      ]
     },
     "execution_count": 8,
     "metadata": {},
     "output_type": "execute_result"
    }
   ],
   "source": [
    "train_df.sample(1).text.iloc[0]"
   ]
  },
  {
   "cell_type": "code",
   "execution_count": 9,
   "id": "e3969675",
   "metadata": {
    "execution": {
     "iopub.execute_input": "2023-10-22T18:52:01.810360Z",
     "iopub.status.busy": "2023-10-22T18:52:01.810043Z",
     "iopub.status.idle": "2023-10-22T18:52:01.817419Z",
     "shell.execute_reply": "2023-10-22T18:52:01.816436Z",
     "shell.execute_reply.started": "2023-10-22T18:52:01.810334Z"
    }
   },
   "outputs": [],
   "source": [
    "def preprocess(summary):\n",
    "    # remove newline chars\n",
    "    summary = re.sub('\\n', ' ', summary)\n",
    "    # remove dots\n",
    "    summary = re.sub(r'\\.', ' ', summary)\n",
    "    # remove numbers, symbols, leave only characters\n",
    "    summary = re.sub(r'[^a-zA-Z\\s]', '', summary)\n",
    "    # remove extra whitespaces\n",
    "    summary = re.sub(r'\\s+', ' ', summary)\n",
    "    return summary"
   ]
  },
  {
   "cell_type": "code",
   "execution_count": 10,
   "id": "99c84b1a",
   "metadata": {
    "collapsed": false,
    "execution": {
     "iopub.execute_input": "2023-10-22T18:52:01.818784Z",
     "iopub.status.busy": "2023-10-22T18:52:01.818468Z",
     "iopub.status.idle": "2023-10-22T18:52:02.215729Z",
     "shell.execute_reply": "2023-10-22T18:52:02.214739Z",
     "shell.execute_reply.started": "2023-10-22T18:52:01.818758Z"
    },
    "jupyter": {
     "outputs_hidden": false
    }
   },
   "outputs": [],
   "source": [
    "train_df['clean_text'] = train_df['text'].apply(lambda summary: preprocess(summary))"
   ]
  },
  {
   "cell_type": "code",
   "execution_count": 11,
   "id": "f83142c3",
   "metadata": {
    "execution": {
     "iopub.execute_input": "2023-10-22T18:52:02.217272Z",
     "iopub.status.busy": "2023-10-22T18:52:02.216974Z",
     "iopub.status.idle": "2023-10-22T18:52:02.224419Z",
     "shell.execute_reply": "2023-10-22T18:52:02.223342Z",
     "shell.execute_reply.started": "2023-10-22T18:52:02.217240Z"
    }
   },
   "outputs": [
    {
     "name": "stdout",
     "output_type": "stream",
     "text": [
      "Before processing:\n"
     ]
    },
    {
     "data": {
      "text/plain": [
       "'The Egyptian society is really different from other socicties I have learned about. As stated in the story in paragraph 6-13 it describes how people are in different places in the pyramid. Also tells us how people are treated and what they have to pay for things and the higher people have things more easy.All the classes have a different purpose which are important in their different wyas. This is how social classes are involved in there government.'"
      ]
     },
     "execution_count": 11,
     "metadata": {},
     "output_type": "execute_result"
    }
   ],
   "source": [
    "print('Before processing:')\n",
    "train_df['text'].iloc[6]"
   ]
  },
  {
   "cell_type": "code",
   "execution_count": 12,
   "id": "b5528773",
   "metadata": {
    "execution": {
     "iopub.execute_input": "2023-10-22T18:52:02.229758Z",
     "iopub.status.busy": "2023-10-22T18:52:02.229392Z",
     "iopub.status.idle": "2023-10-22T18:52:02.239085Z",
     "shell.execute_reply": "2023-10-22T18:52:02.238189Z",
     "shell.execute_reply.started": "2023-10-22T18:52:02.229724Z"
    }
   },
   "outputs": [
    {
     "name": "stdout",
     "output_type": "stream",
     "text": [
      "After processing:\n"
     ]
    },
    {
     "data": {
      "text/plain": [
       "'The Egyptian society is really different from other socicties I have learned about As stated in the story in paragraph it describes how people are in different places in the pyramid Also tells us how people are treated and what they have to pay for things and the higher people have things more easy All the classes have a different purpose which are important in their different wyas This is how social classes are involved in there government '"
      ]
     },
     "execution_count": 12,
     "metadata": {},
     "output_type": "execute_result"
    }
   ],
   "source": [
    "print('After processing:')\n",
    "train_df['clean_text'].iloc[6]"
   ]
  },
  {
   "cell_type": "markdown",
   "id": "8f2cbb12",
   "metadata": {},
   "source": [
    "#### Figure out max_length for texts"
   ]
  },
  {
   "cell_type": "code",
   "execution_count": 13,
   "id": "9213a0b2",
   "metadata": {
    "execution": {
     "iopub.execute_input": "2023-10-22T18:52:02.243160Z",
     "iopub.status.busy": "2023-10-22T18:52:02.242540Z",
     "iopub.status.idle": "2023-10-22T18:52:02.989984Z",
     "shell.execute_reply": "2023-10-22T18:52:02.988911Z",
     "shell.execute_reply.started": "2023-10-22T18:52:02.243127Z"
    }
   },
   "outputs": [
    {
     "data": {
      "image/png": "[encoded data removed]",
      "text/plain": [
       "<Figure size 640x480 with 1 Axes>"
      ]
     },
     "metadata": {},
     "output_type": "display_data"
    }
   ],
   "source": [
    "# Figure out max_length\n",
    "train_n_tokens = train_df['clean_text'].apply(lambda x : len(tokenize(x)))\n",
    "\n",
    "plt.title(\"Train N Tokens Distribution\")\n",
    "train_n_tokens.hist(bins=100)\n",
    "plt.show()"
   ]
  },
  {
   "cell_type": "code",
   "execution_count": 14,
   "id": "509b7fb4",
   "metadata": {
    "execution": {
     "iopub.execute_input": "2023-10-22T18:52:02.991689Z",
     "iopub.status.busy": "2023-10-22T18:52:02.991315Z",
     "iopub.status.idle": "2023-10-22T18:52:02.999393Z",
     "shell.execute_reply": "2023-10-22T18:52:02.998240Z",
     "shell.execute_reply.started": "2023-10-22T18:52:02.991655Z"
    }
   },
   "outputs": [
    {
     "name": "stdout",
     "output_type": "stream",
     "text": [
      "0.8 Quantile of N tokens: 103.0\n",
      "0.9 Quantile of N tokens: 139.0\n",
      "0.95 Quantile of N tokens: 176.0\n"
     ]
    }
   ],
   "source": [
    "print(f\"0.8 Quantile of N tokens: {np.quantile(train_n_tokens, 0.8)}\")\n",
    "print(f\"0.9 Quantile of N tokens: {np.quantile(train_n_tokens, 0.9)}\")\n",
    "print(f\"0.95 Quantile of N tokens: {np.quantile(train_n_tokens, 0.95)}\")"
   ]
  },
  {
   "cell_type": "code",
   "execution_count": 15,
   "id": "f223b298",
   "metadata": {
    "execution": {
     "iopub.execute_input": "2023-10-22T18:52:03.001113Z",
     "iopub.status.busy": "2023-10-22T18:52:03.000729Z",
     "iopub.status.idle": "2023-10-22T18:52:03.018013Z",
     "shell.execute_reply": "2023-10-22T18:52:03.016933Z",
     "shell.execute_reply.started": "2023-10-22T18:52:03.001079Z"
    }
   },
   "outputs": [
    {
     "name": "stdout",
     "output_type": "stream",
     "text": [
      "Number of texts above 176.0 tokens: 358\n"
     ]
    }
   ],
   "source": [
    "print(f'Number of texts above {np.quantile(train_n_tokens, 0.95)} tokens: {sum(train_n_tokens > np.quantile(train_n_tokens, 0.95))}')"
   ]
  },
  {
   "cell_type": "code",
   "execution_count": 16,
   "id": "f7088396",
   "metadata": {
    "execution": {
     "iopub.execute_input": "2023-10-22T18:52:03.019961Z",
     "iopub.status.busy": "2023-10-22T18:52:03.019537Z",
     "iopub.status.idle": "2023-10-22T18:52:03.543036Z",
     "shell.execute_reply": "2023-10-22T18:52:03.541896Z",
     "shell.execute_reply.started": "2023-10-22T18:52:03.019926Z"
    }
   },
   "outputs": [
    {
     "data": {
      "image/png": "[encoded data removed]",
      "text/plain": [
       "<Figure size 1000x500 with 2 Axes>"
      ]
     },
     "metadata": {},
     "output_type": "display_data"
    }
   ],
   "source": [
    "# Check 'content' and 'wording' distributions for text longer than 176 tokens\n",
    "\n",
    "fig, axes = plt.subplots(1, 2, figsize=(10, 5))\n",
    "fig.suptitle(f'Distribution of values in target columns in texts above {int(np.quantile(train_n_tokens, 0.95))} tokens')\n",
    "\n",
    "index_list = train_n_tokens.loc[train_n_tokens > np.quantile(train_n_tokens, 0.95)].index\n",
    "\n",
    "axes[0].hist(train_df['content'].iloc[index_list], bins=20)\n",
    "axes[0].set_title('Content column')\n",
    "axes[1].hist(train_df['wording'].iloc[index_list], bins=20)\n",
    "axes[1].set_title('Wording column')\n",
    "\n",
    "plt.show();"
   ]
  },
  {
   "cell_type": "markdown",
   "id": "07c0260b",
   "metadata": {
    "collapsed": false,
    "jupyter": {
     "outputs_hidden": false
    }
   },
   "source": [
    "### Dataset creation"
   ]
  },
  {
   "cell_type": "code",
   "execution_count": 17,
   "id": "2e64d961",
   "metadata": {
    "collapsed": false,
    "execution": {
     "iopub.execute_input": "2023-10-22T18:52:03.545376Z",
     "iopub.status.busy": "2023-10-22T18:52:03.544975Z",
     "iopub.status.idle": "2023-10-22T18:52:03.563634Z",
     "shell.execute_reply": "2023-10-22T18:52:03.562228Z",
     "shell.execute_reply.started": "2023-10-22T18:52:03.545347Z"
    },
    "jupyter": {
     "outputs_hidden": false
    }
   },
   "outputs": [],
   "source": [
    "def load_embedding_model(model_type):\n",
    "    if model_type == \"fasttext\":\n",
    "        # can reduce dimensions using fasttext.util.reduce_model(ft, 100)\n",
    "        model = fasttext.load_model(FASTTEXT_MODEL_PATH)\n",
    "    elif model_type == \"glove\":\n",
    "        model = KeyedVectors.load_word2vec_format(GLOVE_MODEL_PATH, binary=True)\n",
    "    elif model_type == \"word2vec\":\n",
    "        model = KeyedVectors.load_word2vec_format(WORD2VEC_MODEL_PATH, binary=True)\n",
    "    else:\n",
    "        raise ValueError(\"Invalid embedding model. Supported models are: fasttext, glove, word2vec\")\n",
    "    return model\n",
    "\n",
    "\n",
    "class TextDataset(Dataset):\n",
    "    def __init__(self, text_list, labels, max_length, model, model_type):\n",
    "        self.text_list = text_list\n",
    "        self.labels = labels\n",
    "        self.max_length = max_length\n",
    "        self.pad_token = '<pad>'\n",
    "        self.trim_policy = 'first'\n",
    "        self.model_type = model_type\n",
    "        self.model = model\n",
    "\n",
    "    def __len__(self):\n",
    "        return len(self.text_list)\n",
    "\n",
    "    def __getitem__(self, idx):\n",
    "        text = self.text_list[idx]\n",
    "        text = tokenize(text)\n",
    "        text = self.process_text_sequence(text)\n",
    "        text_embedding = self.get_text_embedding(text)\n",
    "        labels = self.labels[idx]\n",
    "        return text_embedding, torch.from_numpy(labels).float()\n",
    "\n",
    "    def process_text_sequence(self, input):\n",
    "        \"\"\"\n",
    "        Pads or truncates text sequences to a certain value\n",
    "        \"\"\"\n",
    "        if len(input) < self.max_length:\n",
    "            return input + [self.pad_token] * (self.max_length - len(input))\n",
    "        elif len(input) > self.max_length:\n",
    "            if self.trim_policy == \"random\":\n",
    "                start = np.random.randint(0, len(input) - self.max_length)\n",
    "            elif self.trim_policy == \"first\":\n",
    "                start = 0\n",
    "            return input[start : start + self.max_length]\n",
    "        else: \n",
    "            return input\n",
    "\n",
    "    def get_text_embedding(self, text):\n",
    "        \"\"\"\n",
    "        Generates embeddings for each word in the text sequence\n",
    "        \"\"\"\n",
    "        if self.model_type == \"fasttext\":\n",
    "            # fasttext can handle out-of-vocabulary words that's why we don't need to check for them\n",
    "            word_embeddings = [self.model.get_word_vector(word) for word in text]\n",
    "        else:\n",
    "            word_embeddings = [self.model[word] if word in self.model else np.zeros(self.model.vector_size) for word in words]\n",
    "        return torch.tensor(np.array(word_embeddings), dtype=torch.float32)"
   ]
  },
  {
   "cell_type": "markdown",
   "id": "8981f1ba",
   "metadata": {
    "collapsed": false,
    "jupyter": {
     "outputs_hidden": false
    }
   },
   "source": [
    "### Modeling"
   ]
  },
  {
   "cell_type": "code",
   "execution_count": 18,
   "id": "626fee02",
   "metadata": {
    "execution": {
     "iopub.execute_input": "2023-10-22T18:52:03.565311Z",
     "iopub.status.busy": "2023-10-22T18:52:03.565005Z",
     "iopub.status.idle": "2023-10-22T18:52:03.580153Z",
     "shell.execute_reply": "2023-10-22T18:52:03.579147Z",
     "shell.execute_reply.started": "2023-10-22T18:52:03.565275Z"
    }
   },
   "outputs": [],
   "source": [
    "class RNNRegressor(nn.Module):\n",
    "    def __init__(self, rnn_type, input_size, hidden_size, num_layers, bidirectional, dropout_rate, average_type):\n",
    "        super().__init__()\n",
    "        if not average_type in [\"mean\", \"last\"]:\n",
    "            raise ValueError(f\"Average_type `{average_type}` is not supported\")\n",
    "        self.average_type = average_type\n",
    "        self.rnn = rnn_type(input_size, hidden_size, num_layers, batch_first=True, bidirectional=bidirectional)\n",
    "        self.fc_content = nn.Sequential(\n",
    "            nn.Dropout(dropout_rate),\n",
    "            nn.Linear(hidden_size * 2 if bidirectional else hidden_size, 1)\n",
    "        )\n",
    "        self.fc_wording = nn.Sequential(\n",
    "            nn.Dropout(dropout_rate),\n",
    "            nn.Linear(hidden_size * 2 if bidirectional else hidden_size, 1)\n",
    "        )\n",
    "\n",
    "    def forward(self, x):\n",
    "        out, _ = self.rnn(x)\n",
    "        \n",
    "        if self.average_type == \"mean\":\n",
    "            out = out.mean(1)\n",
    "        elif self.average_type == \"last\":\n",
    "            out = out[:,-1,:]\n",
    "            \n",
    "        out_content, out_wording = self.fc_content(out), self.fc_wording(out)\n",
    "        \n",
    "        return torch.cat((out_content, out_wording), dim=1)"
   ]
  },
  {
   "cell_type": "markdown",
   "id": "85775ae9",
   "metadata": {},
   "source": [
    "Use CommonLit competition evaluation metric MCRMSE"
   ]
  },
  {
   "cell_type": "code",
   "execution_count": 19,
   "id": "25acc50e",
   "metadata": {
    "execution": {
     "iopub.execute_input": "2023-10-22T18:52:03.581607Z",
     "iopub.status.busy": "2023-10-22T18:52:03.581330Z",
     "iopub.status.idle": "2023-10-22T18:52:03.596041Z",
     "shell.execute_reply": "2023-10-22T18:52:03.595121Z",
     "shell.execute_reply.started": "2023-10-22T18:52:03.581583Z"
    }
   },
   "outputs": [],
   "source": [
    "def compute_mcrmse(targets, predictions):\n",
    "    content_rmse = torch.sqrt(torch.mean((targets[:, 0] - predictions[:, 0]) ** 2))\n",
    "    wording_rmse = torch.sqrt(torch.mean((targets[:, 1] - predictions[:, 1]) ** 2))\n",
    "    mcrmse = torch.mean(torch.cat((content_rmse.reshape(-1), wording_rmse.reshape(-1)), dim=0))\n",
    "    return mcrmse\n",
    "\n",
    "def compute_mcrmse_numpy(targets, predictions):\n",
    "    content_rmse = np.sqrt(np.mean((targets[:, 0] - predictions[:, 0]) ** 2))\n",
    "    wording_rmse = np.sqrt(np.mean((targets[:, 1] - predictions[:, 1]) ** 2))\n",
    "    mcrmse = np.mean(np.concatenate((content_rmse.reshape(-1), wording_rmse.reshape(-1)), axis=0))\n",
    "    return mcrmse"
   ]
  },
  {
   "cell_type": "code",
   "execution_count": 20,
   "id": "2689fbb5",
   "metadata": {
    "execution": {
     "iopub.execute_input": "2023-10-22T18:52:03.597732Z",
     "iopub.status.busy": "2023-10-22T18:52:03.597452Z",
     "iopub.status.idle": "2023-10-22T18:52:03.608922Z",
     "shell.execute_reply": "2023-10-22T18:52:03.607920Z",
     "shell.execute_reply.started": "2023-10-22T18:52:03.597707Z"
    }
   },
   "outputs": [],
   "source": [
    "loss_functions = {\n",
    "    'mse': nn.MSELoss(),\n",
    "    'mae': nn.L1Loss(),\n",
    "    'smooth_l1': nn.SmoothL1Loss(),\n",
    "    'huber': nn.HuberLoss(delta=1.0),\n",
    "    'mcrmse': compute_mcrmse\n",
    "}"
   ]
  },
  {
   "cell_type": "code",
   "execution_count": 68,
   "id": "07c1c0c9",
   "metadata": {
    "execution": {
     "iopub.execute_input": "2023-10-22T20:23:28.191573Z",
     "iopub.status.busy": "2023-10-22T20:23:28.191175Z",
     "iopub.status.idle": "2023-10-22T20:23:28.202772Z",
     "shell.execute_reply": "2023-10-22T20:23:28.201724Z",
     "shell.execute_reply.started": "2023-10-22T20:23:28.191542Z"
    }
   },
   "outputs": [],
   "source": [
    "def torch_loop(\n",
    "    model,\n",
    "    criterion,\n",
    "    optimizer,\n",
    "    dataloader,\n",
    "    device,\n",
    "    mode=\"train\"\n",
    "):\n",
    "    if mode == \"train\":\n",
    "        model.train()\n",
    "    else:\n",
    "        model.eval()\n",
    "        \n",
    "    all_outputs = []\n",
    "    all_losses = []\n",
    "    all_targets = []\n",
    "    \n",
    "    with torch.inference_mode(mode=(mode != \"train\")):\n",
    "        for text, labels in tqdm(dataloader):\n",
    "            text, labels = text.to(device, non_blocking=True), labels.to(device, non_blocking=True)\n",
    "            if mode == \"train\":\n",
    "                optimizer.zero_grad()\n",
    "            outputs = model(text)\n",
    "            \n",
    "            if isfunction(criterion):\n",
    "                loss = criterion(outputs, labels)\n",
    "            else:    \n",
    "                loss_content = criterion(outputs[:, 0], labels[:, 0])\n",
    "                loss_wording = criterion(outputs[:, 1], labels[:, 1])\n",
    "                loss = loss_content + loss_wording\n",
    "                \n",
    "            if mode == \"train\":\n",
    "                loss.backward()\n",
    "#                 torch.nn.utils.clip_grad_norm_(model.parameters(), 0.9)\n",
    "                optimizer.step()\n",
    "                \n",
    "            # Accumulate stats\n",
    "            all_outputs.append(outputs.detach().cpu().numpy())\n",
    "            all_losses.append(loss.item())\n",
    "            all_targets.append(labels.detach().cpu().numpy())\n",
    "    all_outputs = np.concatenate(all_outputs)\n",
    "    # all_losses = np.concatenate(all_losses)\n",
    "    all_targets = np.concatenate(all_targets)\n",
    "    \n",
    "    return all_outputs, all_losses, all_targets"
   ]
  },
  {
   "cell_type": "code",
   "execution_count": 70,
   "id": "a4606329",
   "metadata": {
    "execution": {
     "iopub.execute_input": "2023-10-22T20:23:29.490722Z",
     "iopub.status.busy": "2023-10-22T20:23:29.490323Z",
     "iopub.status.idle": "2023-10-22T20:23:29.497129Z",
     "shell.execute_reply": "2023-10-22T20:23:29.495930Z",
     "shell.execute_reply.started": "2023-10-22T20:23:29.490688Z"
    }
   },
   "outputs": [],
   "source": [
    "# Model parameters\n",
    "input_size = 300\n",
    "hidden_size = 300\n",
    "num_layers = 1\n",
    "bidirectional = False\n",
    "dropout_rate = 0.3\n",
    "rnn_type = nn.GRU\n",
    "average_type = 'last'\n",
    "\n",
    "max_length = 176\n",
    "\n",
    "# Training parameters\n",
    "num_epochs = 30\n",
    "batch_size = 8\n",
    "learning_rate = 0.001\n",
    "\n",
    "# Used to store all information (losses, predictions, targets, metrics) of a certain fold in GroupKFold\n",
    "fold_data = {\n",
    "    'fold_1': None,\n",
    "    'fold_2': None,\n",
    "    'fold_3': None,\n",
    "    'fold_4': None,\n",
    "}"
   ]
  },
  {
   "cell_type": "code",
   "execution_count": 24,
   "id": "5e89774c",
   "metadata": {
    "execution": {
     "iopub.execute_input": "2023-10-22T18:52:03.648651Z",
     "iopub.status.busy": "2023-10-22T18:52:03.648372Z",
     "iopub.status.idle": "2023-10-22T18:52:47.010843Z",
     "shell.execute_reply": "2023-10-22T18:52:47.009845Z",
     "shell.execute_reply.started": "2023-10-22T18:52:03.648626Z"
    }
   },
   "outputs": [
    {
     "name": "stderr",
     "output_type": "stream",
     "text": [
      "Warning : `load_model` does not return WordVectorModel or SupervisedModel any more, but a `FastText` object which is very similar.\n"
     ]
    }
   ],
   "source": [
    "model_type = 'fasttext'\n",
    "embedding_model = load_embedding_model(model_type)"
   ]
  },
  {
   "cell_type": "code",
   "execution_count": 71,
   "id": "9f07be43",
   "metadata": {
    "execution": {
     "iopub.execute_input": "2023-10-22T20:23:37.014764Z",
     "iopub.status.busy": "2023-10-22T20:23:37.013993Z",
     "iopub.status.idle": "2023-10-22T20:43:06.045550Z",
     "shell.execute_reply": "2023-10-22T20:43:06.044147Z",
     "shell.execute_reply.started": "2023-10-22T20:23:37.014729Z"
    }
   },
   "outputs": [
    {
     "name": "stdout",
     "output_type": "stream",
     "text": [
      "Fold [1/4]\n",
      "Epoch [1/30]\n"
     ]
    },
    {
     "name": "stderr",
     "output_type": "stream",
     "text": [
      "100%|██████████| 638/638 [00:07<00:00, 87.82it/s] \n"
     ]
    },
    {
     "name": "stdout",
     "output_type": "stream",
     "text": [
      "Train metric: 1.0575985\n",
      "Train loss: 0.9298502471659998\n"
     ]
    },
    {
     "name": "stderr",
     "output_type": "stream",
     "text": [
      "100%|██████████| 258/258 [00:02<00:00, 92.62it/s] \n"
     ]
    },
    {
     "name": "stdout",
     "output_type": "stream",
     "text": [
      "Validation metric: 1.0167735\n",
      "Validation loss: 0.8399431345074676\n",
      "----------------------------------------\n",
      "Epoch [2/30]\n"
     ]
    },
    {
     "name": "stderr",
     "output_type": "stream",
     "text": [
      "100%|██████████| 638/638 [00:07<00:00, 87.60it/s] \n"
     ]
    },
    {
     "name": "stdout",
     "output_type": "stream",
     "text": [
      "Train metric: 1.0768565\n",
      "Train loss: 0.9504025770485588\n"
     ]
    },
    {
     "name": "stderr",
     "output_type": "stream",
     "text": [
      "100%|██████████| 258/258 [00:02<00:00, 91.79it/s] \n"
     ]
    },
    {
     "name": "stdout",
     "output_type": "stream",
     "text": [
      "Validation metric: 0.9879214\n",
      "Validation loss: 0.808105135033297\n",
      "----------------------------------------\n",
      "Epoch [3/30]\n"
     ]
    },
    {
     "name": "stderr",
     "output_type": "stream",
     "text": [
      "100%|██████████| 638/638 [00:06<00:00, 92.60it/s] \n"
     ]
    },
    {
     "name": "stdout",
     "output_type": "stream",
     "text": [
      "Train metric: 1.0237889\n",
      "Train loss: 0.8779234407837488\n"
     ]
    },
    {
     "name": "stderr",
     "output_type": "stream",
     "text": [
      "100%|██████████| 258/258 [00:02<00:00, 92.06it/s] \n"
     ]
    },
    {
     "name": "stdout",
     "output_type": "stream",
     "text": [
      "Validation metric: 0.96326023\n",
      "Validation loss: 0.7920363377924113\n",
      "----------------------------------------\n",
      "Epoch [4/30]\n"
     ]
    },
    {
     "name": "stderr",
     "output_type": "stream",
     "text": [
      "100%|██████████| 638/638 [00:07<00:00, 90.56it/s] \n"
     ]
    },
    {
     "name": "stdout",
     "output_type": "stream",
     "text": [
      "Train metric: 1.0059042\n",
      "Train loss: 0.8542050486634891\n"
     ]
    },
    {
     "name": "stderr",
     "output_type": "stream",
     "text": [
      "100%|██████████| 258/258 [00:03<00:00, 85.36it/s] \n"
     ]
    },
    {
     "name": "stdout",
     "output_type": "stream",
     "text": [
      "Validation metric: 0.9833354\n",
      "Validation loss: 0.8263635560292606\n",
      "----------------------------------------\n",
      "Epoch [5/30]\n"
     ]
    },
    {
     "name": "stderr",
     "output_type": "stream",
     "text": [
      "100%|██████████| 638/638 [00:06<00:00, 92.68it/s] \n"
     ]
    },
    {
     "name": "stdout",
     "output_type": "stream",
     "text": [
      "Train metric: 1.0019858\n",
      "Train loss: 0.8473638186120315\n"
     ]
    },
    {
     "name": "stderr",
     "output_type": "stream",
     "text": [
      "100%|██████████| 258/258 [00:02<00:00, 93.00it/s] \n"
     ]
    },
    {
     "name": "stdout",
     "output_type": "stream",
     "text": [
      "Validation metric: 0.9598359\n",
      "Validation loss: 0.7669890353730483\n",
      "----------------------------------------\n",
      "Epoch [6/30]\n"
     ]
    },
    {
     "name": "stderr",
     "output_type": "stream",
     "text": [
      "100%|██████████| 638/638 [00:06<00:00, 93.48it/s] \n"
     ]
    },
    {
     "name": "stdout",
     "output_type": "stream",
     "text": [
      "Train metric: 0.9985646\n",
      "Train loss: 0.8446659941144498\n"
     ]
    },
    {
     "name": "stderr",
     "output_type": "stream",
     "text": [
      "100%|██████████| 258/258 [00:02<00:00, 94.44it/s] \n"
     ]
    },
    {
     "name": "stdout",
     "output_type": "stream",
     "text": [
      "Validation metric: 0.9644748\n",
      "Validation loss: 0.7830259991708652\n",
      "----------------------------------------\n",
      "Epoch [7/30]\n"
     ]
    },
    {
     "name": "stderr",
     "output_type": "stream",
     "text": [
      "100%|██████████| 638/638 [00:06<00:00, 93.55it/s] \n"
     ]
    },
    {
     "name": "stdout",
     "output_type": "stream",
     "text": [
      "Train metric: 0.9992461\n",
      "Train loss: 0.8459207121761615\n"
     ]
    },
    {
     "name": "stderr",
     "output_type": "stream",
     "text": [
      "100%|██████████| 258/258 [00:02<00:00, 88.84it/s] \n"
     ]
    },
    {
     "name": "stdout",
     "output_type": "stream",
     "text": [
      "Validation metric: 0.95671535\n",
      "Validation loss: 0.7949538678508397\n",
      "----------------------------------------\n",
      "Epoch [8/30]\n"
     ]
    },
    {
     "name": "stderr",
     "output_type": "stream",
     "text": [
      "100%|██████████| 638/638 [00:06<00:00, 91.50it/s] \n"
     ]
    },
    {
     "name": "stdout",
     "output_type": "stream",
     "text": [
      "Train metric: 1.000404\n",
      "Train loss: 0.8497000555726801\n"
     ]
    },
    {
     "name": "stderr",
     "output_type": "stream",
     "text": [
      "100%|██████████| 258/258 [00:02<00:00, 91.70it/s] \n"
     ]
    },
    {
     "name": "stdout",
     "output_type": "stream",
     "text": [
      "Validation metric: 0.94742286\n",
      "Validation loss: 0.7770182466091111\n",
      "----------------------------------------\n",
      "Epoch [9/30]\n"
     ]
    },
    {
     "name": "stderr",
     "output_type": "stream",
     "text": [
      "100%|██████████| 638/638 [00:06<00:00, 93.90it/s] \n"
     ]
    },
    {
     "name": "stdout",
     "output_type": "stream",
     "text": [
      "Train metric: 1.0264045\n",
      "Train loss: 0.8840425421358276\n"
     ]
    },
    {
     "name": "stderr",
     "output_type": "stream",
     "text": [
      "100%|██████████| 258/258 [00:02<00:00, 93.14it/s] \n"
     ]
    },
    {
     "name": "stdout",
     "output_type": "stream",
     "text": [
      "Validation metric: 0.9877282\n",
      "Validation loss: 0.8345988830623701\n",
      "----------------------------------------\n",
      "Epoch [10/30]\n"
     ]
    },
    {
     "name": "stderr",
     "output_type": "stream",
     "text": [
      "100%|██████████| 638/638 [00:06<00:00, 93.05it/s] \n"
     ]
    },
    {
     "name": "stdout",
     "output_type": "stream",
     "text": [
      "Train metric: 1.0310588\n",
      "Train loss: 0.8922771034663\n"
     ]
    },
    {
     "name": "stderr",
     "output_type": "stream",
     "text": [
      "100%|██████████| 258/258 [00:02<00:00, 91.68it/s] \n"
     ]
    },
    {
     "name": "stdout",
     "output_type": "stream",
     "text": [
      "Validation metric: 0.9497595\n",
      "Validation loss: 0.7812491203116816\n",
      "----------------------------------------\n",
      "Epoch [11/30]\n"
     ]
    },
    {
     "name": "stderr",
     "output_type": "stream",
     "text": [
      "100%|██████████| 638/638 [00:07<00:00, 88.98it/s] \n"
     ]
    },
    {
     "name": "stdout",
     "output_type": "stream",
     "text": [
      "Train metric: 1.0030926\n",
      "Train loss: 0.8535927369209666\n"
     ]
    },
    {
     "name": "stderr",
     "output_type": "stream",
     "text": [
      "100%|██████████| 258/258 [00:02<00:00, 93.44it/s] \n"
     ]
    },
    {
     "name": "stdout",
     "output_type": "stream",
     "text": [
      "Validation metric: 1.4291775\n",
      "Validation loss: 1.4369509324662446\n",
      "----------------------------------------\n",
      "Epoch [12/30]\n"
     ]
    },
    {
     "name": "stderr",
     "output_type": "stream",
     "text": [
      "100%|██████████| 638/638 [00:06<00:00, 94.52it/s] \n"
     ]
    },
    {
     "name": "stdout",
     "output_type": "stream",
     "text": [
      "Train metric: 1.0491042\n",
      "Train loss: 0.9207596088464731\n"
     ]
    },
    {
     "name": "stderr",
     "output_type": "stream",
     "text": [
      "100%|██████████| 258/258 [00:02<00:00, 92.50it/s] \n"
     ]
    },
    {
     "name": "stdout",
     "output_type": "stream",
     "text": [
      "Validation metric: 0.9621894\n",
      "Validation loss: 0.7947812629069468\n",
      "----------------------------------------\n",
      "Epoch [13/30]\n"
     ]
    },
    {
     "name": "stderr",
     "output_type": "stream",
     "text": [
      "100%|██████████| 638/638 [00:06<00:00, 94.37it/s] \n"
     ]
    },
    {
     "name": "stdout",
     "output_type": "stream",
     "text": [
      "Train metric: 1.0178524\n",
      "Train loss: 0.8790962021786217\n"
     ]
    },
    {
     "name": "stderr",
     "output_type": "stream",
     "text": [
      "100%|██████████| 258/258 [00:02<00:00, 93.08it/s] \n"
     ]
    },
    {
     "name": "stdout",
     "output_type": "stream",
     "text": [
      "Validation metric: 0.95071447\n",
      "Validation loss: 0.7930314219159673\n",
      "----------------------------------------\n",
      "Epoch [14/30]\n"
     ]
    },
    {
     "name": "stderr",
     "output_type": "stream",
     "text": [
      "100%|██████████| 638/638 [00:07<00:00, 88.76it/s] \n"
     ]
    },
    {
     "name": "stdout",
     "output_type": "stream",
     "text": [
      "Train metric: 1.0489132\n",
      "Train loss: 0.9200947886116826\n"
     ]
    },
    {
     "name": "stderr",
     "output_type": "stream",
     "text": [
      "100%|██████████| 258/258 [00:02<00:00, 93.53it/s] \n"
     ]
    },
    {
     "name": "stdout",
     "output_type": "stream",
     "text": [
      "Validation metric: 0.95596915\n",
      "Validation loss: 0.7791996415733367\n",
      "----------------------------------------\n",
      "Epoch [15/30]\n"
     ]
    },
    {
     "name": "stderr",
     "output_type": "stream",
     "text": [
      "100%|██████████| 638/638 [00:06<00:00, 92.76it/s] \n"
     ]
    },
    {
     "name": "stdout",
     "output_type": "stream",
     "text": [
      "Train metric: 1.0101979\n",
      "Train loss: 0.8641840933725752\n"
     ]
    },
    {
     "name": "stderr",
     "output_type": "stream",
     "text": [
      "100%|██████████| 258/258 [00:02<00:00, 91.64it/s] \n"
     ]
    },
    {
     "name": "stdout",
     "output_type": "stream",
     "text": [
      "Validation metric: 0.95959365\n",
      "Validation loss: 0.798418804194576\n",
      "----------------------------------------\n",
      "Epoch [16/30]\n"
     ]
    },
    {
     "name": "stderr",
     "output_type": "stream",
     "text": [
      "100%|██████████| 638/638 [00:06<00:00, 94.22it/s] \n"
     ]
    },
    {
     "name": "stdout",
     "output_type": "stream",
     "text": [
      "Train metric: 1.009981\n",
      "Train loss: 0.8661742947972306\n"
     ]
    },
    {
     "name": "stderr",
     "output_type": "stream",
     "text": [
      "100%|██████████| 258/258 [00:02<00:00, 93.71it/s] \n"
     ]
    },
    {
     "name": "stdout",
     "output_type": "stream",
     "text": [
      "Validation metric: 0.9431768\n",
      "Validation loss: 0.7710087178058402\n",
      "----------------------------------------\n",
      "Epoch [17/30]\n"
     ]
    },
    {
     "name": "stderr",
     "output_type": "stream",
     "text": [
      "100%|██████████| 638/638 [00:06<00:00, 94.68it/s] \n"
     ]
    },
    {
     "name": "stdout",
     "output_type": "stream",
     "text": [
      "Train metric: 0.99707174\n",
      "Train loss: 0.8461529690083291\n"
     ]
    },
    {
     "name": "stderr",
     "output_type": "stream",
     "text": [
      "100%|██████████| 258/258 [00:03<00:00, 81.33it/s] \n"
     ]
    },
    {
     "name": "stdout",
     "output_type": "stream",
     "text": [
      "Validation metric: 0.9587058\n",
      "Validation loss: 0.799279225311538\n",
      "----------------------------------------\n",
      "Epoch [18/30]\n"
     ]
    },
    {
     "name": "stderr",
     "output_type": "stream",
     "text": [
      "100%|██████████| 638/638 [00:06<00:00, 94.20it/s] \n"
     ]
    },
    {
     "name": "stdout",
     "output_type": "stream",
     "text": [
      "Train metric: 1.0479145\n",
      "Train loss: 0.9166297546608321\n"
     ]
    },
    {
     "name": "stderr",
     "output_type": "stream",
     "text": [
      "100%|██████████| 638/638 [00:06<00:00, 94.25it/s] \n"
     ]
    },
    {
     "name": "stdout",
     "output_type": "stream",
     "text": [
      "Train metric: 1.0523579\n",
      "Train loss: 0.9200449251923067\n"
     ]
    },
    {
     "name": "stderr",
     "output_type": "stream",
     "text": [
      "100%|██████████| 258/258 [00:02<00:00, 92.57it/s] \n"
     ]
    },
    {
     "name": "stdout",
     "output_type": "stream",
     "text": [
      "Validation metric: 1.0360215\n",
      "Validation loss: 0.8901292168816854\n",
      "----------------------------------------\n",
      "Epoch [20/30]\n"
     ]
    },
    {
     "name": "stderr",
     "output_type": "stream",
     "text": [
      "100%|██████████| 638/638 [00:06<00:00, 94.04it/s] \n"
     ]
    },
    {
     "name": "stdout",
     "output_type": "stream",
     "text": [
      "Train metric: 1.0218358\n",
      "Train loss: 0.8847641097177346\n"
     ]
    },
    {
     "name": "stderr",
     "output_type": "stream",
     "text": [
      "100%|██████████| 258/258 [00:02<00:00, 91.48it/s] \n"
     ]
    },
    {
     "name": "stdout",
     "output_type": "stream",
     "text": [
      "Validation metric: 0.9312241\n",
      "Validation loss: 0.7647996798966282\n",
      "----------------------------------------\n",
      "Epoch [21/30]\n"
     ]
    },
    {
     "name": "stderr",
     "output_type": "stream",
     "text": [
      "100%|██████████| 638/638 [00:07<00:00, 88.60it/s] \n"
     ]
    },
    {
     "name": "stdout",
     "output_type": "stream",
     "text": [
      "Train metric: 1.0084956\n",
      "Train loss: 0.8644450692967935\n"
     ]
    },
    {
     "name": "stderr",
     "output_type": "stream",
     "text": [
      "100%|██████████| 258/258 [00:02<00:00, 92.13it/s] \n"
     ]
    },
    {
     "name": "stdout",
     "output_type": "stream",
     "text": [
      "Validation metric: 0.9619999\n",
      "Validation loss: 0.7814894261401754\n",
      "----------------------------------------\n",
      "Epoch [22/30]\n"
     ]
    },
    {
     "name": "stderr",
     "output_type": "stream",
     "text": [
      "100%|██████████| 638/638 [00:06<00:00, 94.49it/s] \n"
     ]
    },
    {
     "name": "stdout",
     "output_type": "stream",
     "text": [
      "Train metric: 1.0159144\n",
      "Train loss: 0.8707515362848682\n"
     ]
    },
    {
     "name": "stderr",
     "output_type": "stream",
     "text": [
      "100%|██████████| 258/258 [00:02<00:00, 92.93it/s] \n"
     ]
    },
    {
     "name": "stdout",
     "output_type": "stream",
     "text": [
      "Validation metric: 1.013885\n",
      "Validation loss: 0.8462803128731343\n",
      "----------------------------------------\n",
      "Epoch [23/30]\n"
     ]
    },
    {
     "name": "stderr",
     "output_type": "stream",
     "text": [
      "100%|██████████| 638/638 [00:06<00:00, 93.99it/s] \n"
     ]
    },
    {
     "name": "stdout",
     "output_type": "stream",
     "text": [
      "Train metric: 1.0456108\n",
      "Train loss: 0.9146372534591576\n"
     ]
    },
    {
     "name": "stderr",
     "output_type": "stream",
     "text": [
      "100%|██████████| 258/258 [00:02<00:00, 93.14it/s] \n"
     ]
    },
    {
     "name": "stdout",
     "output_type": "stream",
     "text": [
      "Validation metric: 0.9569981\n",
      "Validation loss: 0.7716568515513295\n",
      "----------------------------------------\n",
      "Epoch [24/30]\n"
     ]
    },
    {
     "name": "stderr",
     "output_type": "stream",
     "text": [
      "100%|██████████| 638/638 [00:07<00:00, 89.86it/s] \n"
     ]
    },
    {
     "name": "stdout",
     "output_type": "stream",
     "text": [
      "Train metric: 1.0383964\n",
      "Train loss: 0.9041839555886846\n"
     ]
    },
    {
     "name": "stderr",
     "output_type": "stream",
     "text": [
      "100%|██████████| 258/258 [00:02<00:00, 93.13it/s] \n"
     ]
    },
    {
     "name": "stdout",
     "output_type": "stream",
     "text": [
      "Validation metric: 0.9508804\n",
      "Validation loss: 0.7827885595634002\n",
      "----------------------------------------\n",
      "Epoch [25/30]\n"
     ]
    },
    {
     "name": "stderr",
     "output_type": "stream",
     "text": [
      "100%|██████████| 638/638 [00:06<00:00, 94.63it/s] \n"
     ]
    },
    {
     "name": "stdout",
     "output_type": "stream",
     "text": [
      "Train metric: 1.022415\n",
      "Train loss: 0.8851088172169315\n"
     ]
    },
    {
     "name": "stderr",
     "output_type": "stream",
     "text": [
      "100%|██████████| 258/258 [00:02<00:00, 93.61it/s] \n"
     ]
    },
    {
     "name": "stdout",
     "output_type": "stream",
     "text": [
      "Validation metric: 0.9370407\n",
      "Validation loss: 0.756770416747692\n",
      "----------------------------------------\n",
      "Epoch [26/30]\n"
     ]
    },
    {
     "name": "stderr",
     "output_type": "stream",
     "text": [
      "100%|██████████| 638/638 [00:06<00:00, 93.93it/s] \n"
     ]
    },
    {
     "name": "stdout",
     "output_type": "stream",
     "text": [
      "Train metric: 1.0189267\n",
      "Train loss: 0.8779145301696275\n"
     ]
    },
    {
     "name": "stderr",
     "output_type": "stream",
     "text": [
      "100%|██████████| 258/258 [00:02<00:00, 93.17it/s] \n"
     ]
    },
    {
     "name": "stdout",
     "output_type": "stream",
     "text": [
      "Validation metric: 0.9446279\n",
      "Validation loss: 0.7605919363193734\n",
      "----------------------------------------\n",
      "Epoch [27/30]\n"
     ]
    },
    {
     "name": "stderr",
     "output_type": "stream",
     "text": [
      "100%|██████████| 638/638 [00:06<00:00, 92.88it/s] \n"
     ]
    },
    {
     "name": "stdout",
     "output_type": "stream",
     "text": [
      "Train metric: 1.0345225\n",
      "Train loss: 0.8990885326434452\n"
     ]
    },
    {
     "name": "stderr",
     "output_type": "stream",
     "text": [
      "100%|██████████| 258/258 [00:03<00:00, 82.66it/s] \n"
     ]
    },
    {
     "name": "stdout",
     "output_type": "stream",
     "text": [
      "Validation metric: 0.9987495\n",
      "Validation loss: 0.8756905629537827\n",
      "----------------------------------------\n",
      "Epoch [28/30]\n"
     ]
    },
    {
     "name": "stderr",
     "output_type": "stream",
     "text": [
      "100%|██████████| 638/638 [00:06<00:00, 93.65it/s] \n"
     ]
    },
    {
     "name": "stdout",
     "output_type": "stream",
     "text": [
      "Train metric: 1.014584\n",
      "Train loss: 0.8706774281390408\n"
     ]
    },
    {
     "name": "stderr",
     "output_type": "stream",
     "text": [
      "100%|██████████| 258/258 [00:02<00:00, 91.82it/s] \n"
     ]
    },
    {
     "name": "stdout",
     "output_type": "stream",
     "text": [
      "Validation metric: 0.9471051\n",
      "Validation loss: 0.7882502014900363\n",
      "----------------------------------------\n",
      "Epoch [29/30]\n"
     ]
    },
    {
     "name": "stderr",
     "output_type": "stream",
     "text": [
      "100%|██████████| 638/638 [00:06<00:00, 95.00it/s] \n"
     ]
    },
    {
     "name": "stdout",
     "output_type": "stream",
     "text": [
      "Train metric: 1.0364289\n",
      "Train loss: 0.9044836841780564\n"
     ]
    },
    {
     "name": "stderr",
     "output_type": "stream",
     "text": [
      "100%|██████████| 258/258 [00:02<00:00, 92.12it/s] \n"
     ]
    },
    {
     "name": "stdout",
     "output_type": "stream",
     "text": [
      "Validation metric: 1.0006671\n",
      "Validation loss: 0.8771859472689703\n",
      "----------------------------------------\n",
      "Epoch [30/30]\n"
     ]
    },
    {
     "name": "stderr",
     "output_type": "stream",
     "text": [
      "100%|██████████| 638/638 [00:06<00:00, 94.65it/s] \n"
     ]
    },
    {
     "name": "stdout",
     "output_type": "stream",
     "text": [
      "Train metric: 1.0344311\n",
      "Train loss: 0.9007140214914064\n"
     ]
    },
    {
     "name": "stderr",
     "output_type": "stream",
     "text": [
      "100%|██████████| 258/258 [00:02<00:00, 92.83it/s] \n"
     ]
    },
    {
     "name": "stdout",
     "output_type": "stream",
     "text": [
      "Validation metric: 0.960008\n",
      "Validation loss: 0.7829912799850914\n",
      "----------------------------------------\n",
      "Fold [2/4]\n",
      "Epoch [1/30]\n"
     ]
    },
    {
     "name": "stderr",
     "output_type": "stream",
     "text": [
      "100%|██████████| 644/644 [00:07<00:00, 89.85it/s] \n"
     ]
    },
    {
     "name": "stdout",
     "output_type": "stream",
     "text": [
      "Train metric: 1.0011317\n",
      "Train loss: 0.841721821067311\n"
     ]
    },
    {
     "name": "stderr",
     "output_type": "stream",
     "text": [
      "100%|██████████| 252/252 [00:02<00:00, 92.92it/s] \n"
     ]
    },
    {
     "name": "stdout",
     "output_type": "stream",
     "text": [
      "Validation metric: 0.942121\n",
      "Validation loss: 0.7836891895248776\n",
      "----------------------------------------\n",
      "Epoch [2/30]\n"
     ]
    },
    {
     "name": "stderr",
     "output_type": "stream",
     "text": [
      "100%|██████████| 644/644 [00:06<00:00, 94.18it/s] \n"
     ]
    },
    {
     "name": "stdout",
     "output_type": "stream",
     "text": [
      "Train metric: 1.0529668\n",
      "Train loss: 0.9145766123203758\n"
     ]
    },
    {
     "name": "stderr",
     "output_type": "stream",
     "text": [
      "100%|██████████| 252/252 [00:02<00:00, 90.18it/s] \n"
     ]
    },
    {
     "name": "stdout",
     "output_type": "stream",
     "text": [
      "Validation metric: 0.97056496\n",
      "Validation loss: 0.8335799503894079\n",
      "----------------------------------------\n",
      "Epoch [3/30]\n"
     ]
    },
    {
     "name": "stderr",
     "output_type": "stream",
     "text": [
      "100%|██████████| 644/644 [00:06<00:00, 94.10it/s] \n"
     ]
    },
    {
     "name": "stdout",
     "output_type": "stream",
     "text": [
      "Train metric: 1.0684055\n",
      "Train loss: 0.932463543362314\n"
     ]
    },
    {
     "name": "stderr",
     "output_type": "stream",
     "text": [
      "100%|██████████| 252/252 [00:02<00:00, 93.36it/s] \n"
     ]
    },
    {
     "name": "stdout",
     "output_type": "stream",
     "text": [
      "Validation metric: 1.1813884\n",
      "Validation loss: 1.0980234388557693\n",
      "----------------------------------------\n",
      "Epoch [4/30]\n"
     ]
    },
    {
     "name": "stderr",
     "output_type": "stream",
     "text": [
      "100%|██████████| 644/644 [00:07<00:00, 89.11it/s] \n"
     ]
    },
    {
     "name": "stdout",
     "output_type": "stream",
     "text": [
      "Train metric: 1.0414131\n",
      "Train loss: 0.8947014721191447\n"
     ]
    },
    {
     "name": "stderr",
     "output_type": "stream",
     "text": [
      "100%|██████████| 252/252 [00:02<00:00, 94.74it/s] \n"
     ]
    },
    {
     "name": "stdout",
     "output_type": "stream",
     "text": [
      "Validation metric: 0.9876808\n",
      "Validation loss: 0.8581687841150496\n",
      "----------------------------------------\n",
      "Epoch [5/30]\n"
     ]
    },
    {
     "name": "stderr",
     "output_type": "stream",
     "text": [
      "100%|██████████| 644/644 [00:06<00:00, 94.16it/s] \n"
     ]
    },
    {
     "name": "stdout",
     "output_type": "stream",
     "text": [
      "Train metric: 1.0526667\n",
      "Train loss: 0.910802587704814\n"
     ]
    },
    {
     "name": "stderr",
     "output_type": "stream",
     "text": [
      "100%|██████████| 252/252 [00:02<00:00, 92.07it/s] \n"
     ]
    },
    {
     "name": "stdout",
     "output_type": "stream",
     "text": [
      "Validation metric: 1.0320268\n",
      "Validation loss: 0.9017533624456042\n",
      "----------------------------------------\n",
      "Epoch [6/30]\n"
     ]
    },
    {
     "name": "stderr",
     "output_type": "stream",
     "text": [
      "100%|██████████| 644/644 [00:06<00:00, 93.83it/s] \n"
     ]
    },
    {
     "name": "stdout",
     "output_type": "stream",
     "text": [
      "Train metric: 1.0539758\n",
      "Train loss: 0.9090528420363524\n"
     ]
    },
    {
     "name": "stderr",
     "output_type": "stream",
     "text": [
      "100%|██████████| 252/252 [00:02<00:00, 92.81it/s] \n"
     ]
    },
    {
     "name": "stdout",
     "output_type": "stream",
     "text": [
      "Validation metric: 0.9810507\n",
      "Validation loss: 0.8355097890136733\n",
      "----------------------------------------\n",
      "Epoch [7/30]\n"
     ]
    },
    {
     "name": "stderr",
     "output_type": "stream",
     "text": [
      "100%|██████████| 644/644 [00:07<00:00, 89.89it/s] \n"
     ]
    },
    {
     "name": "stdout",
     "output_type": "stream",
     "text": [
      "Train metric: 1.0252559\n",
      "Train loss: 0.8732622250312974\n"
     ]
    },
    {
     "name": "stderr",
     "output_type": "stream",
     "text": [
      "100%|██████████| 252/252 [00:02<00:00, 94.51it/s] \n"
     ]
    },
    {
     "name": "stdout",
     "output_type": "stream",
     "text": [
      "Validation metric: 0.94628525\n",
      "Validation loss: 0.7948916841830526\n",
      "----------------------------------------\n",
      "Epoch [8/30]\n"
     ]
    },
    {
     "name": "stderr",
     "output_type": "stream",
     "text": [
      "100%|██████████| 644/644 [00:06<00:00, 95.12it/s] \n"
     ]
    },
    {
     "name": "stdout",
     "output_type": "stream",
     "text": [
      "Train metric: 1.0695305\n",
      "Train loss: 0.9276759082115955\n"
     ]
    },
    {
     "name": "stderr",
     "output_type": "stream",
     "text": [
      "100%|██████████| 252/252 [00:02<00:00, 92.76it/s] \n"
     ]
    },
    {
     "name": "stdout",
     "output_type": "stream",
     "text": [
      "Validation metric: 1.035399\n",
      "Validation loss: 0.9259661061777955\n",
      "----------------------------------------\n",
      "Epoch [9/30]\n"
     ]
    },
    {
     "name": "stderr",
     "output_type": "stream",
     "text": [
      "100%|██████████| 644/644 [00:06<00:00, 93.92it/s] \n"
     ]
    },
    {
     "name": "stdout",
     "output_type": "stream",
     "text": [
      "Train metric: 1.0677574\n",
      "Train loss: 0.9239961286972028\n"
     ]
    },
    {
     "name": "stderr",
     "output_type": "stream",
     "text": [
      "100%|██████████| 252/252 [00:02<00:00, 91.91it/s] \n"
     ]
    },
    {
     "name": "stdout",
     "output_type": "stream",
     "text": [
      "Validation metric: 1.0075383\n",
      "Validation loss: 0.8771624378268681\n",
      "----------------------------------------\n",
      "Epoch [10/30]\n"
     ]
    },
    {
     "name": "stderr",
     "output_type": "stream",
     "text": [
      "100%|██████████| 644/644 [00:06<00:00, 93.94it/s] \n"
     ]
    },
    {
     "name": "stdout",
     "output_type": "stream",
     "text": [
      "Train metric: 1.0414133\n",
      "Train loss: 0.8945519923932433\n"
     ]
    },
    {
     "name": "stderr",
     "output_type": "stream",
     "text": [
      "100%|██████████| 252/252 [00:03<00:00, 81.60it/s] \n"
     ]
    },
    {
     "name": "stdout",
     "output_type": "stream",
     "text": [
      "Validation metric: 0.95391613\n",
      "Validation loss: 0.8143419366743829\n",
      "----------------------------------------\n",
      "Epoch [11/30]\n"
     ]
    },
    {
     "name": "stderr",
     "output_type": "stream",
     "text": [
      "100%|██████████| 644/644 [00:06<00:00, 94.55it/s] \n"
     ]
    },
    {
     "name": "stdout",
     "output_type": "stream",
     "text": [
      "Train metric: 1.0198724\n",
      "Train loss: 0.8661771610564326\n"
     ]
    },
    {
     "name": "stderr",
     "output_type": "stream",
     "text": [
      "100%|██████████| 252/252 [00:02<00:00, 92.25it/s] \n"
     ]
    },
    {
     "name": "stdout",
     "output_type": "stream",
     "text": [
      "Validation metric: 0.9485842\n",
      "Validation loss: 0.803858567561422\n",
      "----------------------------------------\n",
      "Epoch [12/30]\n"
     ]
    },
    {
     "name": "stderr",
     "output_type": "stream",
     "text": [
      "100%|██████████| 644/644 [00:06<00:00, 94.90it/s] \n"
     ]
    },
    {
     "name": "stdout",
     "output_type": "stream",
     "text": [
      "Train metric: 1.0386925\n",
      "Train loss: 0.8960700694541013\n"
     ]
    },
    {
     "name": "stderr",
     "output_type": "stream",
     "text": [
      "100%|██████████| 252/252 [00:02<00:00, 91.21it/s] \n"
     ]
    },
    {
     "name": "stdout",
     "output_type": "stream",
     "text": [
      "Validation metric: 0.9910768\n",
      "Validation loss: 0.8658761662386713\n",
      "----------------------------------------\n",
      "Epoch [13/30]\n"
     ]
    },
    {
     "name": "stderr",
     "output_type": "stream",
     "text": [
      "100%|██████████| 644/644 [00:06<00:00, 93.70it/s] \n"
     ]
    },
    {
     "name": "stdout",
     "output_type": "stream",
     "text": [
      "Train metric: 1.0587924\n",
      "Train loss: 0.9153822697930455\n"
     ]
    },
    {
     "name": "stderr",
     "output_type": "stream",
     "text": [
      "100%|██████████| 252/252 [00:02<00:00, 92.27it/s] \n"
     ]
    },
    {
     "name": "stdout",
     "output_type": "stream",
     "text": [
      "Validation metric: 0.9689977\n",
      "Validation loss: 0.8254752651093498\n",
      "----------------------------------------\n",
      "Epoch [14/30]\n"
     ]
    },
    {
     "name": "stderr",
     "output_type": "stream",
     "text": [
      "100%|██████████| 644/644 [00:07<00:00, 89.16it/s] \n"
     ]
    },
    {
     "name": "stdout",
     "output_type": "stream",
     "text": [
      "Train metric: 1.0303423\n",
      "Train loss: 0.8818910550673186\n"
     ]
    },
    {
     "name": "stderr",
     "output_type": "stream",
     "text": [
      "100%|██████████| 252/252 [00:02<00:00, 90.43it/s] \n"
     ]
    },
    {
     "name": "stdout",
     "output_type": "stream",
     "text": [
      "Validation metric: 1.030935\n",
      "Validation loss: 0.9260078634298037\n",
      "----------------------------------------\n",
      "Epoch [15/30]\n"
     ]
    },
    {
     "name": "stderr",
     "output_type": "stream",
     "text": [
      "100%|██████████| 644/644 [00:06<00:00, 94.04it/s] \n"
     ]
    },
    {
     "name": "stdout",
     "output_type": "stream",
     "text": [
      "Train metric: 1.034526\n",
      "Train loss: 0.8878450501039161\n"
     ]
    },
    {
     "name": "stderr",
     "output_type": "stream",
     "text": [
      "100%|██████████| 252/252 [00:02<00:00, 93.09it/s] \n"
     ]
    },
    {
     "name": "stdout",
     "output_type": "stream",
     "text": [
      "Validation metric: 0.92434716\n",
      "Validation loss: 0.7630420340195535\n",
      "----------------------------------------\n",
      "Epoch [16/30]\n"
     ]
    },
    {
     "name": "stderr",
     "output_type": "stream",
     "text": [
      "100%|██████████| 644/644 [00:06<00:00, 93.76it/s] \n"
     ]
    },
    {
     "name": "stdout",
     "output_type": "stream",
     "text": [
      "Train metric: 1.0058242\n",
      "Train loss: 0.8485040735476506\n"
     ]
    },
    {
     "name": "stderr",
     "output_type": "stream",
     "text": [
      "100%|██████████| 252/252 [00:02<00:00, 90.91it/s] \n"
     ]
    },
    {
     "name": "stdout",
     "output_type": "stream",
     "text": [
      "Validation metric: 1.0026761\n",
      "Validation loss: 0.8607433152104181\n",
      "----------------------------------------\n",
      "Epoch [17/30]\n"
     ]
    },
    {
     "name": "stderr",
     "output_type": "stream",
     "text": [
      "100%|██████████| 644/644 [00:07<00:00, 89.69it/s] \n"
     ]
    },
    {
     "name": "stdout",
     "output_type": "stream",
     "text": [
      "Train metric: 1.0153402\n",
      "Train loss: 0.8645179153460524\n"
     ]
    },
    {
     "name": "stderr",
     "output_type": "stream",
     "text": [
      "100%|██████████| 252/252 [00:02<00:00, 92.67it/s] \n"
     ]
    },
    {
     "name": "stdout",
     "output_type": "stream",
     "text": [
      "Validation metric: 0.9246948\n",
      "Validation loss: 0.7642588806412522\n",
      "----------------------------------------\n",
      "Epoch [18/30]\n"
     ]
    },
    {
     "name": "stderr",
     "output_type": "stream",
     "text": [
      "100%|██████████| 644/644 [00:06<00:00, 93.97it/s] \n"
     ]
    },
    {
     "name": "stdout",
     "output_type": "stream",
     "text": [
      "Train metric: 1.0146439\n",
      "Train loss: 0.8627528262712201\n"
     ]
    },
    {
     "name": "stderr",
     "output_type": "stream",
     "text": [
      "100%|██████████| 252/252 [00:02<00:00, 91.64it/s] \n"
     ]
    },
    {
     "name": "stdout",
     "output_type": "stream",
     "text": [
      "Validation metric: 0.96175647\n",
      "Validation loss: 0.8154732853410736\n",
      "----------------------------------------\n",
      "Epoch [19/30]\n"
     ]
    },
    {
     "name": "stderr",
     "output_type": "stream",
     "text": [
      "100%|██████████| 644/644 [00:06<00:00, 94.42it/s] \n"
     ]
    },
    {
     "name": "stdout",
     "output_type": "stream",
     "text": [
      "Train metric: 1.0180361\n",
      "Train loss: 0.8653370293771258\n"
     ]
    },
    {
     "name": "stderr",
     "output_type": "stream",
     "text": [
      "100%|██████████| 252/252 [00:02<00:00, 93.68it/s] \n"
     ]
    },
    {
     "name": "stdout",
     "output_type": "stream",
     "text": [
      "Validation metric: 0.962589\n",
      "Validation loss: 0.8238287701729744\n",
      "----------------------------------------\n",
      "Epoch [20/30]\n"
     ]
    },
    {
     "name": "stderr",
     "output_type": "stream",
     "text": [
      "100%|██████████| 644/644 [00:06<00:00, 94.48it/s] \n"
     ]
    },
    {
     "name": "stdout",
     "output_type": "stream",
     "text": [
      "Train metric: 1.014555\n",
      "Train loss: 0.8626649416983128\n"
     ]
    },
    {
     "name": "stderr",
     "output_type": "stream",
     "text": [
      "100%|██████████| 252/252 [00:03<00:00, 80.18it/s] \n"
     ]
    },
    {
     "name": "stdout",
     "output_type": "stream",
     "text": [
      "Validation metric: 1.0115571\n",
      "Validation loss: 0.891307862386817\n",
      "----------------------------------------\n",
      "Epoch [21/30]\n"
     ]
    },
    {
     "name": "stderr",
     "output_type": "stream",
     "text": [
      "100%|██████████| 644/644 [00:06<00:00, 94.22it/s] \n"
     ]
    },
    {
     "name": "stdout",
     "output_type": "stream",
     "text": [
      "Train metric: 1.0075248\n",
      "Train loss: 0.8541758406837905\n"
     ]
    },
    {
     "name": "stderr",
     "output_type": "stream",
     "text": [
      "100%|██████████| 252/252 [00:02<00:00, 92.78it/s] \n"
     ]
    },
    {
     "name": "stdout",
     "output_type": "stream",
     "text": [
      "Validation metric: 0.97601783\n",
      "Validation loss: 0.832299457892539\n",
      "----------------------------------------\n",
      "Epoch [22/30]\n"
     ]
    },
    {
     "name": "stderr",
     "output_type": "stream",
     "text": [
      "100%|██████████| 644/644 [00:06<00:00, 93.85it/s] \n"
     ]
    },
    {
     "name": "stdout",
     "output_type": "stream",
     "text": [
      "Train metric: 1.0125217\n",
      "Train loss: 0.8603294444565447\n"
     ]
    },
    {
     "name": "stderr",
     "output_type": "stream",
     "text": [
      "100%|██████████| 252/252 [00:02<00:00, 89.56it/s] \n"
     ]
    },
    {
     "name": "stdout",
     "output_type": "stream",
     "text": [
      "Validation metric: 0.99635863\n",
      "Validation loss: 0.868045737700803\n",
      "----------------------------------------\n",
      "Epoch [23/30]\n"
     ]
    },
    {
     "name": "stderr",
     "output_type": "stream",
     "text": [
      "100%|██████████| 644/644 [00:06<00:00, 93.49it/s] \n"
     ]
    },
    {
     "name": "stdout",
     "output_type": "stream",
     "text": [
      "Train metric: 1.0196772\n",
      "Train loss: 0.8733412354305294\n"
     ]
    },
    {
     "name": "stderr",
     "output_type": "stream",
     "text": [
      "100%|██████████| 252/252 [00:02<00:00, 92.03it/s] \n"
     ]
    },
    {
     "name": "stdout",
     "output_type": "stream",
     "text": [
      "Validation metric: 0.98372346\n",
      "Validation loss: 0.8530072794547157\n",
      "----------------------------------------\n",
      "Epoch [24/30]\n"
     ]
    },
    {
     "name": "stderr",
     "output_type": "stream",
     "text": [
      "100%|██████████| 644/644 [00:07<00:00, 90.38it/s] \n"
     ]
    },
    {
     "name": "stdout",
     "output_type": "stream",
     "text": [
      "Train metric: 1.0104405\n",
      "Train loss: 0.8568605386090945\n"
     ]
    },
    {
     "name": "stderr",
     "output_type": "stream",
     "text": [
      "100%|██████████| 252/252 [00:02<00:00, 90.56it/s] \n"
     ]
    },
    {
     "name": "stdout",
     "output_type": "stream",
     "text": [
      "Validation metric: 1.0456172\n",
      "Validation loss: 0.915306750625845\n",
      "----------------------------------------\n",
      "Epoch [25/30]\n"
     ]
    },
    {
     "name": "stderr",
     "output_type": "stream",
     "text": [
      "100%|██████████| 644/644 [00:06<00:00, 94.64it/s] \n"
     ]
    },
    {
     "name": "stdout",
     "output_type": "stream",
     "text": [
      "Train metric: 1.0350255\n",
      "Train loss: 0.8905914583191368\n"
     ]
    },
    {
     "name": "stderr",
     "output_type": "stream",
     "text": [
      "100%|██████████| 252/252 [00:02<00:00, 91.16it/s] \n"
     ]
    },
    {
     "name": "stdout",
     "output_type": "stream",
     "text": [
      "Validation metric: 1.03696\n",
      "Validation loss: 0.9339328056999615\n",
      "----------------------------------------\n",
      "Epoch [26/30]\n"
     ]
    },
    {
     "name": "stderr",
     "output_type": "stream",
     "text": [
      "100%|██████████| 644/644 [00:06<00:00, 94.54it/s] \n"
     ]
    },
    {
     "name": "stdout",
     "output_type": "stream",
     "text": [
      "Train metric: 1.0163468\n",
      "Train loss: 0.8649535708083129\n"
     ]
    },
    {
     "name": "stderr",
     "output_type": "stream",
     "text": [
      "100%|██████████| 252/252 [00:02<00:00, 90.74it/s] \n"
     ]
    },
    {
     "name": "stdout",
     "output_type": "stream",
     "text": [
      "Validation metric: 0.96661973\n",
      "Validation loss: 0.8300574432526316\n",
      "----------------------------------------\n",
      "Epoch [27/30]\n"
     ]
    },
    {
     "name": "stderr",
     "output_type": "stream",
     "text": [
      "100%|██████████| 644/644 [00:07<00:00, 90.30it/s] \n"
     ]
    },
    {
     "name": "stdout",
     "output_type": "stream",
     "text": [
      "Train metric: 1.0104859\n",
      "Train loss: 0.8565674464200964\n"
     ]
    },
    {
     "name": "stderr",
     "output_type": "stream",
     "text": [
      "100%|██████████| 252/252 [00:02<00:00, 92.37it/s] \n"
     ]
    },
    {
     "name": "stdout",
     "output_type": "stream",
     "text": [
      "Validation metric: 1.0337112\n",
      "Validation loss: 0.9086402033766111\n",
      "----------------------------------------\n",
      "Epoch [28/30]\n"
     ]
    },
    {
     "name": "stderr",
     "output_type": "stream",
     "text": [
      "100%|██████████| 644/644 [00:06<00:00, 95.02it/s] \n"
     ]
    },
    {
     "name": "stdout",
     "output_type": "stream",
     "text": [
      "Train metric: 1.038613\n",
      "Train loss: 0.89288051958595\n"
     ]
    },
    {
     "name": "stderr",
     "output_type": "stream",
     "text": [
      "100%|██████████| 252/252 [00:02<00:00, 91.83it/s] \n"
     ]
    },
    {
     "name": "stdout",
     "output_type": "stream",
     "text": [
      "Validation metric: 0.98126173\n",
      "Validation loss: 0.8520154805765265\n",
      "----------------------------------------\n",
      "Epoch [29/30]\n"
     ]
    },
    {
     "name": "stderr",
     "output_type": "stream",
     "text": [
      "100%|██████████| 644/644 [00:06<00:00, 94.44it/s] \n"
     ]
    },
    {
     "name": "stdout",
     "output_type": "stream",
     "text": [
      "Train metric: 1.0165409\n",
      "Train loss: 0.8669035094124931\n"
     ]
    },
    {
     "name": "stderr",
     "output_type": "stream",
     "text": [
      "100%|██████████| 252/252 [00:02<00:00, 90.39it/s] \n"
     ]
    },
    {
     "name": "stdout",
     "output_type": "stream",
     "text": [
      "Validation metric: 0.9303282\n",
      "Validation loss: 0.7705958065769029\n",
      "----------------------------------------\n",
      "Epoch [30/30]\n"
     ]
    },
    {
     "name": "stderr",
     "output_type": "stream",
     "text": [
      "100%|██████████| 644/644 [00:06<00:00, 94.32it/s] \n"
     ]
    },
    {
     "name": "stdout",
     "output_type": "stream",
     "text": [
      "Train metric: 1.0144823\n",
      "Train loss: 0.8644568993252997\n"
     ]
    },
    {
     "name": "stderr",
     "output_type": "stream",
     "text": [
      "100%|██████████| 252/252 [00:02<00:00, 88.67it/s] \n"
     ]
    },
    {
     "name": "stdout",
     "output_type": "stream",
     "text": [
      "Validation metric: 0.9163251\n",
      "Validation loss: 0.7551703397480268\n",
      "----------------------------------------\n",
      "Fold [3/4]\n",
      "Epoch [1/30]\n"
     ]
    },
    {
     "name": "stderr",
     "output_type": "stream",
     "text": [
      "100%|██████████| 646/646 [00:06<00:00, 93.98it/s] \n"
     ]
    },
    {
     "name": "stdout",
     "output_type": "stream",
     "text": [
      "Train metric: 1.0217863\n",
      "Train loss: 0.8758489772354486\n"
     ]
    },
    {
     "name": "stderr",
     "output_type": "stream",
     "text": [
      "100%|██████████| 250/250 [00:02<00:00, 93.89it/s] \n"
     ]
    },
    {
     "name": "stdout",
     "output_type": "stream",
     "text": [
      "Validation metric: 0.968912\n",
      "Validation loss: 0.8298261554241181\n",
      "----------------------------------------\n",
      "Epoch [2/30]\n"
     ]
    },
    {
     "name": "stderr",
     "output_type": "stream",
     "text": [
      "100%|██████████| 646/646 [00:06<00:00, 94.05it/s] \n"
     ]
    },
    {
     "name": "stdout",
     "output_type": "stream",
     "text": [
      "Train metric: 1.1216784\n",
      "Train loss: 1.0055279020369976\n"
     ]
    },
    {
     "name": "stderr",
     "output_type": "stream",
     "text": [
      "100%|██████████| 250/250 [00:02<00:00, 93.24it/s] \n"
     ]
    },
    {
     "name": "stdout",
     "output_type": "stream",
     "text": [
      "Validation metric: 1.0003829\n",
      "Validation loss: 0.882525358915329\n",
      "----------------------------------------\n",
      "Epoch [3/30]\n"
     ]
    },
    {
     "name": "stderr",
     "output_type": "stream",
     "text": [
      "100%|██████████| 646/646 [00:06<00:00, 94.23it/s] \n"
     ]
    },
    {
     "name": "stdout",
     "output_type": "stream",
     "text": [
      "Train metric: 1.0704273\n",
      "Train loss: 0.9401374346239278\n"
     ]
    },
    {
     "name": "stderr",
     "output_type": "stream",
     "text": [
      "100%|██████████| 250/250 [00:02<00:00, 89.42it/s] \n"
     ]
    },
    {
     "name": "stdout",
     "output_type": "stream",
     "text": [
      "Validation metric: 0.9595146\n",
      "Validation loss: 0.8239754830002785\n",
      "----------------------------------------\n",
      "Epoch [4/30]\n"
     ]
    },
    {
     "name": "stderr",
     "output_type": "stream",
     "text": [
      "100%|██████████| 646/646 [00:07<00:00, 91.04it/s] \n"
     ]
    },
    {
     "name": "stdout",
     "output_type": "stream",
     "text": [
      "Train metric: 1.0377972\n",
      "Train loss: 0.9006052798946207\n"
     ]
    },
    {
     "name": "stderr",
     "output_type": "stream",
     "text": [
      "100%|██████████| 250/250 [00:02<00:00, 93.77it/s] \n"
     ]
    },
    {
     "name": "stdout",
     "output_type": "stream",
     "text": [
      "Validation metric: 0.9125484\n",
      "Validation loss: 0.7418861184120178\n",
      "----------------------------------------\n",
      "Epoch [5/30]\n"
     ]
    },
    {
     "name": "stderr",
     "output_type": "stream",
     "text": [
      "100%|██████████| 646/646 [00:06<00:00, 92.67it/s] \n"
     ]
    },
    {
     "name": "stdout",
     "output_type": "stream",
     "text": [
      "Train metric: 1.0305816\n",
      "Train loss: 0.8903932970928334\n"
     ]
    },
    {
     "name": "stderr",
     "output_type": "stream",
     "text": [
      "100%|██████████| 250/250 [00:02<00:00, 94.09it/s] \n"
     ]
    },
    {
     "name": "stdout",
     "output_type": "stream",
     "text": [
      "Validation metric: 0.89397335\n",
      "Validation loss: 0.7195336742401123\n",
      "----------------------------------------\n",
      "Epoch [6/30]\n"
     ]
    },
    {
     "name": "stderr",
     "output_type": "stream",
     "text": [
      "100%|██████████| 646/646 [00:06<00:00, 94.72it/s] \n"
     ]
    },
    {
     "name": "stdout",
     "output_type": "stream",
     "text": [
      "Train metric: 1.021682\n",
      "Train loss: 0.8768047148321435\n"
     ]
    },
    {
     "name": "stderr",
     "output_type": "stream",
     "text": [
      "100%|██████████| 250/250 [00:02<00:00, 94.35it/s] \n"
     ]
    },
    {
     "name": "stdout",
     "output_type": "stream",
     "text": [
      "Validation metric: 0.8928312\n",
      "Validation loss: 0.7167318178415298\n",
      "----------------------------------------\n",
      "Epoch [7/30]\n"
     ]
    },
    {
     "name": "stderr",
     "output_type": "stream",
     "text": [
      "100%|██████████| 646/646 [00:07<00:00, 88.88it/s] \n"
     ]
    },
    {
     "name": "stdout",
     "output_type": "stream",
     "text": [
      "Train metric: 1.0169988\n",
      "Train loss: 0.8709767261295127\n"
     ]
    },
    {
     "name": "stderr",
     "output_type": "stream",
     "text": [
      "100%|██████████| 250/250 [00:02<00:00, 92.46it/s] \n"
     ]
    },
    {
     "name": "stdout",
     "output_type": "stream",
     "text": [
      "Validation metric: 0.90001106\n",
      "Validation loss: 0.7310384647250175\n",
      "----------------------------------------\n",
      "Epoch [8/30]\n"
     ]
    },
    {
     "name": "stderr",
     "output_type": "stream",
     "text": [
      "100%|██████████| 646/646 [00:06<00:00, 94.43it/s] \n"
     ]
    },
    {
     "name": "stdout",
     "output_type": "stream",
     "text": [
      "Train metric: 1.0144333\n",
      "Train loss: 0.8659696035756046\n"
     ]
    },
    {
     "name": "stderr",
     "output_type": "stream",
     "text": [
      "100%|██████████| 250/250 [00:02<00:00, 92.31it/s] \n"
     ]
    },
    {
     "name": "stdout",
     "output_type": "stream",
     "text": [
      "Validation metric: 0.9461509\n",
      "Validation loss: 0.800955649793148\n",
      "----------------------------------------\n",
      "Epoch [9/30]\n"
     ]
    },
    {
     "name": "stderr",
     "output_type": "stream",
     "text": [
      "100%|██████████| 646/646 [00:06<00:00, 94.25it/s] \n"
     ]
    },
    {
     "name": "stdout",
     "output_type": "stream",
     "text": [
      "Train metric: 1.0139811\n",
      "Train loss: 0.8655646619828123\n"
     ]
    },
    {
     "name": "stderr",
     "output_type": "stream",
     "text": [
      "100%|██████████| 250/250 [00:02<00:00, 92.84it/s] \n"
     ]
    },
    {
     "name": "stdout",
     "output_type": "stream",
     "text": [
      "Validation metric: 0.89765507\n",
      "Validation loss: 0.7175078095793724\n",
      "----------------------------------------\n",
      "Epoch [10/30]\n"
     ]
    },
    {
     "name": "stderr",
     "output_type": "stream",
     "text": [
      "100%|██████████| 646/646 [00:07<00:00, 89.81it/s] \n"
     ]
    },
    {
     "name": "stdout",
     "output_type": "stream",
     "text": [
      "Train metric: 1.0163641\n",
      "Train loss: 0.8677209376735214\n"
     ]
    },
    {
     "name": "stderr",
     "output_type": "stream",
     "text": [
      "100%|██████████| 250/250 [00:02<00:00, 94.62it/s] \n"
     ]
    },
    {
     "name": "stdout",
     "output_type": "stream",
     "text": [
      "Validation metric: 0.8980446\n",
      "Validation loss: 0.7309195358753204\n",
      "----------------------------------------\n",
      "Epoch [11/30]\n"
     ]
    },
    {
     "name": "stderr",
     "output_type": "stream",
     "text": [
      "100%|██████████| 646/646 [00:07<00:00, 92.28it/s] \n"
     ]
    },
    {
     "name": "stdout",
     "output_type": "stream",
     "text": [
      "Train metric: 1.0154536\n",
      "Train loss: 0.8692711713513354\n"
     ]
    },
    {
     "name": "stderr",
     "output_type": "stream",
     "text": [
      "100%|██████████| 250/250 [00:02<00:00, 93.47it/s] \n"
     ]
    },
    {
     "name": "stdout",
     "output_type": "stream",
     "text": [
      "Validation metric: 0.93096924\n",
      "Validation loss: 0.7681886338591576\n",
      "----------------------------------------\n",
      "Epoch [12/30]\n"
     ]
    },
    {
     "name": "stderr",
     "output_type": "stream",
     "text": [
      "100%|██████████| 646/646 [00:06<00:00, 93.81it/s] \n"
     ]
    },
    {
     "name": "stdout",
     "output_type": "stream",
     "text": [
      "Train metric: 1.0202149\n",
      "Train loss: 0.876141076394279\n"
     ]
    },
    {
     "name": "stderr",
     "output_type": "stream",
     "text": [
      "100%|██████████| 250/250 [00:02<00:00, 93.02it/s] \n"
     ]
    },
    {
     "name": "stdout",
     "output_type": "stream",
     "text": [
      "Validation metric: 0.9166677\n",
      "Validation loss: 0.7581661698818207\n",
      "----------------------------------------\n",
      "Epoch [13/30]\n"
     ]
    },
    {
     "name": "stderr",
     "output_type": "stream",
     "text": [
      "100%|██████████| 646/646 [00:06<00:00, 94.73it/s] \n"
     ]
    },
    {
     "name": "stdout",
     "output_type": "stream",
     "text": [
      "Train metric: 1.0222445\n",
      "Train loss: 0.875805389193743\n"
     ]
    },
    {
     "name": "stderr",
     "output_type": "stream",
     "text": [
      "100%|██████████| 250/250 [00:02<00:00, 83.61it/s] \n"
     ]
    },
    {
     "name": "stdout",
     "output_type": "stream",
     "text": [
      "Validation metric: 0.89017797\n",
      "Validation loss: 0.7130277223587036\n",
      "----------------------------------------\n",
      "Epoch [14/30]\n"
     ]
    },
    {
     "name": "stderr",
     "output_type": "stream",
     "text": [
      "100%|██████████| 646/646 [00:06<00:00, 93.46it/s] \n"
     ]
    },
    {
     "name": "stdout",
     "output_type": "stream",
     "text": [
      "Train metric: 1.0174295\n",
      "Train loss: 0.8717143940436581\n"
     ]
    },
    {
     "name": "stderr",
     "output_type": "stream",
     "text": [
      "100%|██████████| 250/250 [00:02<00:00, 92.28it/s] \n"
     ]
    },
    {
     "name": "stdout",
     "output_type": "stream",
     "text": [
      "Validation metric: 0.8944154\n",
      "Validation loss: 0.7236397913694381\n",
      "----------------------------------------\n",
      "Epoch [15/30]\n"
     ]
    },
    {
     "name": "stderr",
     "output_type": "stream",
     "text": [
      "100%|██████████| 646/646 [00:06<00:00, 93.38it/s] \n"
     ]
    },
    {
     "name": "stdout",
     "output_type": "stream",
     "text": [
      "Train metric: 1.0187054\n",
      "Train loss: 0.8724193589375484\n"
     ]
    },
    {
     "name": "stderr",
     "output_type": "stream",
     "text": [
      "100%|██████████| 250/250 [00:02<00:00, 93.52it/s] \n"
     ]
    },
    {
     "name": "stdout",
     "output_type": "stream",
     "text": [
      "Validation metric: 0.90617585\n",
      "Validation loss: 0.7424423230886459\n",
      "----------------------------------------\n",
      "Epoch [16/30]\n"
     ]
    },
    {
     "name": "stderr",
     "output_type": "stream",
     "text": [
      "100%|██████████| 646/646 [00:06<00:00, 94.17it/s] \n"
     ]
    },
    {
     "name": "stdout",
     "output_type": "stream",
     "text": [
      "Train metric: 1.0117856\n",
      "Train loss: 0.8653139664846308\n"
     ]
    },
    {
     "name": "stderr",
     "output_type": "stream",
     "text": [
      "100%|██████████| 250/250 [00:02<00:00, 93.04it/s] \n"
     ]
    },
    {
     "name": "stdout",
     "output_type": "stream",
     "text": [
      "Validation metric: 0.91123605\n",
      "Validation loss: 0.7427735451459885\n",
      "----------------------------------------\n",
      "Epoch [17/30]\n"
     ]
    },
    {
     "name": "stderr",
     "output_type": "stream",
     "text": [
      "100%|██████████| 646/646 [00:07<00:00, 88.80it/s] \n"
     ]
    },
    {
     "name": "stdout",
     "output_type": "stream",
     "text": [
      "Train metric: 1.0260417\n",
      "Train loss: 0.884920998946432\n"
     ]
    },
    {
     "name": "stderr",
     "output_type": "stream",
     "text": [
      "100%|██████████| 250/250 [00:02<00:00, 90.17it/s] \n"
     ]
    },
    {
     "name": "stdout",
     "output_type": "stream",
     "text": [
      "Validation metric: 1.0228539\n",
      "Validation loss: 0.916543142735958\n",
      "----------------------------------------\n",
      "Epoch [18/30]\n"
     ]
    },
    {
     "name": "stderr",
     "output_type": "stream",
     "text": [
      "100%|██████████| 646/646 [00:06<00:00, 93.05it/s] \n"
     ]
    },
    {
     "name": "stdout",
     "output_type": "stream",
     "text": [
      "Train metric: 1.0282834\n",
      "Train loss: 0.8841378500125726\n"
     ]
    },
    {
     "name": "stderr",
     "output_type": "stream",
     "text": [
      "100%|██████████| 250/250 [00:02<00:00, 92.95it/s] \n"
     ]
    },
    {
     "name": "stdout",
     "output_type": "stream",
     "text": [
      "Validation metric: 0.97324383\n",
      "Validation loss: 0.8454700653553009\n",
      "----------------------------------------\n",
      "Epoch [19/30]\n"
     ]
    },
    {
     "name": "stderr",
     "output_type": "stream",
     "text": [
      "100%|██████████| 646/646 [00:06<00:00, 94.22it/s] \n"
     ]
    },
    {
     "name": "stdout",
     "output_type": "stream",
     "text": [
      "Train metric: 1.0233454\n",
      "Train loss: 0.8762224962237081\n"
     ]
    },
    {
     "name": "stderr",
     "output_type": "stream",
     "text": [
      "100%|██████████| 250/250 [00:02<00:00, 91.75it/s] \n"
     ]
    },
    {
     "name": "stdout",
     "output_type": "stream",
     "text": [
      "Validation metric: 0.94655454\n",
      "Validation loss: 0.8022966084480285\n",
      "----------------------------------------\n",
      "Epoch [20/30]\n"
     ]
    },
    {
     "name": "stderr",
     "output_type": "stream",
     "text": [
      "100%|██████████| 646/646 [00:07<00:00, 87.74it/s] \n"
     ]
    },
    {
     "name": "stdout",
     "output_type": "stream",
     "text": [
      "Train metric: 1.0195794\n",
      "Train loss: 0.8748170978421397\n"
     ]
    },
    {
     "name": "stderr",
     "output_type": "stream",
     "text": [
      "100%|██████████| 250/250 [00:02<00:00, 95.30it/s] \n"
     ]
    },
    {
     "name": "stdout",
     "output_type": "stream",
     "text": [
      "Validation metric: 0.93122745\n",
      "Validation loss: 0.7805771209597587\n",
      "----------------------------------------\n",
      "Epoch [21/30]\n"
     ]
    },
    {
     "name": "stderr",
     "output_type": "stream",
     "text": [
      "100%|██████████| 646/646 [00:06<00:00, 93.76it/s] \n"
     ]
    },
    {
     "name": "stdout",
     "output_type": "stream",
     "text": [
      "Train metric: 1.0144366\n",
      "Train loss: 0.8694453380148477\n"
     ]
    },
    {
     "name": "stderr",
     "output_type": "stream",
     "text": [
      "100%|██████████| 250/250 [00:02<00:00, 92.57it/s] \n"
     ]
    },
    {
     "name": "stdout",
     "output_type": "stream",
     "text": [
      "Validation metric: 0.902094\n",
      "Validation loss: 0.7389615257978439\n",
      "----------------------------------------\n",
      "Epoch [22/30]\n"
     ]
    },
    {
     "name": "stderr",
     "output_type": "stream",
     "text": [
      "100%|██████████| 646/646 [00:06<00:00, 94.08it/s] \n"
     ]
    },
    {
     "name": "stdout",
     "output_type": "stream",
     "text": [
      "Train metric: 1.0222872\n",
      "Train loss: 0.8760337951843953\n"
     ]
    },
    {
     "name": "stderr",
     "output_type": "stream",
     "text": [
      "100%|██████████| 250/250 [00:02<00:00, 92.20it/s] \n"
     ]
    },
    {
     "name": "stdout",
     "output_type": "stream",
     "text": [
      "Validation metric: 0.9530039\n",
      "Validation loss: 0.8132106021642685\n",
      "----------------------------------------\n",
      "Epoch [23/30]\n"
     ]
    },
    {
     "name": "stderr",
     "output_type": "stream",
     "text": [
      "100%|██████████| 646/646 [00:06<00:00, 93.16it/s] \n"
     ]
    },
    {
     "name": "stdout",
     "output_type": "stream",
     "text": [
      "Train metric: 1.0180492\n",
      "Train loss: 0.8719981570408071\n"
     ]
    },
    {
     "name": "stderr",
     "output_type": "stream",
     "text": [
      "100%|██████████| 250/250 [00:03<00:00, 82.42it/s] \n"
     ]
    },
    {
     "name": "stdout",
     "output_type": "stream",
     "text": [
      "Validation metric: 0.88934433\n",
      "Validation loss: 0.7191458702087402\n",
      "----------------------------------------\n",
      "Epoch [24/30]\n"
     ]
    },
    {
     "name": "stderr",
     "output_type": "stream",
     "text": [
      "100%|██████████| 646/646 [00:06<00:00, 94.49it/s] \n"
     ]
    },
    {
     "name": "stdout",
     "output_type": "stream",
     "text": [
      "Train metric: 1.0188751\n",
      "Train loss: 0.8695015612955064\n"
     ]
    },
    {
     "name": "stderr",
     "output_type": "stream",
     "text": [
      "100%|██████████| 250/250 [00:02<00:00, 91.86it/s] \n"
     ]
    },
    {
     "name": "stdout",
     "output_type": "stream",
     "text": [
      "Validation metric: 0.8895029\n",
      "Validation loss: 0.7105397765040398\n",
      "----------------------------------------\n",
      "Epoch [25/30]\n"
     ]
    },
    {
     "name": "stderr",
     "output_type": "stream",
     "text": [
      "100%|██████████| 646/646 [00:06<00:00, 94.00it/s] \n"
     ]
    },
    {
     "name": "stdout",
     "output_type": "stream",
     "text": [
      "Train metric: 1.0126328\n",
      "Train loss: 0.8617376300157408\n"
     ]
    },
    {
     "name": "stderr",
     "output_type": "stream",
     "text": [
      "100%|██████████| 250/250 [00:02<00:00, 90.49it/s] \n"
     ]
    },
    {
     "name": "stdout",
     "output_type": "stream",
     "text": [
      "Validation metric: 0.91898483\n",
      "Validation loss: 0.7631154766082764\n",
      "----------------------------------------\n",
      "Epoch [26/30]\n"
     ]
    },
    {
     "name": "stderr",
     "output_type": "stream",
     "text": [
      "100%|██████████| 646/646 [00:06<00:00, 92.69it/s] \n"
     ]
    },
    {
     "name": "stdout",
     "output_type": "stream",
     "text": [
      "Train metric: 1.0101073\n",
      "Train loss: 0.8570770986216725\n"
     ]
    },
    {
     "name": "stderr",
     "output_type": "stream",
     "text": [
      "100%|██████████| 250/250 [00:02<00:00, 90.27it/s] \n"
     ]
    },
    {
     "name": "stdout",
     "output_type": "stream",
     "text": [
      "Validation metric: 0.88577396\n",
      "Validation loss: 0.7055326808691025\n",
      "----------------------------------------\n",
      "Epoch [27/30]\n"
     ]
    },
    {
     "name": "stderr",
     "output_type": "stream",
     "text": [
      "100%|██████████| 646/646 [00:07<00:00, 91.40it/s] \n"
     ]
    },
    {
     "name": "stdout",
     "output_type": "stream",
     "text": [
      "Train metric: 1.0218816\n",
      "Train loss: 0.8749063166533092\n"
     ]
    },
    {
     "name": "stderr",
     "output_type": "stream",
     "text": [
      "100%|██████████| 250/250 [00:02<00:00, 92.25it/s] \n"
     ]
    },
    {
     "name": "stdout",
     "output_type": "stream",
     "text": [
      "Validation metric: 0.9559541\n",
      "Validation loss: 0.8154891302585602\n",
      "----------------------------------------\n",
      "Epoch [28/30]\n"
     ]
    },
    {
     "name": "stderr",
     "output_type": "stream",
     "text": [
      "100%|██████████| 646/646 [00:06<00:00, 94.73it/s] \n"
     ]
    },
    {
     "name": "stdout",
     "output_type": "stream",
     "text": [
      "Train metric: 1.0231605\n",
      "Train loss: 0.8754891449868125\n"
     ]
    },
    {
     "name": "stderr",
     "output_type": "stream",
     "text": [
      "100%|██████████| 250/250 [00:02<00:00, 92.42it/s] \n"
     ]
    },
    {
     "name": "stdout",
     "output_type": "stream",
     "text": [
      "Validation metric: 1.0438123\n",
      "Validation loss: 0.9467601128816605\n",
      "----------------------------------------\n",
      "Epoch [29/30]\n"
     ]
    },
    {
     "name": "stderr",
     "output_type": "stream",
     "text": [
      "100%|██████████| 646/646 [00:06<00:00, 95.02it/s] \n"
     ]
    },
    {
     "name": "stdout",
     "output_type": "stream",
     "text": [
      "Train metric: 1.044795\n",
      "Train loss: 0.9051823329076678\n"
     ]
    },
    {
     "name": "stderr",
     "output_type": "stream",
     "text": [
      "100%|██████████| 250/250 [00:02<00:00, 91.26it/s] \n"
     ]
    },
    {
     "name": "stdout",
     "output_type": "stream",
     "text": [
      "Validation metric: 0.8893157\n",
      "Validation loss: 0.7095209909677506\n",
      "----------------------------------------\n",
      "Epoch [30/30]\n"
     ]
    },
    {
     "name": "stderr",
     "output_type": "stream",
     "text": [
      "100%|██████████| 646/646 [00:07<00:00, 89.41it/s] \n"
     ]
    },
    {
     "name": "stdout",
     "output_type": "stream",
     "text": [
      "Train metric: 1.037818\n",
      "Train loss: 0.8945267057917067\n"
     ]
    },
    {
     "name": "stderr",
     "output_type": "stream",
     "text": [
      "100%|██████████| 250/250 [00:02<00:00, 91.94it/s] \n"
     ]
    },
    {
     "name": "stdout",
     "output_type": "stream",
     "text": [
      "Validation metric: 0.9329183\n",
      "Validation loss: 0.7820859414935112\n",
      "----------------------------------------\n",
      "Fold [4/4]\n",
      "Epoch [1/30]\n"
     ]
    },
    {
     "name": "stderr",
     "output_type": "stream",
     "text": [
      "100%|██████████| 757/757 [00:07<00:00, 96.09it/s] \n"
     ]
    },
    {
     "name": "stdout",
     "output_type": "stream",
     "text": [
      "Train metric: 0.94696856\n",
      "Train loss: 0.7807581962493483\n"
     ]
    },
    {
     "name": "stderr",
     "output_type": "stream",
     "text": [
      "100%|██████████| 138/138 [00:01<00:00, 77.76it/s] \n"
     ]
    },
    {
     "name": "stdout",
     "output_type": "stream",
     "text": [
      "Validation metric: 1.1247393\n",
      "Validation loss: 1.010336999659953\n",
      "----------------------------------------\n",
      "Epoch [2/30]\n"
     ]
    },
    {
     "name": "stderr",
     "output_type": "stream",
     "text": [
      "100%|██████████| 757/757 [00:07<00:00, 95.62it/s] \n"
     ]
    },
    {
     "name": "stdout",
     "output_type": "stream",
     "text": [
      "Train metric: 0.93495494\n",
      "Train loss: 0.765725587129278\n"
     ]
    },
    {
     "name": "stderr",
     "output_type": "stream",
     "text": [
      "100%|██████████| 138/138 [00:01<00:00, 79.31it/s] \n"
     ]
    },
    {
     "name": "stdout",
     "output_type": "stream",
     "text": [
      "Validation metric: 1.1666335\n",
      "Validation loss: 1.056546078859896\n",
      "----------------------------------------\n",
      "Epoch [3/30]\n"
     ]
    },
    {
     "name": "stderr",
     "output_type": "stream",
     "text": [
      "100%|██████████| 757/757 [00:08<00:00, 90.42it/s] \n"
     ]
    },
    {
     "name": "stdout",
     "output_type": "stream",
     "text": [
      "Train metric: 1.045807\n",
      "Train loss: 0.9034328061688687\n"
     ]
    },
    {
     "name": "stderr",
     "output_type": "stream",
     "text": [
      "100%|██████████| 138/138 [00:01<00:00, 79.82it/s] \n"
     ]
    },
    {
     "name": "stdout",
     "output_type": "stream",
     "text": [
      "Validation metric: 1.3643585\n",
      "Validation loss: 1.3389905410400336\n",
      "----------------------------------------\n",
      "Epoch [4/30]\n"
     ]
    },
    {
     "name": "stderr",
     "output_type": "stream",
     "text": [
      "100%|██████████| 757/757 [00:07<00:00, 95.04it/s] \n"
     ]
    },
    {
     "name": "stdout",
     "output_type": "stream",
     "text": [
      "Train metric: 1.0511475\n",
      "Train loss: 0.908796070864525\n"
     ]
    },
    {
     "name": "stderr",
     "output_type": "stream",
     "text": [
      "100%|██████████| 138/138 [00:01<00:00, 80.91it/s] \n"
     ]
    },
    {
     "name": "stdout",
     "output_type": "stream",
     "text": [
      "Validation metric: 1.2134019\n",
      "Validation loss: 1.1171708882286928\n",
      "----------------------------------------\n",
      "Epoch [5/30]\n"
     ]
    },
    {
     "name": "stderr",
     "output_type": "stream",
     "text": [
      "100%|██████████| 757/757 [00:07<00:00, 95.29it/s] \n"
     ]
    },
    {
     "name": "stdout",
     "output_type": "stream",
     "text": [
      "Train metric: 1.0221126\n",
      "Train loss: 0.8740007106111418\n"
     ]
    },
    {
     "name": "stderr",
     "output_type": "stream",
     "text": [
      "100%|██████████| 138/138 [00:01<00:00, 81.09it/s] \n"
     ]
    },
    {
     "name": "stdout",
     "output_type": "stream",
     "text": [
      "Validation metric: 1.1464446\n",
      "Validation loss: 1.0409235500771066\n",
      "----------------------------------------\n",
      "Epoch [6/30]\n"
     ]
    },
    {
     "name": "stderr",
     "output_type": "stream",
     "text": [
      "100%|██████████| 757/757 [00:08<00:00, 94.07it/s] \n"
     ]
    },
    {
     "name": "stdout",
     "output_type": "stream",
     "text": [
      "Train metric: 1.0035095\n",
      "Train loss: 0.8554439913565133\n"
     ]
    },
    {
     "name": "stderr",
     "output_type": "stream",
     "text": [
      "100%|██████████| 138/138 [00:01<00:00, 70.98it/s] \n"
     ]
    },
    {
     "name": "stdout",
     "output_type": "stream",
     "text": [
      "Validation metric: 1.2277985\n",
      "Validation loss: 1.1413002076788226\n",
      "----------------------------------------\n",
      "Epoch [7/30]\n"
     ]
    },
    {
     "name": "stderr",
     "output_type": "stream",
     "text": [
      "100%|██████████| 757/757 [00:07<00:00, 94.83it/s] \n"
     ]
    },
    {
     "name": "stdout",
     "output_type": "stream",
     "text": [
      "Train metric: 0.99685663\n",
      "Train loss: 0.848194224969084\n"
     ]
    },
    {
     "name": "stderr",
     "output_type": "stream",
     "text": [
      "100%|██████████| 138/138 [00:01<00:00, 79.25it/s] \n"
     ]
    },
    {
     "name": "stdout",
     "output_type": "stream",
     "text": [
      "Validation metric: 1.2078576\n",
      "Validation loss: 1.1117419196643692\n",
      "----------------------------------------\n",
      "Epoch [8/30]\n"
     ]
    },
    {
     "name": "stderr",
     "output_type": "stream",
     "text": [
      "100%|██████████| 757/757 [00:08<00:00, 94.44it/s] \n"
     ]
    },
    {
     "name": "stdout",
     "output_type": "stream",
     "text": [
      "Train metric: 0.99424475\n",
      "Train loss: 0.8425471866540266\n"
     ]
    },
    {
     "name": "stderr",
     "output_type": "stream",
     "text": [
      "100%|██████████| 138/138 [00:01<00:00, 79.75it/s] \n"
     ]
    },
    {
     "name": "stdout",
     "output_type": "stream",
     "text": [
      "Validation metric: 1.2753453\n",
      "Validation loss: 1.2199744873720666\n",
      "----------------------------------------\n",
      "Epoch [9/30]\n"
     ]
    },
    {
     "name": "stderr",
     "output_type": "stream",
     "text": [
      "100%|██████████| 757/757 [00:08<00:00, 94.53it/s] \n"
     ]
    },
    {
     "name": "stdout",
     "output_type": "stream",
     "text": [
      "Train metric: 0.99175364\n",
      "Train loss: 0.8420212328670205\n"
     ]
    },
    {
     "name": "stderr",
     "output_type": "stream",
     "text": [
      "100%|██████████| 138/138 [00:01<00:00, 79.25it/s] \n"
     ]
    },
    {
     "name": "stdout",
     "output_type": "stream",
     "text": [
      "Validation metric: 1.2242643\n",
      "Validation loss: 1.132544237850369\n",
      "----------------------------------------\n",
      "Epoch [10/30]\n"
     ]
    },
    {
     "name": "stderr",
     "output_type": "stream",
     "text": [
      "100%|██████████| 757/757 [00:08<00:00, 90.95it/s] \n"
     ]
    },
    {
     "name": "stdout",
     "output_type": "stream",
     "text": [
      "Train metric: 0.99880284\n",
      "Train loss: 0.852589265988399\n"
     ]
    },
    {
     "name": "stderr",
     "output_type": "stream",
     "text": [
      "100%|██████████| 138/138 [00:01<00:00, 80.28it/s] \n"
     ]
    },
    {
     "name": "stdout",
     "output_type": "stream",
     "text": [
      "Validation metric: 1.2013001\n",
      "Validation loss: 1.1152451431405717\n",
      "----------------------------------------\n",
      "Epoch [11/30]\n"
     ]
    },
    {
     "name": "stderr",
     "output_type": "stream",
     "text": [
      "100%|██████████| 757/757 [00:07<00:00, 95.31it/s] \n"
     ]
    },
    {
     "name": "stdout",
     "output_type": "stream",
     "text": [
      "Train metric: 0.9891385\n",
      "Train loss: 0.8408455604212445\n"
     ]
    },
    {
     "name": "stderr",
     "output_type": "stream",
     "text": [
      "100%|██████████| 138/138 [00:01<00:00, 80.48it/s] \n"
     ]
    },
    {
     "name": "stdout",
     "output_type": "stream",
     "text": [
      "Validation metric: 1.1979363\n",
      "Validation loss: 1.120344087049581\n",
      "----------------------------------------\n",
      "Epoch [12/30]\n"
     ]
    },
    {
     "name": "stderr",
     "output_type": "stream",
     "text": [
      "100%|██████████| 757/757 [00:08<00:00, 94.23it/s] \n"
     ]
    },
    {
     "name": "stdout",
     "output_type": "stream",
     "text": [
      "Train metric: 0.98254824\n",
      "Train loss: 0.8302637857718386\n"
     ]
    },
    {
     "name": "stderr",
     "output_type": "stream",
     "text": [
      "100%|██████████| 138/138 [00:01<00:00, 80.02it/s] \n"
     ]
    },
    {
     "name": "stdout",
     "output_type": "stream",
     "text": [
      "Validation metric: 1.1730081\n",
      "Validation loss: 1.0551364989816279\n",
      "----------------------------------------\n",
      "Epoch [13/30]\n"
     ]
    },
    {
     "name": "stderr",
     "output_type": "stream",
     "text": [
      "100%|██████████| 757/757 [00:08<00:00, 90.99it/s] \n"
     ]
    },
    {
     "name": "stdout",
     "output_type": "stream",
     "text": [
      "Train metric: 0.9903487\n",
      "Train loss: 0.8424123209880239\n"
     ]
    },
    {
     "name": "stderr",
     "output_type": "stream",
     "text": [
      "100%|██████████| 138/138 [00:01<00:00, 80.13it/s] \n"
     ]
    },
    {
     "name": "stdout",
     "output_type": "stream",
     "text": [
      "Validation metric: 1.221348\n",
      "Validation loss: 1.1497482860433883\n",
      "----------------------------------------\n",
      "Epoch [14/30]\n"
     ]
    },
    {
     "name": "stderr",
     "output_type": "stream",
     "text": [
      "100%|██████████| 757/757 [00:08<00:00, 94.19it/s] \n"
     ]
    },
    {
     "name": "stdout",
     "output_type": "stream",
     "text": [
      "Train metric: 0.98250246\n",
      "Train loss: 0.8316559970300138\n"
     ]
    },
    {
     "name": "stderr",
     "output_type": "stream",
     "text": [
      "100%|██████████| 138/138 [00:01<00:00, 77.34it/s] \n"
     ]
    },
    {
     "name": "stdout",
     "output_type": "stream",
     "text": [
      "Validation metric: 1.2526953\n",
      "Validation loss: 1.197158507246902\n",
      "----------------------------------------\n",
      "Epoch [15/30]\n"
     ]
    },
    {
     "name": "stderr",
     "output_type": "stream",
     "text": [
      "100%|██████████| 757/757 [00:08<00:00, 94.57it/s] \n"
     ]
    },
    {
     "name": "stdout",
     "output_type": "stream",
     "text": [
      "Train metric: 0.9832175\n",
      "Train loss: 0.8300877341033603\n"
     ]
    },
    {
     "name": "stderr",
     "output_type": "stream",
     "text": [
      "100%|██████████| 138/138 [00:01<00:00, 76.28it/s] \n"
     ]
    },
    {
     "name": "stdout",
     "output_type": "stream",
     "text": [
      "Validation metric: 1.3204304\n",
      "Validation loss: 1.298319293105084\n",
      "----------------------------------------\n",
      "Epoch [16/30]\n"
     ]
    },
    {
     "name": "stderr",
     "output_type": "stream",
     "text": [
      "100%|██████████| 757/757 [00:08<00:00, 90.47it/s] \n"
     ]
    },
    {
     "name": "stdout",
     "output_type": "stream",
     "text": [
      "Train metric: 1.0225964\n",
      "Train loss: 0.8835821483220261\n"
     ]
    },
    {
     "name": "stderr",
     "output_type": "stream",
     "text": [
      "100%|██████████| 138/138 [00:01<00:00, 77.52it/s] \n"
     ]
    },
    {
     "name": "stdout",
     "output_type": "stream",
     "text": [
      "Validation metric: 1.1902201\n",
      "Validation loss: 1.0977850711863975\n",
      "----------------------------------------\n",
      "Epoch [17/30]\n"
     ]
    },
    {
     "name": "stderr",
     "output_type": "stream",
     "text": [
      "100%|██████████| 757/757 [00:08<00:00, 94.48it/s] \n"
     ]
    },
    {
     "name": "stdout",
     "output_type": "stream",
     "text": [
      "Train metric: 1.0116621\n",
      "Train loss: 0.8706085179567022\n"
     ]
    },
    {
     "name": "stderr",
     "output_type": "stream",
     "text": [
      "100%|██████████| 138/138 [00:01<00:00, 79.54it/s] \n"
     ]
    },
    {
     "name": "stdout",
     "output_type": "stream",
     "text": [
      "Validation metric: 1.207154\n",
      "Validation loss: 1.1130600314641343\n",
      "----------------------------------------\n",
      "Epoch [18/30]\n"
     ]
    },
    {
     "name": "stderr",
     "output_type": "stream",
     "text": [
      "100%|██████████| 757/757 [00:07<00:00, 94.78it/s] \n"
     ]
    },
    {
     "name": "stdout",
     "output_type": "stream",
     "text": [
      "Train metric: 1.0031044\n",
      "Train loss: 0.8575179585928646\n"
     ]
    },
    {
     "name": "stderr",
     "output_type": "stream",
     "text": [
      "100%|██████████| 138/138 [00:01<00:00, 76.83it/s] \n"
     ]
    },
    {
     "name": "stdout",
     "output_type": "stream",
     "text": [
      "Validation metric: 1.2377791\n",
      "Validation loss: 1.1496088932389799\n",
      "----------------------------------------\n",
      "Epoch [19/30]\n"
     ]
    },
    {
     "name": "stderr",
     "output_type": "stream",
     "text": [
      "100%|██████████| 757/757 [00:08<00:00, 91.82it/s] \n"
     ]
    },
    {
     "name": "stdout",
     "output_type": "stream",
     "text": [
      "Train metric: 1.0023285\n",
      "Train loss: 0.8605871445633461\n"
     ]
    },
    {
     "name": "stderr",
     "output_type": "stream",
     "text": [
      "100%|██████████| 138/138 [00:01<00:00, 75.97it/s] \n"
     ]
    },
    {
     "name": "stdout",
     "output_type": "stream",
     "text": [
      "Validation metric: 1.2554544\n",
      "Validation loss: 1.1717277223217315\n",
      "----------------------------------------\n",
      "Epoch [20/30]\n"
     ]
    },
    {
     "name": "stderr",
     "output_type": "stream",
     "text": [
      "100%|██████████| 757/757 [00:07<00:00, 94.99it/s] \n"
     ]
    },
    {
     "name": "stdout",
     "output_type": "stream",
     "text": [
      "Train metric: 1.0008758\n",
      "Train loss: 0.8559340837767133\n"
     ]
    },
    {
     "name": "stderr",
     "output_type": "stream",
     "text": [
      "100%|██████████| 138/138 [00:01<00:00, 80.56it/s] \n"
     ]
    },
    {
     "name": "stdout",
     "output_type": "stream",
     "text": [
      "Validation metric: 1.3578961\n",
      "Validation loss: 1.342452930799429\n",
      "----------------------------------------\n",
      "Epoch [21/30]\n"
     ]
    },
    {
     "name": "stderr",
     "output_type": "stream",
     "text": [
      "100%|██████████| 757/757 [00:08<00:00, 93.99it/s] \n"
     ]
    },
    {
     "name": "stdout",
     "output_type": "stream",
     "text": [
      "Train metric: 1.0075791\n",
      "Train loss: 0.8608468272569473\n"
     ]
    },
    {
     "name": "stderr",
     "output_type": "stream",
     "text": [
      "100%|██████████| 138/138 [00:01<00:00, 79.76it/s] \n"
     ]
    },
    {
     "name": "stdout",
     "output_type": "stream",
     "text": [
      "Validation metric: 1.4252346\n",
      "Validation loss: 1.4299284824426624\n",
      "----------------------------------------\n",
      "Epoch [22/30]\n"
     ]
    },
    {
     "name": "stderr",
     "output_type": "stream",
     "text": [
      "100%|██████████| 757/757 [00:08<00:00, 93.62it/s] \n"
     ]
    },
    {
     "name": "stdout",
     "output_type": "stream",
     "text": [
      "Train metric: 1.0515332\n",
      "Train loss: 0.9112930337220548\n"
     ]
    },
    {
     "name": "stderr",
     "output_type": "stream",
     "text": [
      "100%|██████████| 138/138 [00:01<00:00, 77.16it/s] \n"
     ]
    },
    {
     "name": "stdout",
     "output_type": "stream",
     "text": [
      "Validation metric: 1.2516373\n",
      "Validation loss: 1.163321357274401\n",
      "----------------------------------------\n",
      "Epoch [23/30]\n"
     ]
    },
    {
     "name": "stderr",
     "output_type": "stream",
     "text": [
      "100%|██████████| 757/757 [00:08<00:00, 91.83it/s] \n"
     ]
    },
    {
     "name": "stdout",
     "output_type": "stream",
     "text": [
      "Train metric: 1.0449392\n",
      "Train loss: 0.9000988039268055\n"
     ]
    },
    {
     "name": "stderr",
     "output_type": "stream",
     "text": [
      "100%|██████████| 138/138 [00:01<00:00, 80.58it/s] \n"
     ]
    },
    {
     "name": "stdout",
     "output_type": "stream",
     "text": [
      "Validation metric: 1.3436112\n",
      "Validation loss: 1.309848098003346\n",
      "----------------------------------------\n",
      "Epoch [24/30]\n"
     ]
    },
    {
     "name": "stderr",
     "output_type": "stream",
     "text": [
      "100%|██████████| 757/757 [00:07<00:00, 94.93it/s] \n"
     ]
    },
    {
     "name": "stdout",
     "output_type": "stream",
     "text": [
      "Train metric: 1.0346346\n",
      "Train loss: 0.8870902937619185\n"
     ]
    },
    {
     "name": "stderr",
     "output_type": "stream",
     "text": [
      "100%|██████████| 138/138 [00:01<00:00, 81.48it/s] \n"
     ]
    },
    {
     "name": "stdout",
     "output_type": "stream",
     "text": [
      "Validation metric: 1.336132\n",
      "Validation loss: 1.2900964196609415\n",
      "----------------------------------------\n",
      "Epoch [25/30]\n"
     ]
    },
    {
     "name": "stderr",
     "output_type": "stream",
     "text": [
      "100%|██████████| 757/757 [00:08<00:00, 94.60it/s] \n"
     ]
    },
    {
     "name": "stdout",
     "output_type": "stream",
     "text": [
      "Train metric: 1.0128663\n",
      "Train loss: 0.8637010618315978\n"
     ]
    },
    {
     "name": "stderr",
     "output_type": "stream",
     "text": [
      "100%|██████████| 138/138 [00:01<00:00, 79.95it/s] \n"
     ]
    },
    {
     "name": "stdout",
     "output_type": "stream",
     "text": [
      "Validation metric: 1.1499195\n",
      "Validation loss: 1.0628337130166483\n",
      "----------------------------------------\n",
      "Epoch [26/30]\n"
     ]
    },
    {
     "name": "stderr",
     "output_type": "stream",
     "text": [
      "100%|██████████| 757/757 [00:08<00:00, 90.00it/s] \n"
     ]
    },
    {
     "name": "stdout",
     "output_type": "stream",
     "text": [
      "Train metric: 1.0171368\n",
      "Train loss: 0.8729641962122255\n"
     ]
    },
    {
     "name": "stderr",
     "output_type": "stream",
     "text": [
      "100%|██████████| 138/138 [00:01<00:00, 79.50it/s] \n"
     ]
    },
    {
     "name": "stdout",
     "output_type": "stream",
     "text": [
      "Validation metric: 1.1887411\n",
      "Validation loss: 1.081439739768056\n",
      "----------------------------------------\n",
      "Epoch [27/30]\n"
     ]
    },
    {
     "name": "stderr",
     "output_type": "stream",
     "text": [
      "100%|██████████| 757/757 [00:08<00:00, 94.15it/s] \n"
     ]
    },
    {
     "name": "stdout",
     "output_type": "stream",
     "text": [
      "Train metric: 1.0012794\n",
      "Train loss: 0.8553930159604062\n"
     ]
    },
    {
     "name": "stderr",
     "output_type": "stream",
     "text": [
      "100%|██████████| 138/138 [00:01<00:00, 79.87it/s] \n"
     ]
    },
    {
     "name": "stdout",
     "output_type": "stream",
     "text": [
      "Validation metric: 1.1810386\n",
      "Validation loss: 1.080652900364088\n",
      "----------------------------------------\n",
      "Epoch [28/30]\n"
     ]
    },
    {
     "name": "stderr",
     "output_type": "stream",
     "text": [
      "100%|██████████| 757/757 [00:08<00:00, 94.23it/s] \n"
     ]
    },
    {
     "name": "stdout",
     "output_type": "stream",
     "text": [
      "Train metric: 1.0109364\n",
      "Train loss: 0.8632365123441387\n"
     ]
    },
    {
     "name": "stderr",
     "output_type": "stream",
     "text": [
      "100%|██████████| 138/138 [00:01<00:00, 79.61it/s] \n"
     ]
    },
    {
     "name": "stdout",
     "output_type": "stream",
     "text": [
      "Validation metric: 1.2296299\n",
      "Validation loss: 1.1448998446913734\n",
      "----------------------------------------\n",
      "Epoch [29/30]\n"
     ]
    },
    {
     "name": "stderr",
     "output_type": "stream",
     "text": [
      "100%|██████████| 757/757 [00:08<00:00, 90.10it/s] \n"
     ]
    },
    {
     "name": "stdout",
     "output_type": "stream",
     "text": [
      "Train metric: 1.0098859\n",
      "Train loss: 0.8630454677256757\n"
     ]
    },
    {
     "name": "stderr",
     "output_type": "stream",
     "text": [
      "100%|██████████| 138/138 [00:01<00:00, 80.76it/s] \n"
     ]
    },
    {
     "name": "stdout",
     "output_type": "stream",
     "text": [
      "Validation metric: 1.2432029\n",
      "Validation loss: 1.1710936059986337\n",
      "----------------------------------------\n",
      "Epoch [30/30]\n"
     ]
    },
    {
     "name": "stderr",
     "output_type": "stream",
     "text": [
      "100%|██████████| 757/757 [00:08<00:00, 94.59it/s] \n"
     ]
    },
    {
     "name": "stdout",
     "output_type": "stream",
     "text": [
      "Train metric: 1.0112703\n",
      "Train loss: 0.8674720947973952\n"
     ]
    },
    {
     "name": "stderr",
     "output_type": "stream",
     "text": [
      "100%|██████████| 138/138 [00:01<00:00, 80.12it/s] "
     ]
    },
    {
     "name": "stdout",
     "output_type": "stream",
     "text": [
      "Validation metric: 1.1382113\n",
      "Validation loss: 1.0414554580398228\n",
      "----------------------------------------\n"
     ]
    },
    {
     "name": "stderr",
     "output_type": "stream",
     "text": [
      "\n"
     ]
    }
   ],
   "source": [
    "cv = GroupKFold(n_splits=4)\n",
    "groups = train_df['prompt_id']\n",
    "for index, (train_idx, test_idx) in enumerate(cv.split(train_df['clean_text'], train_df[['content', 'wording']], groups=groups), start=1):\n",
    "    # Store fold-specific data\n",
    "    train_all_epoch_outputs = []\n",
    "    train_all_epoch_losses = []\n",
    "    train_all_epoch_targets = []\n",
    "    valid_all_epoch_outputs = []\n",
    "    valid_all_epoch_losses = []\n",
    "    valid_all_epoch_targets = []\n",
    "    valid_metrics = []\n",
    "    train_metrics = []\n",
    "    best_metric = np.inf\n",
    "    best_model_state_dict = None\n",
    "    \n",
    "    print(f'Fold [{index}/{4}]')\n",
    "#     if index != 3:\n",
    "#         print(f'Skipped Fold [{index}/{4}]')\n",
    "#         continue\n",
    "    \n",
    "    # Split into train and validation\n",
    "    X_train, X_test = train_df['clean_text'].iloc[train_idx].to_list(), train_df['clean_text'].iloc[test_idx].to_list()\n",
    "    y_train, y_test = train_df[['content', 'wording']].iloc[train_idx].to_numpy(), \\\n",
    "        train_df[['content', 'wording']].iloc[test_idx].to_numpy()\n",
    "\n",
    "    # Create datasets and dataloaders\n",
    "    train_dataset = TextDataset(X_train, y_train, max_length, embedding_model, model_type)\n",
    "    train_dataloader = DataLoader(train_dataset, batch_size=batch_size, drop_last=True, shuffle=True, pin_memory=True, num_workers=4)\n",
    "    valid_dataset = TextDataset(X_test, y_test, max_length, embedding_model, model_type)\n",
    "    valid_dataloader = DataLoader(valid_dataset, batch_size=batch_size, drop_last=False, shuffle=False, pin_memory=True, num_workers=4)\n",
    "\n",
    "    # Create model and perform training and validation\n",
    "    model = RNNRegressor(rnn_type, input_size, hidden_size, num_layers, bidirectional, dropout_rate, average_type).to(device)\n",
    "    criterion = loss_functions.get('huber')\n",
    "    optimizer = torch.optim.Adam(model.parameters(), lr=learning_rate)\n",
    "    scheduler = torch.optim.lr_scheduler.ReduceLROnPlateau(optimizer, patience=2, factor=0.5, min_lr=1e-6, mode='min', verbose=True)\n",
    "    for epoch in range(1, num_epochs + 1):\n",
    "        print(f'Epoch [{epoch}/{num_epochs}]')\n",
    "\n",
    "        # Training phase\n",
    "        all_outputs_train, all_losses_train, all_targets_train = torch_loop(\n",
    "            model, criterion, optimizer, train_dataloader, device, 'train'\n",
    "        )\n",
    "        train_metric = compute_mcrmse_numpy(\n",
    "            all_targets_train, \n",
    "            all_outputs_train\n",
    "        )\n",
    "        print(\"Train metric:\", train_metric)\n",
    "        print(\"Train loss:\", np.array(all_losses_train).mean())\n",
    "\n",
    "        # Validation phase\n",
    "        all_outputs_valid, all_losses_valid, all_targets_valid = torch_loop(\n",
    "            model, criterion, optimizer, valid_dataloader, device, 'valid'\n",
    "        )\n",
    "        valid_metric = compute_mcrmse_numpy(\n",
    "            all_targets_valid, \n",
    "            all_outputs_valid\n",
    "        )\n",
    "        print(\"Validation metric:\", valid_metric)\n",
    "        print(\"Validation loss:\", np.array(all_losses_valid).mean())\n",
    "\n",
    "        # Scheduler update\n",
    "#         scheduler.step(valid_metric)\n",
    "        # Save best model\n",
    "        if valid_metric < best_metric:\n",
    "            best_metric = valid_metric\n",
    "            best_model_state_dict = deepcopy(model.state_dict())\n",
    "        # Accumulate all stats  \n",
    "        train_all_epoch_outputs.append(all_outputs_train)\n",
    "        train_all_epoch_losses.append(all_losses_train)\n",
    "        train_all_epoch_targets.append(all_targets_train)\n",
    "        valid_all_epoch_outputs.append(all_outputs_valid)\n",
    "        valid_all_epoch_losses.append(all_losses_valid)\n",
    "        valid_all_epoch_targets.append(all_targets_valid)\n",
    "        valid_metrics.append(valid_metric)\n",
    "        train_metrics.append(train_metric)\n",
    "        \n",
    "        print('-' * 40)\n",
    "\n",
    "    fold_data[f'fold_{index}'] = {\n",
    "        'train_all_epoch_outputs': train_all_epoch_outputs,\n",
    "        'train_all_epoch_losses': train_all_epoch_losses,\n",
    "        'train_all_epoch_targets': train_all_epoch_targets,\n",
    "        'valid_all_epoch_outputs': valid_all_epoch_outputs,\n",
    "        'valid_all_epoch_losses': valid_all_epoch_losses,\n",
    "        'valid_all_epoch_targets': valid_all_epoch_targets,\n",
    "        'valid_metrics': valid_metrics,\n",
    "        'train_metrics': train_metrics,\n",
    "        'best_metric': best_metric,\n",
    "        'best_model_state_dict': best_model_state_dict\n",
    "    }"
   ]
  },
  {
   "cell_type": "code",
   "execution_count": 77,
   "id": "f7987c02",
   "metadata": {
    "execution": {
     "iopub.execute_input": "2023-10-22T20:43:51.485084Z",
     "iopub.status.busy": "2023-10-22T20:43:51.484293Z",
     "iopub.status.idle": "2023-10-22T20:43:51.490573Z",
     "shell.execute_reply": "2023-10-22T20:43:51.489541Z",
     "shell.execute_reply.started": "2023-10-22T20:43:51.485053Z"
    }
   },
   "outputs": [
    {
     "name": "stdout",
     "output_type": "stream",
     "text": [
      "0.9312241\n",
      "0.9163251\n",
      "0.88577396\n",
      "1.1247393\n"
     ]
    }
   ],
   "source": [
    "for key, data in fold_data.items():\n",
    "    print(data.get('best_metric'))"
   ]
  },
  {
   "cell_type": "code",
   "execution_count": 78,
   "id": "7871d576",
   "metadata": {
    "execution": {
     "iopub.execute_input": "2023-10-22T20:43:53.909673Z",
     "iopub.status.busy": "2023-10-22T20:43:53.908693Z",
     "iopub.status.idle": "2023-10-22T20:43:54.551473Z",
     "shell.execute_reply": "2023-10-22T20:43:54.550387Z",
     "shell.execute_reply.started": "2023-10-22T20:43:53.909630Z"
    }
   },
   "outputs": [
    {
     "data": {
      "image/png": "[encoded data removed]",
      "text/plain": [
       "<Figure size 1200x600 with 2 Axes>"
      ]
     },
     "metadata": {},
     "output_type": "display_data"
    }
   ],
   "source": [
    "fig, axes = plt.subplots(1, 2, figsize=(12, 6))\n",
    "\n",
    "for index in range(1, 5):\n",
    "    axes[0].plot(fold_data.get(f'fold_{index}').get('valid_metrics'), label=f'fold_{index}')\n",
    "    axes[0].set_title('Validation MCRMSE in all folds')\n",
    "    axes[0].legend()\n",
    "\n",
    "    axes[1].plot(np.mean(fold_data.get(f'fold_{index}').get('valid_all_epoch_losses'), axis=1), label=f'fold_{index}')\n",
    "    axes[1].set_title('Validation loss in all folds')\n",
    "    axes[1].legend()\n",
    "\n",
    "\n",
    "plt.show();"
   ]
  },
  {
   "cell_type": "code",
   "execution_count": 79,
   "id": "e72a63cb",
   "metadata": {
    "execution": {
     "iopub.execute_input": "2023-10-22T20:44:02.439992Z",
     "iopub.status.busy": "2023-10-22T20:44:02.439014Z",
     "iopub.status.idle": "2023-10-22T20:44:03.039481Z",
     "shell.execute_reply": "2023-10-22T20:44:03.038409Z",
     "shell.execute_reply.started": "2023-10-22T20:44:02.439952Z"
    }
   },
   "outputs": [
    {
     "data": {
      "image/png": "[encoded data removed]",
      "text/plain": [
       "<Figure size 1200x600 with 2 Axes>"
      ]
     },
     "metadata": {},
     "output_type": "display_data"
    }
   ],
   "source": [
    "fig, axes = plt.subplots(1, 2, figsize=(12, 6))\n",
    "\n",
    "for index in range(1, 5):\n",
    "    axes[0].plot(fold_data.get(f'fold_{index}').get('train_metrics'), label=f'fold_{index}')\n",
    "    axes[0].set_title('Train MCRMSE in all folds')\n",
    "    axes[0].legend()\n",
    "\n",
    "    axes[1].plot(np.mean(fold_data.get(f'fold_{index}').get('train_all_epoch_losses'), axis=1), label=f'fold_{index}')\n",
    "    axes[1].set_title('Train loss in all folds')\n",
    "    axes[1].legend()\n",
    "\n",
    "\n",
    "plt.show();"
   ]
  },
  {
   "cell_type": "code",
   "execution_count": 84,
   "id": "785e1315",
   "metadata": {
    "execution": {
     "iopub.execute_input": "2023-10-22T21:04:07.715085Z",
     "iopub.status.busy": "2023-10-22T21:04:07.714032Z",
     "iopub.status.idle": "2023-10-22T21:04:07.939272Z",
     "shell.execute_reply": "2023-10-22T21:04:07.938243Z",
     "shell.execute_reply.started": "2023-10-22T21:04:07.715042Z"
    }
   },
   "outputs": [],
   "source": [
    "import pickle\n",
    "\n",
    "# Initialize an empty list to store experiment data\n",
    "experiment_list = []\n",
    "\n",
    "# Loop through each experiment file\n",
    "for exp_num in range(1, 6):\n",
    "    filename = f'experiment_{exp_num}.pickle'\n",
    "    \n",
    "    # Check if the file exists\n",
    "    if os.path.exists(filename):\n",
    "        # Load data from the pickle file\n",
    "        with open(filename, 'rb') as file:\n",
    "            experiment_data = pickle.load(file)\n",
    "            \n",
    "        # Extract relevant information from the experiment_data dictionary\n",
    "        folds_data = experiment_data['folds_data']\n",
    "        experiment_parameters = experiment_data['experiment_parameters']\n",
    "        \n",
    "        for fold_num in range(1, 5):\n",
    "            fold_data = {\n",
    "                'experiment': exp_num,\n",
    "                'fold': fold_num,\n",
    "                'best_metric': folds_data.get(f'fold_{fold_num}').get('best_metric'),\n",
    "                'input_size': experiment_parameters['input_size'],\n",
    "                'hidden_size': experiment_parameters['hidden_size'],\n",
    "                'num_layers': experiment_parameters['num_layers'],\n",
    "                'bidirectional': experiment_parameters['bidirectional'],\n",
    "                'dropout_rate': experiment_parameters['dropout_rate'],\n",
    "                'rnn_type': experiment_parameters['rnn_type'],\n",
    "                'average_type': experiment_parameters['average_type'],\n",
    "                'max_length': experiment_parameters['max_length'],\n",
    "                'num_epochs': experiment_parameters['num_epochs'],\n",
    "                'batch_size': experiment_parameters['batch_size'],\n",
    "                'learning_rate': experiment_parameters['learning_rate'],\n",
    "                'embedding_model': experiment_parameters['embedding_model']\n",
    "            }\n",
    "            experiment_list.append(fold_data)\n",
    "\n",
    "\n",
    "# Create a pandas DataFrame from the list of experiment information\n",
    "df = pd.DataFrame(experiment_list)\n"
   ]
  },
  {
   "cell_type": "markdown",
   "id": "7dcd8e3a-49c7-45e7-a67c-ee745461f709",
   "metadata": {},
   "source": [
    "#### **Experiment results showcase**"
   ]
  },
  {
   "cell_type": "code",
   "execution_count": 85,
   "id": "97c54326",
   "metadata": {
    "execution": {
     "iopub.execute_input": "2023-10-22T21:04:08.447909Z",
     "iopub.status.busy": "2023-10-22T21:04:08.447469Z",
     "iopub.status.idle": "2023-10-22T21:04:08.475323Z",
     "shell.execute_reply": "2023-10-22T21:04:08.474245Z",
     "shell.execute_reply.started": "2023-10-22T21:04:08.447851Z"
    }
   },
   "outputs": [
    {
     "data": {
      "text/html": [
       "<div>\n",
       "<style scoped>\n",
       "    .dataframe tbody tr th:only-of-type {\n",
       "        vertical-align: middle;\n",
       "    }\n",
       "\n",
       "    .dataframe tbody tr th {\n",
       "        vertical-align: top;\n",
       "    }\n",
       "\n",
       "    .dataframe thead th {\n",
       "        text-align: right;\n",
       "    }\n",
       "</style>\n",
       "<table border=\"1\" class=\"dataframe\">\n",
       "  <thead>\n",
       "    <tr style=\"text-align: right;\">\n",
       "      <th></th>\n",
       "      <th>experiment</th>\n",
       "      <th>fold</th>\n",
       "      <th>best_metric</th>\n",
       "      <th>input_size</th>\n",
       "      <th>hidden_size</th>\n",
       "      <th>num_layers</th>\n",
       "      <th>bidirectional</th>\n",
       "      <th>dropout_rate</th>\n",
       "      <th>rnn_type</th>\n",
       "      <th>average_type</th>\n",
       "      <th>max_length</th>\n",
       "      <th>num_epochs</th>\n",
       "      <th>batch_size</th>\n",
       "      <th>learning_rate</th>\n",
       "      <th>embedding_model</th>\n",
       "    </tr>\n",
       "  </thead>\n",
       "  <tbody>\n",
       "    <tr>\n",
       "      <th>0</th>\n",
       "      <td>1</td>\n",
       "      <td>1</td>\n",
       "      <td>0.599508</td>\n",
       "      <td>300</td>\n",
       "      <td>300</td>\n",
       "      <td>1</td>\n",
       "      <td>False</td>\n",
       "      <td>0.3</td>\n",
       "      <td>&lt;class 'torch.nn.modules.rnn.GRU'&gt;</td>\n",
       "      <td>last</td>\n",
       "      <td>176</td>\n",
       "      <td>15</td>\n",
       "      <td>8</td>\n",
       "      <td>0.001</td>\n",
       "      <td>fasttext</td>\n",
       "    </tr>\n",
       "    <tr>\n",
       "      <th>12</th>\n",
       "      <td>4</td>\n",
       "      <td>1</td>\n",
       "      <td>0.616655</td>\n",
       "      <td>300</td>\n",
       "      <td>300</td>\n",
       "      <td>1</td>\n",
       "      <td>False</td>\n",
       "      <td>0.3</td>\n",
       "      <td>&lt;class 'torch.nn.modules.rnn.LSTM'&gt;</td>\n",
       "      <td>last</td>\n",
       "      <td>176</td>\n",
       "      <td>20</td>\n",
       "      <td>8</td>\n",
       "      <td>0.001</td>\n",
       "      <td>fasttext</td>\n",
       "    </tr>\n",
       "    <tr>\n",
       "      <th>8</th>\n",
       "      <td>3</td>\n",
       "      <td>1</td>\n",
       "      <td>0.618017</td>\n",
       "      <td>300</td>\n",
       "      <td>300</td>\n",
       "      <td>1</td>\n",
       "      <td>False</td>\n",
       "      <td>0.3</td>\n",
       "      <td>&lt;class 'torch.nn.modules.rnn.GRU'&gt;</td>\n",
       "      <td>last</td>\n",
       "      <td>176</td>\n",
       "      <td>20</td>\n",
       "      <td>8</td>\n",
       "      <td>0.001</td>\n",
       "      <td>fasttext</td>\n",
       "    </tr>\n",
       "    <tr>\n",
       "      <th>10</th>\n",
       "      <td>3</td>\n",
       "      <td>3</td>\n",
       "      <td>0.624672</td>\n",
       "      <td>300</td>\n",
       "      <td>300</td>\n",
       "      <td>1</td>\n",
       "      <td>False</td>\n",
       "      <td>0.3</td>\n",
       "      <td>&lt;class 'torch.nn.modules.rnn.GRU'&gt;</td>\n",
       "      <td>last</td>\n",
       "      <td>176</td>\n",
       "      <td>20</td>\n",
       "      <td>8</td>\n",
       "      <td>0.001</td>\n",
       "      <td>fasttext</td>\n",
       "    </tr>\n",
       "    <tr>\n",
       "      <th>2</th>\n",
       "      <td>1</td>\n",
       "      <td>3</td>\n",
       "      <td>0.627663</td>\n",
       "      <td>300</td>\n",
       "      <td>300</td>\n",
       "      <td>1</td>\n",
       "      <td>False</td>\n",
       "      <td>0.3</td>\n",
       "      <td>&lt;class 'torch.nn.modules.rnn.GRU'&gt;</td>\n",
       "      <td>last</td>\n",
       "      <td>176</td>\n",
       "      <td>15</td>\n",
       "      <td>8</td>\n",
       "      <td>0.001</td>\n",
       "      <td>fasttext</td>\n",
       "    </tr>\n",
       "    <tr>\n",
       "      <th>4</th>\n",
       "      <td>2</td>\n",
       "      <td>1</td>\n",
       "      <td>0.634023</td>\n",
       "      <td>300</td>\n",
       "      <td>300</td>\n",
       "      <td>1</td>\n",
       "      <td>False</td>\n",
       "      <td>0.3</td>\n",
       "      <td>&lt;class 'torch.nn.modules.rnn.GRU'&gt;</td>\n",
       "      <td>last</td>\n",
       "      <td>176</td>\n",
       "      <td>20</td>\n",
       "      <td>16</td>\n",
       "      <td>0.010</td>\n",
       "      <td>fasttext</td>\n",
       "    </tr>\n",
       "    <tr>\n",
       "      <th>6</th>\n",
       "      <td>2</td>\n",
       "      <td>3</td>\n",
       "      <td>0.658081</td>\n",
       "      <td>300</td>\n",
       "      <td>300</td>\n",
       "      <td>1</td>\n",
       "      <td>False</td>\n",
       "      <td>0.3</td>\n",
       "      <td>&lt;class 'torch.nn.modules.rnn.GRU'&gt;</td>\n",
       "      <td>last</td>\n",
       "      <td>176</td>\n",
       "      <td>20</td>\n",
       "      <td>16</td>\n",
       "      <td>0.010</td>\n",
       "      <td>fasttext</td>\n",
       "    </tr>\n",
       "    <tr>\n",
       "      <th>13</th>\n",
       "      <td>4</td>\n",
       "      <td>2</td>\n",
       "      <td>0.674235</td>\n",
       "      <td>300</td>\n",
       "      <td>300</td>\n",
       "      <td>1</td>\n",
       "      <td>False</td>\n",
       "      <td>0.3</td>\n",
       "      <td>&lt;class 'torch.nn.modules.rnn.LSTM'&gt;</td>\n",
       "      <td>last</td>\n",
       "      <td>176</td>\n",
       "      <td>20</td>\n",
       "      <td>8</td>\n",
       "      <td>0.001</td>\n",
       "      <td>fasttext</td>\n",
       "    </tr>\n",
       "    <tr>\n",
       "      <th>5</th>\n",
       "      <td>2</td>\n",
       "      <td>2</td>\n",
       "      <td>0.678685</td>\n",
       "      <td>300</td>\n",
       "      <td>300</td>\n",
       "      <td>1</td>\n",
       "      <td>False</td>\n",
       "      <td>0.3</td>\n",
       "      <td>&lt;class 'torch.nn.modules.rnn.GRU'&gt;</td>\n",
       "      <td>last</td>\n",
       "      <td>176</td>\n",
       "      <td>20</td>\n",
       "      <td>16</td>\n",
       "      <td>0.010</td>\n",
       "      <td>fasttext</td>\n",
       "    </tr>\n",
       "    <tr>\n",
       "      <th>1</th>\n",
       "      <td>1</td>\n",
       "      <td>2</td>\n",
       "      <td>0.685234</td>\n",
       "      <td>300</td>\n",
       "      <td>300</td>\n",
       "      <td>1</td>\n",
       "      <td>False</td>\n",
       "      <td>0.3</td>\n",
       "      <td>&lt;class 'torch.nn.modules.rnn.GRU'&gt;</td>\n",
       "      <td>last</td>\n",
       "      <td>176</td>\n",
       "      <td>15</td>\n",
       "      <td>8</td>\n",
       "      <td>0.001</td>\n",
       "      <td>fasttext</td>\n",
       "    </tr>\n",
       "    <tr>\n",
       "      <th>14</th>\n",
       "      <td>4</td>\n",
       "      <td>3</td>\n",
       "      <td>0.685948</td>\n",
       "      <td>300</td>\n",
       "      <td>300</td>\n",
       "      <td>1</td>\n",
       "      <td>False</td>\n",
       "      <td>0.3</td>\n",
       "      <td>&lt;class 'torch.nn.modules.rnn.LSTM'&gt;</td>\n",
       "      <td>last</td>\n",
       "      <td>176</td>\n",
       "      <td>20</td>\n",
       "      <td>8</td>\n",
       "      <td>0.001</td>\n",
       "      <td>fasttext</td>\n",
       "    </tr>\n",
       "    <tr>\n",
       "      <th>9</th>\n",
       "      <td>3</td>\n",
       "      <td>2</td>\n",
       "      <td>0.705223</td>\n",
       "      <td>300</td>\n",
       "      <td>300</td>\n",
       "      <td>1</td>\n",
       "      <td>False</td>\n",
       "      <td>0.3</td>\n",
       "      <td>&lt;class 'torch.nn.modules.rnn.GRU'&gt;</td>\n",
       "      <td>last</td>\n",
       "      <td>176</td>\n",
       "      <td>20</td>\n",
       "      <td>8</td>\n",
       "      <td>0.001</td>\n",
       "      <td>fasttext</td>\n",
       "    </tr>\n",
       "    <tr>\n",
       "      <th>11</th>\n",
       "      <td>3</td>\n",
       "      <td>4</td>\n",
       "      <td>0.734493</td>\n",
       "      <td>300</td>\n",
       "      <td>300</td>\n",
       "      <td>1</td>\n",
       "      <td>False</td>\n",
       "      <td>0.3</td>\n",
       "      <td>&lt;class 'torch.nn.modules.rnn.GRU'&gt;</td>\n",
       "      <td>last</td>\n",
       "      <td>176</td>\n",
       "      <td>20</td>\n",
       "      <td>8</td>\n",
       "      <td>0.001</td>\n",
       "      <td>fasttext</td>\n",
       "    </tr>\n",
       "    <tr>\n",
       "      <th>3</th>\n",
       "      <td>1</td>\n",
       "      <td>4</td>\n",
       "      <td>0.737394</td>\n",
       "      <td>300</td>\n",
       "      <td>300</td>\n",
       "      <td>1</td>\n",
       "      <td>False</td>\n",
       "      <td>0.3</td>\n",
       "      <td>&lt;class 'torch.nn.modules.rnn.GRU'&gt;</td>\n",
       "      <td>last</td>\n",
       "      <td>176</td>\n",
       "      <td>15</td>\n",
       "      <td>8</td>\n",
       "      <td>0.001</td>\n",
       "      <td>fasttext</td>\n",
       "    </tr>\n",
       "    <tr>\n",
       "      <th>15</th>\n",
       "      <td>4</td>\n",
       "      <td>4</td>\n",
       "      <td>0.756178</td>\n",
       "      <td>300</td>\n",
       "      <td>300</td>\n",
       "      <td>1</td>\n",
       "      <td>False</td>\n",
       "      <td>0.3</td>\n",
       "      <td>&lt;class 'torch.nn.modules.rnn.LSTM'&gt;</td>\n",
       "      <td>last</td>\n",
       "      <td>176</td>\n",
       "      <td>20</td>\n",
       "      <td>8</td>\n",
       "      <td>0.001</td>\n",
       "      <td>fasttext</td>\n",
       "    </tr>\n",
       "    <tr>\n",
       "      <th>7</th>\n",
       "      <td>2</td>\n",
       "      <td>4</td>\n",
       "      <td>0.784291</td>\n",
       "      <td>300</td>\n",
       "      <td>300</td>\n",
       "      <td>1</td>\n",
       "      <td>False</td>\n",
       "      <td>0.3</td>\n",
       "      <td>&lt;class 'torch.nn.modules.rnn.GRU'&gt;</td>\n",
       "      <td>last</td>\n",
       "      <td>176</td>\n",
       "      <td>20</td>\n",
       "      <td>16</td>\n",
       "      <td>0.010</td>\n",
       "      <td>fasttext</td>\n",
       "    </tr>\n",
       "    <tr>\n",
       "      <th>18</th>\n",
       "      <td>5</td>\n",
       "      <td>3</td>\n",
       "      <td>0.885774</td>\n",
       "      <td>300</td>\n",
       "      <td>300</td>\n",
       "      <td>1</td>\n",
       "      <td>False</td>\n",
       "      <td>0.3</td>\n",
       "      <td>&lt;class 'torch.nn.modules.rnn.RNN'&gt;</td>\n",
       "      <td>last</td>\n",
       "      <td>176</td>\n",
       "      <td>30</td>\n",
       "      <td>8</td>\n",
       "      <td>0.001</td>\n",
       "      <td>fasttext</td>\n",
       "    </tr>\n",
       "    <tr>\n",
       "      <th>17</th>\n",
       "      <td>5</td>\n",
       "      <td>2</td>\n",
       "      <td>0.916325</td>\n",
       "      <td>300</td>\n",
       "      <td>300</td>\n",
       "      <td>1</td>\n",
       "      <td>False</td>\n",
       "      <td>0.3</td>\n",
       "      <td>&lt;class 'torch.nn.modules.rnn.RNN'&gt;</td>\n",
       "      <td>last</td>\n",
       "      <td>176</td>\n",
       "      <td>30</td>\n",
       "      <td>8</td>\n",
       "      <td>0.001</td>\n",
       "      <td>fasttext</td>\n",
       "    </tr>\n",
       "    <tr>\n",
       "      <th>16</th>\n",
       "      <td>5</td>\n",
       "      <td>1</td>\n",
       "      <td>0.931224</td>\n",
       "      <td>300</td>\n",
       "      <td>300</td>\n",
       "      <td>1</td>\n",
       "      <td>False</td>\n",
       "      <td>0.3</td>\n",
       "      <td>&lt;class 'torch.nn.modules.rnn.RNN'&gt;</td>\n",
       "      <td>last</td>\n",
       "      <td>176</td>\n",
       "      <td>30</td>\n",
       "      <td>8</td>\n",
       "      <td>0.001</td>\n",
       "      <td>fasttext</td>\n",
       "    </tr>\n",
       "    <tr>\n",
       "      <th>19</th>\n",
       "      <td>5</td>\n",
       "      <td>4</td>\n",
       "      <td>1.124739</td>\n",
       "      <td>300</td>\n",
       "      <td>300</td>\n",
       "      <td>1</td>\n",
       "      <td>False</td>\n",
       "      <td>0.3</td>\n",
       "      <td>&lt;class 'torch.nn.modules.rnn.RNN'&gt;</td>\n",
       "      <td>last</td>\n",
       "      <td>176</td>\n",
       "      <td>30</td>\n",
       "      <td>8</td>\n",
       "      <td>0.001</td>\n",
       "      <td>fasttext</td>\n",
       "    </tr>\n",
       "  </tbody>\n",
       "</table>\n",
       "</div>"
      ],
      "text/plain": [
       "    experiment  fold  best_metric  input_size  hidden_size  num_layers  \\\n",
       "0            1     1     0.599508         300          300           1   \n",
       "12           4     1     0.616655         300          300           1   \n",
       "8            3     1     0.618017         300          300           1   \n",
       "10           3     3     0.624672         300          300           1   \n",
       "2            1     3     0.627663         300          300           1   \n",
       "4            2     1     0.634023         300          300           1   \n",
       "6            2     3     0.658081         300          300           1   \n",
       "13           4     2     0.674235         300          300           1   \n",
       "5            2     2     0.678685         300          300           1   \n",
       "1            1     2     0.685234         300          300           1   \n",
       "14           4     3     0.685948         300          300           1   \n",
       "9            3     2     0.705223         300          300           1   \n",
       "11           3     4     0.734493         300          300           1   \n",
       "3            1     4     0.737394         300          300           1   \n",
       "15           4     4     0.756178         300          300           1   \n",
       "7            2     4     0.784291         300          300           1   \n",
       "18           5     3     0.885774         300          300           1   \n",
       "17           5     2     0.916325         300          300           1   \n",
       "16           5     1     0.931224         300          300           1   \n",
       "19           5     4     1.124739         300          300           1   \n",
       "\n",
       "    bidirectional  dropout_rate                             rnn_type  \\\n",
       "0           False           0.3   <class 'torch.nn.modules.rnn.GRU'>   \n",
       "12          False           0.3  <class 'torch.nn.modules.rnn.LSTM'>   \n",
       "8           False           0.3   <class 'torch.nn.modules.rnn.GRU'>   \n",
       "10          False           0.3   <class 'torch.nn.modules.rnn.GRU'>   \n",
       "2           False           0.3   <class 'torch.nn.modules.rnn.GRU'>   \n",
       "4           False           0.3   <class 'torch.nn.modules.rnn.GRU'>   \n",
       "6           False           0.3   <class 'torch.nn.modules.rnn.GRU'>   \n",
       "13          False           0.3  <class 'torch.nn.modules.rnn.LSTM'>   \n",
       "5           False           0.3   <class 'torch.nn.modules.rnn.GRU'>   \n",
       "1           False           0.3   <class 'torch.nn.modules.rnn.GRU'>   \n",
       "14          False           0.3  <class 'torch.nn.modules.rnn.LSTM'>   \n",
       "9           False           0.3   <class 'torch.nn.modules.rnn.GRU'>   \n",
       "11          False           0.3   <class 'torch.nn.modules.rnn.GRU'>   \n",
       "3           False           0.3   <class 'torch.nn.modules.rnn.GRU'>   \n",
       "15          False           0.3  <class 'torch.nn.modules.rnn.LSTM'>   \n",
       "7           False           0.3   <class 'torch.nn.modules.rnn.GRU'>   \n",
       "18          False           0.3   <class 'torch.nn.modules.rnn.RNN'>   \n",
       "17          False           0.3   <class 'torch.nn.modules.rnn.RNN'>   \n",
       "16          False           0.3   <class 'torch.nn.modules.rnn.RNN'>   \n",
       "19          False           0.3   <class 'torch.nn.modules.rnn.RNN'>   \n",
       "\n",
       "   average_type  max_length  num_epochs  batch_size  learning_rate  \\\n",
       "0          last         176          15           8          0.001   \n",
       "12         last         176          20           8          0.001   \n",
       "8          last         176          20           8          0.001   \n",
       "10         last         176          20           8          0.001   \n",
       "2          last         176          15           8          0.001   \n",
       "4          last         176          20          16          0.010   \n",
       "6          last         176          20          16          0.010   \n",
       "13         last         176          20           8          0.001   \n",
       "5          last         176          20          16          0.010   \n",
       "1          last         176          15           8          0.001   \n",
       "14         last         176          20           8          0.001   \n",
       "9          last         176          20           8          0.001   \n",
       "11         last         176          20           8          0.001   \n",
       "3          last         176          15           8          0.001   \n",
       "15         last         176          20           8          0.001   \n",
       "7          last         176          20          16          0.010   \n",
       "18         last         176          30           8          0.001   \n",
       "17         last         176          30           8          0.001   \n",
       "16         last         176          30           8          0.001   \n",
       "19         last         176          30           8          0.001   \n",
       "\n",
       "   embedding_model  \n",
       "0         fasttext  \n",
       "12        fasttext  \n",
       "8         fasttext  \n",
       "10        fasttext  \n",
       "2         fasttext  \n",
       "4         fasttext  \n",
       "6         fasttext  \n",
       "13        fasttext  \n",
       "5         fasttext  \n",
       "1         fasttext  \n",
       "14        fasttext  \n",
       "9         fasttext  \n",
       "11        fasttext  \n",
       "3         fasttext  \n",
       "15        fasttext  \n",
       "7         fasttext  \n",
       "18        fasttext  \n",
       "17        fasttext  \n",
       "16        fasttext  \n",
       "19        fasttext  "
      ]
     },
     "execution_count": 85,
     "metadata": {},
     "output_type": "execute_result"
    }
   ],
   "source": [
    "df.sort_values('best_metric', ascending=True)"
   ]
  }
 ],
 "metadata": {
  "kernelspec": {
   "display_name": "Python 3 (ipykernel)",
   "language": "python",
   "name": "python3"
  },
  "language_info": {
   "codemirror_mode": {
    "name": "ipython",
    "version": 3
   },
   "file_extension": ".py",
   "mimetype": "text/x-python",
   "name": "python",
   "nbconvert_exporter": "python",
   "pygments_lexer": "ipython3",
   "version": "3.9.13"
  }
 },
 "nbformat": 4,
 "nbformat_minor": 5
}
