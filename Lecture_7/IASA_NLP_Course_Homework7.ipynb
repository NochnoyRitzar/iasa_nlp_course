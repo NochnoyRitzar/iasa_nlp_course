{
 "cells": [
  {
   "cell_type": "markdown",
   "source": [
    "<a id='Homework'></a>\n",
    "# Homework\n",
    "\n",
    "Theory (5 points):\n",
    "- Complete theory questions in Google Form\n",
    "- Take a look at all the links\n",
    "- Read and analyze all theory `TODO`s\n",
    "\n",
    "Practice (10 points):\n",
    "1. Take 2-3 channels from `KyivChannels_Dataset_v01`\n",
    "2. Apply Clustering OR/AND Topic Modelling techniques to find topics of these channels. Ideal output: `channel_name:[topic_1, topic_2, topic_3]`. Examples: `Крипта Миколи : [криптовалюта, біржа]`\n",
    "3. (Advanced) Try to come up with a universal approach\n",
    "4. (Advanced) Apply your approach on other channels\n",
    "\n",
    "Here is a list of standard topics for TG channels (from TGStat). In the best-case scenario use them as topics.\n",
    "```\n",
    "Adult\n",
    "Art\n",
    "Blogs\n",
    "Bookmaking\n",
    "Books\n",
    "Business and startups\n",
    "Career\n",
    "Courses and guides\n",
    "Cryptocurrencies\n",
    "Darknet\n",
    "Design\n",
    "Economics\n",
    "Education\n",
    "Edutainment\n",
    "Erotic\n",
    "Esoterics\n",
    "Family & Children\n",
    "Fashion and beauty\n",
    "Food and cooking\n",
    "Games\n",
    "Handiwork\n",
    "Health and Fitness\n",
    "Humor and entertainment\n",
    "Instagram\n",
    "Interior and construction\n",
    "Law\n",
    "Linguistics\n",
    "Marketing, PR, advertising\n",
    "Medicine\n",
    "Music\n",
    "Nature\n",
    "News and media\n",
    "Other\n",
    "Pictures and photos\n",
    "Politics\n",
    "Psychology\n",
    "Quotes\n",
    "Religion\n",
    "Sales\n",
    "Shock content\n",
    "Software & Applications\n",
    "Sport\n",
    "Technologies\n",
    "Telegram\n",
    "Transport\n",
    "Travel\n",
    "Video and films\n",
    "```"
   ],
   "metadata": {
    "collapsed": false
   }
  },
  {
   "cell_type": "code",
   "execution_count": null,
   "outputs": [],
   "source": [],
   "metadata": {
    "collapsed": false
   }
  }
 ],
 "metadata": {
  "kernelspec": {
   "display_name": "Python 3",
   "language": "python",
   "name": "python3"
  },
  "language_info": {
   "codemirror_mode": {
    "name": "ipython",
    "version": 2
   },
   "file_extension": ".py",
   "mimetype": "text/x-python",
   "name": "python",
   "nbconvert_exporter": "python",
   "pygments_lexer": "ipython2",
   "version": "2.7.6"
  }
 },
 "nbformat": 4,
 "nbformat_minor": 0
}
