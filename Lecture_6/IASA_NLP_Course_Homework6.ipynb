{
  "nbformat": 4,
  "nbformat_minor": 0,
  "metadata": {
    "colab": {
      "provenance": [],
      "gpuType": "T4"
    },
    "kernelspec": {
      "name": "python3",
      "display_name": "Python 3"
    },
    "language_info": {
      "name": "python"
    },
    "accelerator": "GPU",
    "widgets": {
      "application/vnd.jupyter.widget-state+json": {
        "4375e315a9774541a3fbb3e649826574": {
          "model_module": "@jupyter-widgets/controls",
          "model_name": "HBoxModel",
          "model_module_version": "1.5.0",
          "state": {
            "_dom_classes": [],
            "_model_module": "@jupyter-widgets/controls",
            "_model_module_version": "1.5.0",
            "_model_name": "HBoxModel",
            "_view_count": null,
            "_view_module": "@jupyter-widgets/controls",
            "_view_module_version": "1.5.0",
            "_view_name": "HBoxView",
            "box_style": "",
            "children": [
              "IPY_MODEL_3b424e067b4c47c8bf69be11ac9bc70a",
              "IPY_MODEL_7adce850115e4857a636acbda188c486",
              "IPY_MODEL_a42a5686a1f942e790671a8eafc72686"
            ],
            "layout": "IPY_MODEL_fdc2374134bd44d9a1438dba88d25df9"
          }
        },
        "3b424e067b4c47c8bf69be11ac9bc70a": {
          "model_module": "@jupyter-widgets/controls",
          "model_name": "HTMLModel",
          "model_module_version": "1.5.0",
          "state": {
            "_dom_classes": [],
            "_model_module": "@jupyter-widgets/controls",
            "_model_module_version": "1.5.0",
            "_model_name": "HTMLModel",
            "_view_count": null,
            "_view_module": "@jupyter-widgets/controls",
            "_view_module_version": "1.5.0",
            "_view_name": "HTMLView",
            "description": "",
            "description_tooltip": null,
            "layout": "IPY_MODEL_f6d55d32e14d4f64ba5dce00325b97a6",
            "placeholder": "​",
            "style": "IPY_MODEL_341d91696e0e45088a6fda746a9a93ec",
            "value": "Map: 100%"
          }
        },
        "7adce850115e4857a636acbda188c486": {
          "model_module": "@jupyter-widgets/controls",
          "model_name": "FloatProgressModel",
          "model_module_version": "1.5.0",
          "state": {
            "_dom_classes": [],
            "_model_module": "@jupyter-widgets/controls",
            "_model_module_version": "1.5.0",
            "_model_name": "FloatProgressModel",
            "_view_count": null,
            "_view_module": "@jupyter-widgets/controls",
            "_view_module_version": "1.5.0",
            "_view_name": "ProgressView",
            "bar_style": "success",
            "description": "",
            "description_tooltip": null,
            "layout": "IPY_MODEL_4ad1830d8f3b487aae2beda0e220f792",
            "max": 14732,
            "min": 0,
            "orientation": "horizontal",
            "style": "IPY_MODEL_0d363f6aa4d44a8f8b8dfe51662353d6",
            "value": 14732
          }
        },
        "a42a5686a1f942e790671a8eafc72686": {
          "model_module": "@jupyter-widgets/controls",
          "model_name": "HTMLModel",
          "model_module_version": "1.5.0",
          "state": {
            "_dom_classes": [],
            "_model_module": "@jupyter-widgets/controls",
            "_model_module_version": "1.5.0",
            "_model_name": "HTMLModel",
            "_view_count": null,
            "_view_module": "@jupyter-widgets/controls",
            "_view_module_version": "1.5.0",
            "_view_name": "HTMLView",
            "description": "",
            "description_tooltip": null,
            "layout": "IPY_MODEL_579d1117db8b4ce6bf6772b32a1ddadf",
            "placeholder": "​",
            "style": "IPY_MODEL_eeb40c9ea2d046b6873137deb8cdf224",
            "value": " 14732/14732 [00:15&lt;00:00, 683.50 examples/s]"
          }
        },
        "fdc2374134bd44d9a1438dba88d25df9": {
          "model_module": "@jupyter-widgets/base",
          "model_name": "LayoutModel",
          "model_module_version": "1.2.0",
          "state": {
            "_model_module": "@jupyter-widgets/base",
            "_model_module_version": "1.2.0",
            "_model_name": "LayoutModel",
            "_view_count": null,
            "_view_module": "@jupyter-widgets/base",
            "_view_module_version": "1.2.0",
            "_view_name": "LayoutView",
            "align_content": null,
            "align_items": null,
            "align_self": null,
            "border": null,
            "bottom": null,
            "display": null,
            "flex": null,
            "flex_flow": null,
            "grid_area": null,
            "grid_auto_columns": null,
            "grid_auto_flow": null,
            "grid_auto_rows": null,
            "grid_column": null,
            "grid_gap": null,
            "grid_row": null,
            "grid_template_areas": null,
            "grid_template_columns": null,
            "grid_template_rows": null,
            "height": null,
            "justify_content": null,
            "justify_items": null,
            "left": null,
            "margin": null,
            "max_height": null,
            "max_width": null,
            "min_height": null,
            "min_width": null,
            "object_fit": null,
            "object_position": null,
            "order": null,
            "overflow": null,
            "overflow_x": null,
            "overflow_y": null,
            "padding": null,
            "right": null,
            "top": null,
            "visibility": null,
            "width": null
          }
        },
        "f6d55d32e14d4f64ba5dce00325b97a6": {
          "model_module": "@jupyter-widgets/base",
          "model_name": "LayoutModel",
          "model_module_version": "1.2.0",
          "state": {
            "_model_module": "@jupyter-widgets/base",
            "_model_module_version": "1.2.0",
            "_model_name": "LayoutModel",
            "_view_count": null,
            "_view_module": "@jupyter-widgets/base",
            "_view_module_version": "1.2.0",
            "_view_name": "LayoutView",
            "align_content": null,
            "align_items": null,
            "align_self": null,
            "border": null,
            "bottom": null,
            "display": null,
            "flex": null,
            "flex_flow": null,
            "grid_area": null,
            "grid_auto_columns": null,
            "grid_auto_flow": null,
            "grid_auto_rows": null,
            "grid_column": null,
            "grid_gap": null,
            "grid_row": null,
            "grid_template_areas": null,
            "grid_template_columns": null,
            "grid_template_rows": null,
            "height": null,
            "justify_content": null,
            "justify_items": null,
            "left": null,
            "margin": null,
            "max_height": null,
            "max_width": null,
            "min_height": null,
            "min_width": null,
            "object_fit": null,
            "object_position": null,
            "order": null,
            "overflow": null,
            "overflow_x": null,
            "overflow_y": null,
            "padding": null,
            "right": null,
            "top": null,
            "visibility": null,
            "width": null
          }
        },
        "341d91696e0e45088a6fda746a9a93ec": {
          "model_module": "@jupyter-widgets/controls",
          "model_name": "DescriptionStyleModel",
          "model_module_version": "1.5.0",
          "state": {
            "_model_module": "@jupyter-widgets/controls",
            "_model_module_version": "1.5.0",
            "_model_name": "DescriptionStyleModel",
            "_view_count": null,
            "_view_module": "@jupyter-widgets/base",
            "_view_module_version": "1.2.0",
            "_view_name": "StyleView",
            "description_width": ""
          }
        },
        "4ad1830d8f3b487aae2beda0e220f792": {
          "model_module": "@jupyter-widgets/base",
          "model_name": "LayoutModel",
          "model_module_version": "1.2.0",
          "state": {
            "_model_module": "@jupyter-widgets/base",
            "_model_module_version": "1.2.0",
            "_model_name": "LayoutModel",
            "_view_count": null,
            "_view_module": "@jupyter-widgets/base",
            "_view_module_version": "1.2.0",
            "_view_name": "LayoutView",
            "align_content": null,
            "align_items": null,
            "align_self": null,
            "border": null,
            "bottom": null,
            "display": null,
            "flex": null,
            "flex_flow": null,
            "grid_area": null,
            "grid_auto_columns": null,
            "grid_auto_flow": null,
            "grid_auto_rows": null,
            "grid_column": null,
            "grid_gap": null,
            "grid_row": null,
            "grid_template_areas": null,
            "grid_template_columns": null,
            "grid_template_rows": null,
            "height": null,
            "justify_content": null,
            "justify_items": null,
            "left": null,
            "margin": null,
            "max_height": null,
            "max_width": null,
            "min_height": null,
            "min_width": null,
            "object_fit": null,
            "object_position": null,
            "order": null,
            "overflow": null,
            "overflow_x": null,
            "overflow_y": null,
            "padding": null,
            "right": null,
            "top": null,
            "visibility": null,
            "width": null
          }
        },
        "0d363f6aa4d44a8f8b8dfe51662353d6": {
          "model_module": "@jupyter-widgets/controls",
          "model_name": "ProgressStyleModel",
          "model_module_version": "1.5.0",
          "state": {
            "_model_module": "@jupyter-widgets/controls",
            "_model_module_version": "1.5.0",
            "_model_name": "ProgressStyleModel",
            "_view_count": null,
            "_view_module": "@jupyter-widgets/base",
            "_view_module_version": "1.2.0",
            "_view_name": "StyleView",
            "bar_color": null,
            "description_width": ""
          }
        },
        "579d1117db8b4ce6bf6772b32a1ddadf": {
          "model_module": "@jupyter-widgets/base",
          "model_name": "LayoutModel",
          "model_module_version": "1.2.0",
          "state": {
            "_model_module": "@jupyter-widgets/base",
            "_model_module_version": "1.2.0",
            "_model_name": "LayoutModel",
            "_view_count": null,
            "_view_module": "@jupyter-widgets/base",
            "_view_module_version": "1.2.0",
            "_view_name": "LayoutView",
            "align_content": null,
            "align_items": null,
            "align_self": null,
            "border": null,
            "bottom": null,
            "display": null,
            "flex": null,
            "flex_flow": null,
            "grid_area": null,
            "grid_auto_columns": null,
            "grid_auto_flow": null,
            "grid_auto_rows": null,
            "grid_column": null,
            "grid_gap": null,
            "grid_row": null,
            "grid_template_areas": null,
            "grid_template_columns": null,
            "grid_template_rows": null,
            "height": null,
            "justify_content": null,
            "justify_items": null,
            "left": null,
            "margin": null,
            "max_height": null,
            "max_width": null,
            "min_height": null,
            "min_width": null,
            "object_fit": null,
            "object_position": null,
            "order": null,
            "overflow": null,
            "overflow_x": null,
            "overflow_y": null,
            "padding": null,
            "right": null,
            "top": null,
            "visibility": null,
            "width": null
          }
        },
        "eeb40c9ea2d046b6873137deb8cdf224": {
          "model_module": "@jupyter-widgets/controls",
          "model_name": "DescriptionStyleModel",
          "model_module_version": "1.5.0",
          "state": {
            "_model_module": "@jupyter-widgets/controls",
            "_model_module_version": "1.5.0",
            "_model_name": "DescriptionStyleModel",
            "_view_count": null,
            "_view_module": "@jupyter-widgets/base",
            "_view_module_version": "1.2.0",
            "_view_name": "StyleView",
            "description_width": ""
          }
        },
        "cfdf16da6c1e4b9d967161961b33c7f7": {
          "model_module": "@jupyter-widgets/controls",
          "model_name": "HBoxModel",
          "model_module_version": "1.5.0",
          "state": {
            "_dom_classes": [],
            "_model_module": "@jupyter-widgets/controls",
            "_model_module_version": "1.5.0",
            "_model_name": "HBoxModel",
            "_view_count": null,
            "_view_module": "@jupyter-widgets/controls",
            "_view_module_version": "1.5.0",
            "_view_name": "HBoxView",
            "box_style": "",
            "children": [
              "IPY_MODEL_618f2d45110046d782dc8cbd2821653e",
              "IPY_MODEL_0af7eb56004e495086e0bc8d43be7f38",
              "IPY_MODEL_384d7a224c8a4d538011c2a4754334c6"
            ],
            "layout": "IPY_MODEL_c7cf4370df2242dd9ceacc805220f425"
          }
        },
        "618f2d45110046d782dc8cbd2821653e": {
          "model_module": "@jupyter-widgets/controls",
          "model_name": "HTMLModel",
          "model_module_version": "1.5.0",
          "state": {
            "_dom_classes": [],
            "_model_module": "@jupyter-widgets/controls",
            "_model_module_version": "1.5.0",
            "_model_name": "HTMLModel",
            "_view_count": null,
            "_view_module": "@jupyter-widgets/controls",
            "_view_module_version": "1.5.0",
            "_view_name": "HTMLView",
            "description": "",
            "description_tooltip": null,
            "layout": "IPY_MODEL_f0b0d6a9ed5f483fb67693cbd41a530c",
            "placeholder": "​",
            "style": "IPY_MODEL_52aa3732e2354e0ebb755a2a4c7889b5",
            "value": "Map: 100%"
          }
        },
        "0af7eb56004e495086e0bc8d43be7f38": {
          "model_module": "@jupyter-widgets/controls",
          "model_name": "FloatProgressModel",
          "model_module_version": "1.5.0",
          "state": {
            "_dom_classes": [],
            "_model_module": "@jupyter-widgets/controls",
            "_model_module_version": "1.5.0",
            "_model_name": "FloatProgressModel",
            "_view_count": null,
            "_view_module": "@jupyter-widgets/controls",
            "_view_module_version": "1.5.0",
            "_view_name": "ProgressView",
            "bar_style": "success",
            "description": "",
            "description_tooltip": null,
            "layout": "IPY_MODEL_2d83ae381aa340fa8d4ac3e160f5bc65",
            "max": 819,
            "min": 0,
            "orientation": "horizontal",
            "style": "IPY_MODEL_10e7f73ad13f440db700175776f73556",
            "value": 819
          }
        },
        "384d7a224c8a4d538011c2a4754334c6": {
          "model_module": "@jupyter-widgets/controls",
          "model_name": "HTMLModel",
          "model_module_version": "1.5.0",
          "state": {
            "_dom_classes": [],
            "_model_module": "@jupyter-widgets/controls",
            "_model_module_version": "1.5.0",
            "_model_name": "HTMLModel",
            "_view_count": null,
            "_view_module": "@jupyter-widgets/controls",
            "_view_module_version": "1.5.0",
            "_view_name": "HTMLView",
            "description": "",
            "description_tooltip": null,
            "layout": "IPY_MODEL_df57bb0cbe674608aec5df9f424777e6",
            "placeholder": "​",
            "style": "IPY_MODEL_33dd583714fe453992bdc4d38d2e56f8",
            "value": " 819/819 [00:01&lt;00:00, 765.07 examples/s]"
          }
        },
        "c7cf4370df2242dd9ceacc805220f425": {
          "model_module": "@jupyter-widgets/base",
          "model_name": "LayoutModel",
          "model_module_version": "1.2.0",
          "state": {
            "_model_module": "@jupyter-widgets/base",
            "_model_module_version": "1.2.0",
            "_model_name": "LayoutModel",
            "_view_count": null,
            "_view_module": "@jupyter-widgets/base",
            "_view_module_version": "1.2.0",
            "_view_name": "LayoutView",
            "align_content": null,
            "align_items": null,
            "align_self": null,
            "border": null,
            "bottom": null,
            "display": null,
            "flex": null,
            "flex_flow": null,
            "grid_area": null,
            "grid_auto_columns": null,
            "grid_auto_flow": null,
            "grid_auto_rows": null,
            "grid_column": null,
            "grid_gap": null,
            "grid_row": null,
            "grid_template_areas": null,
            "grid_template_columns": null,
            "grid_template_rows": null,
            "height": null,
            "justify_content": null,
            "justify_items": null,
            "left": null,
            "margin": null,
            "max_height": null,
            "max_width": null,
            "min_height": null,
            "min_width": null,
            "object_fit": null,
            "object_position": null,
            "order": null,
            "overflow": null,
            "overflow_x": null,
            "overflow_y": null,
            "padding": null,
            "right": null,
            "top": null,
            "visibility": null,
            "width": null
          }
        },
        "f0b0d6a9ed5f483fb67693cbd41a530c": {
          "model_module": "@jupyter-widgets/base",
          "model_name": "LayoutModel",
          "model_module_version": "1.2.0",
          "state": {
            "_model_module": "@jupyter-widgets/base",
            "_model_module_version": "1.2.0",
            "_model_name": "LayoutModel",
            "_view_count": null,
            "_view_module": "@jupyter-widgets/base",
            "_view_module_version": "1.2.0",
            "_view_name": "LayoutView",
            "align_content": null,
            "align_items": null,
            "align_self": null,
            "border": null,
            "bottom": null,
            "display": null,
            "flex": null,
            "flex_flow": null,
            "grid_area": null,
            "grid_auto_columns": null,
            "grid_auto_flow": null,
            "grid_auto_rows": null,
            "grid_column": null,
            "grid_gap": null,
            "grid_row": null,
            "grid_template_areas": null,
            "grid_template_columns": null,
            "grid_template_rows": null,
            "height": null,
            "justify_content": null,
            "justify_items": null,
            "left": null,
            "margin": null,
            "max_height": null,
            "max_width": null,
            "min_height": null,
            "min_width": null,
            "object_fit": null,
            "object_position": null,
            "order": null,
            "overflow": null,
            "overflow_x": null,
            "overflow_y": null,
            "padding": null,
            "right": null,
            "top": null,
            "visibility": null,
            "width": null
          }
        },
        "52aa3732e2354e0ebb755a2a4c7889b5": {
          "model_module": "@jupyter-widgets/controls",
          "model_name": "DescriptionStyleModel",
          "model_module_version": "1.5.0",
          "state": {
            "_model_module": "@jupyter-widgets/controls",
            "_model_module_version": "1.5.0",
            "_model_name": "DescriptionStyleModel",
            "_view_count": null,
            "_view_module": "@jupyter-widgets/base",
            "_view_module_version": "1.2.0",
            "_view_name": "StyleView",
            "description_width": ""
          }
        },
        "2d83ae381aa340fa8d4ac3e160f5bc65": {
          "model_module": "@jupyter-widgets/base",
          "model_name": "LayoutModel",
          "model_module_version": "1.2.0",
          "state": {
            "_model_module": "@jupyter-widgets/base",
            "_model_module_version": "1.2.0",
            "_model_name": "LayoutModel",
            "_view_count": null,
            "_view_module": "@jupyter-widgets/base",
            "_view_module_version": "1.2.0",
            "_view_name": "LayoutView",
            "align_content": null,
            "align_items": null,
            "align_self": null,
            "border": null,
            "bottom": null,
            "display": null,
            "flex": null,
            "flex_flow": null,
            "grid_area": null,
            "grid_auto_columns": null,
            "grid_auto_flow": null,
            "grid_auto_rows": null,
            "grid_column": null,
            "grid_gap": null,
            "grid_row": null,
            "grid_template_areas": null,
            "grid_template_columns": null,
            "grid_template_rows": null,
            "height": null,
            "justify_content": null,
            "justify_items": null,
            "left": null,
            "margin": null,
            "max_height": null,
            "max_width": null,
            "min_height": null,
            "min_width": null,
            "object_fit": null,
            "object_position": null,
            "order": null,
            "overflow": null,
            "overflow_x": null,
            "overflow_y": null,
            "padding": null,
            "right": null,
            "top": null,
            "visibility": null,
            "width": null
          }
        },
        "10e7f73ad13f440db700175776f73556": {
          "model_module": "@jupyter-widgets/controls",
          "model_name": "ProgressStyleModel",
          "model_module_version": "1.5.0",
          "state": {
            "_model_module": "@jupyter-widgets/controls",
            "_model_module_version": "1.5.0",
            "_model_name": "ProgressStyleModel",
            "_view_count": null,
            "_view_module": "@jupyter-widgets/base",
            "_view_module_version": "1.2.0",
            "_view_name": "StyleView",
            "bar_color": null,
            "description_width": ""
          }
        },
        "df57bb0cbe674608aec5df9f424777e6": {
          "model_module": "@jupyter-widgets/base",
          "model_name": "LayoutModel",
          "model_module_version": "1.2.0",
          "state": {
            "_model_module": "@jupyter-widgets/base",
            "_model_module_version": "1.2.0",
            "_model_name": "LayoutModel",
            "_view_count": null,
            "_view_module": "@jupyter-widgets/base",
            "_view_module_version": "1.2.0",
            "_view_name": "LayoutView",
            "align_content": null,
            "align_items": null,
            "align_self": null,
            "border": null,
            "bottom": null,
            "display": null,
            "flex": null,
            "flex_flow": null,
            "grid_area": null,
            "grid_auto_columns": null,
            "grid_auto_flow": null,
            "grid_auto_rows": null,
            "grid_column": null,
            "grid_gap": null,
            "grid_row": null,
            "grid_template_areas": null,
            "grid_template_columns": null,
            "grid_template_rows": null,
            "height": null,
            "justify_content": null,
            "justify_items": null,
            "left": null,
            "margin": null,
            "max_height": null,
            "max_width": null,
            "min_height": null,
            "min_width": null,
            "object_fit": null,
            "object_position": null,
            "order": null,
            "overflow": null,
            "overflow_x": null,
            "overflow_y": null,
            "padding": null,
            "right": null,
            "top": null,
            "visibility": null,
            "width": null
          }
        },
        "33dd583714fe453992bdc4d38d2e56f8": {
          "model_module": "@jupyter-widgets/controls",
          "model_name": "DescriptionStyleModel",
          "model_module_version": "1.5.0",
          "state": {
            "_model_module": "@jupyter-widgets/controls",
            "_model_module_version": "1.5.0",
            "_model_name": "DescriptionStyleModel",
            "_view_count": null,
            "_view_module": "@jupyter-widgets/base",
            "_view_module_version": "1.2.0",
            "_view_name": "StyleView",
            "description_width": ""
          }
        },
        "ae03e9a2894e4a3eb6f2a1f849f74c8e": {
          "model_module": "@jupyter-widgets/controls",
          "model_name": "HBoxModel",
          "model_module_version": "1.5.0",
          "state": {
            "_dom_classes": [],
            "_model_module": "@jupyter-widgets/controls",
            "_model_module_version": "1.5.0",
            "_model_name": "HBoxModel",
            "_view_count": null,
            "_view_module": "@jupyter-widgets/controls",
            "_view_module_version": "1.5.0",
            "_view_name": "HBoxView",
            "box_style": "",
            "children": [
              "IPY_MODEL_c7877d2599624f7da5ad01d6498626b0",
              "IPY_MODEL_b9cb6eb264004925a2de12951feddf3a",
              "IPY_MODEL_79bbc258ad2146f99e419bdfd269978a"
            ],
            "layout": "IPY_MODEL_859019e1d751421798c8fd5f807dddca"
          }
        },
        "c7877d2599624f7da5ad01d6498626b0": {
          "model_module": "@jupyter-widgets/controls",
          "model_name": "HTMLModel",
          "model_module_version": "1.5.0",
          "state": {
            "_dom_classes": [],
            "_model_module": "@jupyter-widgets/controls",
            "_model_module_version": "1.5.0",
            "_model_name": "HTMLModel",
            "_view_count": null,
            "_view_module": "@jupyter-widgets/controls",
            "_view_module_version": "1.5.0",
            "_view_name": "HTMLView",
            "description": "",
            "description_tooltip": null,
            "layout": "IPY_MODEL_b0ff7a2c36f14948876fc40cffadb5c7",
            "placeholder": "​",
            "style": "IPY_MODEL_119fb5175c0a42b58837716cc7050f3f",
            "value": "Map: 100%"
          }
        },
        "b9cb6eb264004925a2de12951feddf3a": {
          "model_module": "@jupyter-widgets/controls",
          "model_name": "FloatProgressModel",
          "model_module_version": "1.5.0",
          "state": {
            "_dom_classes": [],
            "_model_module": "@jupyter-widgets/controls",
            "_model_module_version": "1.5.0",
            "_model_name": "FloatProgressModel",
            "_view_count": null,
            "_view_module": "@jupyter-widgets/controls",
            "_view_module_version": "1.5.0",
            "_view_name": "ProgressView",
            "bar_style": "success",
            "description": "",
            "description_tooltip": null,
            "layout": "IPY_MODEL_1a65ade5ee61471cb37379d0885184de",
            "max": 818,
            "min": 0,
            "orientation": "horizontal",
            "style": "IPY_MODEL_4c23a73a38df4bf8a3860535cf043c19",
            "value": 818
          }
        },
        "79bbc258ad2146f99e419bdfd269978a": {
          "model_module": "@jupyter-widgets/controls",
          "model_name": "HTMLModel",
          "model_module_version": "1.5.0",
          "state": {
            "_dom_classes": [],
            "_model_module": "@jupyter-widgets/controls",
            "_model_module_version": "1.5.0",
            "_model_name": "HTMLModel",
            "_view_count": null,
            "_view_module": "@jupyter-widgets/controls",
            "_view_module_version": "1.5.0",
            "_view_name": "HTMLView",
            "description": "",
            "description_tooltip": null,
            "layout": "IPY_MODEL_9f9c4cbc0eb844b8b724fe39bb75dba8",
            "placeholder": "​",
            "style": "IPY_MODEL_44e33d46d40e4950ac8230364f0fc256",
            "value": " 818/818 [00:00&lt;00:00, 869.04 examples/s]"
          }
        },
        "859019e1d751421798c8fd5f807dddca": {
          "model_module": "@jupyter-widgets/base",
          "model_name": "LayoutModel",
          "model_module_version": "1.2.0",
          "state": {
            "_model_module": "@jupyter-widgets/base",
            "_model_module_version": "1.2.0",
            "_model_name": "LayoutModel",
            "_view_count": null,
            "_view_module": "@jupyter-widgets/base",
            "_view_module_version": "1.2.0",
            "_view_name": "LayoutView",
            "align_content": null,
            "align_items": null,
            "align_self": null,
            "border": null,
            "bottom": null,
            "display": null,
            "flex": null,
            "flex_flow": null,
            "grid_area": null,
            "grid_auto_columns": null,
            "grid_auto_flow": null,
            "grid_auto_rows": null,
            "grid_column": null,
            "grid_gap": null,
            "grid_row": null,
            "grid_template_areas": null,
            "grid_template_columns": null,
            "grid_template_rows": null,
            "height": null,
            "justify_content": null,
            "justify_items": null,
            "left": null,
            "margin": null,
            "max_height": null,
            "max_width": null,
            "min_height": null,
            "min_width": null,
            "object_fit": null,
            "object_position": null,
            "order": null,
            "overflow": null,
            "overflow_x": null,
            "overflow_y": null,
            "padding": null,
            "right": null,
            "top": null,
            "visibility": null,
            "width": null
          }
        },
        "b0ff7a2c36f14948876fc40cffadb5c7": {
          "model_module": "@jupyter-widgets/base",
          "model_name": "LayoutModel",
          "model_module_version": "1.2.0",
          "state": {
            "_model_module": "@jupyter-widgets/base",
            "_model_module_version": "1.2.0",
            "_model_name": "LayoutModel",
            "_view_count": null,
            "_view_module": "@jupyter-widgets/base",
            "_view_module_version": "1.2.0",
            "_view_name": "LayoutView",
            "align_content": null,
            "align_items": null,
            "align_self": null,
            "border": null,
            "bottom": null,
            "display": null,
            "flex": null,
            "flex_flow": null,
            "grid_area": null,
            "grid_auto_columns": null,
            "grid_auto_flow": null,
            "grid_auto_rows": null,
            "grid_column": null,
            "grid_gap": null,
            "grid_row": null,
            "grid_template_areas": null,
            "grid_template_columns": null,
            "grid_template_rows": null,
            "height": null,
            "justify_content": null,
            "justify_items": null,
            "left": null,
            "margin": null,
            "max_height": null,
            "max_width": null,
            "min_height": null,
            "min_width": null,
            "object_fit": null,
            "object_position": null,
            "order": null,
            "overflow": null,
            "overflow_x": null,
            "overflow_y": null,
            "padding": null,
            "right": null,
            "top": null,
            "visibility": null,
            "width": null
          }
        },
        "119fb5175c0a42b58837716cc7050f3f": {
          "model_module": "@jupyter-widgets/controls",
          "model_name": "DescriptionStyleModel",
          "model_module_version": "1.5.0",
          "state": {
            "_model_module": "@jupyter-widgets/controls",
            "_model_module_version": "1.5.0",
            "_model_name": "DescriptionStyleModel",
            "_view_count": null,
            "_view_module": "@jupyter-widgets/base",
            "_view_module_version": "1.2.0",
            "_view_name": "StyleView",
            "description_width": ""
          }
        },
        "1a65ade5ee61471cb37379d0885184de": {
          "model_module": "@jupyter-widgets/base",
          "model_name": "LayoutModel",
          "model_module_version": "1.2.0",
          "state": {
            "_model_module": "@jupyter-widgets/base",
            "_model_module_version": "1.2.0",
            "_model_name": "LayoutModel",
            "_view_count": null,
            "_view_module": "@jupyter-widgets/base",
            "_view_module_version": "1.2.0",
            "_view_name": "LayoutView",
            "align_content": null,
            "align_items": null,
            "align_self": null,
            "border": null,
            "bottom": null,
            "display": null,
            "flex": null,
            "flex_flow": null,
            "grid_area": null,
            "grid_auto_columns": null,
            "grid_auto_flow": null,
            "grid_auto_rows": null,
            "grid_column": null,
            "grid_gap": null,
            "grid_row": null,
            "grid_template_areas": null,
            "grid_template_columns": null,
            "grid_template_rows": null,
            "height": null,
            "justify_content": null,
            "justify_items": null,
            "left": null,
            "margin": null,
            "max_height": null,
            "max_width": null,
            "min_height": null,
            "min_width": null,
            "object_fit": null,
            "object_position": null,
            "order": null,
            "overflow": null,
            "overflow_x": null,
            "overflow_y": null,
            "padding": null,
            "right": null,
            "top": null,
            "visibility": null,
            "width": null
          }
        },
        "4c23a73a38df4bf8a3860535cf043c19": {
          "model_module": "@jupyter-widgets/controls",
          "model_name": "ProgressStyleModel",
          "model_module_version": "1.5.0",
          "state": {
            "_model_module": "@jupyter-widgets/controls",
            "_model_module_version": "1.5.0",
            "_model_name": "ProgressStyleModel",
            "_view_count": null,
            "_view_module": "@jupyter-widgets/base",
            "_view_module_version": "1.2.0",
            "_view_name": "StyleView",
            "bar_color": null,
            "description_width": ""
          }
        },
        "9f9c4cbc0eb844b8b724fe39bb75dba8": {
          "model_module": "@jupyter-widgets/base",
          "model_name": "LayoutModel",
          "model_module_version": "1.2.0",
          "state": {
            "_model_module": "@jupyter-widgets/base",
            "_model_module_version": "1.2.0",
            "_model_name": "LayoutModel",
            "_view_count": null,
            "_view_module": "@jupyter-widgets/base",
            "_view_module_version": "1.2.0",
            "_view_name": "LayoutView",
            "align_content": null,
            "align_items": null,
            "align_self": null,
            "border": null,
            "bottom": null,
            "display": null,
            "flex": null,
            "flex_flow": null,
            "grid_area": null,
            "grid_auto_columns": null,
            "grid_auto_flow": null,
            "grid_auto_rows": null,
            "grid_column": null,
            "grid_gap": null,
            "grid_row": null,
            "grid_template_areas": null,
            "grid_template_columns": null,
            "grid_template_rows": null,
            "height": null,
            "justify_content": null,
            "justify_items": null,
            "left": null,
            "margin": null,
            "max_height": null,
            "max_width": null,
            "min_height": null,
            "min_width": null,
            "object_fit": null,
            "object_position": null,
            "order": null,
            "overflow": null,
            "overflow_x": null,
            "overflow_y": null,
            "padding": null,
            "right": null,
            "top": null,
            "visibility": null,
            "width": null
          }
        },
        "44e33d46d40e4950ac8230364f0fc256": {
          "model_module": "@jupyter-widgets/controls",
          "model_name": "DescriptionStyleModel",
          "model_module_version": "1.5.0",
          "state": {
            "_model_module": "@jupyter-widgets/controls",
            "_model_module_version": "1.5.0",
            "_model_name": "DescriptionStyleModel",
            "_view_count": null,
            "_view_module": "@jupyter-widgets/base",
            "_view_module_version": "1.2.0",
            "_view_name": "StyleView",
            "description_width": ""
          }
        }
      }
    }
  },
  "cells": [
    {
      "cell_type": "markdown",
      "source": [
        "# Homework Tasks\n",
        "\n",
        "Read about difference between GPT-3.5 and GPT-4.\n",
        "\n",
        "Read about metrics for generarive NLP.\n",
        "\n",
        "**Advanced**: Generative models are usually very big. Read about model quantization. That may help with inference of big models such as GPT.\n",
        "\n",
        "**Theory** (5 points): Google form questions.\n",
        "\n",
        "**Practical task** (10 points):\n",
        "1. Choose one:\n",
        "    * Finetune transformer model for summarization on https://huggingface.co/datasets/samsum.\n",
        "    * Finetune transformer model for translation on dataset of your choice.\n",
        "2. Experiment with different prompts.\n",
        "2. Based on a task you choose, choose a few metrics that are used in generative NLP (BLEU, ROUGE etc), test your finetune models using them, describe their pros and cons relative to the generations your model makes.\n",
        "\n",
        "3. If you want, you can try use LoRA or prefix tuning for finetuning the model."
      ],
      "metadata": {
        "id": "qve8troL3mYA"
      }
    },
    {
      "cell_type": "markdown",
      "source": [
        "# Imports"
      ],
      "metadata": {
        "id": "3Eu23CDhUSFQ"
      }
    },
    {
      "cell_type": "code",
      "source": [
        "!pip install transformers datasets evaluate peft py7zr rouge_score\n",
        "\n",
        "import nltk\n",
        "nltk.download('punkt')\n",
        "import torch\n",
        "import pandas as pd\n",
        "import numpy as np\n",
        "import evaluate\n",
        "from transformers import AutoTokenizer, AutoModelForSeq2SeqLM, Seq2SeqTrainingArguments, Seq2SeqTrainer, DataCollatorForSeq2Seq, AdamW\n",
        "from datasets import load_dataset\n"
      ],
      "metadata": {
        "colab": {
          "base_uri": "https://localhost:8080/"
        },
        "id": "WmTP0kCQUT4a",
        "outputId": "d27250b1-caa9-4dc6-c122-620511f738d0"
      },
      "execution_count": null,
      "outputs": [
        {
          "output_type": "stream",
          "name": "stdout",
          "text": [
            "Requirement already satisfied: transformers in /usr/local/lib/python3.10/dist-packages (4.35.0)\n",
            "Requirement already satisfied: datasets in /usr/local/lib/python3.10/dist-packages (2.14.6)\n",
            "Requirement already satisfied: evaluate in /usr/local/lib/python3.10/dist-packages (0.4.1)\n",
            "Requirement already satisfied: peft in /usr/local/lib/python3.10/dist-packages (0.6.0)\n",
            "Requirement already satisfied: py7zr in /usr/local/lib/python3.10/dist-packages (0.20.6)\n",
            "Requirement already satisfied: rouge_score in /usr/local/lib/python3.10/dist-packages (0.1.2)\n",
            "Requirement already satisfied: filelock in /usr/local/lib/python3.10/dist-packages (from transformers) (3.12.4)\n",
            "Requirement already satisfied: huggingface-hub<1.0,>=0.16.4 in /usr/local/lib/python3.10/dist-packages (from transformers) (0.17.3)\n",
            "Requirement already satisfied: numpy>=1.17 in /usr/local/lib/python3.10/dist-packages (from transformers) (1.23.5)\n",
            "Requirement already satisfied: packaging>=20.0 in /usr/local/lib/python3.10/dist-packages (from transformers) (23.2)\n",
            "Requirement already satisfied: pyyaml>=5.1 in /usr/local/lib/python3.10/dist-packages (from transformers) (6.0.1)\n",
            "Requirement already satisfied: regex!=2019.12.17 in /usr/local/lib/python3.10/dist-packages (from transformers) (2023.6.3)\n",
            "Requirement already satisfied: requests in /usr/local/lib/python3.10/dist-packages (from transformers) (2.31.0)\n",
            "Requirement already satisfied: tokenizers<0.15,>=0.14 in /usr/local/lib/python3.10/dist-packages (from transformers) (0.14.1)\n",
            "Requirement already satisfied: safetensors>=0.3.1 in /usr/local/lib/python3.10/dist-packages (from transformers) (0.4.0)\n",
            "Requirement already satisfied: tqdm>=4.27 in /usr/local/lib/python3.10/dist-packages (from transformers) (4.66.1)\n",
            "Requirement already satisfied: pyarrow>=8.0.0 in /usr/local/lib/python3.10/dist-packages (from datasets) (9.0.0)\n",
            "Requirement already satisfied: dill<0.3.8,>=0.3.0 in /usr/local/lib/python3.10/dist-packages (from datasets) (0.3.7)\n",
            "Requirement already satisfied: pandas in /usr/local/lib/python3.10/dist-packages (from datasets) (1.5.3)\n",
            "Requirement already satisfied: xxhash in /usr/local/lib/python3.10/dist-packages (from datasets) (3.4.1)\n",
            "Requirement already satisfied: multiprocess in /usr/local/lib/python3.10/dist-packages (from datasets) (0.70.15)\n",
            "Requirement already satisfied: fsspec[http]<=2023.10.0,>=2023.1.0 in /usr/local/lib/python3.10/dist-packages (from datasets) (2023.6.0)\n",
            "Requirement already satisfied: aiohttp in /usr/local/lib/python3.10/dist-packages (from datasets) (3.8.6)\n",
            "Requirement already satisfied: responses<0.19 in /usr/local/lib/python3.10/dist-packages (from evaluate) (0.18.0)\n",
            "Requirement already satisfied: psutil in /usr/local/lib/python3.10/dist-packages (from peft) (5.9.5)\n",
            "Requirement already satisfied: torch>=1.13.0 in /usr/local/lib/python3.10/dist-packages (from peft) (2.1.0+cu118)\n",
            "Requirement already satisfied: accelerate>=0.21.0 in /usr/local/lib/python3.10/dist-packages (from peft) (0.24.1)\n",
            "Requirement already satisfied: texttable in /usr/local/lib/python3.10/dist-packages (from py7zr) (1.7.0)\n",
            "Requirement already satisfied: pycryptodomex>=3.6.6 in /usr/local/lib/python3.10/dist-packages (from py7zr) (3.19.0)\n",
            "Requirement already satisfied: pyzstd>=0.14.4 in /usr/local/lib/python3.10/dist-packages (from py7zr) (0.15.9)\n",
            "Requirement already satisfied: pyppmd<1.1.0,>=0.18.1 in /usr/local/lib/python3.10/dist-packages (from py7zr) (1.0.0)\n",
            "Requirement already satisfied: pybcj>=0.6.0 in /usr/local/lib/python3.10/dist-packages (from py7zr) (1.0.2)\n",
            "Requirement already satisfied: multivolumefile>=0.2.3 in /usr/local/lib/python3.10/dist-packages (from py7zr) (0.2.3)\n",
            "Requirement already satisfied: brotli>=1.0.9 in /usr/local/lib/python3.10/dist-packages (from py7zr) (1.1.0)\n",
            "Requirement already satisfied: inflate64>=0.3.1 in /usr/local/lib/python3.10/dist-packages (from py7zr) (1.0.0)\n",
            "Requirement already satisfied: absl-py in /usr/local/lib/python3.10/dist-packages (from rouge_score) (1.4.0)\n",
            "Requirement already satisfied: nltk in /usr/local/lib/python3.10/dist-packages (from rouge_score) (3.8.1)\n",
            "Requirement already satisfied: six>=1.14.0 in /usr/local/lib/python3.10/dist-packages (from rouge_score) (1.16.0)\n",
            "Requirement already satisfied: attrs>=17.3.0 in /usr/local/lib/python3.10/dist-packages (from aiohttp->datasets) (23.1.0)\n",
            "Requirement already satisfied: charset-normalizer<4.0,>=2.0 in /usr/local/lib/python3.10/dist-packages (from aiohttp->datasets) (3.3.1)\n",
            "Requirement already satisfied: multidict<7.0,>=4.5 in /usr/local/lib/python3.10/dist-packages (from aiohttp->datasets) (6.0.4)\n",
            "Requirement already satisfied: async-timeout<5.0,>=4.0.0a3 in /usr/local/lib/python3.10/dist-packages (from aiohttp->datasets) (4.0.3)\n",
            "Requirement already satisfied: yarl<2.0,>=1.0 in /usr/local/lib/python3.10/dist-packages (from aiohttp->datasets) (1.9.2)\n",
            "Requirement already satisfied: frozenlist>=1.1.1 in /usr/local/lib/python3.10/dist-packages (from aiohttp->datasets) (1.4.0)\n",
            "Requirement already satisfied: aiosignal>=1.1.2 in /usr/local/lib/python3.10/dist-packages (from aiohttp->datasets) (1.3.1)\n",
            "Requirement already satisfied: typing-extensions>=3.7.4.3 in /usr/local/lib/python3.10/dist-packages (from huggingface-hub<1.0,>=0.16.4->transformers) (4.5.0)\n",
            "Requirement already satisfied: idna<4,>=2.5 in /usr/local/lib/python3.10/dist-packages (from requests->transformers) (3.4)\n",
            "Requirement already satisfied: urllib3<3,>=1.21.1 in /usr/local/lib/python3.10/dist-packages (from requests->transformers) (2.0.7)\n",
            "Requirement already satisfied: certifi>=2017.4.17 in /usr/local/lib/python3.10/dist-packages (from requests->transformers) (2023.7.22)\n",
            "Requirement already satisfied: sympy in /usr/local/lib/python3.10/dist-packages (from torch>=1.13.0->peft) (1.12)\n",
            "Requirement already satisfied: networkx in /usr/local/lib/python3.10/dist-packages (from torch>=1.13.0->peft) (3.2)\n",
            "Requirement already satisfied: jinja2 in /usr/local/lib/python3.10/dist-packages (from torch>=1.13.0->peft) (3.1.2)\n",
            "Requirement already satisfied: triton==2.1.0 in /usr/local/lib/python3.10/dist-packages (from torch>=1.13.0->peft) (2.1.0)\n",
            "Requirement already satisfied: click in /usr/local/lib/python3.10/dist-packages (from nltk->rouge_score) (8.1.7)\n",
            "Requirement already satisfied: joblib in /usr/local/lib/python3.10/dist-packages (from nltk->rouge_score) (1.3.2)\n",
            "Requirement already satisfied: python-dateutil>=2.8.1 in /usr/local/lib/python3.10/dist-packages (from pandas->datasets) (2.8.2)\n",
            "Requirement already satisfied: pytz>=2020.1 in /usr/local/lib/python3.10/dist-packages (from pandas->datasets) (2023.3.post1)\n",
            "Requirement already satisfied: MarkupSafe>=2.0 in /usr/local/lib/python3.10/dist-packages (from jinja2->torch>=1.13.0->peft) (2.1.3)\n",
            "Requirement already satisfied: mpmath>=0.19 in /usr/local/lib/python3.10/dist-packages (from sympy->torch>=1.13.0->peft) (1.3.0)\n"
          ]
        },
        {
          "output_type": "stream",
          "name": "stderr",
          "text": [
            "[nltk_data] Downloading package punkt to /root/nltk_data...\n",
            "[nltk_data]   Package punkt is already up-to-date!\n"
          ]
        }
      ]
    },
    {
      "cell_type": "code",
      "source": [
        "class CFG:\n",
        "    model_path = 'facebook/bart-base'\n",
        "    dataset_path = 'samsum'\n",
        "    max_length = 1024\n",
        "    # Training parameters\n",
        "    fp16 = True\n",
        "    learning_rate = 1e-5\n",
        "    # weight_decay = 0.01\n",
        "    num_epochs = 1\n",
        "    per_device_batch_size = 4\n",
        "\n"
      ],
      "metadata": {
        "id": "cUsGRyR2XTsb"
      },
      "execution_count": null,
      "outputs": []
    },
    {
      "cell_type": "markdown",
      "source": [
        "# Finetuning [Bart-base](https://huggingface.co/facebook/bart-base) model on [SAMSum Corpus ](https://huggingface.co/datasets/samsum)"
      ],
      "metadata": {
        "id": "se6s-6ihTklE"
      }
    },
    {
      "cell_type": "markdown",
      "source": [
        "# EDA"
      ],
      "metadata": {
        "id": "XidjB-3Jd-Bk"
      }
    },
    {
      "cell_type": "code",
      "source": [
        "dataset = load_dataset(CFG.dataset_path)\n",
        "print(dataset)"
      ],
      "metadata": {
        "colab": {
          "base_uri": "https://localhost:8080/"
        },
        "id": "LxpD6i7oeBZ0",
        "outputId": "530234c2-b5ac-408a-aad2-429348b5095d"
      },
      "execution_count": null,
      "outputs": [
        {
          "output_type": "stream",
          "name": "stdout",
          "text": [
            "DatasetDict({\n",
            "    train: Dataset({\n",
            "        features: ['id', 'dialogue', 'summary'],\n",
            "        num_rows: 14732\n",
            "    })\n",
            "    test: Dataset({\n",
            "        features: ['id', 'dialogue', 'summary'],\n",
            "        num_rows: 819\n",
            "    })\n",
            "    validation: Dataset({\n",
            "        features: ['id', 'dialogue', 'summary'],\n",
            "        num_rows: 818\n",
            "    })\n",
            "})\n"
          ]
        }
      ]
    },
    {
      "cell_type": "markdown",
      "source": [
        "SAMSun dataset already has training, validation and testing splits"
      ],
      "metadata": {
        "id": "fvp9QfIThUnh"
      }
    },
    {
      "cell_type": "markdown",
      "source": [
        "Take a look at text structure in this dataset"
      ],
      "metadata": {
        "id": "NYSVjpdmf_Oe"
      }
    },
    {
      "cell_type": "code",
      "source": [
        "for split in ['train', 'validation', 'test']:\n",
        "    print(f'--------------------   {split.upper()} Split  --------------------')\n",
        "    for i in range(1, 31, 10):\n",
        "        print(dataset[split][i]['dialogue'])\n",
        "        print(f\"\\n{dataset[split][i]['summary']}\\n\\n\")"
      ],
      "metadata": {
        "colab": {
          "base_uri": "https://localhost:8080/"
        },
        "id": "ifM7QnrXeUOr",
        "outputId": "6ef4cb95-9286-4618-a21d-46926ac20647"
      },
      "execution_count": null,
      "outputs": [
        {
          "output_type": "stream",
          "name": "stdout",
          "text": [
            "--------------------   TRAIN Split  --------------------\n",
            "Olivia: Who are you voting for in this election? \r\n",
            "Oliver: Liberals as always.\r\n",
            "Olivia: Me too!!\r\n",
            "Oliver: Great\n",
            "\n",
            "Olivia and Olivier are voting for liberals in this election. \n",
            "\n",
            "\n",
            "Mark: I just shipped the goods\r\n",
            "Mark: Tomorrow I’ll send you the tracking number\r\n",
            "George: Thanks!\n",
            "\n",
            "Mark just shipped the goods and he will send George the tracking number tomorrow.\n",
            "\n",
            "\n",
            "Aria: You won't believe who I've just met!\r\n",
            "Aria: Charlie Evans!\r\n",
            "Maverick: Oh God, I haven't seen him from ages!\r\n",
            "Maverick: How is he doing?\r\n",
            "Aria: He's doing great. :)\r\n",
            "Aria: He got married, he runs a small family business, which he is very passionate about and generally he seems to be a happy and fulfilled man. :)\r\n",
            "Aria: Oh, and he has two absolutely adorable daughters. :)\r\n",
            "Aria: It was so nice to meet him, he's such a sweet soul.\r\n",
            "Maverick: I’m glad to hear that. :)\r\n",
            "Maverick: Time flies so fast, doesn't it?\r\n",
            "Aria: It does. :) Recently I’ve met Cooper Roy, I'm sure you remember him, I constantly talked about him back then in high school, because I had a huge crush on him. He’s changed a lot!\r\n",
            "Aria: I barely recognized him!\r\n",
            "Maverick: I remember, how you and Kylie used to gossip about him all the time. :)\r\n",
            "Aria: Well, we were madly in love with him.\r\n",
            "Aria: Or at least we thought so. ;)\r\n",
            "Maverick: I sometimes miss those times.\r\n",
            "Maverick: Everything seemed to be easier, better and calmer back then.\r\n",
            "Aria: The world wasn’t as crazy as it is now.\r\n",
            "Aria: I feel like politics got crazier, people - more radical and hostile and economics - less predictable...\r\n",
            "Maverick: Me too...:(\n",
            "\n",
            "Aria has just run into Charlie Evans. He is now married, with two daughters, and a family business. She has also met Cooper Roy from high school. She used to have a crush on him, now she almost didn't recognise him. Maverick and Aria miss the old times and think the world has changed for the worse.\n",
            "\n",
            "\n",
            "--------------------   VALIDATION Split  --------------------\n",
            "Emma: I’ve just fallen in love with this advent calendar! Awesome! I wanna one for my kids!\r\n",
            "Rob: I used to get one every year as a child! Loved them! \r\n",
            "Emma: Yeah, i remember! they were filled with chocolates!\r\n",
            "Lauren: they are different these days! much more sophisticated! Haha!\r\n",
            "Rob: yeah, they can be fabric/ wooden, shop bought/ homemade, filled with various stuff\r\n",
            "Emma: what do you fit inside?\r\n",
            "Lauren: small toys, Christmas decorations, creative stuff, hair bands & clips, stickers, pencils & rubbers, small puzzles, sweets\r\n",
            "Emma: WOW! That’s brill! X\r\n",
            "Lauren: i add one more very special thing as well- little notes asking my children to do something nice for someone else\r\n",
            "Rob: i like that! My sister adds notes asking her kids questions about christmas such as What did the 3 wise men bring? etc\r\n",
            "Lauren: i reckon it prepares them for Christmas \r\n",
            "Emma: and makes it more about traditions and being kind to other people\r\n",
            "Lauren: my children get very excited every time they get one!\r\n",
            "Emma: i can see why! :)\n",
            "\n",
            "Emma and Rob love the advent calendar. Lauren fits inside calendar various items, for instance, small toys and Christmas decorations. Her children are excited whenever they get the calendar.\n",
            "\n",
            "\n",
            "Barbara: got everything?\n",
            "Haylee: yeah almost\n",
            "Haylee: i'm in dairy section\n",
            "Haylee: but can't find this youghurt u wanted\n",
            "Barbara: the coconut milk one?\n",
            "Haylee: yeah\n",
            "Barbara: hmmm yeah that's a mystery. cause it's not dairy but it's yoghurt xD\n",
            "Haylee: exactly xD  \n",
            "Haylee: ok i asked sb. they put it next to eggs lol\n",
            "Barbara: lol\n",
            "\n",
            "Haylee can't find the coconut milk yoghurt.\n",
            "\n",
            "\n",
            "Jeniffer: We're preparing ravioli\r\n",
            "Alois: how nice! nobody makes them better than your family\r\n",
            "Jeniffer: I got the recipe from my grandmother\r\n",
            "Hildegard: it's a real treasure\n",
            "\n",
            "Jeniffer is preparing ravioli following her grandmothers recipe.  \n",
            "\n",
            "\n",
            "--------------------   TEST Split  --------------------\n",
            "Eric: MACHINE!\r\n",
            "Rob: That's so gr8!\r\n",
            "Eric: I know! And shows how Americans see Russian ;)\r\n",
            "Rob: And it's really funny!\r\n",
            "Eric: I know! I especially like the train part!\r\n",
            "Rob: Hahaha! No one talks to the machine like that!\r\n",
            "Eric: Is this his only stand-up?\r\n",
            "Rob: Idk. I'll check.\r\n",
            "Eric: Sure.\r\n",
            "Rob: Turns out no! There are some of his stand-ups on youtube.\r\n",
            "Eric: Gr8! I'll watch them now!\r\n",
            "Rob: Me too!\r\n",
            "Eric: MACHINE!\r\n",
            "Rob: MACHINE!\r\n",
            "Eric: TTYL?\r\n",
            "Rob: Sure :)\n",
            "\n",
            "Eric and Rob are going to watch a stand-up on youtube.\n",
            "\n",
            "\n",
            "Martin: I won two cinema tickets!\r\n",
            "Aggie: oh cool, how come?\r\n",
            "Martin: online. on fb, the movie mag organized it\r\n",
            "Aggie: so what did you do\r\n",
            "Martin: just write a short review and that's it\r\n",
            "Aggie: well done :) so what and when. and where?\r\n",
            "Martin: the new film with Redford\r\n",
            "Aggie: i guess i heard sth\r\n",
            "Martin: it's pretty cool i heard. till the end of the week\r\n",
            "Aggie: sounds good. we'll find time XD\n",
            "\n",
            "Martin wrote a short review and won 2 cinema tickets on FB. Martin wants Aggie to go with him this week for the new film with Redford.\n",
            "\n",
            "\n",
            "Gloria: This exam is a bit of a lottery in fact\n",
            "Gloria: You can't really get prepared, it's all about experience\n",
            "Emma: But there are some rules and some typical texts right?\n",
            "Gloria: You can see some texts from previous years\n",
            "Gloria: <file_other>\n",
            "Emma: Wow that's very useful\n",
            "Emma: I have never seen this site\n",
            "Gloria: Yes it's very good\n",
            "Gloria: Actually it's good to read all the texts because you will see that some phrases repeat very often\n",
            "Emma: How much time do you have for all 4 parts?\n",
            "Gloria: 4 hours\n",
            "Emma: Is it enough?\n",
            "Gloria: Well it has to be\n",
            "Gloria: Would be perfect to have 2 more hours... But on the other hand it would be really exhausting\n",
            "Emma: 4 hours and no breaks?\n",
            "Gloria: No breaks :/ So it's really important to be really focused and try to write as fast as you can\n",
            "Gloria: And read it carefully and correct during the last hour\n",
            "Emma: I'm going to read everything from that website, it's great\n",
            "\n",
            "Gloria has an exam soon. It lasts 4 hours. Emma sent her a link to a website with some texts from previous years so that she can prepare for the exam better.\n",
            "\n",
            "\n"
          ]
        }
      ]
    },
    {
      "cell_type": "markdown",
      "source": [
        "Dataset has a dialogue and it's summary as training data"
      ],
      "metadata": {
        "id": "CBwUFUachYIG"
      }
    },
    {
      "cell_type": "markdown",
      "source": [
        "## Data processing"
      ],
      "metadata": {
        "id": "mx4PVGumcrOL"
      }
    },
    {
      "cell_type": "code",
      "source": [
        "# Create tokenizer instance\n",
        "tokenizer = AutoTokenizer.from_pretrained(CFG.model_path)"
      ],
      "metadata": {
        "id": "BLl0PNHflBxq"
      },
      "execution_count": null,
      "outputs": []
    },
    {
      "cell_type": "code",
      "source": [
        "def tokenize_dataset(examples):\n",
        "    \"\"\"\n",
        "    Tokenizes dataset splits and return data ready for finetuning\n",
        "    \"\"\"\n",
        "    model_inputs = tokenizer(examples['dialogue'], max_length=CFG.max_length, truncation=True)\n",
        "    labels = tokenizer(examples['summary'], max_length=CFG.max_length, truncation=True)\n",
        "\n",
        "    model_inputs['labels'] = labels['input_ids']\n",
        "    return model_inputs"
      ],
      "metadata": {
        "id": "su6Hw6kfk4Rt"
      },
      "execution_count": null,
      "outputs": []
    },
    {
      "cell_type": "code",
      "source": [
        "tokenized_dataset = dataset.map(tokenize_dataset, batched=True, remove_columns=['id', 'dialogue', 'summary'])"
      ],
      "metadata": {
        "colab": {
          "base_uri": "https://localhost:8080/",
          "height": 113,
          "referenced_widgets": [
            "4375e315a9774541a3fbb3e649826574",
            "3b424e067b4c47c8bf69be11ac9bc70a",
            "7adce850115e4857a636acbda188c486",
            "a42a5686a1f942e790671a8eafc72686",
            "fdc2374134bd44d9a1438dba88d25df9",
            "f6d55d32e14d4f64ba5dce00325b97a6",
            "341d91696e0e45088a6fda746a9a93ec",
            "4ad1830d8f3b487aae2beda0e220f792",
            "0d363f6aa4d44a8f8b8dfe51662353d6",
            "579d1117db8b4ce6bf6772b32a1ddadf",
            "eeb40c9ea2d046b6873137deb8cdf224",
            "cfdf16da6c1e4b9d967161961b33c7f7",
            "618f2d45110046d782dc8cbd2821653e",
            "0af7eb56004e495086e0bc8d43be7f38",
            "384d7a224c8a4d538011c2a4754334c6",
            "c7cf4370df2242dd9ceacc805220f425",
            "f0b0d6a9ed5f483fb67693cbd41a530c",
            "52aa3732e2354e0ebb755a2a4c7889b5",
            "2d83ae381aa340fa8d4ac3e160f5bc65",
            "10e7f73ad13f440db700175776f73556",
            "df57bb0cbe674608aec5df9f424777e6",
            "33dd583714fe453992bdc4d38d2e56f8",
            "ae03e9a2894e4a3eb6f2a1f849f74c8e",
            "c7877d2599624f7da5ad01d6498626b0",
            "b9cb6eb264004925a2de12951feddf3a",
            "79bbc258ad2146f99e419bdfd269978a",
            "859019e1d751421798c8fd5f807dddca",
            "b0ff7a2c36f14948876fc40cffadb5c7",
            "119fb5175c0a42b58837716cc7050f3f",
            "1a65ade5ee61471cb37379d0885184de",
            "4c23a73a38df4bf8a3860535cf043c19",
            "9f9c4cbc0eb844b8b724fe39bb75dba8",
            "44e33d46d40e4950ac8230364f0fc256"
          ]
        },
        "id": "JC8UFzVJcw7P",
        "outputId": "611d048f-bdc3-44f4-80b0-d3102b160c7e"
      },
      "execution_count": null,
      "outputs": [
        {
          "output_type": "display_data",
          "data": {
            "text/plain": [
              "Map:   0%|          | 0/14732 [00:00<?, ? examples/s]"
            ],
            "application/vnd.jupyter.widget-view+json": {
              "version_major": 2,
              "version_minor": 0,
              "model_id": "4375e315a9774541a3fbb3e649826574"
            }
          },
          "metadata": {}
        },
        {
          "output_type": "display_data",
          "data": {
            "text/plain": [
              "Map:   0%|          | 0/819 [00:00<?, ? examples/s]"
            ],
            "application/vnd.jupyter.widget-view+json": {
              "version_major": 2,
              "version_minor": 0,
              "model_id": "cfdf16da6c1e4b9d967161961b33c7f7"
            }
          },
          "metadata": {}
        },
        {
          "output_type": "display_data",
          "data": {
            "text/plain": [
              "Map:   0%|          | 0/818 [00:00<?, ? examples/s]"
            ],
            "application/vnd.jupyter.widget-view+json": {
              "version_major": 2,
              "version_minor": 0,
              "model_id": "ae03e9a2894e4a3eb6f2a1f849f74c8e"
            }
          },
          "metadata": {}
        }
      ]
    },
    {
      "cell_type": "code",
      "source": [
        "print(tokenized_dataset)"
      ],
      "metadata": {
        "colab": {
          "base_uri": "https://localhost:8080/"
        },
        "id": "4Xln6KhsjeCC",
        "outputId": "7fe33d47-e27e-4fc0-e41b-47ced2856d34"
      },
      "execution_count": null,
      "outputs": [
        {
          "output_type": "stream",
          "name": "stdout",
          "text": [
            "DatasetDict({\n",
            "    train: Dataset({\n",
            "        features: ['input_ids', 'attention_mask', 'labels'],\n",
            "        num_rows: 14732\n",
            "    })\n",
            "    test: Dataset({\n",
            "        features: ['input_ids', 'attention_mask', 'labels'],\n",
            "        num_rows: 819\n",
            "    })\n",
            "    validation: Dataset({\n",
            "        features: ['input_ids', 'attention_mask', 'labels'],\n",
            "        num_rows: 818\n",
            "    })\n",
            "})\n"
          ]
        }
      ]
    },
    {
      "cell_type": "code",
      "source": [
        "tokenizer.batch_decode(tokenized_dataset['train'][0:1]['input_ids'], skip_special_tokens=True)"
      ],
      "metadata": {
        "colab": {
          "base_uri": "https://localhost:8080/"
        },
        "id": "E4RMhUYTEUVk",
        "outputId": "f40368e4-7000-4fe5-bae4-1924c4b24f10"
      },
      "execution_count": null,
      "outputs": [
        {
          "output_type": "execute_result",
          "data": {
            "text/plain": [
              "[\"Amanda: I baked  cookies. Do you want some?\\r\\nJerry: Sure!\\r\\nAmanda: I'll bring you tomorrow :-)\"]"
            ]
          },
          "metadata": {},
          "execution_count": 9
        }
      ]
    },
    {
      "cell_type": "markdown",
      "source": [
        "Create ROUGE metric and custom compute metrics function from [HuggingFace](https://huggingface.co/docs/transformers/tasks/summarization#evaluate)"
      ],
      "metadata": {
        "id": "g2jCHzGus-IS"
      }
    },
    {
      "cell_type": "code",
      "source": [
        "rouge = evaluate.load(\"rouge\")\n",
        "\n",
        "def compute_metrics(eval_pred):\n",
        "    predictions, labels = eval_pred\n",
        "    print(predictions, labels)\n",
        "    decoded_preds = tokenizer.batch_decode(predictions, skip_special_tokens=True)\n",
        "    labels = np.where(labels != -100, labels, tokenizer.pad_token_id)\n",
        "    decoded_labels = tokenizer.batch_decode(labels, skip_special_tokens=True)\n",
        "    print(decoded_preds, decoded_labels)\n",
        "    result = rouge.compute(predictions=decoded_preds, references=decoded_labels, use_stemmer=True)\n",
        "    prediction_lens = [np.count_nonzero(pred != tokenizer.pad_token_id) for pred in predictions]\n",
        "    result[\"gen_len\"] = np.mean(prediction_lens)\n",
        "    return {k: round(v, 4) for k, v in result.items()}\n",
        "\n",
        "\n",
        "# def postprocess_text(preds, labels):\n",
        "#     preds = [pred.strip() for pred in preds]\n",
        "#     labels = [label.strip() for label in labels]\n",
        "\n",
        "#     # rougeLSum expects newline after each sentence\n",
        "#     preds = [\"\\n\".join(nltk.sent_tokenize(pred)) for pred in preds]\n",
        "#     labels = [\"\\n\".join(nltk.sent_tokenize(label)) for label in labels]\n",
        "\n",
        "#     return preds, labels\n",
        "\n",
        "\n",
        "# def compute_metrics(eval_preds):\n",
        "#     preds, labels = eval_preds\n",
        "#     if isinstance(preds, tuple):\n",
        "#         preds = preds[0]\n",
        "#     # Replace -100s used for padding as we can't decode them\n",
        "#     preds = np.where(preds != -100, preds, tokenizer.pad_token_id)\n",
        "#     decoded_preds = tokenizer.batch_decode(preds, skip_special_tokens=True)\n",
        "#     labels = np.where(labels != -100, labels, tokenizer.pad_token_id)\n",
        "#     decoded_labels = tokenizer.batch_decode(labels, skip_special_tokens=True)\n",
        "\n",
        "#     # Some simple post-processing\n",
        "#     decoded_preds, decoded_labels = postprocess_text(decoded_preds, decoded_labels)\n",
        "\n",
        "#     result = rouge.compute(predictions=decoded_preds, references=decoded_labels, use_stemmer=True)\n",
        "#     result = {k: round(v * 100, 4) for k, v in result.items()}\n",
        "#     prediction_lens = [np.count_nonzero(pred != tokenizer.pad_token_id) for pred in preds]\n",
        "#     result[\"gen_len\"] = np.mean(prediction_lens)\n",
        "#     return result"
      ],
      "metadata": {
        "id": "Gwu9hNlPs9OY"
      },
      "execution_count": null,
      "outputs": []
    },
    {
      "cell_type": "markdown",
      "source": [
        "Modeling"
      ],
      "metadata": {
        "id": "3368CkA-xiJ1"
      }
    },
    {
      "cell_type": "code",
      "source": [
        "model = AutoModelForSeq2SeqLM.from_pretrained(CFG.model_path)\n",
        "\n",
        "optim = AdamW(model.parameters())\n",
        "\n",
        "data_collator = DataCollatorForSeq2Seq(\n",
        "    tokenizer,\n",
        "    model=model,\n",
        "    pad_to_multiple_of=8 if CFG.fp16 else None,\n",
        ")"
      ],
      "metadata": {
        "colab": {
          "base_uri": "https://localhost:8080/"
        },
        "id": "OqgmaUf7XNsp",
        "outputId": "34673aaa-6205-4479-8060-02aedeba4537"
      },
      "execution_count": null,
      "outputs": [
        {
          "output_type": "stream",
          "name": "stderr",
          "text": [
            "/usr/local/lib/python3.10/dist-packages/transformers/optimization.py:411: FutureWarning: This implementation of AdamW is deprecated and will be removed in a future version. Use the PyTorch implementation torch.optim.AdamW instead, or set `no_deprecation_warning=True` to disable this warning\n",
            "  warnings.warn(\n"
          ]
        }
      ]
    },
    {
      "cell_type": "code",
      "source": [
        "model"
      ],
      "metadata": {
        "colab": {
          "base_uri": "https://localhost:8080/"
        },
        "id": "Q46zSYtIxwUW",
        "outputId": "0c1c0524-0f03-40bb-ac80-5fe6d75ac5da"
      },
      "execution_count": null,
      "outputs": [
        {
          "output_type": "execute_result",
          "data": {
            "text/plain": [
              "BartForConditionalGeneration(\n",
              "  (model): BartModel(\n",
              "    (shared): Embedding(50265, 768, padding_idx=1)\n",
              "    (encoder): BartEncoder(\n",
              "      (embed_tokens): Embedding(50265, 768, padding_idx=1)\n",
              "      (embed_positions): BartLearnedPositionalEmbedding(1026, 768)\n",
              "      (layers): ModuleList(\n",
              "        (0-5): 6 x BartEncoderLayer(\n",
              "          (self_attn): BartAttention(\n",
              "            (k_proj): Linear(in_features=768, out_features=768, bias=True)\n",
              "            (v_proj): Linear(in_features=768, out_features=768, bias=True)\n",
              "            (q_proj): Linear(in_features=768, out_features=768, bias=True)\n",
              "            (out_proj): Linear(in_features=768, out_features=768, bias=True)\n",
              "          )\n",
              "          (self_attn_layer_norm): LayerNorm((768,), eps=1e-05, elementwise_affine=True)\n",
              "          (activation_fn): GELUActivation()\n",
              "          (fc1): Linear(in_features=768, out_features=3072, bias=True)\n",
              "          (fc2): Linear(in_features=3072, out_features=768, bias=True)\n",
              "          (final_layer_norm): LayerNorm((768,), eps=1e-05, elementwise_affine=True)\n",
              "        )\n",
              "      )\n",
              "      (layernorm_embedding): LayerNorm((768,), eps=1e-05, elementwise_affine=True)\n",
              "    )\n",
              "    (decoder): BartDecoder(\n",
              "      (embed_tokens): Embedding(50265, 768, padding_idx=1)\n",
              "      (embed_positions): BartLearnedPositionalEmbedding(1026, 768)\n",
              "      (layers): ModuleList(\n",
              "        (0-5): 6 x BartDecoderLayer(\n",
              "          (self_attn): BartAttention(\n",
              "            (k_proj): Linear(in_features=768, out_features=768, bias=True)\n",
              "            (v_proj): Linear(in_features=768, out_features=768, bias=True)\n",
              "            (q_proj): Linear(in_features=768, out_features=768, bias=True)\n",
              "            (out_proj): Linear(in_features=768, out_features=768, bias=True)\n",
              "          )\n",
              "          (activation_fn): GELUActivation()\n",
              "          (self_attn_layer_norm): LayerNorm((768,), eps=1e-05, elementwise_affine=True)\n",
              "          (encoder_attn): BartAttention(\n",
              "            (k_proj): Linear(in_features=768, out_features=768, bias=True)\n",
              "            (v_proj): Linear(in_features=768, out_features=768, bias=True)\n",
              "            (q_proj): Linear(in_features=768, out_features=768, bias=True)\n",
              "            (out_proj): Linear(in_features=768, out_features=768, bias=True)\n",
              "          )\n",
              "          (encoder_attn_layer_norm): LayerNorm((768,), eps=1e-05, elementwise_affine=True)\n",
              "          (fc1): Linear(in_features=768, out_features=3072, bias=True)\n",
              "          (fc2): Linear(in_features=3072, out_features=768, bias=True)\n",
              "          (final_layer_norm): LayerNorm((768,), eps=1e-05, elementwise_affine=True)\n",
              "        )\n",
              "      )\n",
              "      (layernorm_embedding): LayerNorm((768,), eps=1e-05, elementwise_affine=True)\n",
              "    )\n",
              "  )\n",
              "  (lm_head): Linear(in_features=768, out_features=50265, bias=False)\n",
              ")"
            ]
          },
          "metadata": {},
          "execution_count": 12
        }
      ]
    },
    {
      "cell_type": "code",
      "source": [
        "train_args = Seq2SeqTrainingArguments(\n",
        "    output_dir = './bart-base-summarization',\n",
        "    per_device_train_batch_size = CFG.per_device_batch_size,\n",
        "    per_device_eval_batch_size = CFG.per_device_batch_size,\n",
        "    fp16=CFG.fp16,\n",
        "    do_train = True,\n",
        "    do_eval = True,\n",
        "    evaluation_strategy = 'steps',\n",
        "    eval_steps = 500,\n",
        "    save_strategy = 'steps',\n",
        "    logging_strategy = 'steps',\n",
        "    logging_steps = 100,\n",
        "    dataloader_drop_last = True,\n",
        "    # saves more VRAM\n",
        "    dataloader_pin_memory = False,\n",
        "    predict_with_generate = True\n",
        "\n",
        ")\n",
        "\n",
        "trainer = Seq2SeqTrainer(\n",
        "    model = model,\n",
        "    args = train_args,\n",
        "    train_dataset = tokenized_dataset['train'],\n",
        "    eval_dataset = tokenized_dataset['validation'],\n",
        "    optimizers = (optim, None),\n",
        "    tokenizer = tokenizer,\n",
        "    data_collator = data_collator,\n",
        "    compute_metrics=compute_metrics\n",
        ")"
      ],
      "metadata": {
        "id": "awJrVl5DgrAL"
      },
      "execution_count": null,
      "outputs": []
    },
    {
      "cell_type": "code",
      "source": [
        "trainer.train()"
      ],
      "metadata": {
        "colab": {
          "base_uri": "https://localhost:8080/",
          "height": 504
        },
        "id": "ZZnSIxtdrM-Y",
        "outputId": "7f759d2a-fe33-462f-d797-91dc51271a2a"
      },
      "execution_count": null,
      "outputs": [
        {
          "output_type": "stream",
          "name": "stderr",
          "text": [
            "You're using a BartTokenizerFast tokenizer. Please note that with a fast tokenizer, using the `__call__` method is faster than using a method to encode the text followed by a call to the `pad` method to get a padded encoding.\n"
          ]
        },
        {
          "output_type": "display_data",
          "data": {
            "text/plain": [
              "<IPython.core.display.HTML object>"
            ],
            "text/html": [
              "\n",
              "    <div>\n",
              "      \n",
              "      <progress value='501' max='11049' style='width:300px; height:20px; vertical-align: middle;'></progress>\n",
              "      [  501/11049 01:09 < 24:25, 7.20 it/s, Epoch 0.14/3]\n",
              "    </div>\n",
              "    <table border=\"1\" class=\"dataframe\">\n",
              "  <thead>\n",
              " <tr style=\"text-align: left;\">\n",
              "      <th>Step</th>\n",
              "      <th>Training Loss</th>\n",
              "      <th>Validation Loss</th>\n",
              "      <th>Rouge1</th>\n",
              "      <th>Rouge2</th>\n",
              "      <th>Rougel</th>\n",
              "      <th>Rougelsum</th>\n",
              "      <th>Gen Len</th>\n",
              "    </tr>\n",
              "  </thead>\n",
              "  <tbody>\n",
              "    <tr>\n",
              "      <td>500</td>\n",
              "      <td>7.574000</td>\n",
              "      <td>7.080812</td>\n",
              "      <td>0.000000</td>\n",
              "      <td>0.000000</td>\n",
              "      <td>0.000000</td>\n",
              "      <td>0.000000</td>\n",
              "      <td>3.000000</td>\n",
              "    </tr>\n",
              "  </tbody>\n",
              "</table><p>"
            ]
          },
          "metadata": {}
        },
        {
          "output_type": "stream",
          "name": "stderr",
          "text": [
            "/usr/local/lib/python3.10/dist-packages/transformers/generation/utils.py:1273: UserWarning: Using the model-agnostic default `max_length` (=20) to control the generation length. We recommend setting `max_new_tokens` to control the maximum length of the generation.\n",
            "  warnings.warn(\n"
          ]
        },
        {
          "output_type": "stream",
          "name": "stdout",
          "text": [
            "['', '', '', '', '', '', '', '', '', '', '', '', '', '', '', '', '', '', '', '', '', '', '', '', '', '', '', '', '', '', '', '', '', '', '', '', '', '', '', '', '', '', '', '', '', '', '', '', '', '', '', '', '', '', '', '', '', '', '', '', '', '', '', '', '', '', '', '', '', '', '', '', '', '', '', '', '', '', '', '', '', '', '', '', '', '', '', '', '', '', '', '', '', '', '', '', '', '', '', '', '', '', '', '', '', '', '', '', '', '', '', '', '', '', '', '', '', '', '', '', '', '', '', '', '', '', '', '', '', '', '', '', '', '', '', '', '', '', '', '', '', '', '', '', '', '', '', '', '', '', '', '', '', '', '', '', '', '', '', '', '', '', '', '', '', '', '', '', '', '', '', '', '', '', '', '', '', '', '', '', '', '', '', '', '', '', '', '', '', '', '', '', '', '', '', '', '', '', '', '', '', '', '', '', '', '', '', '', '', '', '', '', '', '', '', '', '', '', '', '', '', '', '', '', '', '', '', '', '', '', '', '', '', '', '', '', '', '', '', '', '', '', '', '', '', '', '', '', '', '', '', '', '', '', '', '', '', '', '', '', '', '', '', '', '', '', '', '', '', '', '', '', '', '', '', '', '', '', '', '', '', '', '', '', '', '', '', '', '', '', '', '', '', '', '', '', '', '', '', '', '', '', '', '', '', '', '', '', '', '', '', '', '', '', '', '', '', '', '', '', '', '', '', '', '', '', '', '', '', '', '', '', '', '', '', '', '', '', '', '', '', '', '', '', '', '', '', '', '', '', '', '', '', '', '', '', '', '', '', '', '', '', '', '', '', '', '', '', '', '', '', '', '', '', '', '', '', '', '', '', '', '', '', '', '', '', '', '', '', '', '', '', '', '', '', '', '', '', '', '', '', '', '', '', '', '', '', '', '', '', '', '', '', '', '', '', '', '', '', '', '', '', '', '', '', '', '', '', '', '', '', '', '', '', '', '', '', '', '', '', '', '', '', '', '', '', '', '', '', '', '', '', '', '', '', '', '', '', '', '', '', '', '', '', '', '', '', '', '', '', '', '', '', '', '', '', '', '', '', '', '', '', '', '', '', '', '', '', '', '', '', '', '', '', '', '', '', '', '', '', '', '', '', '', '', '', '', '', '', '', '', '', '', '', '', '', '', '', '', '', '', '', '', '', '', '', '', '', '', '', '', '', '', '', '', '', '', '', '', '', '', '', '', '', '', '', '', '', '', '', '', '', '', '', '', '', '', '', '', '', '', '', '', '', '', '', '', '', '', '', '', '', '', '', '', '', '', '', '', '', '', '', '', '', '', '', '', '', '', '', '', '', '', '', '', '', '', '', '', '', '', '', '', '', '', '', '', '', '', '', '', '', '', '', '', '', '', '', '', '', '', '', '', '', '', '', '', '', '', '', '', '', '', '', '', '', '', '', '', '', '', '', '', '', '', '', '', '', '', '', '', '', '', '', '', '', '', '', '', '', '', '', '', '', '', '', '', '', '', '', '', '', '', '', '', '', '', '', '', '', '', '', '', '', '', '', '', '', '', '', '', '', '', '', '', '', '', '', '', '', '', '', '', '', '', '', '', '', '', '', '', '', '', '', '', '', '', '', '', '', '', '', '', '', '', '', '', '', '', '', '', '', '', '', '', '', '', '', '', '', '', '', '', '', '', '', '', '', '', '', '', '', '', '', '', '', '', '', '', '', '', '', '', '', '', '', '', '', '', '', '', '', '', '', '', '', '', '', '', '', '', '', '', '', '', '', '', '', '', '', '', '', '', '', '', '', '', '', '', '', '', '', '', '', '', '', '', '', '', '', '', '', '', '', '', ''] ['A will go to the animal shelter tomorrow to get a puppy for her son. They already visited the shelter last Monday and the son chose the puppy. ', 'Emma and Rob love the advent calendar. Lauren fits inside calendar various items, for instance, small toys and Christmas decorations. Her children are excited whenever they get the calendar.', \"Madison is pregnant but she doesn't want to talk about it. Patricia Stevens got married and she thought she was pregnant. \", 'Marla found a pair of boxers under her bed.', 'Robert wants Fred to send him the address of the music shop as he needs to buy guitar cable.', \"Megan needn't buy milk and cereals. They're in the drawer next to the fridge.\", 'Samantha and Evelyn after watching the video cannot believe she is able to make that noise.', \"Tom's new place is in Fiesole. Luis and Marion has been there. \", 'Jane made a 9 PM reservation for 6 people tonight at Vegano Resto. ', \"Nancy's working in Texas, but the kids laugh at her Welsh accent. She's coming home in 6 weeks. Earlier than that she's going to travel with 3 other Brits.\", 'Laura is going to buy a printer.', \"Haylee can't find the coconut milk yoghurt.\", 'Wendy is shopping, but she needs to hurry up to catch the tour.', 'Cecil, Cheryl and Peter went to the Jandia Peninsula today. Cecil would like to explore the south of the island tomorrow, but they will decide what to do after dinner. ', \"Sophie still hasn't found it despite checking pockets and handbags twice.\", 'Dennis and Elle are helping Rosie think of bad movies for her essay. ', 'James has a dream of becoming a voice actor. He considers making a home radio station.', \"Poppy and Alice are meeting for drinks after work at Nick's at 5:30. Alice fancies Fred, she will invite him and a bunch of other coworkers.\", \"Sash needs to see Caron who'll be out from 12. \", 'Matteo is not sure about his relationship with Gosia but likes her a lot. ', 'Ramzi and Jannette are going for supper.', 'Jeniffer is preparing ravioli following her grandmothers recipe.  ', 'Lawrence will finish writing the article soon.', 'Chad has sent Brennen a funny photo. Brennen does not find it very funny.', \"Sadie will borrow Chloe's bike on Wednesday evening. She has a dentist appointment on Thursday after work.\", \"Carter is launching a restaurant business next month. Olivia wants him to include a restaurant she's working for in the discount app. They will meet in person to discuss it.\", \"Kenny had a surgery, as Kristine reports. He will have another surgery tomorrow. Guy will come to St. Mark's Hospital near Asda to stay with Kristine.\", 'Skyler and Adam are surprised that Joey and Olivia broke up.', 'Amanda goes to dancing classes with Michael. She volunteered to show the English Waltz steps with the instructor yesterday. Amanda is shy and goes to therapy.', \"Taylor wants to meet Isabel's boyfriend but she has never had any.\", \"Theo's going to stay near Torino in the region of Italian Alpes. Toby wants to join the trip. Theo agrees and will pick Toby up on Friday at 7 am.\", 'Brandon is late again. Clara will prepare a report on the absenteeism and lateness for Phil by Friday.', \"Olga and Suzie will postpone their meeting due to Suzie's sickness.\", \"Diane is pregnant and can't wait to give birth, she thinks the waiting is the worst. Kate thinks she'll be an amazing mother. \", 'Andrew has a cold. Daniel will buy him some medication.', 'Alex and Sam are watching Millionaires.', \"Angelica sent the cinnamon cookies recipe at Kelly's request.\", 'Sophie is waiting for a client, who is late. She will meet Gwen later.', 'Daniel is with the Volvo on his way and will be there soon. Sue is going downstairs to meet him.', 'George is making salmon and stuffed squash for dinner. Betty will buy a shaving cream at CVS at his request,', 'Ken has installed an app for running but it is not working properly on his phone. ', 'Ivan and Ann will meet next week.', 'Ashley posted some nude photos on her fb page. ', \"Mikolaj's wife needs a work permit as a foreigner. Government officials missed the deadline for sending it and will need another month.\", 'Thomas, Ann and Maria will have lunch together at the hotel. Ann is already in the 3rd floor lobby at the red table. ', \"Sus and Val don't want to work and are sleepy.\", \"Kate is at the Guggenheim Museum now, but will be in the Museum of the City of New York around 2-2:30. Kai may join her. Ish won't. Terry will join them for a coffee after they finish visiting the museum. Terry has already seen the museum.\", \"Cathy left her sunglasses at Broke's house. She will come collect them at 10.\", \"Bradley will come to Frederica's birthday party tomorrow at 8pm.\", \"Camilla still hasn't received the 250. She will check and let Adrian know. Money usually takes around two days to arrive.\", \"Liliana is at home and does not have specific plans for the day. Liliana and her colleagues decided not to fly today but she still got paid. Liliana's job pays a fixed rate on a monthly basis.\", 'Meg and Margaret are going shopping. They are planning to meet at 1 pm near their school.', 'Paulina thinks that Maria Skłodowska-Curie is the greatest Pole.', 'Miles needs the project to be finished. Tim is trying. Gregory has an idea. ', \"Julia is at work. She will meet Morgan for a drink after work. She'll call her.\", 'Marta is grocery shopping for dinner. She and Nick will make lasagne.', 'The stuff meeting is postponed from 8.00 to 8.30 to encourage more participation. Dzuka will inform Anna if it changes again.', \"Will is checking their tests and they didn't go well. They will write it again on Tuesday. \", 'The actors from \"Game of Thrones\" are in the city. Sydney and Sophie would like to get off work and look for them. Melanie reminds them, that they would be easier to find in the evening than in the morning.', \"Aubray wants to watch Bollywood movie with Kate tomorrow. Kate doesn't like this type of movie. In the end, she agrees to join Aubray.\", \"Lassie ruined Don's new shoes.\", 'Julia is going shopping with Isabel Saturday afternoon as she needs a new winter jacket. Isabel has a hairdresser at 3 so can meet Julia at 5 Arkadia at the main entrance.', 'Sally is unavailable for contracting but recommends Laura. Michael appreciates it. Laura wants to meet to discuss further details.', 'Kate Doran wants to buy two books from Patricia Keys: \"Legal English for Polish purposes\" and \"Business English dictionary\". They will meet at the Och Theatre entrance at 7 PM to seal the deal.', 'Judy and Sara are sitting inside upstairs. ', 'Chad thinks that Elton John is greatest of all time.', 'Griffin will pick Leonardo up 6:30 am to get him to the airport. Leonardo is leaving the country for a couple of weeks.', \"Franklin's and Faye's child is crying. Franklin doesn't know what to do, so he will follow Faye's advice.\", 'Frederic, Sean, Vanessa and Abigail are discussing the weather.', \"Jacob's parents were looking for him last Saturday. Jacob was with Henry, but he forgot to inform his parents.\", 'Quinn wants Jack to accompany him to the Apple store around 12.', \"Andrzej isn't coming to Magda's class today. \", \"Robert is looking for Mark, who was supposed to send him his notes on the Faircase review but isn't answering his phone and email. Mark has left the notes with Jenny. Robert is going to come by and get them tomorrow. He will also eat lunch with Kate by their place by the fountain.\", 'Grace has shown Andrea her new website. Andrea likes one of the photos. She is going to see how the site looks on mobile devices.', 'Luke, Ken and Summer went surfing today and enjoyed it.', \"Martha's 30 weeks pregnant and needs to stay in the hospital for another few weeks, but the baby is not in danger any more.\", \"The pictures from Angela's wedding are ready. Essy wants the link to the gallery.\", \"Will left a bottle of expensive wine for his parents' anniversary on the kitchen table. \", \"The plan for Friday is to meet at Camil's place at 7 pm then go bowling at 9. It is not compulsory to bring your own shoes to the bowling club as they rent them out.\", 'Harry will pick James up at 6 pm. They will go to Ikea. Harry wants to buy a desk to his office room.', 'Jane is going for holiday again, this time to Turkey. ', 'In 40 minutes a car will come to pick Sally up from her home. She will meet Prudence at work at 8:30.', \"It's Casper's birthday. Sebastian is giving his best wishes to Casper. Casper is thankful.\", \"Jagger thinks needs to buy a new car. His old one stopped working and the mechanic told him there is no point in repairing it. Byron knows a a guy who specializes in old vw, so he will consult with him Jagger's issue.\", \"Adam's looking for his math book, Harry has it and will give it back tomorrow.\", 'Greg is not at home to collect a parcel. Dwight will leave it in the security office.', 'Rose and Edd will be transferred to a new department. Their professors will not change but paperwork will become more difficult.', \"Trayson's flight was cancelled due to a sudden storm. He is queuing now to book another flight.\", \"Hollie is pissed. Helga came over for dinner and criticised the food in Armenian, thinking Hollie wouldn't understand it.\", 'Daniel has had his test results back and all is well. Ann-Christine is pleased for him. ', 'Quinn and William will watch a new Marvel movie together on Monday.', 'Andrew asks Samuel to stop sending videos. ', 'John likes to play simulation games, eg. World of Tanks.', \"Ann requested that Sheryl and Jeff don't visit her in the hospital.\", 'Chris, prompted by Facebook, wishes Sandra happy birthday but she submitted the wrong date and it is not her birthday.', 'Keaton is watching wrestling but Zeraldina informs her that her favourite actress is on channel 11.', \"Fanny has probably made some mistakes in a project so she's really worried as she may be in serious trouble. Zed is going to call Michael as it seems to be the only thing they can do at the moment.\", 'Sophia missed the tram and is waiting for the next one.', 'The capital city has been moved to Gitega. It had been promised by Nkurunziza in 2007. Something similar happened in Birma. ', \"Arnold's buying a curved TV for Black Friday. Baldwin and Evelyn want one too, Arnold sends them the shop's location.\", 'Mike, Jenny and Jack wonder where Tomas is from. Kyle is sure Tomas is from Slovenia. Mike thinks Tomas is now the only Slovenian in the company.', \"Mia's dad William will come to her place after work to repair her bathroom door. \", 'Alexander and Harold ate too much during Christmas.', 'Jessy and Clara noticed that Caroline bought a new dark blue Toyota car. Jessy and Clara are now considering the purchase of a used SUV, most likely Infinity or Toyota.', 'Emma and Hallie share links with info about that topic. Clara is grateful.', 'Mayweather beat McGregor in a boxing match.', \"There was a change of English teachers at Annie and Jenny's school. The school was closed for 2 weeks. The new teacher in Canadian native and has a MA in education.\", \"Joan isn't ready and is nervous. Tim isn't pushing her, he's just asking. \", 'Rachel and Monica will take a public but at about 4 to get to the lecture at 5 pm.', 'Bella and James are meeting to play Isle of Skye and other games on Sunday at 2 pm.', 'Wanda lost her keys. They were in her bag.', 'Sue will work today replacing Jane. Jane frequently calls in sick on Tuesdays. Jane needs to rectify the situation, or she risks being fired.', \"Patrick's girlfriend accepted his proposal.\", 'Mia checked that Sam unplugged the iron in his room.', \"Roseanne wanted to go out for a beer with Kyle and Vince, and leave her kids with Megan.  Megan will clean the house and give Roseanne's kids her famous chocolate cookies if they help, what made Roseanne change her mind, and she wants to join them.\", \"John wants Jane to tell mother that he won't be there due to his work.\", 'Sophie is coming home in 20 minutes for the dinner Olivia, her mother, prepared.', \"Lena moved in to a new house. Lena's neighbours are old and noisy and Lena is disappointed with her new home. The house does not have built-in closets and there is a big tree in the middle of the garden that is hiding the sun all day. Lena and Stefy will rest at the sea next month.\", 'Lilly and her husband went to Mexico for holiday. Jamie spent vacation with her family. Lilly and Jamie are going to meet on Monday.', 'Michelle and Monika are talking about the weather at their places. There are no signs of winter yet.', 'Sonja and Elisabeth discuss a hockey game.', \"The car mechanic Jim's Repairs is on Freedom street. His phone number is 554 645 387, but he rarely answers it.\", 'Sandra has booked a riding lesson for 20£ an hour on Friday. Olivia will join her at 5:30 and the lesson starts at 6.', 'Sam baked a cake for Laura so they can eat it together.', 'Rose and Violet will see each other in a few days.', \"Rosie left her pen at Harrison's place yesterday. Harrison will bring it back to her in a while.\", 'Christian made a reservation with Isabel and he needs to send her passport details of the guests. Cristian arrives in Madrid at 21:20. It takes 30 minutes to go from the barajas airport to the apartment by metro. The end station is Antón Martin. Isabel lives next door, at number 14.', 'Arthur panicks if the gas bill is paid as the tech wants to turn off the gas. Linda sent him the bank confirmation.', 'Max and Sylvia are getting a Toyota, because they are fed up with public transport. Sylvia was against it at first but she gave in. Max wants her to get a licence so that they both can drive.', 'Sarah and Mariah gossip about Sarah Palin.', \"Wendy created a new tutorial on how to draw eyebrows. Sheri checked it out and thinks it's great. She will share it with her friends at school.\", \"Ben needs 2 minutes to feed his cats and he'll come down to meet Mark in the car.\", \"Ross broke his leg again. Madeleine is in hospital now, waiting for some paperwork. Maxwell will cook some dinner as Madeleine didn't have time. Madeleine took a car, so she doesn't need Maxwell to pick them up from hospital. \", 'Martial will call Kevin urgently, as soon as he recharges. ', 'Galvin is leaving and he will say goodbye to all of them individually, instead of writing e-mails, or making a deal out of it.', \"Gary forgot about the game with Brian. He'll be there soon. \", 'Georgia is preparing materials for her thesis.', 'Meki is watching Rada, Radmila, and Gorjana play Canasta. Meki prefers reading to playing cards.', 'Collins played FIFA 19 for the first time today. Ben played it 1 month ago.', 'Shantelle left the coffee cups in the kitchen and as a remedy will bring biscuits and make a round of drinks in the office tomorrow.', \"Today is Jacqueline's birthday. She has to work early tomorrow. She is organizing a small party on Saturday. Marco and Peter will come.\", 'Jamie never heard of him. Ann believes he is a very good actor. Jamie should watch him in Atlanta with Danny Glover.', 'Tash is coming back from the train station now.', \"Erica is having trouble with calculus. She doesn't want to ask Paul for help, because she's too shy. Erica will start a study group instead.\", \"Gary thanks Lucy for a surprise party which Sue organised. He wants to throw a similar party for Marjory's 70th birthday. Lucy will help him and look for a place to throw a party.\", \"Following Lena's advice, Magda will take her car to the service to see if it's broken.\", 'Jim should go to the class in room 23 A in the building next door.', \"Nick is injured so he can't play football at the moment. It happened when he was riding a bike with a friend. Laura thinks it's funny.\", 'Harry is very angry, because he had washed his car, and some birds have defecated on it.', \"Phillip got a new laptop. He found out you don't need to install games on all computers at home. You just need to download it once and then you can stream them in the network. \", \"On Martha's request Agnes will prepare her famous soup for the party.\", 'Otto wants Linn to go on a cruise with him in summer. Linn will let him know.', 'Ken is not allowed to go out, because he failed English.', \"Marianne wants to buy a dress for the wedding for 100$. Cassandre thinks it's a regular price but Eveline disagrees. Marianne has 3 options but she wants the one for 100$ as she likes it and can afford it.\", \"Rashid will call the dishwasher repair company and establish what time exactly they'll be coming. He will also pick up the children.\", \"There are protests happening in Paris. Margot does not look at the news because she thinks it's depressing.\", \"Tom will throw a surprise birthday party for Kate but he doesn't know all her friends, so Sharan will invite them. Tom sent Sharan a card with all the details. She will confirm how many guests are coming.\", 'Rob and Matt are talking about Marcin Gortat.', 'Josh was at the concert in the \"Devil\\'s den\" club. He saved a cat on the street last week.', 'Matt has been watching \"House of Cards\", eating pizza, meeting up with Martha and sleeping lately. He tried to talk with Martha about Saturday\\'s party. Elle recommends Matt to watch \"Designated Survivor\". ', 'Swedish police has found crown jewels from the 16th or the 17th century that were stolen last summer. They were thrown into a trash can.', 'Last year Thomas attended the history classes with the girl that now has gone missing. She was pretty, but quite shy, had good contact with her family.', 'Diclarey will share some of his updated albums with Joy. Joy will come and copy them directly to his phone.', 'Ben points out sleeping alone as the worst thing about him and Hannah spliting up.', 'Jen and Rick are on holiday just outside Shanghai. They are enjoying themselves very much. ', 'Harvey will help Joan with the home assignment.', \"Anne is wearing a yellow dress today. Neither Audrey nor Kate want to tell her it doesn't make her any good.\", 'Beth has a lot of work tonight and will inform Will around 7 if she can meet him.', 'David was safe when the tsunami hit.', 'They are going to meet at the bar for drinks. James will be at the bar after 9 pm.', 'Troy wants from Ismael a recipe for pancakes.', \"Soph is on a 5-week holiday in Mexico. She's already visited Cancun and now she is in Merida for approx. 10 days. She is planning to visit Valladolid, Campeche and Izamal. She rented a car and drives through the peninsula with her companion.\", \"Natty doesn't like RPGs but Vic thinks they are fun.\", 'Jamie is ready to help Meg with the translation. Meg will let her know next week if she gets behind.', 'According to Wikipedia, vitamins were discovered by Casimir Funk, a Polish-American researcher.', 'Grace got a permanent job as a secretary for an architect. Grace signed her contract last Monday. Grace loves her new job and finds it interesting. ', \"Albert has twitter and he wants to follow Natasha. She doesn't have an account, because she isn't a fan of sharing personal information online.\", 'Andreas and Abdul have invited some friends to a lake house this weekend but the plan has to be cancelled. Andreas and Abdul will ask Chris if the party can move to a lake house owned by his family.', 'Heather was drinking the Buckfast with her new housemate Dominic from the Netherlands. Heather thinks it is disguising. Michael and Heather like Dominic. ', 'Mark is coming back this weekend. Ben, Jana and Blake are going to surprise him with a party at a club.', 'Jess broke her wrist when she fell off the ladder cleaning the cupboards. It will be in plaster for about six weeks.', \"Tom is going to Rome by train. It's winter, but the weather in Italy is good. Tim invites John to Italy. John is busy at work but will try to find a replacement.\", \"Ada and Olivia didn't go to acro today.\", \"Jude's uncle, Ben died. Scarlet read about the funeral after the fact. \", 'Ross will call Mattie when dad is at home.', 'Oliver found out that they misunderstood the rules of the game. Emily and Chris think they should play the game again. ', 'Misha is buying a dress. ', \"Amanda's iPhone is no longer charging. She tried with her sister's charger, but it didn't help. It might be the cable or the charging port. She'll get a cheap replacement cable to check it.\", \"Mateo wants Jesse to pick up or open the door. It's 5 AM. Jesse won't oblige as he wants to sleep.\", \"Martin's exam was very difficult. He doesn't think he passed it.\", 'Michael and Liz are going to visit Alex in her new apartment Friday evening. Alex warns them that they might meet boars on the way as she lives close to a forest. ', \"Ted wants to go drink beer at Jane's, but Shane hates her.\", 'Iza has good news.', \"Eva's asking for advice, Megan suggests a different, cool colour.\", \"Howard wants to take Jane out for a romantic dinner. Jane is a trans woman and has a penis. Howard doesn't like it. \", 'The Aiesec meeting was rescheduled for 7 pm today. It will take place in Arts 203.', 'Theresa was on TV.', 'Lunch is at 2 pm.', \"Jimmy and Sandy are going to go to another bar in order to avoid Trevor. Trevor is Sandy's ex and he is here with Amy.\", \"Callum's picture shows him when he is smiling widely. Callum has never seen Saanvi's picture where Saanvi is smiling widely.\", 'Simone suggest to move the meet up at Mammals from 6pm to 8pm as more people are available. As free drinks end at 7.30 the conclusion is for everyone to join Andy and Simone whenever they can after 6. ', \"Allan managed to get half a bucket of paint for Frank. He will get more in the afternoon. Allan's car broke down this morning. Frank won't lend him the car but he'll pay for the taxi. \", 'Michelle and Alex organized their holiday. They will spend two weeks in Croatia. They will fly there directly. Alex will book the trip. Michelle will exchange the money.', \"Sam remembers it's her birthday in 2 days.They haven't speak for weeks. Tom is against.\", \"Serena is exhausted after a long day. Jackie is watching Apprentice on IPlayer. Serena hasn't watched it this year.\", 'Kylie sent Ian some photos. Ian forwarded the photos to Alex.', 'Zain has invited Reyna and Odin to his party.', 'Tyler is going to buy the Flash T-shirt he has been looking for. Orion disapproves of it and thinks it is nerdy.', 'Sandra suggested a meeting with Lily to cheer her up.', \"Ethan and Ann are meeting next to the bus station. They will be at Danny's in 20-25 minutes.\", \"Sally doesn't feel the chemistry in her new relationship anymore. Fran suggests that Sally is overthinking the situation and that Sally should give the relationship some time.\", 'Lizzy with the help of Sia is picking up make up for the night out with Marco and his friends.', 'Michael has just finished building a cupboard. Betty is working. Michael is installing benches at a school tomorrow. Betty and Michael will meet for a drink on Saturday at 19:00.', 'Karen is on sick leave 4th time in 3 months. Ashley has to give the presentation alone. She thinks Karen is faking the sickness.', 'Royce and Mario love each other and write to say goodnight.', 'Kate, Karen and Nancy are meeting in Starbucks.', 'Hanna is contacting Gina to ask if the medium sized frilly white skirt from her store is available on the 4th Street. It is.', \"Beryl will be staying in Anton's airbnb in Onrus from 4th January until 12th January.\", 'Kate went to see a fortune teller and paid 60 quid for the meeting. ', \"Hugo will send Max notes from the last lecture but it will be the last time he does it. Max's mum is at hospital.\", 'Mark had to break wind, while being in a fancy restaurant. He sought to do it silently. He failed.', \"Gina and Eily are hungover. Gina ordered food from McDonald's, Emily will have a pizza.  \", \"Iris's still in town for 2 days. She's planning to buy the Nina Ricci pink apple for Flo, a small coffee machine for mum, a Brook saddle for her brother in law, a small travel clock for Ted and a cap for FR. She has venaison and smoke salmon planned for meals, Diana will bring foie gras and oysters.\", 'Sally, Sam, Miranda, Danny and Doro will go to London to visit Ella. Ella cannot organize them hotels for their stay so Danny found an apartment for 1500 PLN on airb&b.', \"Eve has to come back to the office on her day off. It's probably the fault of Charlotte Briggs, who dislikes Eve and has already done such things out of spite. On Anton's advice, Eve might fill in a complaint against her.\", \"Zhe's meeting is set to 2pm. He'll go to other party's office by taxi. \", 'Bella presented a paper at a conference in London. It went well.', 'Jace made a video using Tik-Tok. He will send Mya the link in five minutes.', \"Jojo has got a job offer and wants Matt's advice before taking a decision.\", \"Carol doesn't want to date Butch.\", 'The party starts at 7.', \"Daniel, Greg and Sara will go jogging together tonight at 7. They'll start at Regent's Park. \", 'Henning and Linda watched half of \"Suspiria\". They found it boring. There was no sex in the movie.', 'Lily wanted Mike to bring her her wallet, but it turned out she had it with her.', 'Don and Jules are having supper at 7. Marissa and Keith are coming too.', 'Janin is going to prepare something to eat and drink for tomorrow. Andrew should bring whatever he wants to.', \"Galia can't meet with Tania on a couple of occasions, but can go for a drink right now to celebrate Igor's birthday. Sacha, Mr Maclinch and the Levy will join them later. Tania, Galia, Sacha and Mr Maclinch are expected at Cecilia's dinner at 8:30. \", 'Jenny is coming down with a cold. Sue is doing grocery shopping for Jenny.', 'Lucy, Eli and Steve are going to participate in a bar game.', 'Lily will be 20 minutes late and Diana - 5 minutes. Meredith will look for a table.', \"There's a huge storm coming. Josh is already prepared. Beth and Jim still need to go shopping for the necessary supplies.\", 'Sarah and Finlay are meeting today.', \"Halloween is not celebrated in Poland. It is common to go to the cemetery and spend time with family on November 1st. Chris' parents used to tell him that Halloween is haram. Kate doesn't like Halloween tradition.\", 'Angie gave birth to Maya at 5:20 AM.', 'Evie needs to make an appointment with the vet for her puppy, Oscar.', \"Isiah can't go to the game tomorrow because Melanie is sick and Rachel has two other kids to take care of. Antonio doesn't want to go to the game alone. He's going to ask Karl to use Isiah's ticket.\", 'Eve is going to a party with some girls from her work. Nancy would like to join but she cannot.', \"Billy is late, he'll come in 20 minutes. He'll have to buy Lily and Harry a beer as a punishment.\", 'Crystal and Pauline are drinking some wine this evening. Crystal had a bad day at work.', 'After work Ben will go to the gym and do the groceries requested by Jill. He will be home about 7 or 8.', 'Ricky will have his first surgery tomorrow. He was surprised that doctor called him and offered a surgery date so soon as in the hospital he was told to wait until 2026. He will have his knee done in Burlington. Lucy is comforting Ricky. They will meet for lunch later on.', \"Ben is tired because he had to take his mother to hospital after she broke her leg. Ben's mother suffers from dementia. She has become a burden and it is time for her to move to a retirement home.\", 'Forest school is tomorrow for group 3 and 4. Lindsay and Elsa are in group 2.', 'Linda loves the chocolates Julian bought for her.', \"Josh, Lana and Mark are going to play bowling tomorrow at 8 PM. Before they'll meet at Mark's place at 6.\", 'Professor Xavier probably holds his duty hours on the 3rd floor in the Statistics Department. ', \"Adam, Jasmine, Rebecca and Aaron are planning to climb the mountain tomorrow.  They'll meet at 6 am. The weather forecast is good for tomorrow, sunny but not too hot.\", \"Andy and Kate had fun yesterday. They will meet each other again tomorrow at Cleo's.\", 'Julia wants to watch her and Andy to watch Anastasia, which is her favourite, tonight. Unlike Frozen, Mulan, and Hercules, it was made by Fox and not Disney.', \"Clara doesn't have any spare blankets, pillows or anything else to donate to the shelter today. She'll ask her friends and she might have something next time.\", 'Ali will run the half marathon in Bristol on Sunday. Gina, Harry, Emma and Emily support him.', \"Brian wants to approve Mike's pending post, but Sarah is quicker.\", \"Olivia and Erik are craving for Original Joe's. They'll go there tonight\", \"Yanny loves Francesco's place. Francesco thinks it's poor with no jobs. Yanny thinks more people means more places to work. Francesco likes Yanny's enthusiasm.\", 'Rayan bought a new motorcycle and may sell the old one to Greg.', 'Liz is having her drapes shipped to her separately from the pillows to have the drapes finished by the weekend. ', 'Jim has one more semester at school and he is filling out a job application. Mary misses him and she will be in town for some Christmas shopping, so they will meet on Tuesday at 7pm.', \"Robert has an appointment at the doctor's at 7.\", 'The job requires living 6 months lonely on a remote island.', 'Kate, Misty and Bob will go skiing next week.', 'Daca was supposed to have an operation but he was returned. Doctors recommend Daca and Jaca go to the Institut for \"Mother and children\". Ostoja is waiting for them in front of main entrance.', \"Margaret is going to teach her classes tomorrow according to schedule. Margaret prefers that students write her messages on her e-mail address instead of Facebook. Margaret hasn't read the whole 2nd chapter of  Alice's thesis yet, but thinks it's good so far. \", 'Heidi wants Noah to take items away from the balcony and close all the windows.', \"Matthew and Karen will have a quick lunch at the Penn Station at 12.00 before Karen's departure at 12.40. She is going to take a bus to Boston. A bus is cheaper than a train.\", \"Sofia's car needs an oil change. Sofia will make an appointment for Saturday so David can take her car.\", 'Yannick and his partner got into a fight and broke up. He will see Ellen in the class.', 'Blake is finished so Neeley can take the iron from his room.', 'Elisabeth invited Charles for a supper in the evening. Charles refused because he has no money.', 'Ella will meet Charlie at & pm so he can help her with the assignment.', \"Cooper is working on proposal. Jimmy offers his help. He will come over to Cooper's place at 5pm.\", \"Lisa will buy a pair of Nike's running shoes.\", \"Nadya has a headache because her neighbours' cleaner is being loud. She is expecting a baby. Sean will have breakfast after he does yoga.\", 'Tamara tells Felice to take out the rubbish. The keys hang next to the umbrella in the hall.', 'Tommy is moving to the suburbs and asks Jimmy and Ken for help. Jimmy has got 2 hours on Saturday. They will start at 8 am.', 'Fiona and Sean are going to a discussion about translating Andrei Platonov tonight. It takes place at a Polish bookstore on Sanderstrasse called \"Buch Bund\". It\\'s in Polish and German. Fiona will let them know that they need headphones for the simultaneous interpretation.', 'Jude is coming to Warsaw on the 10th of December and wants to see Leon. Leon has no time.', 'Phil is in love with Ann. Linda wants to help match them but Phil wants to do it himself.', 'Esther is at the concert with her flatmate. Bennett will drive 1000km tomorrow. He has a comfortable car. ', \"Austin is pretty good at math and he will be Cheryl's tutor.\", \"Heather informs Jason that Harold's website offers a 50% discount for all the stock. Jason can finally buy tennis shoes and something for his mom. Heather already has 3 shirts on the cart and wants some jeans.\", \"Mark's wondering which places in Europe should he visit during his holiday. Scott recommends visiting Italy or Norway's Lofoten Islands while Sarah mentions Spain's Barcelona, Madrid and San Sebastian or Avignon in France. \", 'Vic is going out with Manda and a few friends for his 40th birthday. Vic will use his Experience Voucher to do a Brands Hatch test drive in spring. Franklin will not be coming home for Christmas because he only has 2 days off. Franklin has a particular interest in Ellie.', 'Brody and Tram will take the bus.', \"Una's mother, Jean, can't pick her up after practice. She should ask her father.\", 'Lavender is grateful Oliver went to the wedding with her. He had a good time and was happy to meet her friends.', \"Chris and Denis are waiting until it stops raining. If it doesn't, they will have to change their plans.\", 'Thelma needs to look amazing so Louisa will get her her red velvet dress.', 'Mona found keys on the kitchen table.', \"Peggy's mom told her to lose weight. Peggy weights 137 pounds. Lucy does not agree with Peggy's mom. The weather is cold. Lucy and Peggy will go to Green Staten park for a walk on Saturday.\", 'Catherine, Stacy and Phoebe are going jogging in the park at 6:50 PM.', \"Something funny happened in mats today involving the teacher, Mr McKormick. Shanon didn't see it because she's in the mountains with her parents.\", 'Rebeca recommends Harvard and the Fine Arts museum as sightseeing items in Boston. ', \"Luis will be 18 years old next month and he's going to vote in the next year's elections for the first time in his life. Tim suggests Luis not to vote for socialists.\", \"Mona has lost her gloves. Lizzy will check if she's left them in her house.\", \"Ann Winslet has shared the course folder. Ann Winslet has also answered Samantha Smith's question regarding the.srt files and linked the Mac version of VLC for Leo Staff.\", \"Raymond wants to buy a new notebook under $500 as a gift for his parents. According to Kane it's hard to get a good, new notebook for this price. Kane will help Raymond find something on Black Friday.\", \"The card that Mum sent to Sally's brother has arrived this morning. Sally will ask Simon to fill it in tonight.\", 'Magda and Victoria feel broke. ', \"There was a demo gameplay from Cyberpunk 2077 released. Barry and Patricia like it and can't wait to play the game. Barry prefers over-the-shoulder view to first-person.\", 'Mia feels old in her birthday, but according to Anthony, women are happier in their thirties.', 'Sean will call the landlord tomorrow morning.', \"Hudson's mum asked him to bring chicken. Mary will be cooking boiled rice today. They will see each other at dinner. \", \"Mila's studying food and nutrition at UBC, she's renting an apartment. Jason will be in Vancouver in February, they want to meet.\", \"Paul Sheehan tries to get some coffee with Ciaran, but they don't have much time. Ciaran is meeting Mike on Grand Parade and going to Clonakilty. They eventually meet up.\", \"Laura and Joona have not arrived yet, because the train is late. As soon as they do, they'll write to Helene.\", 'Jess is 5 minutes late.', 'Penelope created a new group, because the old one disappeared.', 'Grayson is going to Spain for two weeks and has to be at the airport at about 4 pm tomorrow. Harrison cannot give his son a lift because he is at work then.', 'Evelina tried to FaceTime Paul but Paul has a stomach ache and had to go to see a doctor. The doctor prescribed him some herbal medicine that is difficult to find. If that does not help his indigestion then he has to do an ultrasound. Evelina suggests him to go to a pharmacy by a gas station. ', \"Mary is at Jedida's place. Dad needs her at home. She's coming back.\", \"Mary can't deal with her husband because he can't communicate with her and she doesn't have the patience. At Eva's advice, she will drink some wine and wait for the right moment to talk to him.\", 'Joe recommends to Clément watching Bojack Horseman, a cartoon about a depressed former Hollywood star. And as for something more cheerful - Friends.', \"Barney dropped his mum's favourite orchid and wants to replant it. He needs bark, but doesn't know where to get it. Judith suggests The Home Depot.\", 'Joe is getting ready to go out, Simon has enough of waiting and goes by himself. He sends Masher to pick Joe up at 7.30, but Masher forgets to go.', 'Kenny gave up studying for the geography exam. Neither he nor Milena went to geography lectures. Milena is trying to memorize geographical names. ', 'Amy had a weird day at work managing her team. Amy dislikes the attitude of one of her coworkers, Mark.', \"Ilo and Adele will meet at Europskii at 4 pm. Adele's mum will not be joining them.\", \"Ronda and Gil will meet at the main entrance at 4:15 and they'll go for a walk instead of having a tea.\", 'Mel and Angelica are tired of this primary season as it lasts too long.', \"Harry will get some eggs, milk, cheese, rice and toilet paper for Bridget. Bridget's mom needs some tomato soup and some milk. Harry should also get some Pink Lady and green apples. \", \"Lucas put Zoey's shoes behind the cardboard.\", 'Haleema and Dakkota are planning to do open-air yoga in the park. They are having a drink and a bite to eat afterwards. ', 'They are going to the screening at 6:30 pm tomorrow. Zara is going to see Jack at 9 pm.', 'The class is cancelled and Kierian wants to play basketball, but Jana is at home.', 'Yesterday Alina and Theresa discovered a new pizza place in Campo di Marte, called Don Fefe.', \"Adrien is at the office on Sunday. Teddy and Lara are going to the gym. Adrien, Lara and Teddy will have a cup of tea at Adrien's office.\", \"Oscar wants to talk with Sarah on the phone today. She's too busy today and suggests tomorrow.\", \"Emily will book a table at Angelo's. Emily, Julia, Patrick will buy presents for Rebecca's birthday.\", \"A Czech guy and a German girl are both staying at Ronan's place. Ronan and the German girl had sex twice before, but he doesn't consider her a potential partner. Sarah convinces Ronan that he doesn't know what he wants when it comes to sex and relationships.\", 'Audrey, Eddy and Marion will meet at Terra del Fuego around 4 pm on Friday. Eddy has seen the Baltus exhibition in Riehen and thinks it is worth seeing. Audrey is planning to see the Balthus exhibition on Wednesday with the Meadows.', 'Laura requests Tom picks up Laura from school at 3.30 pm after he finishes his meetings. He will let Laura know beforehand.', 'Brian has been busy working and working out. Dave is asking him whether he has time to FaceTime him or not. Brian will call him at 5 after having supper. ', 'Terry and Megan are meeting at 10:30 tomorrow to visit Jacob at the hospital. They will buy Jacob some apples.', 'Ben is in tram number 15 and Stanley will jump in on Railway Station stop to go there together.', 'Nina and Lila agree that Ella should buy the dress.', \"Emilia can't find her keys and she will be late for a meeting with Meggy and Catherine. \", \"Bartek and Filip can't wait for the new episodes of Vikings at the end of Nov. Filip works a lot but he will find time for the Vikings.\", 'Mike and Cassie make Suzie aware that there are no advantages coming from taking up the research project.', \"Lucas will let Nathan wear his plain flannel shirt for Nathan's meeting with Kaylee.\", 'Agnes bought a new phone Huawei Y9 2019.', \"Rachel will bring some homemade cookies. Robert will go to the store, he'll buy onion crisps for Rachel.\", \"Monica is coming before Christmas. Monica feels bad that she can't be with her friends. Monica will bring presents for everyone. \", \"Bill, Paul and Valerie are going to play games tonight at the cafe. Bill won't bring his own games tonight, because they still have some scenarios to finish.\", 'Martha owes Grace 100 quid and next week Martha will give her money back.', 'Ben slept well, his hotel is close to the city centre. Dora worked late. ', 'Brian sent Michelle a link so she can vote for Sam. ', \"Mike is late, because he missed the bus. Mike and John are frustrated, because there's a shortage of employees in their workplace.\", 'Ella and Matty are both busy with the workload at university. Ella is studying biology and enjoys it very much. Matty is into geography and politics.', 'Matt is selling his motorbike. Scott cannot afford a motorbike. ', 'Alex, Mindy and Greg will prepare a subject about inequalities for their referrals next week. They will look for the articles from the past 3 months.', 'John is feeling sick. Carol is on her way. She will take care of him. ', 'Katy, Ciara and Mila will go home soon.', 'Alex and Alaine are having a date tomorrow. Alex will pick Alaine at 8.', \"Khloe is proficient in Solid Works, AutoCAD, Sketch Up, Adobe Photoshop. Julian's manager will call Khloe soon.\", 'Will wants to know if there are any free masters courses for foreigners in Poland, and Max and Joanna doubt it. Joanna will investigate the scholarships for Polish people and gets back to him.', 'Tim and Tom drank Jagermeister and are not hungover.', 'Kimberly will not meet with John and Jane next weekend because her grandmother died. The funeral will be held on Saturday. Kimberly is leaving for Oshawa on Friday. She and John will reschedule their meeting.', \"Ben needs Jakes laptop as his has some adapter issues. He will return it tomorrow, so Jake won't be able to play DOTA tonight.\", 'Ahmed will take the car of his parents around 5 and will leave with Sam and Camille.', 'Damian and Sarah are in Zakopane to celebrate their 17th anniversary. Dorothy is busy training volunteers and working with kids all day from 7 am till late.', \"Gabriel texted birthday wishes to Zuza's old phone number, so he wanted to correct his mistake.\", 'Kate is preparing her application papers. She is still waiting for the evaluation paper from one of her teachers.', 'Patrick will be late for a meeting with Debra. He is often late for their meetings.', \"Charlie passed the CLO exam and reveals to Kobe that it was possible because he had the Internet access and the person supervising didn't react on Charlie's cheating. Henrique helped Charlie as well.\", 'Bill and Annette are on their way to the airport. Their flight is at 8 PM. They spent a nice evening with Fred.', \"Steve didn't receive any calls.\", 'Esme, Eliza and Rose are having a Sype meeting at 8 p.m.', 'Tomorrow at 4-5:30, Dusan will take 1 class from Tom. There will be 4 students, the level is upper intermediate and the book, English File, will be at the reception.', \"Melly is sympathetic towards the victims of yesterday's earthquake in China but Ron is not.\", \"It's going to take a month to fix Natalie's car as she asked for original parts.\", 'Mary and Kate discuss how expensive Israel is. Kate is in Tel Aviv now, planning to travel to Jerusalem tomorrow, and to the Dead Sea few days later.', 'Jake likes the video Fernand sent him. ', \"Matthew and Anthony are going to Greece this summer. Their itinerary includes 5 days on Rhodes, 5 in Crete, 4 in Athens, and a drive to Thessaloniki. Lisa plans to join them. She will stay in Thessaloniki when they go to a male-only holy retreat in Athos for 3 days. They'll meet tonight at Lisa's.\", 'Jeffrey will be late because of Collins.', 'Owen is looking for volunteers for an unpaid project in Toronto. All associated costs are covered. Luke might consider it.', \"Mari had a visit from her sister with the twins and they were misbehaving. Mari's mother will take Ethan to the nursery tomorrow. Following Mari's advice, Dave will stand up to his boss who has been a bully.\", 'Anita thinks she and Tom might have crossed some boundaries last night although she liked it. They will talk about it after her work.', 'Kate is still at the camp. Nia will come and say hi. ', 'Anna posted a picture with Harry on Instagram. Ron is surprised by that.', 'Georgina missed a call from Linda. Georgina has been without the Internet for days. Georgina and Linda are complaining about NBN.', \"Jane and Howard's siblings are dating. \", \"Mike, Jay and Mark are having PE classes today. Hayes is a substitute for Smith's who has called in sick.\", \"Tim will pick up Chris at 3.30 today. Chris will help Tim with a new sofa. Afterwards, they'll go for a beer to the new pub near the university.\", 'Jackie, Jean, and Philip are going out.', 'Sam has sent the link to Samantha yesterday. Lilly has been ghosting him recently.', \"Lucy's buying rollerblades for her niece. They have a few scratches, but are in a good condition and are good for beginners. Hannah won't give Lucy any discount. Lucy will think about buying them.\", 'Mr. Cheng will drive Robin to the mall to buy new jeans.', 'Mom wants Kevin to be on time and war a clean t-shirt today.', 'Zendaya will be home at 8. Phil will wait with dinner for her.', 'Drake and Basia enjoyed going to a concert yesterday. Drake will ask Gina next time she attends a concert.', 'Beth is in desperate need for coffee. Sandra suggested a breakfast break.', \"Chris bought a new Galaxy S9. Chris took a day off for tomorrow. Josh wants to see Chris's new phone.\", \"Trevor will come to Amanda's place.\", \"Stuart doesn't want to go to the club near the central bus station tonight, because he experienced something unpleasant in this place. Warner wants to ask the rest of the crew how to spend this evening.\", \"Ramsay recommends to Julie the following Christmas movies: Home Alone, The Lethal Weapon, National Lampoon's Christmas Vacation, Nightmare Before Christmas, the Santa Clause films with Tim Allen as Santa, Rudolph the Red Nosed Reindeer, The Year Without a Santa Claus.\", \"Mellery has to order flowers for the Johnson funeral. The budget is 100. The service starts at 11 am on Wednesday, with the visitation before. Paul and Mellery and the other people will meet at Paul's car at 10.30. \", \"Aric didn't pick up the parcel from the post office yesterday because it was closed when he arrived. He will pick it today because Ariel really needs the parcel.\", 'Joanne is going to Spain with her fiancee next week. She will be absent during the presentation she had prepared with Elisabeth and Monica. Monica is worried and wants her to be there. Joanne offers her help via phone. ', 'Maggie and David will join Nick for the comic con this year. Maggie will dress up as Wonder Woman and David might dress up as Superman. Maggie will call Nick for details.', \"Michael has an account with Barclays. Anne has it in HSBC. At Barclays they don't charge. Anne's credit card request was declined. Michael got his after 3 months. \", 'Grace summons Julia and Marie to the ballroom but their priority is eating.', 'Angie is thinking about her future with Freddie. Angie and Susie both think that Henry would be a prettier name for the future baby boy.', \"Anna hasn't contacted anyone since 12 October. Mila and Wyatt are worried because Anna had some health issues and was depressed when Mila saw her last time. Mila talked to Anna's father and he said Anna warned him she's going to disappear for a few weeks. \", 'The wedding invitation from Conrad was delivered yesterday. Donna will be there.', \"Jane went to the post office before midday and sent Louis' letter. In 2012 Louis made a translation from Polish for a website. They are going to publish it in the form of a book now. Louis reread his old translation and made a lot of corrections.\", \"Emma moved to London a month ago and works in her company's new branch as the boss's assistant. Jacob writes a travelling blog for a living. \", \"Bart is having his first day in the new job and he'll try to go for lunch with Ann.\", 'Philip’s article was published in the New Scientist.', 'Kevin did not know Rammstein is having a concert next July. Bryson bought his tickets for this concert two weeks ago. Kevin is worried that there are no tickets left.', \"The tutorial office is closed due to a meeting, which Glesny and Kelly are attending. Amanda forgot about it, she will wait until it's over.\", \"Richard feels awful again so he won't come to the party. Jessica has told him to go to the doctor's. Richard has a private insurance that covers 80%. Susan will send him her doctor's number.\", \"Andrea will take a tent for 2 people and some camping stuff: sleeping bag, pad, water. Brian's tent is for 3 people, but it's relatively small. Brian and Andrea won't need any climbing stuff as they won't be climbing this time.\", 'Martin will meet Gonzo later next to the police line. They have another 45 min until the real deal at 8 pm.', 'Mary is disappointed that Erick shared her secret with other people.', \"The accident was Phillip's fault. \", 'Edward wants to buy a birthday present for Angie. Geraldine heard Angie talking about manga, so Edward will dig into the topic.', 'Grace spilled something on the floor and Carter slipped on it.', 'Luis thinks that people in Sankt Petersburg are strange. There was a person masturbating in an Internet café. Sean thinks that people in Eastern Europe are generally cold. Sean wants Louis to let him know when he is back to tell him stories about Russia.', \"Mia and Katy will wait until 4. If nobody comes, they won't have to be here tomorrow.\", \"Richard and Peter broke up. They were more than 3 years together. Peter didn't accept Richard fully. Stephen, Guto, Ross and Han will be careful when talking to Richard.\", 'Tarja, Tom, Chelsea and Jenny are meeting on Saturday.', '\"Sala del Capitolo\" Tom is looking for is in the main building.', \"Nick doesn't have any Halloween plans. He explains to Chris that we go to cementary and spend time with our families for November 1st. Chris changed his name for Arthur for the party yesterday.\", \"The weather is awful, which makes Gina and June unhappy. Gina wants to call in sick and stay at home with Netflix, whereas June is already at work. Gina tried taking pills to get rid of the winter depression, but it didn't work so she waits till March comes.\", 'Paul is participating in a very boring lecture.', 'Marty invited Becky to his birthday party tomorrow at 7 pm in the Jameson Bilard Club.', \"Brad needs Dom's help with an engine which slows down in random moments. Dom will check it in the evening.\", 'Grace will come with curly hair tomorrow. ', 'Kelvin will call John to let him know if the crack for FIFA19 works.', 'Juan is going to travel to Brazil. Hew went there last year already, working as a mechanic in a car factory. Now Juan needs to rush to the airport, his flight is at 3.00 pm.', 'Alex will cook today. Joan is grateful for that, because she had a tough and long day at work.', \"Jeremy wants to invite Russel and Clint to his home to watch a game. He can't. He doesn't remeber his grandparents are coming. \", 'Jack has a headache. He is allergic to aspirin.', 'Rafal needs expensive braces for his teeth. Fala is worried about her dental health but is scared to go to the dentist.', 'Alice is complaining about her new workplace. Joanna has another student for Alice and she wants to continue learning on Tuesday mornings. ', \"Gregory asks Matthew, Bart and Mike if they have seen the new Game of Thrones episode. Matthew and Mike have seen it and didn't like it. Bart asks them not to give any spoilers.\", 'According to Ken and Lia Polonia Club serves good Polish food.', \"Mercy has just downloaded Griffins and Golgoy game. She'll play it. \", \"June'll come home for Christmas, but only for 2 days as she's no longer a student and needs to work. She's vegan and doesn't eat sweets.\", 'Marion enjoyed her holidays in Greece. Marion wants to go back there next year and Robert will go with her.', \"Kate is on her way home and she'll get there in 25 minutes. Jim is making sandwiches and tea.\", 'Karl and Sharon are talking about plans for the weekend.', 'Abraham has just returned from a weekend with Daniela. He found a big bug in his flat and had to vacuum the entire place.', 'Anna complained about her carpet, which was an excuse to invite Chay over with wine.', 'Michaela proposed turning the club into an official association, which involves additional responsibilities, but also gives new possibilities. Jessie is not sure, but might help with the paperwork. Steve is oppose to the idea. Michaela, Jessie, Steve and Ron will discuss it in person on Monday. ', \"For Laura, sex and money are most important in life. In Anna's opinion, love is more important.\", 'John and Johnny are in the same house in Catania as last year. ', \"Oleg has a presentation on Ellen Brockovich and doesn't have a pair. Annie volunteers. Paul does too, but he's too late.\", 'Angela is pregnant and Stephanie wants more information.', 'Liam and Oliver will meet in the hall in 10 minutes to have a break.', \"Debra and her mother are still unemployed. Debra's mother is depressed after her father's death. Debra is grateful to Bruce for his concern.\", 'Amanda sent intimate photos of Thomas and Claudette having sex to Lillian and Petra. People are passing the pictures around. Thomas is in a relationship. Claudette seduced him, according to Amanda. ', 'Josh is interested in Mia.', 'Barry needs a linker team and 2-5 cleaning teams. Paul has a Polish rep for him.', \"Ryan forgot to submit a programming project before the due date. Ryan's teacher demands he deliver the project now. Isaac sends Ryan a game he developed last semester.\", 'Tom wonders who is going to the party tonight. ', \"Ed has just woken up. Liam is awake and needs to get to school earlier for band practice. The band has a concert soon. Ed didn't know that. Ed is leaving town for work that week and might not make it to the concert. Ed and Jill consider eating out, when Jill finishes work. \", 'Tonight at 21:45 the series of \"Grey Zone\" airs on BBC4 in one installment.', \"Nicole can't come to Brandon tonight. Nicole needs to see a doctor because she slipped when she was walking up to the car.\", \"Everett went home for Christmas, so Ida needs to wait until Monday to have a chat with him. Karol is watching a football game. Ida is going to the store, because she's hosting Andrzej's family tonight.\", \"Peter and Jen are coming to Warsaw for the weekend to buy some things for the new apartment. They will stay at Alex's place and have a party. Jen and Peter like their new apartment but their neighbours complain about them making too much noise. They'll come on Saturday. \", 'Theo met Brian Richardson. Brian grew up to be handsome. He is also a pleasant man now.', 'It is cold and rainy.', \"Lily asks her professor to borrow her a book he recommended, but he doesn't have a copy. He reminds her to submit her paper she thought she submitted. Lily gets A+ and Charlie asks her to remind other students to submit their work.\", 'Les sent Fran photos of herself.', \"Eva thinks she's allergic to her roommate's cat. Maria recommends Eva trying an antihistamine.\", 'Joshua watched the heritage. He is disappointed with it. Despite the positive reviews, he finds the horror boring.', 'Tracey seems to be very upset, because she was hurt by Julie. Harry wants to talk to her, but only if Julie starts the conversation. Mike knew that Julie was not a good person. Harry will inform Mike if he managed to talk to Tracey later on.', \"The worst childhood gift that Kelly ever got was a kitchen toy that broke very quickly, Greg's robot borke in a week, for Bill the worst gift were stamps. Freddie got a different teddy better than requested. Sarah got a toy guitar instead of a real one.\", \"Tim doesn't speak to Chris. Ben, Simon, Chris, and probably Tom, are going to the concert tonight.\", \"Catherine is short-sighted. Angelo has astigmatism and accommodative dysfunction. Both of them can't wear lenses.\", 'Silvia will be free in 5 minutes.', 'Bruno will send the details concerning the KPR project to Winston via e-mail. Winston will help Bruno.', \"Brie will be at Ralph's at 3:30 pm to pick up the keys to Katie's apartment.\", 'Davey is searching for the basement key.', 'Josef will be selling his cheese at a market in the old town and wants Bryan to join him.', 'Turkay is staying in Azerbaijan until September. Amanda considers visiting him.', \"Jake and Max were supposed to meet tonight. Jake is working overtime, so he doesn't have time. They're going to meet next week. \", \"Sylvia has returned from the gym and she's coming to Tabitha.\", 'Gwendoline, Kate and Fanny completed the Sorting Hat quiz. Gwendoline belongs to Slytherin, Kate and Fanny to Gryffindor. Even though girls should be mortal enemies, they are going to remain friends.', \"William's parents will be visiting him this Saturday. Emily and Ron will clean up the common area.\", \"Mark signed Amy for changing tires in the company's car on Thursday, 4.30 pm. Jim will contact Mark later.\", 'Adam feels class is boring. ', \"Chuck, Nelly and Simon had a party last night. Chuck didn't drink any alcohol and now he's full of energy and wants to meet the others for hiking, They are not very willing, though.\", 'Michael and Betty are planning to meet. They have not seen each other for a long time. Betty is often the busy one. They agreed to finally meet on Monday afternoon. They will discuss the details on Sunday.', 'Ahmed reminds Bianca to turn off the laptop when she finishes using it. They will see each other at the satistics class.', \"Julie accidentally deleted the text with timing of her appointment with Sarah. Sarah confirms it's booked for 3.30. That's fine for Julie. \", 'Tom and Alex had fun last night. They drank a lot and Tom has a hangover now. ', 'Hannah cheated on Max with Will. Hannah blames Emma she told Max about it. Emma did not tell him that although Max claims he knows it from Emma.', \"Bert was up late and could've picked up Royce. \", 'Johnny and they played games and drank beer. Dave had to stay longer at work yesterday and he did not show up. Dave is enthusiastic about next  week, because everyone confirmed that they will be there.', 'Charles will book tickets for Carmen for himself and Carol.', \"Katy Perry and Orlando Bloom got engaged on Valentine's Day. They started dating in 2016. It's gonna be the second marriage for both.\", 'Alexia will listen to the podcast this weekend.', \"George's car has broken down. In 10 minutes Will will give him a lift to work.\", \"Harry would like to go for a movie with Ella, but she's not sure if she can. Ella is meeting her parents.\", 'Joseph and Leo will talk in person.', 'Erica wants to sell her Renault laguna from 1999.', \"Zoe will go with Gracie and her bestie to Design STH event. She will come to Gracie's house and they'll go together. Afterwards they'll have something to eat. \", \"Water is cut off due to some failure. That's why Coco didn't take a shower in the morning.\", 'Luke is 15 minutes late. Jane and others are waiting for him in the 4th building. Jane is in the blue van.', \"John plays The Witcher and he enjoys it. John and Liam don't like Henry Cavill as Geralt.\", 'Orion is grieving after the death of her rat.', 'Frank made tuna salad for lunch himself. ', 'Saqib went on a successful date. Haris is going to visit Saqib.', \"Hope didn't get that job. Josie keeps her fingers crossed for Hope all the time.\", 'Victor is going on a concert with his friends and asks Aaron to come. Everyone buys their own tickets.The concert starts at 7:30 and they will meet outside at 7. Aaron should call Roman.', \"Carl, Evelyn and Marek are going to have a dinner on Thursday at Marek's place. Carl will invite Barbara.\", 'Betty will be late. Harriet will leave her ticket with the attendant.', \"Jim will bring Michael and Alan to Eva's office. They will discuss details of their policy with new clients.\", 'Mack will speak to the landlord next week. Hakim wants to go to the Italian restaurant with Mack.', 'Linda got a vinyl copy of Random Acces Memories shipped to her address. Dave has had a disagreement with the mailman lately.', 'Jake and Ben had an accident, they hit in a road blocker. Jake injured his knee and Ben has a scar on his face. ', 'Nat wants Kate to make some jewelery for her.', \"Jessica posted a selfie with Doug. Doug's partner may get jealous. Doug asks Jessica to delete it. She complies.\", \"Gavyn can't pick the kids from school today as the Japanese came for a meeting earlier. Shyla will call her mom.\", 'Frank owes Judy two dates.', 'Lene, Jeff, Joona and Ian will eat pizza at a small Italian place at the corner.', 'Linda wishes happy birthday to her Mom Patricia and calls her the best mom in the world.', 'Hannah missed the party because she had to help her parents. There are new events coming.', 'Veronica sent Erica a video via WeTransfer. There are some artifacts in the video. Veronica has to reupload it.', 'Susanne will have breakfast at 8 am.', \"Mary's birthday is on Saturday. Her boyfriend, James, is looking for gift ideas. Tim suggests that he ask Sandy.\", 'Carter ran 30 minutes today. Jess ran almost 4 miles.', 'Julia has an angina. She is ill for the second time this month, which upsets her.', 'Zach sent Trisha notes as she threw away hers mistakenly.', 'Amy had an abortion.', 'Noemi and Marlene think Alicia was wearing nice perfume today.', 'Alexandra is too busy to visit her relatives during Christmas. She has a lot of work, only 3 days off and the town is far away. She may come at Easter and will definitely come in the summer. Joanna misses Alexandra.', 'Cassandra, Sammy, Lindsay, Tom and Helen are going to meet tomorrow in the park for a playdate. Most of them agree on 11.30 and Lindsay will join them after lunch. She has swimming lessons in the morning.', 'Gaby and David have not received their December salary yet. David suggests asking Dev about the situation.', 'Albert and Jeffrey are waiting for the new season of American Gods. They wish it was released on Netflix.', \"Kate and Betty are at a design event. Kate doesn't like it and she wants to leave.\", 'Kris will help Reggie decorate his room on Saturday. He chooses the last photo as the best colour.', \"Jake is in financial difficulties. Mark is selling his car for more than 10k. Mark's car looks really nice and is a popular model so should be easy to sell.\", \"The boss isn't in yet. Claire will let Tony know when he comes.\", \"Paula's sister will visit her for New Year's Eve and they will stay at home. Ron is going to Hashaba and invites Paula and her sister.\", 'Ralph and Chris are going to the movie. Ralph will pick up Chris in half an hour. He will bring his own snacks.', 'Lina will give Rita one of her 2 sandwiches.', \"Bob and Alice discuss the panel which will take place tomorrow. Bob asks Alice's advice on what to talk about. \", 'Bunny and Albert are going to meet at 8.', \"Bob wants to apply for the position of Social Media Manager at Lukas's company. Bob has worked in social media management for several small companies. Lucy wants Bob to send his CV to lucy@socialmediacompany.com. HR will contact Bob.\", \"Karson is making spaghetti for dinner. Finley wants to meet but this won't happen soon.\", \"Beata's birthday was 4 days ago.\", 'Monica will drop in to give back a summer holiday brochure that Carl lend them. She is interested in a last minute offer in Spain. Carl will be home at 5. Monica should drop around 5.30.', 'Greta is working as an au pair at the Watson family. The mother, Carol, is following her all the time which makes her uncomfortable. Miriam will talk to Carol.', 'Mark and Josh are on their way to the resort. Agnes wishes them a safe trip.', \"April wants Archibald to join her for a bike ride tomorrow. He is taking his father to a family friend's funeral and will only by available after 1 pm. April will meet him then at their usual meeting spot.\", \"Jody hates ironing, especially her husband's shirts. She irons them because last time he did it, he burnt her favourite shirt and two of his own. Lynn suggests buying an ironing machine. Jody will visit her tomorrow around 2:00 to see how it works.\", \"Anna won't be in the office this Thursday and Friday, so Roy is going to offer his edits and comments on the last week's topic now.\", 'Mary and Nina have to be home at about 8.15.', 'Gregory wants to go with Paul to see the movie \"Climax\", but Paul has already seen the movie.', \"George wants vanilla ice cream. Stacy might not get them for George as he's mean.\", 'Harvey and Carol are going skiing next Saturday because Harvey has to work this week. The resort is three hours away. Harvey will drive and Carol will pay for gas and snacks. Jon and Amanda might join them. Nobody except Harvey has skied before. He knows how to play hockey and skate too.', \"Jan's, Emma's and Ricardo's landlord published a bad review about them. \", \"Ashley let Jill copy her homework for tomorrow. Jill's going out with her parents tonight and won't have time to do it herself. \", 'Sebastian sent to Mike a funny video on youtube.', 'Aisha woke up at 6 because of her baby. ', 'Terry is borrowing Gina his kayak for the weekend. She will pick it up around 6 on Thursday.', 'Vince is revising for the language test which is scheduled for tomorrow. Nate will wait for Vince and Claire at the entrance before the test.', 'Jane pays 50 GBP for her monthly gym membership with a swimming pool available. Charles pays 80 with no pool, which he finds expensive.', \"Wendy broke her mom's vase. She and Brenda will pretend they don't know anything.\", 'Corbin reminds Buck and Donald to bring their IDs.', \"Matt left yesterday because he felt bad. He's better now. \", \"Olivia went on a date. She doesn't know if she wants to continue this relationship. He invited Olivia to the cinema again.\", 'Laura will inform David that Caitlin is not coming tonight.', 'Robert and Madeline are going to the Opera to see \"King Roger\" by Szymanowski.', \"Joe slept in, because alarm didn't ring. He's late for work.\", \"Sally is arriving in Ironwood at 3:40. This summer she will spend time with Sundy's family.\", 'The weather is bad.', 'Ben posted a job advert for programmers. Ben will call Kim if he wants to meet tonight for pizza and coke.', 'Mary will pick up capsules from Lisa at Green Square 12 at 8 pm. Lisa will be waiting outside.', \"Giny and Riley don't have any rice left. Giny will buy some.\", 'Steve is picking Anton up. Anton is running late.', 'Anne, Caroline and Hannah are going to meet in front of the mall at 10:30.', \"Rose is telling Connor about Mark and Monica's engagement. \", \"Mark is in the Alps, it's his first day skiing today.\", \"Alina and Peter have to come back from holidays earlier. Peter's grandmother died last night. Alina will pick them up from the airport tomorrow at 11.30 PM.\", 'Simon is going to buy groceries (yogurts, goat cheese and the Italian smoked sausage) and a shampoo for Nora. Nora nad Simon are seeing each other tonight.', 'Keira has prepared a dish called American hash.', \"Lilly, Oliver and Lynn want to eat pizza. Riley's already eaten. Garth's noted it.\", \"Peter and Dorothy have to be there at 7, but when Peter arrives he wants to take a shower and eat something. There's little room in the garage to park.\", 'Gina wants spaghetti for dinner.', 'Una will come to Sandra, because Sandra needs her help. ', \"Maria and Leo were supposed to meet at the library at Nora's request, but they are all meeting at the restaurant at 8pm instead.\", \"Andrew's boss said a friend of her son's, who is from a poor family, is coming to her son's birthday party, but she doesn't want the boy's mother to prepare any food because it will be low quality.\", \"Jim needs an access to a CC Adobe account for his project. Stella's not using it anymore and she doesn't know anyone who could give Jim their credentials. \", \"Ben is sick and won't come to the choir rehearsal tomorrow, he'll do his best to be at the performance on Saturday. George will excuse him before the conductor.\", 'She said no to Kerry.', 'A British teenager escaped to Syria in 2015. ', \"Meg got a job but she's quite unsatisfied with it. She sees it as a step back and needs something more challenging.\", \"Neal's brother told Diana that Neal had a tooth removed.\", 'Mom wants Alex to go to church with her. ', \"Carol is looking for the car keys. Mindy wasn't driving today. Pater has taken the keys with him on accident.\", 'Leo will be late, he got into a fight with Michel. Nathan will order a beer for him.', \"John is Jack's teacher. They are supposed to meet in the evening at 20 o'clock.\", \"Will has had his garden done up and has put a temporary pool there. Will is satisfied with the work Jack has done in his garden. Damian's parents want similar work done in their garden. Will passes Jack's contact information to Damian at his request.\", \"It's incredibly cold outside. It's said that over 20 people died so far beause of low temperature. Hillary and George have never experienced such temperatures before.\", 'Pete watched a youtube video where people show incredible tricks and he envies them the talent and money.', \"Francis asked Reynold for help with installing the gas heating. He will be working all weekend. They will discuss the details at 6 o'clock.\", \"Nick is at the mall and is going to buy bread and avocados for Amanda. Amanda thinks she's not in shape. Nick disagrees.\", \"Ethan forgot Jared's flat number again. It's 377.\", 'Nick got a B+ on his test.', 'Ivy and Isaac are going to a motor show.', \"Todd found a photo on his door. Todd and Julia are going to watch tapes from the cameras in the hall to find out who's behind this.\", \"Jada's in Islington waiting to start his session. After that he has two sessions in a private clinic. \", \"Dan is joining a football game tonight. Milo can't join as he goes to a dentist. Dan will inform Matt.\", 'Abigail received a letter from the education centre. They accepted her application, but Abigail must deliver a copy of her ID, before she starts working for them. Abigail and Ava will go to the education centre tomorrow.', \"Amanda and Olivier managed to get the tickets to the Harry Potter formal hall. Peter didn't get a ticket and they are sold out now.\", 'James is applying for a sales position and is looking for tips how to do well at an interview. ', \"Wanda's uni is going pretty well. She studies in Leeds. She's going to visit Helena next Thursday. Helena is considering becoming a history teacher. \", 'Kate broke the tap and is looking for a plumber. John recommended to call Mr. Johnston at 0 7700 900932.', 'Paulina and Amy are reaching the town. Jesus is waiting at the platform.', 'Ingmar is going to London this week and asks about the restaurants he could visit. Kevin, Miranda and Xiao recommend him some places.', 'Mary went to the library with Carl. ', 'Hayley has to remember to take a present for Crystal tomorrow.', \"Pam wants to visit Belarus to research her family history. Milton was in Belarus for several days 10 years ago and remembers the process of obtaining a Belarusian visa as being very annoying. On Milton's advice, Pam will research the visa procedures online.\", \"Miriam, Hope and Brad had good time yesterday. Brad is working today even though it's Sunday as he's disorganized. They all wants to meet soon.\", \"Ciara is going to buy her costume for Mardi Gras at a shop called Mardi Gras Spot on Adrian's recommendation.\", 'Ursula will come over to Craig in 15 minutes. Brad has gone back. Jennie is touring. Craig will have pizzas and wine. Craig has cleaned the bathroom earlier. ', 'Mark is helping Lizzy to find a Christmas gift for Toby. He is suggesting her to look for an inexpensive gift. ', 'Sam called Lucy to help her find her phone.', \"Oliver left his umbrella at Mia's. She will bring it to the meeting tomorrow.\", \"Emma was late and missed Andy's song, but she still had fun.\", 'Arthur comments a guy wanting to change his birth date and Jake is surprised by this piece of news. ', \"Jensen will bring Danicka 25 candles for Patrick's birthday party.\", \"Jordan didn't put the bottle in the right bin.\", \"Anne didn't eat the curry wurst Nick brought her from Berlin. She disposed of it and used the jar as a flower pot.\", 'Maria and Jennifer are going to the June Ball.', \"Tom is not sure when the meeting starts. It's been moved to 8.\", \"Holly's biology class will be in room 209, starting in 5 minutes.\", \"Patricia asks Niall to check if she'd turn off the heater. Niall is working on a report due on Monday. The heater is off. Patricia reminds Niall to relax.\", 'Jason and Veronica broke up. ', 'Tim has recently changed his phone. He is back in Krakow, leaving for Canada in 3 weeks. Bart has just come from Bulgaria. He lives in Wroclaw and wants Tim to visit him.', \"Lisha's computer appears to be broken. Rasha will check if the electronics shop in her area can help. Rasha will lend Lisha her computer. Lisha needs it to finish her report on aboriginals.\", \"Toby's mother died this morning. She had been diagnosed with breast cancer a few weeks ago. \", \"Jim and his dad are supposed to come downstairs for dinner that Karen's cooked. Vanessa's eating out today.\", 'Nigel and Hannah are going to the bookstore in Kastanienallee after Nigel has brunch with Tristan and Hannah has her hair done.', 'Sandy is ordering cosmetics and she will take the Aloe Vera cream for Esther.', \"Cheryl, Ariana, and Logan need to rent a car when they travel but are unsure about the duration because they also want to go to Reunion for a few days. They will have drinks and decide tonight, at Cheryl's place.\", 'Nathan is taking a lowe alpine.', 'Joshua found a possum in his backyard. ', \"Internet connection is bad where Tom is. Tom will send more materials from Ireland in a week. Tom wants to sell a moisture meter for grain-like materials in the UK that is already available in Poland. Tom might need Vicki Ellen's help. Grain is Vicki Ellen's father's old business. Tom visited India.\", 'George was not able to contact Ana on his phone earlier. He has better signal now at the airport. ', 'IQ decreases by 20% after a 2-week holiday.', 'Henry has seen a pretty girl.', \"Aj and Sally are discussing the upcoming party at pete's and Aj is considering if he should go; he also tells Sally about his new job.\", 'The Cowboys are winning against Saints.', \"Sarah has a flu with fever and dry cough, so Beatrix asks Carol for advice on what treatment to use. Erik and Mark were also ill last week and Carol gave them paracetamol and a lot of tea and honey. Beatrix's doctor is on vacation till next week and Beatrix has a big meeting in Dublin in two days. \", \"Mary and Tom have just landed in Finland. It's white and beautiful there.\", \"Luca has almost arrived so he can't buy the water and beer Stanley and Jenson ask him for.\", \"Sienna's mum is probably gonna move in with her grandma as she can't live alone. Sienna is gonna help too but they need some help. Jean will let her know if she hears of someone.\", \"Pump Truck got her nickname for her big breasts. One guy crawled into the girl's locker room and took a a photo of her naked.\", 'Kinga, a second coordinator, annoys Agnieszka, Edyta, Matt and Archie. Matt and Agnieszka are thinking of leaving their workplace. Matt is going to smoke. Edyta and Agnieszka are about to get some food.', 'Will got stuck at the airport because of the fog. His flight was delayed.', \"Amy and Jessica are planning a surprise birthday party for Julie, whose birthday is on Wednesday. The party will take place on Saturday at Julia's favourite Mexican place. John will assist with making the guest list.\", 'Isabella talked to the guys about buying the washing up liquid and sponge yesterday. Jack is annoyed with people making mess in the kitchen. Jack wants Isabella to talk to the others and to write it in the group for everyone to see.', 'Paul will lend his sleeping bag to Sandra.', \"Harry and Jane are on their way but they forgot Katie's book. They will change to Piccadilly and get off at Finsbury Park, then take W7 to Muswell Hill. It will take up to 40 minutes. \", 'Elon Musk set up PayPal, Tesla and SpaceX and is s creating the first passenger shuttle to the moon. The tickets cost around $ 35 million, but the event is going to be streamed in HD via satelites. The date is yet unknown. Tiffany wants to buy a VR headset.', 'Alexander will give Stanley a lift to Reymonta Street at 5 pm.', \"Paul has last day off work. Josh got fired although everyone thought he'd get promoted.\", \"Jeff and Tom will buy an orchid theme necklace online for Kayla's birthday this Friday. They'll pay extra for fast delivery.\", \"Alex and Sue are going to the gym tonight. Alex hasn't run in a while. Sue never runs as it's too hard on the knees.\", 'Judyta is looking for a drying rack. Ida suggests Tesco, but neither of them is a great fan of shopping there. Marta has a spare drying rack so Judyta is going to take it from her. Ida is going to pick her up to talk about different things.', 'Shein needs the file immediately.', \"Tom, Andrew and Simon are meeting at 8 at Simon's place.\", 'Rob has a meeting in Plymouth at 11.30 and asks Sue to man the calls today. Rob expects a good job, engage Graham Mason in the job and start it after the New Year. ', 'Brian will call the plumber to come and fix the broken pipe today by 8 pm. Jess is going on a date and she needs to shower before or reschedule.', \"Ann's had a lot of work because she moved to Lublin. \", 'Tom is going on a trip to Mount Rush tomorrow.', 'Ben is visiting Sebastian in Warsaw this weekend. Tomorrow at 7 pm they will go to a concert to the Voice. Before it they will meet with Miley and John at Bonnie and Clyde at 4 pm.', \"Michael isn't happy with the offer that he received from his provider. They're offering the same phone models. There are better deals for new clients. Frank's advice is to cancel the deal and sign a new contract.\", 'Dylan and Maya enjoyed the office Christmas party. The boss and Silvia made fools of themselves.', 'Rodney informs that the workshop with Kika is cancelled, but he offers Mela, Justin and Monica to come on 3-4.11 instead. Justin and Monica have other plans. Rodney announces that the last workshop this year will be held in December.', 'ABC will not renew \"Nashville\". Season 5 was completed, however.', 'Freda is going to the Christmas Party.', \"Ben is not going to Rachel’s party, because she didn't invite him. He's glad that the relationship with Rachel has ended.\", \"Keira is sitting next to a man who's doing a huge manspread. \", \"Saanvi is thinking of getting a dog and Konnor about getting a cat. Konnor's friend has a lot of pets, so they will ask her for advice.\", 'Kieran, Luke, Gery, David and Daniel are up for an early sesh tomorrow at 6.30.', 'Frank wants his stuff, but Allan has got only half of it, because the price was raised. Frank has got only 20 to pay. He wants Allan to get as much as he can for it.', 'Joe is going to the supermarket and offers to get something for Meg.', \"It's Christmas time. Daniel is in Melbourne and going to Tasmania tomorrow. He sends Henry pictures from a wildlife sanctuary he went to.\", 'Wilson took a flight and now he has just entered his room. Tomorrow Wilson is spending all the day on the pitch. Leah will come to Barcelona.', 'Luisa has had no luck selling her house yet. It took Leu 2 year to sell his apartment. Bill has a drinking problem. Luisa has stopped trying to help Bill. ', \"Gloria didn't stay till the end of the meeting. She left at 12. They did a, b and c. They finished at 6 pm. Joel and Gloria will meet tomorrow and she'll tell him about the details of the deal. She'll email him her calendar to set the meeting.\", 'Una has added Fine Tea room on 5th street to a list of places for an office party. Una and Vera will go there on Sunday. ', \"Felis' cat woke him up at 3 am. Felis petted him a little, but fell asleep again. The cat opened his wardrobe and started to pull out his clothes. \", 'Caroline is going to ask professor mulligan to write her a recommendation letter.', \"Lillianne's brother met a new girl online and both her and Alan hope she'll be better than the other one. Lillianne's brother gave the new girl a very expensive gift even though he met her only a few times. He's rich and insecure deep inside. She tried to talk to him but he's sensitive.\", \"Michelle can't recommend any politics blog to Carol. According to her, all of them are biased. Michelle will tell Danny to send the best blogs to Carol later today.\", 'Ethan will look for a smartwatch on Best Buy, as he needs a step tracker.', 'Janine has sent some photos of her children having fun to Mike. Her daughter Zoe is taller than Jacob and has a boyfriend at the age of 6. Janine also had a boyfriend at 6.', 'Sandra takes care of a 4 year old. He has diarrhea and is vomiting. She gave him pills and water. They are going to the hospital.', \"Lee and Sam are going to the gym about 9 pm, but Tom can't as he's working.\", \"Fitting is on Saturday and set on Monday. Mark won't make it this weekend, but Kate informs him the fitting takes only half an hour.\", 'FATM released a new single. Sophia and Claire like it very much. ', \"Rosy will forward Julie's job offer to Mike, who speaks English and German.\", \"David celebrated St Patrick’s Day during the weekend. David is getting ready for King's Day in Amsterdam. People in Amsterdam do not celebrate St Patrick’s Day. Will doesn't go to Irish pubs in Amsterdam, because there are no women inside them.\", \"Andrew will buy a book of photography for Przemek's birthday.\", 'Fred quit his job because of mobbing. Kathy and Selma will ask around for a job for him. ', \"Noah has never played the cards. Ethan knows his cards. Olivia will call him. Noah also wants to learn how to play cards. Olivia invites him to Jacob's place.\", 'Christine and Joan are elated, because she broke another record. They want to book train tickets for the concert that is 6 months away.', \"Stephanie shared Kev's number with Timothy.\", 'Ron and Alice will go for a coffee in 5 minutes.', 'Bud is meeting up Buzz to watch the game.', 'Alex wants to eat all extra fish but Keith refuses him.', \"Boris is shopping but he forgot the shopping list. He's got to buy ingredients for curry and fruit salad, as well as wine, vegetable burgers, cereals, plain yogurt and mangoes.\", 'Marta says there are 53 days until the end of a school year, and Sebastian is disappointed.', 'Steve will order the second display. He needs to make sure he can connect his card to it.', \"Amy's birthday party gets great feedback from Ray, Garry, Paula, Kris and Rory. Some people like Rory or Garry had to leave earlier.\", \"Sarah was at a yoga class today. She stayed longer to stretch. The new instructor's exercises were easy for Sarah. Nina and Sarah will go to yoga together on Mondays at 6 PM and on Thursdays at 7. Nina should take comfortable clothes, water and a towel for her first class.\", \"Both Mike and Joanne had a busy week at work. Mike's company is growing and they need new staff. Joanne can recommend some friends for Mike's company, they arranged that Mike would send her info on vacant jobs.\", \"Joanna is having a video conference with her. She's trying to look attractive during the conference. She's over thirty. Joanna and Monica find her behavior funny.\", \"Neither Jeanne nor Vanessa fancy pineapple on pizza. Clive has enjoyed one with chocolate and bananas. Jaimie is fine with pineapple or cranberries if there's something to counterbalance it.\", \"Beth and Sammy will wear casual dresses to New Year's Eve dinner.\", \"Saturday at 4 pm Graham had a car accident on the Tesco car park on Black Road. He is looking for witnesses to report to the police and prove it was the other driver's fault.\", 'Krystal and Mikayla want to go to Cuba again. Mikayla will look for first minute trips.', 'Tom and others are in Spoons on the dance floor. Jessica will join around 10. ', \"Lowe is late because of work. Shaw is waiting and getting impatient. Lowe's finally coming.\", 'Ben, Lars and Holly are happy for Ria who won the petition.', 'Karen had a great date with Nick. He took her to a thrift store, where they chose clothes for each other.', \"Steven wants to discuss with his children a gift for Mum's birthday. Margaret suggests a food processor. Lesley mentions a spa break. Harry laughs at their suggestions. They will buy a spa break.\", \"Max and his friends watched the video about cannabis. Allen believes that long term use has no consequences according to the research. Jeremy explains it wasn't long term use but rather an occasional use. Mark reckons they don't affect the lungs. Virginia thinks MJ users won't believe anything bad.\", 'Nora is sending her photos to Harper.  ', \"People became agressive when the security refused to open the supermarket before 9 am on Black Friday. Gary and Paul are glad they didn't go shopping. They are going for a beer at 8 pm.\", \"Dylan went to a barbershop for the first time. The barber tidied Dylan's facial hair, brows and nose hair. Natalie hates Ian's unibrow. Dylan won't talk to him about it.\", 'Sam, Jennifer and Becky want to do a half marathon. Lucy is hesitating.', 'Ed is going to leave his class to see a film with Shane. He needs to lie to the teacher. The film starts in 10 minutes. Shane got the tickets.', 'Tom is working on the family history project and is showing Rod and Jake a photo of his grandpa who died in Vietnam. He got Purple Heart and many other medals. ', 'Danielle is stuck in traffic jam.', \"Lucy put the schedule for next time in Victor's and Claudio's pigeon hole.\", \"Elisa doesn't have that many classes at uni and she has a job at Aberdeen exhibition and conference Center.\", \"Harry's sister's cat is allergic to eggs. Peter's cat, Daphne is scratching herself a lot. Alice, Peter and Harry are meeting at The Mudd tomorrow. Peter will go to the vet with his cat before.\", 'Rachel brings homemade cookies and Robert goes shopping. Rachel wants him to buy a pack of onion crisps.', 'Margaret had a car accident today. She was slightly injured. ', 'Hank asks Fay to buy ice-cream.', 'Miley missed Corey.', \"Harry has heard that Emily was in Prof. Greg's office today. The whole class knows she was there. Emily is surprised that the whole class knows. Emily has changed her marks. Emily will apologise to Prof. Greg tomorrow. Emily will not do that again. \", 'Yanick and Sindey were talking after a history class. Yanick invited Sindey for a beer on Friday.', 'Helene will come next Thursday at 8:30 pm after her sport meeting. Her bed will be waiting for her.', 'Barry quit, so Sayed is working alone and he is bored. Sayed got a pay rise of 50p. Meera works on nights as well now. Pete and Sayed are going to the match on Sunday.', \"Casole is happy with Jake. Alison thinks he's a hottie. \", 'William was offered to work in Vienna for at least a year.', 'Hans has that photo.', 'Henry is preparing himself for a meeting that he will have later on with the staff from Germany. They were pleased with the work they saw while visiting the new facilities this morning.', 'Rose forgot the keys but she will be able to come home because her grandmother will open the door for her in the afternoon. Steven found her keys.', 'Mira and Mia agree on onion soup today.', 'John and Missus keeps fighting as she wants him to spend more time with their family. John will let George know about Friday night.', 'Farrah and Wilder do not have any interesting plans for the weekend. Carter is disappointed.', 'Justin and Paula are at The Flying Pig.', 'Mat named his dog after one of his favorite novels, Count of Monte Chris to. Mark recommends the novel and Anna is keen to read it. She has 2 cats, Fluffy and Butters. ', 'The field trip is mandatory. Monica and Jonathan participate, because there are additional marks to pass the class.', \"Mason won't go to COMM345 because he is sick.\", \"Dean left the party early and didn't join Sam, Amanda, and others at Club 55. Amanda shortly left the club with a stranger. Sam had sex with a girl who threw up on his shoes.\", 'Danny would like to be left to sleep. ', \"Tim accompanied John with looking for the apartment the other day. They checked out one flat, which turned out to be decent, but the rent was too high. Following Alan's advice, John will negotiate the rent with flat owner.\", 'James and Patrick are going to see the game in Granta.', \"Tom needs to leave some documents at the university in Milan. Nora will be there tomorrow so she'll take them for him. He's just going to copy them in the city and he'll be at her place in 20-30mins.\", 'Gill might surprise Mary and Anna and show up for the party.', 'Matt has already walked the dog.', 'Paula enjoyed jamming with Paul. Paul will send her Facebook profiles of the other people that played. ', 'Amanda is looking for meal ideas for tonight. Harry is ordering food, Victoria, Jim, Lilly and Greg are cooking various meals. Tom is getting vegetarian chili. Amanda will try to make it herself. ', \"Jess is at Mia's place now and will arrive home in 20 minutes.\", 'Samantha will stay at her parents\\' house until Sunday. She will likely be too tired to join \"Classy Night\" at Vertigo jazz club with Ruth on the 20th.', 'Caroline and Alex are going to go shopping on Monday. Alex needs new shoes. Caroline will call her up on Sunday.', 'John is asking Michael about his register. It is Ava who has it.', 'Paul loves Nicole. ', 'Frank has an interview with Goldmans Sachs on Thursday at 6 pm. He was supposed to go to the theatre with Susan then, but he forgot about it.', \"Alex has just received Rich's letter. They will meet at the Indian place on Main Street at 1 pm tomorrow to discuss a few points.\", 'Mary bought new curtains.', 'Gibson added him as a friend.', 'Alex and Teddy may go play basketball if Benji gathers the team.', 'Udo was supposed to visit James at 6. He came earlier as he mixed up the hours. James offers that Udo can come at 5:30 instead.', 'Timmy has to load the dishwasher although he does not want to.', \"Tony is doing fine in America, but finds some foods disgusting. He especially dislikes the cheapest kinds of bread. Ellen points out that in New York there's a variety of food options to choose from. There's a shop with Finnish food close to Tony's place. \", \"Jo came back last night and she's fine.\", \"Henry is going to the Irish pub with others tonight. Dorothy doesn't want to go out.\", \"Dorothy wants to date Tom from Sam's English literature. Sam sent her Tom's photo. He's single.\", 'Line-up for Glastonbury has been revealed. Radiohead is going to play.', \"Josh has fun in Morocco. He's on the way to Tanger.\", 'George a Jenny have a 10000 word essay to write by the end of November. ', 'Julie and Tim have already watched last SNL episode. Grace is watching it.', 'Peter and Charles have been to Agrigento recently. Tom is visiting the town now. Peter and Charles recommended Tom a restaurant aPutia Bottega Siciliana. Tom is there. ', \"Doris' sister had a heart attack on Tuesday and is recovering in hospital after having 2 stents fitted. Generally the sister is very fit, she walked a 21 km marathon on Sunday. She's in Pietermaritzburg, with her husband and 3 children around. Doris may stay with her and help once she's back home. \", \"Monica's looking for an apartment, but can't find anything. She'll visit Owen in his new place Thursday night, Owen'll make dinner.\", \"Cailin is at a friend's place. \", \"The rowing practice is cancelled. A few members have injuries and some are sick. People are sick in Kate's college.\", 'Erin is not coming to a thanksgiving dinner as she has to work on Friday. Erin declares to meet Paula at Christmas.', 'The theme for tomorrow\\'s farewell party is \"Gatsby\". It was Michael\\'s idea.', 'Marc overdid his training after a break yesterday and is too sore to go to the gym today. If fine by Tuesday, he will let Rafael know about it on Monday evening.', 'Roc got the wrong number.', 'Eleonor, Tasha and Betty are going to meet at the French place next Sunday. Patricia will not join them because it is the birthday of her mother in law. Patricia profoundly dislikes her mother in law.', \"Ashley is organizing a skillshare where she'll talk about eyebrow/face geometry, brow mapping and how to tint/dye them. Gerardo offered his eyebrows for them to practice on.\", 'Patricia recommends a fair-trade brand she talked about to Florence and Elle.', 'Dia has just landed in Frankfurt. Dad will call her in the evening.', 'Alex wants his $100 back from Sam.', 'Julie and the others have been waiting for Saul for half an hour. He is on his way, juast passed the Starbucks and will be there in 10 mins max. ', \"Kate and Tim're going to the Sunshine Coast now and Lisa warns them that the place is dangerous due to the invasion of jellyfish on the coast.\", \"Anna is waiting for Carmen's response regarding project scheduling. Carmen is going to confirm the dates later.\", 'Fran has too much work and needs some rest. A long weekend is coming.', \"Chris and Peter are going to a party. Chris is bringing sparklers. He'd like Tracy to come, but Peter's not sure if she will. Chris would like to date her.\", \"Carla's date for graduation is on June 4th. Diego will try to come then.\", \"Bev is going on the school trip with her son. Gita is going on the school trip with her daughter. Bev's sister rarely sees her children during the week because of her job. Gita has a few pets at home. The mothers with their children have to be at school at 7.45 to not miss the bus.\", 'Greg cheated on Julia. He apologises to her. Robert tells Julia not to meet Greg.']\n"
          ]
        },
        {
          "output_type": "error",
          "ename": "KeyboardInterrupt",
          "evalue": "ignored",
          "traceback": [
            "\u001b[0;31m---------------------------------------------------------------------------\u001b[0m",
            "\u001b[0;31mKeyboardInterrupt\u001b[0m                         Traceback (most recent call last)",
            "\u001b[0;32m<ipython-input-14-3435b262f1ae>\u001b[0m in \u001b[0;36m<cell line: 1>\u001b[0;34m()\u001b[0m\n\u001b[0;32m----> 1\u001b[0;31m \u001b[0mtrainer\u001b[0m\u001b[0;34m.\u001b[0m\u001b[0mtrain\u001b[0m\u001b[0;34m(\u001b[0m\u001b[0;34m)\u001b[0m\u001b[0;34m\u001b[0m\u001b[0;34m\u001b[0m\u001b[0m\n\u001b[0m",
            "\u001b[0;32m/usr/local/lib/python3.10/dist-packages/transformers/trainer.py\u001b[0m in \u001b[0;36mtrain\u001b[0;34m(self, resume_from_checkpoint, trial, ignore_keys_for_eval, **kwargs)\u001b[0m\n\u001b[1;32m   1553\u001b[0m                 \u001b[0mhf_hub_utils\u001b[0m\u001b[0;34m.\u001b[0m\u001b[0menable_progress_bars\u001b[0m\u001b[0;34m(\u001b[0m\u001b[0;34m)\u001b[0m\u001b[0;34m\u001b[0m\u001b[0;34m\u001b[0m\u001b[0m\n\u001b[1;32m   1554\u001b[0m         \u001b[0;32melse\u001b[0m\u001b[0;34m:\u001b[0m\u001b[0;34m\u001b[0m\u001b[0;34m\u001b[0m\u001b[0m\n\u001b[0;32m-> 1555\u001b[0;31m             return inner_training_loop(\n\u001b[0m\u001b[1;32m   1556\u001b[0m                 \u001b[0margs\u001b[0m\u001b[0;34m=\u001b[0m\u001b[0margs\u001b[0m\u001b[0;34m,\u001b[0m\u001b[0;34m\u001b[0m\u001b[0;34m\u001b[0m\u001b[0m\n\u001b[1;32m   1557\u001b[0m                 \u001b[0mresume_from_checkpoint\u001b[0m\u001b[0;34m=\u001b[0m\u001b[0mresume_from_checkpoint\u001b[0m\u001b[0;34m,\u001b[0m\u001b[0;34m\u001b[0m\u001b[0;34m\u001b[0m\u001b[0m\n",
            "\u001b[0;32m/usr/local/lib/python3.10/dist-packages/transformers/trainer.py\u001b[0m in \u001b[0;36m_inner_training_loop\u001b[0;34m(self, batch_size, args, resume_from_checkpoint, trial, ignore_keys_for_eval)\u001b[0m\n\u001b[1;32m   1920\u001b[0m                     \u001b[0mself\u001b[0m\u001b[0;34m.\u001b[0m\u001b[0mcontrol\u001b[0m \u001b[0;34m=\u001b[0m \u001b[0mself\u001b[0m\u001b[0;34m.\u001b[0m\u001b[0mcallback_handler\u001b[0m\u001b[0;34m.\u001b[0m\u001b[0mon_step_end\u001b[0m\u001b[0;34m(\u001b[0m\u001b[0margs\u001b[0m\u001b[0;34m,\u001b[0m \u001b[0mself\u001b[0m\u001b[0;34m.\u001b[0m\u001b[0mstate\u001b[0m\u001b[0;34m,\u001b[0m \u001b[0mself\u001b[0m\u001b[0;34m.\u001b[0m\u001b[0mcontrol\u001b[0m\u001b[0;34m)\u001b[0m\u001b[0;34m\u001b[0m\u001b[0;34m\u001b[0m\u001b[0m\n\u001b[1;32m   1921\u001b[0m \u001b[0;34m\u001b[0m\u001b[0m\n\u001b[0;32m-> 1922\u001b[0;31m                     \u001b[0mself\u001b[0m\u001b[0;34m.\u001b[0m\u001b[0m_maybe_log_save_evaluate\u001b[0m\u001b[0;34m(\u001b[0m\u001b[0mtr_loss\u001b[0m\u001b[0;34m,\u001b[0m \u001b[0mmodel\u001b[0m\u001b[0;34m,\u001b[0m \u001b[0mtrial\u001b[0m\u001b[0;34m,\u001b[0m \u001b[0mepoch\u001b[0m\u001b[0;34m,\u001b[0m \u001b[0mignore_keys_for_eval\u001b[0m\u001b[0;34m)\u001b[0m\u001b[0;34m\u001b[0m\u001b[0;34m\u001b[0m\u001b[0m\n\u001b[0m\u001b[1;32m   1923\u001b[0m                 \u001b[0;32melse\u001b[0m\u001b[0;34m:\u001b[0m\u001b[0;34m\u001b[0m\u001b[0;34m\u001b[0m\u001b[0m\n\u001b[1;32m   1924\u001b[0m                     \u001b[0mself\u001b[0m\u001b[0;34m.\u001b[0m\u001b[0mcontrol\u001b[0m \u001b[0;34m=\u001b[0m \u001b[0mself\u001b[0m\u001b[0;34m.\u001b[0m\u001b[0mcallback_handler\u001b[0m\u001b[0;34m.\u001b[0m\u001b[0mon_substep_end\u001b[0m\u001b[0;34m(\u001b[0m\u001b[0margs\u001b[0m\u001b[0;34m,\u001b[0m \u001b[0mself\u001b[0m\u001b[0;34m.\u001b[0m\u001b[0mstate\u001b[0m\u001b[0;34m,\u001b[0m \u001b[0mself\u001b[0m\u001b[0;34m.\u001b[0m\u001b[0mcontrol\u001b[0m\u001b[0;34m)\u001b[0m\u001b[0;34m\u001b[0m\u001b[0;34m\u001b[0m\u001b[0m\n",
            "\u001b[0;32m/usr/local/lib/python3.10/dist-packages/transformers/trainer.py\u001b[0m in \u001b[0;36m_maybe_log_save_evaluate\u001b[0;34m(self, tr_loss, model, trial, epoch, ignore_keys_for_eval)\u001b[0m\n\u001b[1;32m   2280\u001b[0m \u001b[0;34m\u001b[0m\u001b[0m\n\u001b[1;32m   2281\u001b[0m         \u001b[0;32mif\u001b[0m \u001b[0mself\u001b[0m\u001b[0;34m.\u001b[0m\u001b[0mcontrol\u001b[0m\u001b[0;34m.\u001b[0m\u001b[0mshould_save\u001b[0m\u001b[0;34m:\u001b[0m\u001b[0;34m\u001b[0m\u001b[0;34m\u001b[0m\u001b[0m\n\u001b[0;32m-> 2282\u001b[0;31m             \u001b[0mself\u001b[0m\u001b[0;34m.\u001b[0m\u001b[0m_save_checkpoint\u001b[0m\u001b[0;34m(\u001b[0m\u001b[0mmodel\u001b[0m\u001b[0;34m,\u001b[0m \u001b[0mtrial\u001b[0m\u001b[0;34m,\u001b[0m \u001b[0mmetrics\u001b[0m\u001b[0;34m=\u001b[0m\u001b[0mmetrics\u001b[0m\u001b[0;34m)\u001b[0m\u001b[0;34m\u001b[0m\u001b[0;34m\u001b[0m\u001b[0m\n\u001b[0m\u001b[1;32m   2283\u001b[0m             \u001b[0mself\u001b[0m\u001b[0;34m.\u001b[0m\u001b[0mcontrol\u001b[0m \u001b[0;34m=\u001b[0m \u001b[0mself\u001b[0m\u001b[0;34m.\u001b[0m\u001b[0mcallback_handler\u001b[0m\u001b[0;34m.\u001b[0m\u001b[0mon_save\u001b[0m\u001b[0;34m(\u001b[0m\u001b[0mself\u001b[0m\u001b[0;34m.\u001b[0m\u001b[0margs\u001b[0m\u001b[0;34m,\u001b[0m \u001b[0mself\u001b[0m\u001b[0;34m.\u001b[0m\u001b[0mstate\u001b[0m\u001b[0;34m,\u001b[0m \u001b[0mself\u001b[0m\u001b[0;34m.\u001b[0m\u001b[0mcontrol\u001b[0m\u001b[0;34m)\u001b[0m\u001b[0;34m\u001b[0m\u001b[0;34m\u001b[0m\u001b[0m\n\u001b[1;32m   2284\u001b[0m \u001b[0;34m\u001b[0m\u001b[0m\n",
            "\u001b[0;32m/usr/local/lib/python3.10/dist-packages/transformers/trainer.py\u001b[0m in \u001b[0;36m_save_checkpoint\u001b[0;34m(self, model, trial, metrics)\u001b[0m\n\u001b[1;32m   2385\u001b[0m         \u001b[0;32melif\u001b[0m \u001b[0mself\u001b[0m\u001b[0;34m.\u001b[0m\u001b[0margs\u001b[0m\u001b[0;34m.\u001b[0m\u001b[0mshould_save\u001b[0m \u001b[0;32mand\u001b[0m \u001b[0;32mnot\u001b[0m \u001b[0mself\u001b[0m\u001b[0;34m.\u001b[0m\u001b[0mis_deepspeed_enabled\u001b[0m \u001b[0;32mand\u001b[0m \u001b[0;32mnot\u001b[0m \u001b[0;34m(\u001b[0m\u001b[0mself\u001b[0m\u001b[0;34m.\u001b[0m\u001b[0mfsdp\u001b[0m \u001b[0;32mor\u001b[0m \u001b[0mself\u001b[0m\u001b[0;34m.\u001b[0m\u001b[0mis_fsdp_enabled\u001b[0m\u001b[0;34m)\u001b[0m\u001b[0;34m:\u001b[0m\u001b[0;34m\u001b[0m\u001b[0;34m\u001b[0m\u001b[0m\n\u001b[1;32m   2386\u001b[0m             \u001b[0;31m# deepspeed.save_checkpoint above saves model/optim/sched\u001b[0m\u001b[0;34m\u001b[0m\u001b[0;34m\u001b[0m\u001b[0m\n\u001b[0;32m-> 2387\u001b[0;31m             \u001b[0mtorch\u001b[0m\u001b[0;34m.\u001b[0m\u001b[0msave\u001b[0m\u001b[0;34m(\u001b[0m\u001b[0mself\u001b[0m\u001b[0;34m.\u001b[0m\u001b[0moptimizer\u001b[0m\u001b[0;34m.\u001b[0m\u001b[0mstate_dict\u001b[0m\u001b[0;34m(\u001b[0m\u001b[0;34m)\u001b[0m\u001b[0;34m,\u001b[0m \u001b[0mos\u001b[0m\u001b[0;34m.\u001b[0m\u001b[0mpath\u001b[0m\u001b[0;34m.\u001b[0m\u001b[0mjoin\u001b[0m\u001b[0;34m(\u001b[0m\u001b[0moutput_dir\u001b[0m\u001b[0;34m,\u001b[0m \u001b[0mOPTIMIZER_NAME\u001b[0m\u001b[0;34m)\u001b[0m\u001b[0;34m)\u001b[0m\u001b[0;34m\u001b[0m\u001b[0;34m\u001b[0m\u001b[0m\n\u001b[0m\u001b[1;32m   2388\u001b[0m \u001b[0;34m\u001b[0m\u001b[0m\n\u001b[1;32m   2389\u001b[0m         \u001b[0;31m# Save SCHEDULER & SCALER\u001b[0m\u001b[0;34m\u001b[0m\u001b[0;34m\u001b[0m\u001b[0m\n",
            "\u001b[0;32m/usr/local/lib/python3.10/dist-packages/torch/serialization.py\u001b[0m in \u001b[0;36msave\u001b[0;34m(obj, f, pickle_module, pickle_protocol, _use_new_zipfile_serialization, _disable_byteorder_record)\u001b[0m\n\u001b[1;32m    617\u001b[0m     \u001b[0;32mif\u001b[0m \u001b[0m_use_new_zipfile_serialization\u001b[0m\u001b[0;34m:\u001b[0m\u001b[0;34m\u001b[0m\u001b[0;34m\u001b[0m\u001b[0m\n\u001b[1;32m    618\u001b[0m         \u001b[0;32mwith\u001b[0m \u001b[0m_open_zipfile_writer\u001b[0m\u001b[0;34m(\u001b[0m\u001b[0mf\u001b[0m\u001b[0;34m)\u001b[0m \u001b[0;32mas\u001b[0m \u001b[0mopened_zipfile\u001b[0m\u001b[0;34m:\u001b[0m\u001b[0;34m\u001b[0m\u001b[0;34m\u001b[0m\u001b[0m\n\u001b[0;32m--> 619\u001b[0;31m             \u001b[0m_save\u001b[0m\u001b[0;34m(\u001b[0m\u001b[0mobj\u001b[0m\u001b[0;34m,\u001b[0m \u001b[0mopened_zipfile\u001b[0m\u001b[0;34m,\u001b[0m \u001b[0mpickle_module\u001b[0m\u001b[0;34m,\u001b[0m \u001b[0mpickle_protocol\u001b[0m\u001b[0;34m,\u001b[0m \u001b[0m_disable_byteorder_record\u001b[0m\u001b[0;34m)\u001b[0m\u001b[0;34m\u001b[0m\u001b[0;34m\u001b[0m\u001b[0m\n\u001b[0m\u001b[1;32m    620\u001b[0m             \u001b[0;32mreturn\u001b[0m\u001b[0;34m\u001b[0m\u001b[0;34m\u001b[0m\u001b[0m\n\u001b[1;32m    621\u001b[0m     \u001b[0;32melse\u001b[0m\u001b[0;34m:\u001b[0m\u001b[0;34m\u001b[0m\u001b[0;34m\u001b[0m\u001b[0m\n",
            "\u001b[0;32m/usr/local/lib/python3.10/dist-packages/torch/serialization.py\u001b[0m in \u001b[0;36m_save\u001b[0;34m(obj, zip_file, pickle_module, pickle_protocol, _disable_byteorder_record)\u001b[0m\n\u001b[1;32m    851\u001b[0m         \u001b[0;31m# Now that it is on the CPU we can directly copy it into the zip file\u001b[0m\u001b[0;34m\u001b[0m\u001b[0;34m\u001b[0m\u001b[0m\n\u001b[1;32m    852\u001b[0m         \u001b[0mnum_bytes\u001b[0m \u001b[0;34m=\u001b[0m \u001b[0mstorage\u001b[0m\u001b[0;34m.\u001b[0m\u001b[0mnbytes\u001b[0m\u001b[0;34m(\u001b[0m\u001b[0;34m)\u001b[0m\u001b[0;34m\u001b[0m\u001b[0;34m\u001b[0m\u001b[0m\n\u001b[0;32m--> 853\u001b[0;31m         \u001b[0mzip_file\u001b[0m\u001b[0;34m.\u001b[0m\u001b[0mwrite_record\u001b[0m\u001b[0;34m(\u001b[0m\u001b[0mname\u001b[0m\u001b[0;34m,\u001b[0m \u001b[0mstorage\u001b[0m\u001b[0;34m.\u001b[0m\u001b[0mdata_ptr\u001b[0m\u001b[0;34m(\u001b[0m\u001b[0;34m)\u001b[0m\u001b[0;34m,\u001b[0m \u001b[0mnum_bytes\u001b[0m\u001b[0;34m)\u001b[0m\u001b[0;34m\u001b[0m\u001b[0;34m\u001b[0m\u001b[0m\n\u001b[0m\u001b[1;32m    854\u001b[0m \u001b[0;34m\u001b[0m\u001b[0m\n\u001b[1;32m    855\u001b[0m \u001b[0;34m\u001b[0m\u001b[0m\n",
            "\u001b[0;31mKeyboardInterrupt\u001b[0m: "
          ]
        }
      ]
    },
    {
      "cell_type": "markdown",
      "source": [
        "# Prompt experiments"
      ],
      "metadata": {
        "id": "MLNNRKWBUC2m"
      }
    },
    {
      "cell_type": "code",
      "source": [],
      "metadata": {
        "id": "T9iq6t_mUOkY"
      },
      "execution_count": null,
      "outputs": []
    },
    {
      "cell_type": "markdown",
      "source": [
        "# Metrics results"
      ],
      "metadata": {
        "id": "BlyBrl7YUGRV"
      }
    },
    {
      "cell_type": "code",
      "source": [],
      "metadata": {
        "id": "GByWP3bpUPY7"
      },
      "execution_count": null,
      "outputs": []
    },
    {
      "cell_type": "code",
      "source": [],
      "metadata": {
        "id": "teursHFpr2KC"
      },
      "execution_count": null,
      "outputs": []
    },
    {
      "cell_type": "markdown",
      "source": [
        "# LoRA finetuning"
      ],
      "metadata": {
        "id": "n3LuJPe7UKIV"
      }
    },
    {
      "cell_type": "code",
      "source": [],
      "metadata": {
        "id": "Y7a69uu7UP6g"
      },
      "execution_count": null,
      "outputs": []
    }
  ]
}